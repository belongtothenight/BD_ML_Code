{
 "cells": [
  {
   "cell_type": "markdown",
   "metadata": {},
   "source": [
    "# OWID is one of the most complete dataset for general usage"
   ]
  },
  {
   "cell_type": "code",
   "execution_count": 1,
   "metadata": {},
   "outputs": [
    {
     "name": "stdout",
     "output_type": "stream",
     "text": [
      "/Users/nengkuantu/CYCU/CYCU2022/BigData\r\n"
     ]
    }
   ],
   "source": [
    "# this is my comment\n",
    "! pwd"
   ]
  },
  {
   "cell_type": "code",
   "execution_count": 2,
   "metadata": {},
   "outputs": [
    {
     "name": "stdout",
     "output_type": "stream",
     "text": [
      "\u001b[34m20221017\u001b[m\u001b[m                \u001b[34mW1\u001b[m\u001b[m\r\n",
      "OWIDdataset_Graph.ipynb \u001b[34mW2\u001b[m\u001b[m\r\n"
     ]
    }
   ],
   "source": [
    "! ls  # windows platform: use ! dir"
   ]
  },
  {
   "cell_type": "code",
   "execution_count": 3,
   "metadata": {},
   "outputs": [],
   "source": [
    "import pandas as pd\n",
    "import time"
   ]
  },
  {
   "cell_type": "markdown",
   "metadata": {},
   "source": [
    "# 1. Read OWID data from what I just downloaded"
   ]
  },
  {
   "cell_type": "code",
   "execution_count": 4,
   "metadata": {
    "scrolled": true
   },
   "outputs": [
    {
     "name": "stdout",
     "output_type": "stream",
     "text": [
      "2.6438419818878174\n"
     ]
    }
   ],
   "source": [
    "# https://github.com/owid/covid-19-data/blob/master/public/data/owid-covid-data.csv\n",
    "time1 = time.time()\n",
    "DFnew = pd.read_csv('~/downloads/owid-covid-data.csv')\n",
    "time2 = time.time()\n",
    "print(time2 - time1)"
   ]
  },
  {
   "cell_type": "code",
   "execution_count": 5,
   "metadata": {},
   "outputs": [
    {
     "data": {
      "text/plain": [
       "pandas.core.frame.DataFrame"
      ]
     },
     "execution_count": 5,
     "metadata": {},
     "output_type": "execute_result"
    }
   ],
   "source": [
    "type(DFnew)"
   ]
  },
  {
   "cell_type": "code",
   "execution_count": 6,
   "metadata": {},
   "outputs": [
    {
     "data": {
      "text/plain": [
       "(218944, 67)"
      ]
     },
     "execution_count": 6,
     "metadata": {},
     "output_type": "execute_result"
    }
   ],
   "source": [
    "DFnew.shape"
   ]
  },
  {
   "cell_type": "code",
   "execution_count": 7,
   "metadata": {},
   "outputs": [
    {
     "data": {
      "text/html": [
       "<div>\n",
       "<style scoped>\n",
       "    .dataframe tbody tr th:only-of-type {\n",
       "        vertical-align: middle;\n",
       "    }\n",
       "\n",
       "    .dataframe tbody tr th {\n",
       "        vertical-align: top;\n",
       "    }\n",
       "\n",
       "    .dataframe thead th {\n",
       "        text-align: right;\n",
       "    }\n",
       "</style>\n",
       "<table border=\"1\" class=\"dataframe\">\n",
       "  <thead>\n",
       "    <tr style=\"text-align: right;\">\n",
       "      <th></th>\n",
       "      <th>iso_code</th>\n",
       "      <th>continent</th>\n",
       "      <th>location</th>\n",
       "      <th>date</th>\n",
       "      <th>total_cases</th>\n",
       "      <th>new_cases</th>\n",
       "      <th>new_cases_smoothed</th>\n",
       "      <th>total_deaths</th>\n",
       "      <th>new_deaths</th>\n",
       "      <th>new_deaths_smoothed</th>\n",
       "      <th>...</th>\n",
       "      <th>female_smokers</th>\n",
       "      <th>male_smokers</th>\n",
       "      <th>handwashing_facilities</th>\n",
       "      <th>hospital_beds_per_thousand</th>\n",
       "      <th>life_expectancy</th>\n",
       "      <th>human_development_index</th>\n",
       "      <th>excess_mortality_cumulative_absolute</th>\n",
       "      <th>excess_mortality_cumulative</th>\n",
       "      <th>excess_mortality</th>\n",
       "      <th>excess_mortality_cumulative_per_million</th>\n",
       "    </tr>\n",
       "  </thead>\n",
       "  <tbody>\n",
       "    <tr>\n",
       "      <th>0</th>\n",
       "      <td>AFG</td>\n",
       "      <td>Asia</td>\n",
       "      <td>Afghanistan</td>\n",
       "      <td>2020-02-24</td>\n",
       "      <td>5.0</td>\n",
       "      <td>5.0</td>\n",
       "      <td>NaN</td>\n",
       "      <td>NaN</td>\n",
       "      <td>NaN</td>\n",
       "      <td>NaN</td>\n",
       "      <td>...</td>\n",
       "      <td>NaN</td>\n",
       "      <td>NaN</td>\n",
       "      <td>37.746</td>\n",
       "      <td>0.5</td>\n",
       "      <td>64.83</td>\n",
       "      <td>0.511</td>\n",
       "      <td>NaN</td>\n",
       "      <td>NaN</td>\n",
       "      <td>NaN</td>\n",
       "      <td>NaN</td>\n",
       "    </tr>\n",
       "    <tr>\n",
       "      <th>1</th>\n",
       "      <td>AFG</td>\n",
       "      <td>Asia</td>\n",
       "      <td>Afghanistan</td>\n",
       "      <td>2020-02-25</td>\n",
       "      <td>5.0</td>\n",
       "      <td>0.0</td>\n",
       "      <td>NaN</td>\n",
       "      <td>NaN</td>\n",
       "      <td>NaN</td>\n",
       "      <td>NaN</td>\n",
       "      <td>...</td>\n",
       "      <td>NaN</td>\n",
       "      <td>NaN</td>\n",
       "      <td>37.746</td>\n",
       "      <td>0.5</td>\n",
       "      <td>64.83</td>\n",
       "      <td>0.511</td>\n",
       "      <td>NaN</td>\n",
       "      <td>NaN</td>\n",
       "      <td>NaN</td>\n",
       "      <td>NaN</td>\n",
       "    </tr>\n",
       "    <tr>\n",
       "      <th>2</th>\n",
       "      <td>AFG</td>\n",
       "      <td>Asia</td>\n",
       "      <td>Afghanistan</td>\n",
       "      <td>2020-02-26</td>\n",
       "      <td>5.0</td>\n",
       "      <td>0.0</td>\n",
       "      <td>NaN</td>\n",
       "      <td>NaN</td>\n",
       "      <td>NaN</td>\n",
       "      <td>NaN</td>\n",
       "      <td>...</td>\n",
       "      <td>NaN</td>\n",
       "      <td>NaN</td>\n",
       "      <td>37.746</td>\n",
       "      <td>0.5</td>\n",
       "      <td>64.83</td>\n",
       "      <td>0.511</td>\n",
       "      <td>NaN</td>\n",
       "      <td>NaN</td>\n",
       "      <td>NaN</td>\n",
       "      <td>NaN</td>\n",
       "    </tr>\n",
       "    <tr>\n",
       "      <th>3</th>\n",
       "      <td>AFG</td>\n",
       "      <td>Asia</td>\n",
       "      <td>Afghanistan</td>\n",
       "      <td>2020-02-27</td>\n",
       "      <td>5.0</td>\n",
       "      <td>0.0</td>\n",
       "      <td>NaN</td>\n",
       "      <td>NaN</td>\n",
       "      <td>NaN</td>\n",
       "      <td>NaN</td>\n",
       "      <td>...</td>\n",
       "      <td>NaN</td>\n",
       "      <td>NaN</td>\n",
       "      <td>37.746</td>\n",
       "      <td>0.5</td>\n",
       "      <td>64.83</td>\n",
       "      <td>0.511</td>\n",
       "      <td>NaN</td>\n",
       "      <td>NaN</td>\n",
       "      <td>NaN</td>\n",
       "      <td>NaN</td>\n",
       "    </tr>\n",
       "    <tr>\n",
       "      <th>4</th>\n",
       "      <td>AFG</td>\n",
       "      <td>Asia</td>\n",
       "      <td>Afghanistan</td>\n",
       "      <td>2020-02-28</td>\n",
       "      <td>5.0</td>\n",
       "      <td>0.0</td>\n",
       "      <td>NaN</td>\n",
       "      <td>NaN</td>\n",
       "      <td>NaN</td>\n",
       "      <td>NaN</td>\n",
       "      <td>...</td>\n",
       "      <td>NaN</td>\n",
       "      <td>NaN</td>\n",
       "      <td>37.746</td>\n",
       "      <td>0.5</td>\n",
       "      <td>64.83</td>\n",
       "      <td>0.511</td>\n",
       "      <td>NaN</td>\n",
       "      <td>NaN</td>\n",
       "      <td>NaN</td>\n",
       "      <td>NaN</td>\n",
       "    </tr>\n",
       "    <tr>\n",
       "      <th>5</th>\n",
       "      <td>AFG</td>\n",
       "      <td>Asia</td>\n",
       "      <td>Afghanistan</td>\n",
       "      <td>2020-02-29</td>\n",
       "      <td>5.0</td>\n",
       "      <td>0.0</td>\n",
       "      <td>0.714</td>\n",
       "      <td>NaN</td>\n",
       "      <td>NaN</td>\n",
       "      <td>NaN</td>\n",
       "      <td>...</td>\n",
       "      <td>NaN</td>\n",
       "      <td>NaN</td>\n",
       "      <td>37.746</td>\n",
       "      <td>0.5</td>\n",
       "      <td>64.83</td>\n",
       "      <td>0.511</td>\n",
       "      <td>NaN</td>\n",
       "      <td>NaN</td>\n",
       "      <td>NaN</td>\n",
       "      <td>NaN</td>\n",
       "    </tr>\n",
       "    <tr>\n",
       "      <th>6</th>\n",
       "      <td>AFG</td>\n",
       "      <td>Asia</td>\n",
       "      <td>Afghanistan</td>\n",
       "      <td>2020-03-01</td>\n",
       "      <td>5.0</td>\n",
       "      <td>0.0</td>\n",
       "      <td>0.714</td>\n",
       "      <td>NaN</td>\n",
       "      <td>NaN</td>\n",
       "      <td>NaN</td>\n",
       "      <td>...</td>\n",
       "      <td>NaN</td>\n",
       "      <td>NaN</td>\n",
       "      <td>37.746</td>\n",
       "      <td>0.5</td>\n",
       "      <td>64.83</td>\n",
       "      <td>0.511</td>\n",
       "      <td>NaN</td>\n",
       "      <td>NaN</td>\n",
       "      <td>NaN</td>\n",
       "      <td>NaN</td>\n",
       "    </tr>\n",
       "    <tr>\n",
       "      <th>7</th>\n",
       "      <td>AFG</td>\n",
       "      <td>Asia</td>\n",
       "      <td>Afghanistan</td>\n",
       "      <td>2020-03-02</td>\n",
       "      <td>5.0</td>\n",
       "      <td>0.0</td>\n",
       "      <td>0.000</td>\n",
       "      <td>NaN</td>\n",
       "      <td>NaN</td>\n",
       "      <td>NaN</td>\n",
       "      <td>...</td>\n",
       "      <td>NaN</td>\n",
       "      <td>NaN</td>\n",
       "      <td>37.746</td>\n",
       "      <td>0.5</td>\n",
       "      <td>64.83</td>\n",
       "      <td>0.511</td>\n",
       "      <td>NaN</td>\n",
       "      <td>NaN</td>\n",
       "      <td>NaN</td>\n",
       "      <td>NaN</td>\n",
       "    </tr>\n",
       "    <tr>\n",
       "      <th>8</th>\n",
       "      <td>AFG</td>\n",
       "      <td>Asia</td>\n",
       "      <td>Afghanistan</td>\n",
       "      <td>2020-03-03</td>\n",
       "      <td>5.0</td>\n",
       "      <td>0.0</td>\n",
       "      <td>0.000</td>\n",
       "      <td>NaN</td>\n",
       "      <td>NaN</td>\n",
       "      <td>NaN</td>\n",
       "      <td>...</td>\n",
       "      <td>NaN</td>\n",
       "      <td>NaN</td>\n",
       "      <td>37.746</td>\n",
       "      <td>0.5</td>\n",
       "      <td>64.83</td>\n",
       "      <td>0.511</td>\n",
       "      <td>NaN</td>\n",
       "      <td>NaN</td>\n",
       "      <td>NaN</td>\n",
       "      <td>NaN</td>\n",
       "    </tr>\n",
       "    <tr>\n",
       "      <th>9</th>\n",
       "      <td>AFG</td>\n",
       "      <td>Asia</td>\n",
       "      <td>Afghanistan</td>\n",
       "      <td>2020-03-04</td>\n",
       "      <td>5.0</td>\n",
       "      <td>0.0</td>\n",
       "      <td>0.000</td>\n",
       "      <td>NaN</td>\n",
       "      <td>NaN</td>\n",
       "      <td>NaN</td>\n",
       "      <td>...</td>\n",
       "      <td>NaN</td>\n",
       "      <td>NaN</td>\n",
       "      <td>37.746</td>\n",
       "      <td>0.5</td>\n",
       "      <td>64.83</td>\n",
       "      <td>0.511</td>\n",
       "      <td>NaN</td>\n",
       "      <td>NaN</td>\n",
       "      <td>NaN</td>\n",
       "      <td>NaN</td>\n",
       "    </tr>\n",
       "    <tr>\n",
       "      <th>10</th>\n",
       "      <td>AFG</td>\n",
       "      <td>Asia</td>\n",
       "      <td>Afghanistan</td>\n",
       "      <td>2020-03-05</td>\n",
       "      <td>5.0</td>\n",
       "      <td>0.0</td>\n",
       "      <td>0.000</td>\n",
       "      <td>NaN</td>\n",
       "      <td>NaN</td>\n",
       "      <td>NaN</td>\n",
       "      <td>...</td>\n",
       "      <td>NaN</td>\n",
       "      <td>NaN</td>\n",
       "      <td>37.746</td>\n",
       "      <td>0.5</td>\n",
       "      <td>64.83</td>\n",
       "      <td>0.511</td>\n",
       "      <td>NaN</td>\n",
       "      <td>NaN</td>\n",
       "      <td>NaN</td>\n",
       "      <td>NaN</td>\n",
       "    </tr>\n",
       "    <tr>\n",
       "      <th>11</th>\n",
       "      <td>AFG</td>\n",
       "      <td>Asia</td>\n",
       "      <td>Afghanistan</td>\n",
       "      <td>2020-03-06</td>\n",
       "      <td>5.0</td>\n",
       "      <td>0.0</td>\n",
       "      <td>0.000</td>\n",
       "      <td>NaN</td>\n",
       "      <td>NaN</td>\n",
       "      <td>NaN</td>\n",
       "      <td>...</td>\n",
       "      <td>NaN</td>\n",
       "      <td>NaN</td>\n",
       "      <td>37.746</td>\n",
       "      <td>0.5</td>\n",
       "      <td>64.83</td>\n",
       "      <td>0.511</td>\n",
       "      <td>NaN</td>\n",
       "      <td>NaN</td>\n",
       "      <td>NaN</td>\n",
       "      <td>NaN</td>\n",
       "    </tr>\n",
       "    <tr>\n",
       "      <th>12</th>\n",
       "      <td>AFG</td>\n",
       "      <td>Asia</td>\n",
       "      <td>Afghanistan</td>\n",
       "      <td>2020-03-07</td>\n",
       "      <td>8.0</td>\n",
       "      <td>3.0</td>\n",
       "      <td>0.429</td>\n",
       "      <td>NaN</td>\n",
       "      <td>NaN</td>\n",
       "      <td>NaN</td>\n",
       "      <td>...</td>\n",
       "      <td>NaN</td>\n",
       "      <td>NaN</td>\n",
       "      <td>37.746</td>\n",
       "      <td>0.5</td>\n",
       "      <td>64.83</td>\n",
       "      <td>0.511</td>\n",
       "      <td>NaN</td>\n",
       "      <td>NaN</td>\n",
       "      <td>NaN</td>\n",
       "      <td>NaN</td>\n",
       "    </tr>\n",
       "    <tr>\n",
       "      <th>13</th>\n",
       "      <td>AFG</td>\n",
       "      <td>Asia</td>\n",
       "      <td>Afghanistan</td>\n",
       "      <td>2020-03-08</td>\n",
       "      <td>8.0</td>\n",
       "      <td>0.0</td>\n",
       "      <td>0.429</td>\n",
       "      <td>NaN</td>\n",
       "      <td>NaN</td>\n",
       "      <td>NaN</td>\n",
       "      <td>...</td>\n",
       "      <td>NaN</td>\n",
       "      <td>NaN</td>\n",
       "      <td>37.746</td>\n",
       "      <td>0.5</td>\n",
       "      <td>64.83</td>\n",
       "      <td>0.511</td>\n",
       "      <td>NaN</td>\n",
       "      <td>NaN</td>\n",
       "      <td>NaN</td>\n",
       "      <td>NaN</td>\n",
       "    </tr>\n",
       "    <tr>\n",
       "      <th>14</th>\n",
       "      <td>AFG</td>\n",
       "      <td>Asia</td>\n",
       "      <td>Afghanistan</td>\n",
       "      <td>2020-03-09</td>\n",
       "      <td>8.0</td>\n",
       "      <td>0.0</td>\n",
       "      <td>0.429</td>\n",
       "      <td>NaN</td>\n",
       "      <td>NaN</td>\n",
       "      <td>NaN</td>\n",
       "      <td>...</td>\n",
       "      <td>NaN</td>\n",
       "      <td>NaN</td>\n",
       "      <td>37.746</td>\n",
       "      <td>0.5</td>\n",
       "      <td>64.83</td>\n",
       "      <td>0.511</td>\n",
       "      <td>NaN</td>\n",
       "      <td>NaN</td>\n",
       "      <td>NaN</td>\n",
       "      <td>NaN</td>\n",
       "    </tr>\n",
       "    <tr>\n",
       "      <th>15</th>\n",
       "      <td>AFG</td>\n",
       "      <td>Asia</td>\n",
       "      <td>Afghanistan</td>\n",
       "      <td>2020-03-10</td>\n",
       "      <td>8.0</td>\n",
       "      <td>0.0</td>\n",
       "      <td>0.429</td>\n",
       "      <td>NaN</td>\n",
       "      <td>NaN</td>\n",
       "      <td>NaN</td>\n",
       "      <td>...</td>\n",
       "      <td>NaN</td>\n",
       "      <td>NaN</td>\n",
       "      <td>37.746</td>\n",
       "      <td>0.5</td>\n",
       "      <td>64.83</td>\n",
       "      <td>0.511</td>\n",
       "      <td>NaN</td>\n",
       "      <td>NaN</td>\n",
       "      <td>NaN</td>\n",
       "      <td>NaN</td>\n",
       "    </tr>\n",
       "    <tr>\n",
       "      <th>16</th>\n",
       "      <td>AFG</td>\n",
       "      <td>Asia</td>\n",
       "      <td>Afghanistan</td>\n",
       "      <td>2020-03-11</td>\n",
       "      <td>11.0</td>\n",
       "      <td>3.0</td>\n",
       "      <td>0.857</td>\n",
       "      <td>NaN</td>\n",
       "      <td>NaN</td>\n",
       "      <td>NaN</td>\n",
       "      <td>...</td>\n",
       "      <td>NaN</td>\n",
       "      <td>NaN</td>\n",
       "      <td>37.746</td>\n",
       "      <td>0.5</td>\n",
       "      <td>64.83</td>\n",
       "      <td>0.511</td>\n",
       "      <td>NaN</td>\n",
       "      <td>NaN</td>\n",
       "      <td>NaN</td>\n",
       "      <td>NaN</td>\n",
       "    </tr>\n",
       "    <tr>\n",
       "      <th>17</th>\n",
       "      <td>AFG</td>\n",
       "      <td>Asia</td>\n",
       "      <td>Afghanistan</td>\n",
       "      <td>2020-03-12</td>\n",
       "      <td>11.0</td>\n",
       "      <td>0.0</td>\n",
       "      <td>0.857</td>\n",
       "      <td>NaN</td>\n",
       "      <td>NaN</td>\n",
       "      <td>NaN</td>\n",
       "      <td>...</td>\n",
       "      <td>NaN</td>\n",
       "      <td>NaN</td>\n",
       "      <td>37.746</td>\n",
       "      <td>0.5</td>\n",
       "      <td>64.83</td>\n",
       "      <td>0.511</td>\n",
       "      <td>NaN</td>\n",
       "      <td>NaN</td>\n",
       "      <td>NaN</td>\n",
       "      <td>NaN</td>\n",
       "    </tr>\n",
       "    <tr>\n",
       "      <th>18</th>\n",
       "      <td>AFG</td>\n",
       "      <td>Asia</td>\n",
       "      <td>Afghanistan</td>\n",
       "      <td>2020-03-13</td>\n",
       "      <td>11.0</td>\n",
       "      <td>0.0</td>\n",
       "      <td>0.857</td>\n",
       "      <td>NaN</td>\n",
       "      <td>NaN</td>\n",
       "      <td>NaN</td>\n",
       "      <td>...</td>\n",
       "      <td>NaN</td>\n",
       "      <td>NaN</td>\n",
       "      <td>37.746</td>\n",
       "      <td>0.5</td>\n",
       "      <td>64.83</td>\n",
       "      <td>0.511</td>\n",
       "      <td>NaN</td>\n",
       "      <td>NaN</td>\n",
       "      <td>NaN</td>\n",
       "      <td>NaN</td>\n",
       "    </tr>\n",
       "    <tr>\n",
       "      <th>19</th>\n",
       "      <td>AFG</td>\n",
       "      <td>Asia</td>\n",
       "      <td>Afghanistan</td>\n",
       "      <td>2020-03-14</td>\n",
       "      <td>14.0</td>\n",
       "      <td>3.0</td>\n",
       "      <td>0.857</td>\n",
       "      <td>NaN</td>\n",
       "      <td>NaN</td>\n",
       "      <td>NaN</td>\n",
       "      <td>...</td>\n",
       "      <td>NaN</td>\n",
       "      <td>NaN</td>\n",
       "      <td>37.746</td>\n",
       "      <td>0.5</td>\n",
       "      <td>64.83</td>\n",
       "      <td>0.511</td>\n",
       "      <td>NaN</td>\n",
       "      <td>NaN</td>\n",
       "      <td>NaN</td>\n",
       "      <td>NaN</td>\n",
       "    </tr>\n",
       "    <tr>\n",
       "      <th>20</th>\n",
       "      <td>AFG</td>\n",
       "      <td>Asia</td>\n",
       "      <td>Afghanistan</td>\n",
       "      <td>2020-03-15</td>\n",
       "      <td>20.0</td>\n",
       "      <td>6.0</td>\n",
       "      <td>1.714</td>\n",
       "      <td>NaN</td>\n",
       "      <td>NaN</td>\n",
       "      <td>NaN</td>\n",
       "      <td>...</td>\n",
       "      <td>NaN</td>\n",
       "      <td>NaN</td>\n",
       "      <td>37.746</td>\n",
       "      <td>0.5</td>\n",
       "      <td>64.83</td>\n",
       "      <td>0.511</td>\n",
       "      <td>NaN</td>\n",
       "      <td>NaN</td>\n",
       "      <td>NaN</td>\n",
       "      <td>NaN</td>\n",
       "    </tr>\n",
       "    <tr>\n",
       "      <th>21</th>\n",
       "      <td>AFG</td>\n",
       "      <td>Asia</td>\n",
       "      <td>Afghanistan</td>\n",
       "      <td>2020-03-16</td>\n",
       "      <td>25.0</td>\n",
       "      <td>5.0</td>\n",
       "      <td>2.429</td>\n",
       "      <td>NaN</td>\n",
       "      <td>NaN</td>\n",
       "      <td>NaN</td>\n",
       "      <td>...</td>\n",
       "      <td>NaN</td>\n",
       "      <td>NaN</td>\n",
       "      <td>37.746</td>\n",
       "      <td>0.5</td>\n",
       "      <td>64.83</td>\n",
       "      <td>0.511</td>\n",
       "      <td>NaN</td>\n",
       "      <td>NaN</td>\n",
       "      <td>NaN</td>\n",
       "      <td>NaN</td>\n",
       "    </tr>\n",
       "    <tr>\n",
       "      <th>22</th>\n",
       "      <td>AFG</td>\n",
       "      <td>Asia</td>\n",
       "      <td>Afghanistan</td>\n",
       "      <td>2020-03-17</td>\n",
       "      <td>26.0</td>\n",
       "      <td>1.0</td>\n",
       "      <td>2.571</td>\n",
       "      <td>NaN</td>\n",
       "      <td>NaN</td>\n",
       "      <td>NaN</td>\n",
       "      <td>...</td>\n",
       "      <td>NaN</td>\n",
       "      <td>NaN</td>\n",
       "      <td>37.746</td>\n",
       "      <td>0.5</td>\n",
       "      <td>64.83</td>\n",
       "      <td>0.511</td>\n",
       "      <td>NaN</td>\n",
       "      <td>NaN</td>\n",
       "      <td>NaN</td>\n",
       "      <td>NaN</td>\n",
       "    </tr>\n",
       "    <tr>\n",
       "      <th>23</th>\n",
       "      <td>AFG</td>\n",
       "      <td>Asia</td>\n",
       "      <td>Afghanistan</td>\n",
       "      <td>2020-03-18</td>\n",
       "      <td>26.0</td>\n",
       "      <td>0.0</td>\n",
       "      <td>2.143</td>\n",
       "      <td>NaN</td>\n",
       "      <td>NaN</td>\n",
       "      <td>NaN</td>\n",
       "      <td>...</td>\n",
       "      <td>NaN</td>\n",
       "      <td>NaN</td>\n",
       "      <td>37.746</td>\n",
       "      <td>0.5</td>\n",
       "      <td>64.83</td>\n",
       "      <td>0.511</td>\n",
       "      <td>NaN</td>\n",
       "      <td>NaN</td>\n",
       "      <td>NaN</td>\n",
       "      <td>NaN</td>\n",
       "    </tr>\n",
       "    <tr>\n",
       "      <th>24</th>\n",
       "      <td>AFG</td>\n",
       "      <td>Asia</td>\n",
       "      <td>Afghanistan</td>\n",
       "      <td>2020-03-19</td>\n",
       "      <td>26.0</td>\n",
       "      <td>0.0</td>\n",
       "      <td>2.143</td>\n",
       "      <td>NaN</td>\n",
       "      <td>NaN</td>\n",
       "      <td>NaN</td>\n",
       "      <td>...</td>\n",
       "      <td>NaN</td>\n",
       "      <td>NaN</td>\n",
       "      <td>37.746</td>\n",
       "      <td>0.5</td>\n",
       "      <td>64.83</td>\n",
       "      <td>0.511</td>\n",
       "      <td>NaN</td>\n",
       "      <td>NaN</td>\n",
       "      <td>NaN</td>\n",
       "      <td>NaN</td>\n",
       "    </tr>\n",
       "    <tr>\n",
       "      <th>25</th>\n",
       "      <td>AFG</td>\n",
       "      <td>Asia</td>\n",
       "      <td>Afghanistan</td>\n",
       "      <td>2020-03-20</td>\n",
       "      <td>24.0</td>\n",
       "      <td>NaN</td>\n",
       "      <td>NaN</td>\n",
       "      <td>NaN</td>\n",
       "      <td>NaN</td>\n",
       "      <td>NaN</td>\n",
       "      <td>...</td>\n",
       "      <td>NaN</td>\n",
       "      <td>NaN</td>\n",
       "      <td>37.746</td>\n",
       "      <td>0.5</td>\n",
       "      <td>64.83</td>\n",
       "      <td>0.511</td>\n",
       "      <td>NaN</td>\n",
       "      <td>NaN</td>\n",
       "      <td>NaN</td>\n",
       "      <td>NaN</td>\n",
       "    </tr>\n",
       "    <tr>\n",
       "      <th>26</th>\n",
       "      <td>AFG</td>\n",
       "      <td>Asia</td>\n",
       "      <td>Afghanistan</td>\n",
       "      <td>2020-03-21</td>\n",
       "      <td>24.0</td>\n",
       "      <td>0.0</td>\n",
       "      <td>1.714</td>\n",
       "      <td>NaN</td>\n",
       "      <td>NaN</td>\n",
       "      <td>NaN</td>\n",
       "      <td>...</td>\n",
       "      <td>NaN</td>\n",
       "      <td>NaN</td>\n",
       "      <td>37.746</td>\n",
       "      <td>0.5</td>\n",
       "      <td>64.83</td>\n",
       "      <td>0.511</td>\n",
       "      <td>NaN</td>\n",
       "      <td>NaN</td>\n",
       "      <td>NaN</td>\n",
       "      <td>NaN</td>\n",
       "    </tr>\n",
       "    <tr>\n",
       "      <th>27</th>\n",
       "      <td>AFG</td>\n",
       "      <td>Asia</td>\n",
       "      <td>Afghanistan</td>\n",
       "      <td>2020-03-22</td>\n",
       "      <td>34.0</td>\n",
       "      <td>10.0</td>\n",
       "      <td>2.286</td>\n",
       "      <td>NaN</td>\n",
       "      <td>NaN</td>\n",
       "      <td>NaN</td>\n",
       "      <td>...</td>\n",
       "      <td>NaN</td>\n",
       "      <td>NaN</td>\n",
       "      <td>37.746</td>\n",
       "      <td>0.5</td>\n",
       "      <td>64.83</td>\n",
       "      <td>0.511</td>\n",
       "      <td>NaN</td>\n",
       "      <td>NaN</td>\n",
       "      <td>NaN</td>\n",
       "      <td>NaN</td>\n",
       "    </tr>\n",
       "    <tr>\n",
       "      <th>28</th>\n",
       "      <td>AFG</td>\n",
       "      <td>Asia</td>\n",
       "      <td>Afghanistan</td>\n",
       "      <td>2020-03-23</td>\n",
       "      <td>40.0</td>\n",
       "      <td>6.0</td>\n",
       "      <td>2.429</td>\n",
       "      <td>1.0</td>\n",
       "      <td>1.0</td>\n",
       "      <td>NaN</td>\n",
       "      <td>...</td>\n",
       "      <td>NaN</td>\n",
       "      <td>NaN</td>\n",
       "      <td>37.746</td>\n",
       "      <td>0.5</td>\n",
       "      <td>64.83</td>\n",
       "      <td>0.511</td>\n",
       "      <td>NaN</td>\n",
       "      <td>NaN</td>\n",
       "      <td>NaN</td>\n",
       "      <td>NaN</td>\n",
       "    </tr>\n",
       "    <tr>\n",
       "      <th>29</th>\n",
       "      <td>AFG</td>\n",
       "      <td>Asia</td>\n",
       "      <td>Afghanistan</td>\n",
       "      <td>2020-03-24</td>\n",
       "      <td>42.0</td>\n",
       "      <td>2.0</td>\n",
       "      <td>2.571</td>\n",
       "      <td>1.0</td>\n",
       "      <td>0.0</td>\n",
       "      <td>NaN</td>\n",
       "      <td>...</td>\n",
       "      <td>NaN</td>\n",
       "      <td>NaN</td>\n",
       "      <td>37.746</td>\n",
       "      <td>0.5</td>\n",
       "      <td>64.83</td>\n",
       "      <td>0.511</td>\n",
       "      <td>NaN</td>\n",
       "      <td>NaN</td>\n",
       "      <td>NaN</td>\n",
       "      <td>NaN</td>\n",
       "    </tr>\n",
       "    <tr>\n",
       "      <th>...</th>\n",
       "      <td>...</td>\n",
       "      <td>...</td>\n",
       "      <td>...</td>\n",
       "      <td>...</td>\n",
       "      <td>...</td>\n",
       "      <td>...</td>\n",
       "      <td>...</td>\n",
       "      <td>...</td>\n",
       "      <td>...</td>\n",
       "      <td>...</td>\n",
       "      <td>...</td>\n",
       "      <td>...</td>\n",
       "      <td>...</td>\n",
       "      <td>...</td>\n",
       "      <td>...</td>\n",
       "      <td>...</td>\n",
       "      <td>...</td>\n",
       "      <td>...</td>\n",
       "      <td>...</td>\n",
       "      <td>...</td>\n",
       "      <td>...</td>\n",
       "    </tr>\n",
       "    <tr>\n",
       "      <th>218914</th>\n",
       "      <td>ZWE</td>\n",
       "      <td>Africa</td>\n",
       "      <td>Zimbabwe</td>\n",
       "      <td>2022-08-26</td>\n",
       "      <td>256682.0</td>\n",
       "      <td>7.0</td>\n",
       "      <td>12.286</td>\n",
       "      <td>5593.0</td>\n",
       "      <td>0.0</td>\n",
       "      <td>0.571</td>\n",
       "      <td>...</td>\n",
       "      <td>1.6</td>\n",
       "      <td>30.7</td>\n",
       "      <td>36.791</td>\n",
       "      <td>1.7</td>\n",
       "      <td>61.49</td>\n",
       "      <td>0.571</td>\n",
       "      <td>NaN</td>\n",
       "      <td>NaN</td>\n",
       "      <td>NaN</td>\n",
       "      <td>NaN</td>\n",
       "    </tr>\n",
       "    <tr>\n",
       "      <th>218915</th>\n",
       "      <td>ZWE</td>\n",
       "      <td>Africa</td>\n",
       "      <td>Zimbabwe</td>\n",
       "      <td>2022-08-27</td>\n",
       "      <td>256682.0</td>\n",
       "      <td>0.0</td>\n",
       "      <td>9.429</td>\n",
       "      <td>5593.0</td>\n",
       "      <td>0.0</td>\n",
       "      <td>0.143</td>\n",
       "      <td>...</td>\n",
       "      <td>1.6</td>\n",
       "      <td>30.7</td>\n",
       "      <td>36.791</td>\n",
       "      <td>1.7</td>\n",
       "      <td>61.49</td>\n",
       "      <td>0.571</td>\n",
       "      <td>NaN</td>\n",
       "      <td>NaN</td>\n",
       "      <td>NaN</td>\n",
       "      <td>NaN</td>\n",
       "    </tr>\n",
       "    <tr>\n",
       "      <th>218916</th>\n",
       "      <td>ZWE</td>\n",
       "      <td>Africa</td>\n",
       "      <td>Zimbabwe</td>\n",
       "      <td>2022-08-28</td>\n",
       "      <td>256699.0</td>\n",
       "      <td>17.0</td>\n",
       "      <td>10.714</td>\n",
       "      <td>5593.0</td>\n",
       "      <td>0.0</td>\n",
       "      <td>0.143</td>\n",
       "      <td>...</td>\n",
       "      <td>1.6</td>\n",
       "      <td>30.7</td>\n",
       "      <td>36.791</td>\n",
       "      <td>1.7</td>\n",
       "      <td>61.49</td>\n",
       "      <td>0.571</td>\n",
       "      <td>NaN</td>\n",
       "      <td>NaN</td>\n",
       "      <td>NaN</td>\n",
       "      <td>NaN</td>\n",
       "    </tr>\n",
       "    <tr>\n",
       "      <th>218917</th>\n",
       "      <td>ZWE</td>\n",
       "      <td>Africa</td>\n",
       "      <td>Zimbabwe</td>\n",
       "      <td>2022-08-29</td>\n",
       "      <td>256704.0</td>\n",
       "      <td>5.0</td>\n",
       "      <td>10.857</td>\n",
       "      <td>5593.0</td>\n",
       "      <td>0.0</td>\n",
       "      <td>0.143</td>\n",
       "      <td>...</td>\n",
       "      <td>1.6</td>\n",
       "      <td>30.7</td>\n",
       "      <td>36.791</td>\n",
       "      <td>1.7</td>\n",
       "      <td>61.49</td>\n",
       "      <td>0.571</td>\n",
       "      <td>NaN</td>\n",
       "      <td>NaN</td>\n",
       "      <td>NaN</td>\n",
       "      <td>NaN</td>\n",
       "    </tr>\n",
       "    <tr>\n",
       "      <th>218918</th>\n",
       "      <td>ZWE</td>\n",
       "      <td>Africa</td>\n",
       "      <td>Zimbabwe</td>\n",
       "      <td>2022-08-30</td>\n",
       "      <td>256708.0</td>\n",
       "      <td>4.0</td>\n",
       "      <td>11.429</td>\n",
       "      <td>5593.0</td>\n",
       "      <td>0.0</td>\n",
       "      <td>0.143</td>\n",
       "      <td>...</td>\n",
       "      <td>1.6</td>\n",
       "      <td>30.7</td>\n",
       "      <td>36.791</td>\n",
       "      <td>1.7</td>\n",
       "      <td>61.49</td>\n",
       "      <td>0.571</td>\n",
       "      <td>NaN</td>\n",
       "      <td>NaN</td>\n",
       "      <td>NaN</td>\n",
       "      <td>NaN</td>\n",
       "    </tr>\n",
       "    <tr>\n",
       "      <th>218919</th>\n",
       "      <td>ZWE</td>\n",
       "      <td>Africa</td>\n",
       "      <td>Zimbabwe</td>\n",
       "      <td>2022-08-31</td>\n",
       "      <td>256726.0</td>\n",
       "      <td>18.0</td>\n",
       "      <td>14.000</td>\n",
       "      <td>5596.0</td>\n",
       "      <td>3.0</td>\n",
       "      <td>0.571</td>\n",
       "      <td>...</td>\n",
       "      <td>1.6</td>\n",
       "      <td>30.7</td>\n",
       "      <td>36.791</td>\n",
       "      <td>1.7</td>\n",
       "      <td>61.49</td>\n",
       "      <td>0.571</td>\n",
       "      <td>NaN</td>\n",
       "      <td>NaN</td>\n",
       "      <td>NaN</td>\n",
       "      <td>NaN</td>\n",
       "    </tr>\n",
       "    <tr>\n",
       "      <th>218920</th>\n",
       "      <td>ZWE</td>\n",
       "      <td>Africa</td>\n",
       "      <td>Zimbabwe</td>\n",
       "      <td>2022-09-01</td>\n",
       "      <td>256738.0</td>\n",
       "      <td>12.0</td>\n",
       "      <td>9.000</td>\n",
       "      <td>5596.0</td>\n",
       "      <td>0.0</td>\n",
       "      <td>0.429</td>\n",
       "      <td>...</td>\n",
       "      <td>1.6</td>\n",
       "      <td>30.7</td>\n",
       "      <td>36.791</td>\n",
       "      <td>1.7</td>\n",
       "      <td>61.49</td>\n",
       "      <td>0.571</td>\n",
       "      <td>NaN</td>\n",
       "      <td>NaN</td>\n",
       "      <td>NaN</td>\n",
       "      <td>NaN</td>\n",
       "    </tr>\n",
       "    <tr>\n",
       "      <th>218921</th>\n",
       "      <td>ZWE</td>\n",
       "      <td>Africa</td>\n",
       "      <td>Zimbabwe</td>\n",
       "      <td>2022-09-02</td>\n",
       "      <td>256744.0</td>\n",
       "      <td>6.0</td>\n",
       "      <td>8.857</td>\n",
       "      <td>5596.0</td>\n",
       "      <td>0.0</td>\n",
       "      <td>0.429</td>\n",
       "      <td>...</td>\n",
       "      <td>1.6</td>\n",
       "      <td>30.7</td>\n",
       "      <td>36.791</td>\n",
       "      <td>1.7</td>\n",
       "      <td>61.49</td>\n",
       "      <td>0.571</td>\n",
       "      <td>NaN</td>\n",
       "      <td>NaN</td>\n",
       "      <td>NaN</td>\n",
       "      <td>NaN</td>\n",
       "    </tr>\n",
       "    <tr>\n",
       "      <th>218922</th>\n",
       "      <td>ZWE</td>\n",
       "      <td>Africa</td>\n",
       "      <td>Zimbabwe</td>\n",
       "      <td>2022-09-03</td>\n",
       "      <td>256755.0</td>\n",
       "      <td>11.0</td>\n",
       "      <td>10.429</td>\n",
       "      <td>5596.0</td>\n",
       "      <td>0.0</td>\n",
       "      <td>0.429</td>\n",
       "      <td>...</td>\n",
       "      <td>1.6</td>\n",
       "      <td>30.7</td>\n",
       "      <td>36.791</td>\n",
       "      <td>1.7</td>\n",
       "      <td>61.49</td>\n",
       "      <td>0.571</td>\n",
       "      <td>NaN</td>\n",
       "      <td>NaN</td>\n",
       "      <td>NaN</td>\n",
       "      <td>NaN</td>\n",
       "    </tr>\n",
       "    <tr>\n",
       "      <th>218923</th>\n",
       "      <td>ZWE</td>\n",
       "      <td>Africa</td>\n",
       "      <td>Zimbabwe</td>\n",
       "      <td>2022-09-04</td>\n",
       "      <td>256763.0</td>\n",
       "      <td>8.0</td>\n",
       "      <td>9.143</td>\n",
       "      <td>5596.0</td>\n",
       "      <td>0.0</td>\n",
       "      <td>0.429</td>\n",
       "      <td>...</td>\n",
       "      <td>1.6</td>\n",
       "      <td>30.7</td>\n",
       "      <td>36.791</td>\n",
       "      <td>1.7</td>\n",
       "      <td>61.49</td>\n",
       "      <td>0.571</td>\n",
       "      <td>NaN</td>\n",
       "      <td>NaN</td>\n",
       "      <td>NaN</td>\n",
       "      <td>NaN</td>\n",
       "    </tr>\n",
       "    <tr>\n",
       "      <th>218924</th>\n",
       "      <td>ZWE</td>\n",
       "      <td>Africa</td>\n",
       "      <td>Zimbabwe</td>\n",
       "      <td>2022-09-05</td>\n",
       "      <td>256769.0</td>\n",
       "      <td>6.0</td>\n",
       "      <td>9.286</td>\n",
       "      <td>5596.0</td>\n",
       "      <td>0.0</td>\n",
       "      <td>0.429</td>\n",
       "      <td>...</td>\n",
       "      <td>1.6</td>\n",
       "      <td>30.7</td>\n",
       "      <td>36.791</td>\n",
       "      <td>1.7</td>\n",
       "      <td>61.49</td>\n",
       "      <td>0.571</td>\n",
       "      <td>NaN</td>\n",
       "      <td>NaN</td>\n",
       "      <td>NaN</td>\n",
       "      <td>NaN</td>\n",
       "    </tr>\n",
       "    <tr>\n",
       "      <th>218925</th>\n",
       "      <td>ZWE</td>\n",
       "      <td>Africa</td>\n",
       "      <td>Zimbabwe</td>\n",
       "      <td>2022-09-06</td>\n",
       "      <td>256782.0</td>\n",
       "      <td>13.0</td>\n",
       "      <td>10.571</td>\n",
       "      <td>5596.0</td>\n",
       "      <td>0.0</td>\n",
       "      <td>0.429</td>\n",
       "      <td>...</td>\n",
       "      <td>1.6</td>\n",
       "      <td>30.7</td>\n",
       "      <td>36.791</td>\n",
       "      <td>1.7</td>\n",
       "      <td>61.49</td>\n",
       "      <td>0.571</td>\n",
       "      <td>NaN</td>\n",
       "      <td>NaN</td>\n",
       "      <td>NaN</td>\n",
       "      <td>NaN</td>\n",
       "    </tr>\n",
       "    <tr>\n",
       "      <th>218926</th>\n",
       "      <td>ZWE</td>\n",
       "      <td>Africa</td>\n",
       "      <td>Zimbabwe</td>\n",
       "      <td>2022-09-07</td>\n",
       "      <td>256825.0</td>\n",
       "      <td>43.0</td>\n",
       "      <td>14.143</td>\n",
       "      <td>5596.0</td>\n",
       "      <td>0.0</td>\n",
       "      <td>0.000</td>\n",
       "      <td>...</td>\n",
       "      <td>1.6</td>\n",
       "      <td>30.7</td>\n",
       "      <td>36.791</td>\n",
       "      <td>1.7</td>\n",
       "      <td>61.49</td>\n",
       "      <td>0.571</td>\n",
       "      <td>NaN</td>\n",
       "      <td>NaN</td>\n",
       "      <td>NaN</td>\n",
       "      <td>NaN</td>\n",
       "    </tr>\n",
       "    <tr>\n",
       "      <th>218927</th>\n",
       "      <td>ZWE</td>\n",
       "      <td>Africa</td>\n",
       "      <td>Zimbabwe</td>\n",
       "      <td>2022-09-08</td>\n",
       "      <td>256834.0</td>\n",
       "      <td>9.0</td>\n",
       "      <td>13.714</td>\n",
       "      <td>5596.0</td>\n",
       "      <td>0.0</td>\n",
       "      <td>0.000</td>\n",
       "      <td>...</td>\n",
       "      <td>1.6</td>\n",
       "      <td>30.7</td>\n",
       "      <td>36.791</td>\n",
       "      <td>1.7</td>\n",
       "      <td>61.49</td>\n",
       "      <td>0.571</td>\n",
       "      <td>NaN</td>\n",
       "      <td>NaN</td>\n",
       "      <td>NaN</td>\n",
       "      <td>NaN</td>\n",
       "    </tr>\n",
       "    <tr>\n",
       "      <th>218928</th>\n",
       "      <td>ZWE</td>\n",
       "      <td>Africa</td>\n",
       "      <td>Zimbabwe</td>\n",
       "      <td>2022-09-09</td>\n",
       "      <td>256859.0</td>\n",
       "      <td>25.0</td>\n",
       "      <td>16.429</td>\n",
       "      <td>5596.0</td>\n",
       "      <td>0.0</td>\n",
       "      <td>0.000</td>\n",
       "      <td>...</td>\n",
       "      <td>1.6</td>\n",
       "      <td>30.7</td>\n",
       "      <td>36.791</td>\n",
       "      <td>1.7</td>\n",
       "      <td>61.49</td>\n",
       "      <td>0.571</td>\n",
       "      <td>NaN</td>\n",
       "      <td>NaN</td>\n",
       "      <td>NaN</td>\n",
       "      <td>NaN</td>\n",
       "    </tr>\n",
       "    <tr>\n",
       "      <th>218929</th>\n",
       "      <td>ZWE</td>\n",
       "      <td>Africa</td>\n",
       "      <td>Zimbabwe</td>\n",
       "      <td>2022-09-10</td>\n",
       "      <td>256870.0</td>\n",
       "      <td>11.0</td>\n",
       "      <td>16.429</td>\n",
       "      <td>5596.0</td>\n",
       "      <td>0.0</td>\n",
       "      <td>0.000</td>\n",
       "      <td>...</td>\n",
       "      <td>1.6</td>\n",
       "      <td>30.7</td>\n",
       "      <td>36.791</td>\n",
       "      <td>1.7</td>\n",
       "      <td>61.49</td>\n",
       "      <td>0.571</td>\n",
       "      <td>NaN</td>\n",
       "      <td>NaN</td>\n",
       "      <td>NaN</td>\n",
       "      <td>NaN</td>\n",
       "    </tr>\n",
       "    <tr>\n",
       "      <th>218930</th>\n",
       "      <td>ZWE</td>\n",
       "      <td>Africa</td>\n",
       "      <td>Zimbabwe</td>\n",
       "      <td>2022-09-11</td>\n",
       "      <td>256870.0</td>\n",
       "      <td>0.0</td>\n",
       "      <td>15.286</td>\n",
       "      <td>5596.0</td>\n",
       "      <td>0.0</td>\n",
       "      <td>0.000</td>\n",
       "      <td>...</td>\n",
       "      <td>1.6</td>\n",
       "      <td>30.7</td>\n",
       "      <td>36.791</td>\n",
       "      <td>1.7</td>\n",
       "      <td>61.49</td>\n",
       "      <td>0.571</td>\n",
       "      <td>NaN</td>\n",
       "      <td>NaN</td>\n",
       "      <td>NaN</td>\n",
       "      <td>NaN</td>\n",
       "    </tr>\n",
       "    <tr>\n",
       "      <th>218931</th>\n",
       "      <td>ZWE</td>\n",
       "      <td>Africa</td>\n",
       "      <td>Zimbabwe</td>\n",
       "      <td>2022-09-12</td>\n",
       "      <td>256888.0</td>\n",
       "      <td>18.0</td>\n",
       "      <td>17.000</td>\n",
       "      <td>5596.0</td>\n",
       "      <td>0.0</td>\n",
       "      <td>0.000</td>\n",
       "      <td>...</td>\n",
       "      <td>1.6</td>\n",
       "      <td>30.7</td>\n",
       "      <td>36.791</td>\n",
       "      <td>1.7</td>\n",
       "      <td>61.49</td>\n",
       "      <td>0.571</td>\n",
       "      <td>NaN</td>\n",
       "      <td>NaN</td>\n",
       "      <td>NaN</td>\n",
       "      <td>NaN</td>\n",
       "    </tr>\n",
       "    <tr>\n",
       "      <th>218932</th>\n",
       "      <td>ZWE</td>\n",
       "      <td>Africa</td>\n",
       "      <td>Zimbabwe</td>\n",
       "      <td>2022-09-13</td>\n",
       "      <td>256904.0</td>\n",
       "      <td>16.0</td>\n",
       "      <td>17.429</td>\n",
       "      <td>5596.0</td>\n",
       "      <td>0.0</td>\n",
       "      <td>0.000</td>\n",
       "      <td>...</td>\n",
       "      <td>1.6</td>\n",
       "      <td>30.7</td>\n",
       "      <td>36.791</td>\n",
       "      <td>1.7</td>\n",
       "      <td>61.49</td>\n",
       "      <td>0.571</td>\n",
       "      <td>NaN</td>\n",
       "      <td>NaN</td>\n",
       "      <td>NaN</td>\n",
       "      <td>NaN</td>\n",
       "    </tr>\n",
       "    <tr>\n",
       "      <th>218933</th>\n",
       "      <td>ZWE</td>\n",
       "      <td>Africa</td>\n",
       "      <td>Zimbabwe</td>\n",
       "      <td>2022-09-14</td>\n",
       "      <td>256939.0</td>\n",
       "      <td>35.0</td>\n",
       "      <td>16.286</td>\n",
       "      <td>5596.0</td>\n",
       "      <td>0.0</td>\n",
       "      <td>0.000</td>\n",
       "      <td>...</td>\n",
       "      <td>1.6</td>\n",
       "      <td>30.7</td>\n",
       "      <td>36.791</td>\n",
       "      <td>1.7</td>\n",
       "      <td>61.49</td>\n",
       "      <td>0.571</td>\n",
       "      <td>NaN</td>\n",
       "      <td>NaN</td>\n",
       "      <td>NaN</td>\n",
       "      <td>NaN</td>\n",
       "    </tr>\n",
       "    <tr>\n",
       "      <th>218934</th>\n",
       "      <td>ZWE</td>\n",
       "      <td>Africa</td>\n",
       "      <td>Zimbabwe</td>\n",
       "      <td>2022-09-15</td>\n",
       "      <td>256939.0</td>\n",
       "      <td>0.0</td>\n",
       "      <td>15.000</td>\n",
       "      <td>5596.0</td>\n",
       "      <td>0.0</td>\n",
       "      <td>0.000</td>\n",
       "      <td>...</td>\n",
       "      <td>1.6</td>\n",
       "      <td>30.7</td>\n",
       "      <td>36.791</td>\n",
       "      <td>1.7</td>\n",
       "      <td>61.49</td>\n",
       "      <td>0.571</td>\n",
       "      <td>NaN</td>\n",
       "      <td>NaN</td>\n",
       "      <td>NaN</td>\n",
       "      <td>NaN</td>\n",
       "    </tr>\n",
       "    <tr>\n",
       "      <th>218935</th>\n",
       "      <td>ZWE</td>\n",
       "      <td>Africa</td>\n",
       "      <td>Zimbabwe</td>\n",
       "      <td>2022-09-16</td>\n",
       "      <td>256939.0</td>\n",
       "      <td>0.0</td>\n",
       "      <td>11.429</td>\n",
       "      <td>5596.0</td>\n",
       "      <td>0.0</td>\n",
       "      <td>0.000</td>\n",
       "      <td>...</td>\n",
       "      <td>1.6</td>\n",
       "      <td>30.7</td>\n",
       "      <td>36.791</td>\n",
       "      <td>1.7</td>\n",
       "      <td>61.49</td>\n",
       "      <td>0.571</td>\n",
       "      <td>NaN</td>\n",
       "      <td>NaN</td>\n",
       "      <td>NaN</td>\n",
       "      <td>NaN</td>\n",
       "    </tr>\n",
       "    <tr>\n",
       "      <th>218936</th>\n",
       "      <td>ZWE</td>\n",
       "      <td>Africa</td>\n",
       "      <td>Zimbabwe</td>\n",
       "      <td>2022-09-17</td>\n",
       "      <td>256988.0</td>\n",
       "      <td>49.0</td>\n",
       "      <td>16.857</td>\n",
       "      <td>5598.0</td>\n",
       "      <td>2.0</td>\n",
       "      <td>0.286</td>\n",
       "      <td>...</td>\n",
       "      <td>1.6</td>\n",
       "      <td>30.7</td>\n",
       "      <td>36.791</td>\n",
       "      <td>1.7</td>\n",
       "      <td>61.49</td>\n",
       "      <td>0.571</td>\n",
       "      <td>NaN</td>\n",
       "      <td>NaN</td>\n",
       "      <td>NaN</td>\n",
       "      <td>NaN</td>\n",
       "    </tr>\n",
       "    <tr>\n",
       "      <th>218937</th>\n",
       "      <td>ZWE</td>\n",
       "      <td>Africa</td>\n",
       "      <td>Zimbabwe</td>\n",
       "      <td>2022-09-18</td>\n",
       "      <td>256996.0</td>\n",
       "      <td>8.0</td>\n",
       "      <td>18.000</td>\n",
       "      <td>5598.0</td>\n",
       "      <td>0.0</td>\n",
       "      <td>0.286</td>\n",
       "      <td>...</td>\n",
       "      <td>1.6</td>\n",
       "      <td>30.7</td>\n",
       "      <td>36.791</td>\n",
       "      <td>1.7</td>\n",
       "      <td>61.49</td>\n",
       "      <td>0.571</td>\n",
       "      <td>NaN</td>\n",
       "      <td>NaN</td>\n",
       "      <td>NaN</td>\n",
       "      <td>NaN</td>\n",
       "    </tr>\n",
       "    <tr>\n",
       "      <th>218938</th>\n",
       "      <td>ZWE</td>\n",
       "      <td>Africa</td>\n",
       "      <td>Zimbabwe</td>\n",
       "      <td>2022-09-19</td>\n",
       "      <td>257090.0</td>\n",
       "      <td>94.0</td>\n",
       "      <td>28.857</td>\n",
       "      <td>5598.0</td>\n",
       "      <td>0.0</td>\n",
       "      <td>0.286</td>\n",
       "      <td>...</td>\n",
       "      <td>1.6</td>\n",
       "      <td>30.7</td>\n",
       "      <td>36.791</td>\n",
       "      <td>1.7</td>\n",
       "      <td>61.49</td>\n",
       "      <td>0.571</td>\n",
       "      <td>NaN</td>\n",
       "      <td>NaN</td>\n",
       "      <td>NaN</td>\n",
       "      <td>NaN</td>\n",
       "    </tr>\n",
       "    <tr>\n",
       "      <th>218939</th>\n",
       "      <td>ZWE</td>\n",
       "      <td>Africa</td>\n",
       "      <td>Zimbabwe</td>\n",
       "      <td>2022-09-20</td>\n",
       "      <td>257156.0</td>\n",
       "      <td>66.0</td>\n",
       "      <td>36.000</td>\n",
       "      <td>5598.0</td>\n",
       "      <td>0.0</td>\n",
       "      <td>0.286</td>\n",
       "      <td>...</td>\n",
       "      <td>1.6</td>\n",
       "      <td>30.7</td>\n",
       "      <td>36.791</td>\n",
       "      <td>1.7</td>\n",
       "      <td>61.49</td>\n",
       "      <td>0.571</td>\n",
       "      <td>NaN</td>\n",
       "      <td>NaN</td>\n",
       "      <td>NaN</td>\n",
       "      <td>NaN</td>\n",
       "    </tr>\n",
       "    <tr>\n",
       "      <th>218940</th>\n",
       "      <td>ZWE</td>\n",
       "      <td>Africa</td>\n",
       "      <td>Zimbabwe</td>\n",
       "      <td>2022-09-21</td>\n",
       "      <td>257156.0</td>\n",
       "      <td>0.0</td>\n",
       "      <td>31.000</td>\n",
       "      <td>5598.0</td>\n",
       "      <td>0.0</td>\n",
       "      <td>0.286</td>\n",
       "      <td>...</td>\n",
       "      <td>1.6</td>\n",
       "      <td>30.7</td>\n",
       "      <td>36.791</td>\n",
       "      <td>1.7</td>\n",
       "      <td>61.49</td>\n",
       "      <td>0.571</td>\n",
       "      <td>NaN</td>\n",
       "      <td>NaN</td>\n",
       "      <td>NaN</td>\n",
       "      <td>NaN</td>\n",
       "    </tr>\n",
       "    <tr>\n",
       "      <th>218941</th>\n",
       "      <td>ZWE</td>\n",
       "      <td>Africa</td>\n",
       "      <td>Zimbabwe</td>\n",
       "      <td>2022-09-22</td>\n",
       "      <td>257259.0</td>\n",
       "      <td>103.0</td>\n",
       "      <td>45.714</td>\n",
       "      <td>5598.0</td>\n",
       "      <td>0.0</td>\n",
       "      <td>0.286</td>\n",
       "      <td>...</td>\n",
       "      <td>1.6</td>\n",
       "      <td>30.7</td>\n",
       "      <td>36.791</td>\n",
       "      <td>1.7</td>\n",
       "      <td>61.49</td>\n",
       "      <td>0.571</td>\n",
       "      <td>NaN</td>\n",
       "      <td>NaN</td>\n",
       "      <td>NaN</td>\n",
       "      <td>NaN</td>\n",
       "    </tr>\n",
       "    <tr>\n",
       "      <th>218942</th>\n",
       "      <td>ZWE</td>\n",
       "      <td>Africa</td>\n",
       "      <td>Zimbabwe</td>\n",
       "      <td>2022-09-23</td>\n",
       "      <td>257289.0</td>\n",
       "      <td>30.0</td>\n",
       "      <td>50.000</td>\n",
       "      <td>5599.0</td>\n",
       "      <td>1.0</td>\n",
       "      <td>0.429</td>\n",
       "      <td>...</td>\n",
       "      <td>1.6</td>\n",
       "      <td>30.7</td>\n",
       "      <td>36.791</td>\n",
       "      <td>1.7</td>\n",
       "      <td>61.49</td>\n",
       "      <td>0.571</td>\n",
       "      <td>NaN</td>\n",
       "      <td>NaN</td>\n",
       "      <td>NaN</td>\n",
       "      <td>NaN</td>\n",
       "    </tr>\n",
       "    <tr>\n",
       "      <th>218943</th>\n",
       "      <td>ZWE</td>\n",
       "      <td>Africa</td>\n",
       "      <td>Zimbabwe</td>\n",
       "      <td>2022-09-24</td>\n",
       "      <td>257318.0</td>\n",
       "      <td>29.0</td>\n",
       "      <td>47.143</td>\n",
       "      <td>5599.0</td>\n",
       "      <td>0.0</td>\n",
       "      <td>0.143</td>\n",
       "      <td>...</td>\n",
       "      <td>1.6</td>\n",
       "      <td>30.7</td>\n",
       "      <td>36.791</td>\n",
       "      <td>1.7</td>\n",
       "      <td>61.49</td>\n",
       "      <td>0.571</td>\n",
       "      <td>NaN</td>\n",
       "      <td>NaN</td>\n",
       "      <td>NaN</td>\n",
       "      <td>NaN</td>\n",
       "    </tr>\n",
       "  </tbody>\n",
       "</table>\n",
       "<p>218944 rows × 67 columns</p>\n",
       "</div>"
      ],
      "text/plain": [
       "       iso_code continent     location        date  total_cases  new_cases  \\\n",
       "0           AFG      Asia  Afghanistan  2020-02-24          5.0        5.0   \n",
       "1           AFG      Asia  Afghanistan  2020-02-25          5.0        0.0   \n",
       "2           AFG      Asia  Afghanistan  2020-02-26          5.0        0.0   \n",
       "3           AFG      Asia  Afghanistan  2020-02-27          5.0        0.0   \n",
       "4           AFG      Asia  Afghanistan  2020-02-28          5.0        0.0   \n",
       "5           AFG      Asia  Afghanistan  2020-02-29          5.0        0.0   \n",
       "6           AFG      Asia  Afghanistan  2020-03-01          5.0        0.0   \n",
       "7           AFG      Asia  Afghanistan  2020-03-02          5.0        0.0   \n",
       "8           AFG      Asia  Afghanistan  2020-03-03          5.0        0.0   \n",
       "9           AFG      Asia  Afghanistan  2020-03-04          5.0        0.0   \n",
       "10          AFG      Asia  Afghanistan  2020-03-05          5.0        0.0   \n",
       "11          AFG      Asia  Afghanistan  2020-03-06          5.0        0.0   \n",
       "12          AFG      Asia  Afghanistan  2020-03-07          8.0        3.0   \n",
       "13          AFG      Asia  Afghanistan  2020-03-08          8.0        0.0   \n",
       "14          AFG      Asia  Afghanistan  2020-03-09          8.0        0.0   \n",
       "15          AFG      Asia  Afghanistan  2020-03-10          8.0        0.0   \n",
       "16          AFG      Asia  Afghanistan  2020-03-11         11.0        3.0   \n",
       "17          AFG      Asia  Afghanistan  2020-03-12         11.0        0.0   \n",
       "18          AFG      Asia  Afghanistan  2020-03-13         11.0        0.0   \n",
       "19          AFG      Asia  Afghanistan  2020-03-14         14.0        3.0   \n",
       "20          AFG      Asia  Afghanistan  2020-03-15         20.0        6.0   \n",
       "21          AFG      Asia  Afghanistan  2020-03-16         25.0        5.0   \n",
       "22          AFG      Asia  Afghanistan  2020-03-17         26.0        1.0   \n",
       "23          AFG      Asia  Afghanistan  2020-03-18         26.0        0.0   \n",
       "24          AFG      Asia  Afghanistan  2020-03-19         26.0        0.0   \n",
       "25          AFG      Asia  Afghanistan  2020-03-20         24.0        NaN   \n",
       "26          AFG      Asia  Afghanistan  2020-03-21         24.0        0.0   \n",
       "27          AFG      Asia  Afghanistan  2020-03-22         34.0       10.0   \n",
       "28          AFG      Asia  Afghanistan  2020-03-23         40.0        6.0   \n",
       "29          AFG      Asia  Afghanistan  2020-03-24         42.0        2.0   \n",
       "...         ...       ...          ...         ...          ...        ...   \n",
       "218914      ZWE    Africa     Zimbabwe  2022-08-26     256682.0        7.0   \n",
       "218915      ZWE    Africa     Zimbabwe  2022-08-27     256682.0        0.0   \n",
       "218916      ZWE    Africa     Zimbabwe  2022-08-28     256699.0       17.0   \n",
       "218917      ZWE    Africa     Zimbabwe  2022-08-29     256704.0        5.0   \n",
       "218918      ZWE    Africa     Zimbabwe  2022-08-30     256708.0        4.0   \n",
       "218919      ZWE    Africa     Zimbabwe  2022-08-31     256726.0       18.0   \n",
       "218920      ZWE    Africa     Zimbabwe  2022-09-01     256738.0       12.0   \n",
       "218921      ZWE    Africa     Zimbabwe  2022-09-02     256744.0        6.0   \n",
       "218922      ZWE    Africa     Zimbabwe  2022-09-03     256755.0       11.0   \n",
       "218923      ZWE    Africa     Zimbabwe  2022-09-04     256763.0        8.0   \n",
       "218924      ZWE    Africa     Zimbabwe  2022-09-05     256769.0        6.0   \n",
       "218925      ZWE    Africa     Zimbabwe  2022-09-06     256782.0       13.0   \n",
       "218926      ZWE    Africa     Zimbabwe  2022-09-07     256825.0       43.0   \n",
       "218927      ZWE    Africa     Zimbabwe  2022-09-08     256834.0        9.0   \n",
       "218928      ZWE    Africa     Zimbabwe  2022-09-09     256859.0       25.0   \n",
       "218929      ZWE    Africa     Zimbabwe  2022-09-10     256870.0       11.0   \n",
       "218930      ZWE    Africa     Zimbabwe  2022-09-11     256870.0        0.0   \n",
       "218931      ZWE    Africa     Zimbabwe  2022-09-12     256888.0       18.0   \n",
       "218932      ZWE    Africa     Zimbabwe  2022-09-13     256904.0       16.0   \n",
       "218933      ZWE    Africa     Zimbabwe  2022-09-14     256939.0       35.0   \n",
       "218934      ZWE    Africa     Zimbabwe  2022-09-15     256939.0        0.0   \n",
       "218935      ZWE    Africa     Zimbabwe  2022-09-16     256939.0        0.0   \n",
       "218936      ZWE    Africa     Zimbabwe  2022-09-17     256988.0       49.0   \n",
       "218937      ZWE    Africa     Zimbabwe  2022-09-18     256996.0        8.0   \n",
       "218938      ZWE    Africa     Zimbabwe  2022-09-19     257090.0       94.0   \n",
       "218939      ZWE    Africa     Zimbabwe  2022-09-20     257156.0       66.0   \n",
       "218940      ZWE    Africa     Zimbabwe  2022-09-21     257156.0        0.0   \n",
       "218941      ZWE    Africa     Zimbabwe  2022-09-22     257259.0      103.0   \n",
       "218942      ZWE    Africa     Zimbabwe  2022-09-23     257289.0       30.0   \n",
       "218943      ZWE    Africa     Zimbabwe  2022-09-24     257318.0       29.0   \n",
       "\n",
       "        new_cases_smoothed  total_deaths  new_deaths  new_deaths_smoothed  \\\n",
       "0                      NaN           NaN         NaN                  NaN   \n",
       "1                      NaN           NaN         NaN                  NaN   \n",
       "2                      NaN           NaN         NaN                  NaN   \n",
       "3                      NaN           NaN         NaN                  NaN   \n",
       "4                      NaN           NaN         NaN                  NaN   \n",
       "5                    0.714           NaN         NaN                  NaN   \n",
       "6                    0.714           NaN         NaN                  NaN   \n",
       "7                    0.000           NaN         NaN                  NaN   \n",
       "8                    0.000           NaN         NaN                  NaN   \n",
       "9                    0.000           NaN         NaN                  NaN   \n",
       "10                   0.000           NaN         NaN                  NaN   \n",
       "11                   0.000           NaN         NaN                  NaN   \n",
       "12                   0.429           NaN         NaN                  NaN   \n",
       "13                   0.429           NaN         NaN                  NaN   \n",
       "14                   0.429           NaN         NaN                  NaN   \n",
       "15                   0.429           NaN         NaN                  NaN   \n",
       "16                   0.857           NaN         NaN                  NaN   \n",
       "17                   0.857           NaN         NaN                  NaN   \n",
       "18                   0.857           NaN         NaN                  NaN   \n",
       "19                   0.857           NaN         NaN                  NaN   \n",
       "20                   1.714           NaN         NaN                  NaN   \n",
       "21                   2.429           NaN         NaN                  NaN   \n",
       "22                   2.571           NaN         NaN                  NaN   \n",
       "23                   2.143           NaN         NaN                  NaN   \n",
       "24                   2.143           NaN         NaN                  NaN   \n",
       "25                     NaN           NaN         NaN                  NaN   \n",
       "26                   1.714           NaN         NaN                  NaN   \n",
       "27                   2.286           NaN         NaN                  NaN   \n",
       "28                   2.429           1.0         1.0                  NaN   \n",
       "29                   2.571           1.0         0.0                  NaN   \n",
       "...                    ...           ...         ...                  ...   \n",
       "218914              12.286        5593.0         0.0                0.571   \n",
       "218915               9.429        5593.0         0.0                0.143   \n",
       "218916              10.714        5593.0         0.0                0.143   \n",
       "218917              10.857        5593.0         0.0                0.143   \n",
       "218918              11.429        5593.0         0.0                0.143   \n",
       "218919              14.000        5596.0         3.0                0.571   \n",
       "218920               9.000        5596.0         0.0                0.429   \n",
       "218921               8.857        5596.0         0.0                0.429   \n",
       "218922              10.429        5596.0         0.0                0.429   \n",
       "218923               9.143        5596.0         0.0                0.429   \n",
       "218924               9.286        5596.0         0.0                0.429   \n",
       "218925              10.571        5596.0         0.0                0.429   \n",
       "218926              14.143        5596.0         0.0                0.000   \n",
       "218927              13.714        5596.0         0.0                0.000   \n",
       "218928              16.429        5596.0         0.0                0.000   \n",
       "218929              16.429        5596.0         0.0                0.000   \n",
       "218930              15.286        5596.0         0.0                0.000   \n",
       "218931              17.000        5596.0         0.0                0.000   \n",
       "218932              17.429        5596.0         0.0                0.000   \n",
       "218933              16.286        5596.0         0.0                0.000   \n",
       "218934              15.000        5596.0         0.0                0.000   \n",
       "218935              11.429        5596.0         0.0                0.000   \n",
       "218936              16.857        5598.0         2.0                0.286   \n",
       "218937              18.000        5598.0         0.0                0.286   \n",
       "218938              28.857        5598.0         0.0                0.286   \n",
       "218939              36.000        5598.0         0.0                0.286   \n",
       "218940              31.000        5598.0         0.0                0.286   \n",
       "218941              45.714        5598.0         0.0                0.286   \n",
       "218942              50.000        5599.0         1.0                0.429   \n",
       "218943              47.143        5599.0         0.0                0.143   \n",
       "\n",
       "        ...  female_smokers  male_smokers  handwashing_facilities  \\\n",
       "0       ...             NaN           NaN                  37.746   \n",
       "1       ...             NaN           NaN                  37.746   \n",
       "2       ...             NaN           NaN                  37.746   \n",
       "3       ...             NaN           NaN                  37.746   \n",
       "4       ...             NaN           NaN                  37.746   \n",
       "5       ...             NaN           NaN                  37.746   \n",
       "6       ...             NaN           NaN                  37.746   \n",
       "7       ...             NaN           NaN                  37.746   \n",
       "8       ...             NaN           NaN                  37.746   \n",
       "9       ...             NaN           NaN                  37.746   \n",
       "10      ...             NaN           NaN                  37.746   \n",
       "11      ...             NaN           NaN                  37.746   \n",
       "12      ...             NaN           NaN                  37.746   \n",
       "13      ...             NaN           NaN                  37.746   \n",
       "14      ...             NaN           NaN                  37.746   \n",
       "15      ...             NaN           NaN                  37.746   \n",
       "16      ...             NaN           NaN                  37.746   \n",
       "17      ...             NaN           NaN                  37.746   \n",
       "18      ...             NaN           NaN                  37.746   \n",
       "19      ...             NaN           NaN                  37.746   \n",
       "20      ...             NaN           NaN                  37.746   \n",
       "21      ...             NaN           NaN                  37.746   \n",
       "22      ...             NaN           NaN                  37.746   \n",
       "23      ...             NaN           NaN                  37.746   \n",
       "24      ...             NaN           NaN                  37.746   \n",
       "25      ...             NaN           NaN                  37.746   \n",
       "26      ...             NaN           NaN                  37.746   \n",
       "27      ...             NaN           NaN                  37.746   \n",
       "28      ...             NaN           NaN                  37.746   \n",
       "29      ...             NaN           NaN                  37.746   \n",
       "...     ...             ...           ...                     ...   \n",
       "218914  ...             1.6          30.7                  36.791   \n",
       "218915  ...             1.6          30.7                  36.791   \n",
       "218916  ...             1.6          30.7                  36.791   \n",
       "218917  ...             1.6          30.7                  36.791   \n",
       "218918  ...             1.6          30.7                  36.791   \n",
       "218919  ...             1.6          30.7                  36.791   \n",
       "218920  ...             1.6          30.7                  36.791   \n",
       "218921  ...             1.6          30.7                  36.791   \n",
       "218922  ...             1.6          30.7                  36.791   \n",
       "218923  ...             1.6          30.7                  36.791   \n",
       "218924  ...             1.6          30.7                  36.791   \n",
       "218925  ...             1.6          30.7                  36.791   \n",
       "218926  ...             1.6          30.7                  36.791   \n",
       "218927  ...             1.6          30.7                  36.791   \n",
       "218928  ...             1.6          30.7                  36.791   \n",
       "218929  ...             1.6          30.7                  36.791   \n",
       "218930  ...             1.6          30.7                  36.791   \n",
       "218931  ...             1.6          30.7                  36.791   \n",
       "218932  ...             1.6          30.7                  36.791   \n",
       "218933  ...             1.6          30.7                  36.791   \n",
       "218934  ...             1.6          30.7                  36.791   \n",
       "218935  ...             1.6          30.7                  36.791   \n",
       "218936  ...             1.6          30.7                  36.791   \n",
       "218937  ...             1.6          30.7                  36.791   \n",
       "218938  ...             1.6          30.7                  36.791   \n",
       "218939  ...             1.6          30.7                  36.791   \n",
       "218940  ...             1.6          30.7                  36.791   \n",
       "218941  ...             1.6          30.7                  36.791   \n",
       "218942  ...             1.6          30.7                  36.791   \n",
       "218943  ...             1.6          30.7                  36.791   \n",
       "\n",
       "        hospital_beds_per_thousand  life_expectancy  human_development_index  \\\n",
       "0                              0.5            64.83                    0.511   \n",
       "1                              0.5            64.83                    0.511   \n",
       "2                              0.5            64.83                    0.511   \n",
       "3                              0.5            64.83                    0.511   \n",
       "4                              0.5            64.83                    0.511   \n",
       "5                              0.5            64.83                    0.511   \n",
       "6                              0.5            64.83                    0.511   \n",
       "7                              0.5            64.83                    0.511   \n",
       "8                              0.5            64.83                    0.511   \n",
       "9                              0.5            64.83                    0.511   \n",
       "10                             0.5            64.83                    0.511   \n",
       "11                             0.5            64.83                    0.511   \n",
       "12                             0.5            64.83                    0.511   \n",
       "13                             0.5            64.83                    0.511   \n",
       "14                             0.5            64.83                    0.511   \n",
       "15                             0.5            64.83                    0.511   \n",
       "16                             0.5            64.83                    0.511   \n",
       "17                             0.5            64.83                    0.511   \n",
       "18                             0.5            64.83                    0.511   \n",
       "19                             0.5            64.83                    0.511   \n",
       "20                             0.5            64.83                    0.511   \n",
       "21                             0.5            64.83                    0.511   \n",
       "22                             0.5            64.83                    0.511   \n",
       "23                             0.5            64.83                    0.511   \n",
       "24                             0.5            64.83                    0.511   \n",
       "25                             0.5            64.83                    0.511   \n",
       "26                             0.5            64.83                    0.511   \n",
       "27                             0.5            64.83                    0.511   \n",
       "28                             0.5            64.83                    0.511   \n",
       "29                             0.5            64.83                    0.511   \n",
       "...                            ...              ...                      ...   \n",
       "218914                         1.7            61.49                    0.571   \n",
       "218915                         1.7            61.49                    0.571   \n",
       "218916                         1.7            61.49                    0.571   \n",
       "218917                         1.7            61.49                    0.571   \n",
       "218918                         1.7            61.49                    0.571   \n",
       "218919                         1.7            61.49                    0.571   \n",
       "218920                         1.7            61.49                    0.571   \n",
       "218921                         1.7            61.49                    0.571   \n",
       "218922                         1.7            61.49                    0.571   \n",
       "218923                         1.7            61.49                    0.571   \n",
       "218924                         1.7            61.49                    0.571   \n",
       "218925                         1.7            61.49                    0.571   \n",
       "218926                         1.7            61.49                    0.571   \n",
       "218927                         1.7            61.49                    0.571   \n",
       "218928                         1.7            61.49                    0.571   \n",
       "218929                         1.7            61.49                    0.571   \n",
       "218930                         1.7            61.49                    0.571   \n",
       "218931                         1.7            61.49                    0.571   \n",
       "218932                         1.7            61.49                    0.571   \n",
       "218933                         1.7            61.49                    0.571   \n",
       "218934                         1.7            61.49                    0.571   \n",
       "218935                         1.7            61.49                    0.571   \n",
       "218936                         1.7            61.49                    0.571   \n",
       "218937                         1.7            61.49                    0.571   \n",
       "218938                         1.7            61.49                    0.571   \n",
       "218939                         1.7            61.49                    0.571   \n",
       "218940                         1.7            61.49                    0.571   \n",
       "218941                         1.7            61.49                    0.571   \n",
       "218942                         1.7            61.49                    0.571   \n",
       "218943                         1.7            61.49                    0.571   \n",
       "\n",
       "        excess_mortality_cumulative_absolute  excess_mortality_cumulative  \\\n",
       "0                                        NaN                          NaN   \n",
       "1                                        NaN                          NaN   \n",
       "2                                        NaN                          NaN   \n",
       "3                                        NaN                          NaN   \n",
       "4                                        NaN                          NaN   \n",
       "5                                        NaN                          NaN   \n",
       "6                                        NaN                          NaN   \n",
       "7                                        NaN                          NaN   \n",
       "8                                        NaN                          NaN   \n",
       "9                                        NaN                          NaN   \n",
       "10                                       NaN                          NaN   \n",
       "11                                       NaN                          NaN   \n",
       "12                                       NaN                          NaN   \n",
       "13                                       NaN                          NaN   \n",
       "14                                       NaN                          NaN   \n",
       "15                                       NaN                          NaN   \n",
       "16                                       NaN                          NaN   \n",
       "17                                       NaN                          NaN   \n",
       "18                                       NaN                          NaN   \n",
       "19                                       NaN                          NaN   \n",
       "20                                       NaN                          NaN   \n",
       "21                                       NaN                          NaN   \n",
       "22                                       NaN                          NaN   \n",
       "23                                       NaN                          NaN   \n",
       "24                                       NaN                          NaN   \n",
       "25                                       NaN                          NaN   \n",
       "26                                       NaN                          NaN   \n",
       "27                                       NaN                          NaN   \n",
       "28                                       NaN                          NaN   \n",
       "29                                       NaN                          NaN   \n",
       "...                                      ...                          ...   \n",
       "218914                                   NaN                          NaN   \n",
       "218915                                   NaN                          NaN   \n",
       "218916                                   NaN                          NaN   \n",
       "218917                                   NaN                          NaN   \n",
       "218918                                   NaN                          NaN   \n",
       "218919                                   NaN                          NaN   \n",
       "218920                                   NaN                          NaN   \n",
       "218921                                   NaN                          NaN   \n",
       "218922                                   NaN                          NaN   \n",
       "218923                                   NaN                          NaN   \n",
       "218924                                   NaN                          NaN   \n",
       "218925                                   NaN                          NaN   \n",
       "218926                                   NaN                          NaN   \n",
       "218927                                   NaN                          NaN   \n",
       "218928                                   NaN                          NaN   \n",
       "218929                                   NaN                          NaN   \n",
       "218930                                   NaN                          NaN   \n",
       "218931                                   NaN                          NaN   \n",
       "218932                                   NaN                          NaN   \n",
       "218933                                   NaN                          NaN   \n",
       "218934                                   NaN                          NaN   \n",
       "218935                                   NaN                          NaN   \n",
       "218936                                   NaN                          NaN   \n",
       "218937                                   NaN                          NaN   \n",
       "218938                                   NaN                          NaN   \n",
       "218939                                   NaN                          NaN   \n",
       "218940                                   NaN                          NaN   \n",
       "218941                                   NaN                          NaN   \n",
       "218942                                   NaN                          NaN   \n",
       "218943                                   NaN                          NaN   \n",
       "\n",
       "        excess_mortality  excess_mortality_cumulative_per_million  \n",
       "0                    NaN                                      NaN  \n",
       "1                    NaN                                      NaN  \n",
       "2                    NaN                                      NaN  \n",
       "3                    NaN                                      NaN  \n",
       "4                    NaN                                      NaN  \n",
       "5                    NaN                                      NaN  \n",
       "6                    NaN                                      NaN  \n",
       "7                    NaN                                      NaN  \n",
       "8                    NaN                                      NaN  \n",
       "9                    NaN                                      NaN  \n",
       "10                   NaN                                      NaN  \n",
       "11                   NaN                                      NaN  \n",
       "12                   NaN                                      NaN  \n",
       "13                   NaN                                      NaN  \n",
       "14                   NaN                                      NaN  \n",
       "15                   NaN                                      NaN  \n",
       "16                   NaN                                      NaN  \n",
       "17                   NaN                                      NaN  \n",
       "18                   NaN                                      NaN  \n",
       "19                   NaN                                      NaN  \n",
       "20                   NaN                                      NaN  \n",
       "21                   NaN                                      NaN  \n",
       "22                   NaN                                      NaN  \n",
       "23                   NaN                                      NaN  \n",
       "24                   NaN                                      NaN  \n",
       "25                   NaN                                      NaN  \n",
       "26                   NaN                                      NaN  \n",
       "27                   NaN                                      NaN  \n",
       "28                   NaN                                      NaN  \n",
       "29                   NaN                                      NaN  \n",
       "...                  ...                                      ...  \n",
       "218914               NaN                                      NaN  \n",
       "218915               NaN                                      NaN  \n",
       "218916               NaN                                      NaN  \n",
       "218917               NaN                                      NaN  \n",
       "218918               NaN                                      NaN  \n",
       "218919               NaN                                      NaN  \n",
       "218920               NaN                                      NaN  \n",
       "218921               NaN                                      NaN  \n",
       "218922               NaN                                      NaN  \n",
       "218923               NaN                                      NaN  \n",
       "218924               NaN                                      NaN  \n",
       "218925               NaN                                      NaN  \n",
       "218926               NaN                                      NaN  \n",
       "218927               NaN                                      NaN  \n",
       "218928               NaN                                      NaN  \n",
       "218929               NaN                                      NaN  \n",
       "218930               NaN                                      NaN  \n",
       "218931               NaN                                      NaN  \n",
       "218932               NaN                                      NaN  \n",
       "218933               NaN                                      NaN  \n",
       "218934               NaN                                      NaN  \n",
       "218935               NaN                                      NaN  \n",
       "218936               NaN                                      NaN  \n",
       "218937               NaN                                      NaN  \n",
       "218938               NaN                                      NaN  \n",
       "218939               NaN                                      NaN  \n",
       "218940               NaN                                      NaN  \n",
       "218941               NaN                                      NaN  \n",
       "218942               NaN                                      NaN  \n",
       "218943               NaN                                      NaN  \n",
       "\n",
       "[218944 rows x 67 columns]"
      ]
     },
     "execution_count": 7,
     "metadata": {},
     "output_type": "execute_result"
    }
   ],
   "source": [
    "DFnew"
   ]
  },
  {
   "cell_type": "code",
   "execution_count": null,
   "metadata": {},
   "outputs": [],
   "source": []
  },
  {
   "cell_type": "markdown",
   "metadata": {},
   "source": [
    "# 2. Brief browsing the content and some statistics about the data\n",
    "------\n",
    "1. how big is the dataset?\n",
    "- value ranges for each column\n",
    "- Is there any missing value?\n",
    "- how many different locations?\n",
    "- what is the last day of the record?"
   ]
  },
  {
   "cell_type": "markdown",
   "metadata": {},
   "source": [
    "## 2.1 how big is the dataset\n"
   ]
  },
  {
   "cell_type": "code",
   "execution_count": 8,
   "metadata": {
    "scrolled": true
   },
   "outputs": [
    {
     "name": "stdout",
     "output_type": "stream",
     "text": [
      "-rw-r--r--@ 1 nengkuantu  staff  27633308 Jul 23  2021 /Users/nengkuantu/Downloads/owid-covid-data (1).csv\r\n",
      "-rw-r--r--@ 1 nengkuantu  staff  62050288 Sep 25 14:10 /Users/nengkuantu/Downloads/owid-covid-data.csv\r\n"
     ]
    }
   ],
   "source": [
    "! ls -l  ~/Downloads/owid-covid*.csv"
   ]
  },
  {
   "cell_type": "code",
   "execution_count": 9,
   "metadata": {},
   "outputs": [
    {
     "data": {
      "text/plain": [
       "(218944, 67)"
      ]
     },
     "execution_count": 9,
     "metadata": {},
     "output_type": "execute_result"
    }
   ],
   "source": [
    "DFnew.shape"
   ]
  },
  {
   "cell_type": "markdown",
   "metadata": {},
   "source": [
    "## 2.2 value ranges for each column"
   ]
  },
  {
   "cell_type": "code",
   "execution_count": 10,
   "metadata": {},
   "outputs": [
    {
     "data": {
      "text/html": [
       "<div>\n",
       "<style scoped>\n",
       "    .dataframe tbody tr th:only-of-type {\n",
       "        vertical-align: middle;\n",
       "    }\n",
       "\n",
       "    .dataframe tbody tr th {\n",
       "        vertical-align: top;\n",
       "    }\n",
       "\n",
       "    .dataframe thead th {\n",
       "        text-align: right;\n",
       "    }\n",
       "</style>\n",
       "<table border=\"1\" class=\"dataframe\">\n",
       "  <thead>\n",
       "    <tr style=\"text-align: right;\">\n",
       "      <th></th>\n",
       "      <th>iso_code</th>\n",
       "      <th>continent</th>\n",
       "      <th>location</th>\n",
       "      <th>date</th>\n",
       "      <th>total_cases</th>\n",
       "      <th>new_cases</th>\n",
       "      <th>new_cases_smoothed</th>\n",
       "      <th>total_deaths</th>\n",
       "      <th>new_deaths</th>\n",
       "      <th>new_deaths_smoothed</th>\n",
       "      <th>...</th>\n",
       "      <th>female_smokers</th>\n",
       "      <th>male_smokers</th>\n",
       "      <th>handwashing_facilities</th>\n",
       "      <th>hospital_beds_per_thousand</th>\n",
       "      <th>life_expectancy</th>\n",
       "      <th>human_development_index</th>\n",
       "      <th>excess_mortality_cumulative_absolute</th>\n",
       "      <th>excess_mortality_cumulative</th>\n",
       "      <th>excess_mortality</th>\n",
       "      <th>excess_mortality_cumulative_per_million</th>\n",
       "    </tr>\n",
       "  </thead>\n",
       "  <tbody>\n",
       "    <tr>\n",
       "      <th>40257</th>\n",
       "      <td>CHN</td>\n",
       "      <td>Asia</td>\n",
       "      <td>China</td>\n",
       "      <td>2020-01-22</td>\n",
       "      <td>547.0</td>\n",
       "      <td>NaN</td>\n",
       "      <td>NaN</td>\n",
       "      <td>17.0</td>\n",
       "      <td>NaN</td>\n",
       "      <td>NaN</td>\n",
       "      <td>...</td>\n",
       "      <td>1.9</td>\n",
       "      <td>48.4</td>\n",
       "      <td>NaN</td>\n",
       "      <td>4.34</td>\n",
       "      <td>76.91</td>\n",
       "      <td>0.761</td>\n",
       "      <td>NaN</td>\n",
       "      <td>NaN</td>\n",
       "      <td>NaN</td>\n",
       "      <td>NaN</td>\n",
       "    </tr>\n",
       "    <tr>\n",
       "      <th>40258</th>\n",
       "      <td>CHN</td>\n",
       "      <td>Asia</td>\n",
       "      <td>China</td>\n",
       "      <td>2020-01-23</td>\n",
       "      <td>639.0</td>\n",
       "      <td>92.0</td>\n",
       "      <td>NaN</td>\n",
       "      <td>18.0</td>\n",
       "      <td>1.0</td>\n",
       "      <td>NaN</td>\n",
       "      <td>...</td>\n",
       "      <td>1.9</td>\n",
       "      <td>48.4</td>\n",
       "      <td>NaN</td>\n",
       "      <td>4.34</td>\n",
       "      <td>76.91</td>\n",
       "      <td>0.761</td>\n",
       "      <td>NaN</td>\n",
       "      <td>NaN</td>\n",
       "      <td>NaN</td>\n",
       "      <td>NaN</td>\n",
       "    </tr>\n",
       "    <tr>\n",
       "      <th>40259</th>\n",
       "      <td>CHN</td>\n",
       "      <td>Asia</td>\n",
       "      <td>China</td>\n",
       "      <td>2020-01-24</td>\n",
       "      <td>916.0</td>\n",
       "      <td>277.0</td>\n",
       "      <td>NaN</td>\n",
       "      <td>26.0</td>\n",
       "      <td>8.0</td>\n",
       "      <td>NaN</td>\n",
       "      <td>...</td>\n",
       "      <td>1.9</td>\n",
       "      <td>48.4</td>\n",
       "      <td>NaN</td>\n",
       "      <td>4.34</td>\n",
       "      <td>76.91</td>\n",
       "      <td>0.761</td>\n",
       "      <td>NaN</td>\n",
       "      <td>NaN</td>\n",
       "      <td>NaN</td>\n",
       "      <td>NaN</td>\n",
       "    </tr>\n",
       "    <tr>\n",
       "      <th>40260</th>\n",
       "      <td>CHN</td>\n",
       "      <td>Asia</td>\n",
       "      <td>China</td>\n",
       "      <td>2020-01-25</td>\n",
       "      <td>1399.0</td>\n",
       "      <td>483.0</td>\n",
       "      <td>NaN</td>\n",
       "      <td>42.0</td>\n",
       "      <td>16.0</td>\n",
       "      <td>NaN</td>\n",
       "      <td>...</td>\n",
       "      <td>1.9</td>\n",
       "      <td>48.4</td>\n",
       "      <td>NaN</td>\n",
       "      <td>4.34</td>\n",
       "      <td>76.91</td>\n",
       "      <td>0.761</td>\n",
       "      <td>NaN</td>\n",
       "      <td>NaN</td>\n",
       "      <td>NaN</td>\n",
       "      <td>NaN</td>\n",
       "    </tr>\n",
       "    <tr>\n",
       "      <th>40261</th>\n",
       "      <td>CHN</td>\n",
       "      <td>Asia</td>\n",
       "      <td>China</td>\n",
       "      <td>2020-01-26</td>\n",
       "      <td>2062.0</td>\n",
       "      <td>663.0</td>\n",
       "      <td>NaN</td>\n",
       "      <td>56.0</td>\n",
       "      <td>14.0</td>\n",
       "      <td>NaN</td>\n",
       "      <td>...</td>\n",
       "      <td>1.9</td>\n",
       "      <td>48.4</td>\n",
       "      <td>NaN</td>\n",
       "      <td>4.34</td>\n",
       "      <td>76.91</td>\n",
       "      <td>0.761</td>\n",
       "      <td>NaN</td>\n",
       "      <td>NaN</td>\n",
       "      <td>NaN</td>\n",
       "      <td>NaN</td>\n",
       "    </tr>\n",
       "  </tbody>\n",
       "</table>\n",
       "<p>5 rows × 67 columns</p>\n",
       "</div>"
      ],
      "text/plain": [
       "      iso_code continent location        date  total_cases  new_cases  \\\n",
       "40257      CHN      Asia    China  2020-01-22        547.0        NaN   \n",
       "40258      CHN      Asia    China  2020-01-23        639.0       92.0   \n",
       "40259      CHN      Asia    China  2020-01-24        916.0      277.0   \n",
       "40260      CHN      Asia    China  2020-01-25       1399.0      483.0   \n",
       "40261      CHN      Asia    China  2020-01-26       2062.0      663.0   \n",
       "\n",
       "       new_cases_smoothed  total_deaths  new_deaths  new_deaths_smoothed  ...  \\\n",
       "40257                 NaN          17.0         NaN                  NaN  ...   \n",
       "40258                 NaN          18.0         1.0                  NaN  ...   \n",
       "40259                 NaN          26.0         8.0                  NaN  ...   \n",
       "40260                 NaN          42.0        16.0                  NaN  ...   \n",
       "40261                 NaN          56.0        14.0                  NaN  ...   \n",
       "\n",
       "       female_smokers  male_smokers  handwashing_facilities  \\\n",
       "40257             1.9          48.4                     NaN   \n",
       "40258             1.9          48.4                     NaN   \n",
       "40259             1.9          48.4                     NaN   \n",
       "40260             1.9          48.4                     NaN   \n",
       "40261             1.9          48.4                     NaN   \n",
       "\n",
       "       hospital_beds_per_thousand  life_expectancy  human_development_index  \\\n",
       "40257                        4.34            76.91                    0.761   \n",
       "40258                        4.34            76.91                    0.761   \n",
       "40259                        4.34            76.91                    0.761   \n",
       "40260                        4.34            76.91                    0.761   \n",
       "40261                        4.34            76.91                    0.761   \n",
       "\n",
       "       excess_mortality_cumulative_absolute  excess_mortality_cumulative  \\\n",
       "40257                                   NaN                          NaN   \n",
       "40258                                   NaN                          NaN   \n",
       "40259                                   NaN                          NaN   \n",
       "40260                                   NaN                          NaN   \n",
       "40261                                   NaN                          NaN   \n",
       "\n",
       "       excess_mortality  excess_mortality_cumulative_per_million  \n",
       "40257               NaN                                      NaN  \n",
       "40258               NaN                                      NaN  \n",
       "40259               NaN                                      NaN  \n",
       "40260               NaN                                      NaN  \n",
       "40261               NaN                                      NaN  \n",
       "\n",
       "[5 rows x 67 columns]"
      ]
     },
     "execution_count": 10,
     "metadata": {},
     "output_type": "execute_result"
    }
   ],
   "source": [
    "DFnew[DFnew.location == 'China'].head()"
   ]
  },
  {
   "cell_type": "code",
   "execution_count": 11,
   "metadata": {
    "scrolled": true
   },
   "outputs": [
    {
     "data": {
      "text/html": [
       "<div>\n",
       "<style scoped>\n",
       "    .dataframe tbody tr th:only-of-type {\n",
       "        vertical-align: middle;\n",
       "    }\n",
       "\n",
       "    .dataframe tbody tr th {\n",
       "        vertical-align: top;\n",
       "    }\n",
       "\n",
       "    .dataframe thead th {\n",
       "        text-align: right;\n",
       "    }\n",
       "</style>\n",
       "<table border=\"1\" class=\"dataframe\">\n",
       "  <thead>\n",
       "    <tr style=\"text-align: right;\">\n",
       "      <th></th>\n",
       "      <th>total_cases</th>\n",
       "      <th>new_cases</th>\n",
       "      <th>new_cases_smoothed</th>\n",
       "      <th>total_deaths</th>\n",
       "      <th>new_deaths</th>\n",
       "      <th>new_deaths_smoothed</th>\n",
       "      <th>total_cases_per_million</th>\n",
       "      <th>new_cases_per_million</th>\n",
       "      <th>new_cases_smoothed_per_million</th>\n",
       "      <th>total_deaths_per_million</th>\n",
       "      <th>...</th>\n",
       "      <th>female_smokers</th>\n",
       "      <th>male_smokers</th>\n",
       "      <th>handwashing_facilities</th>\n",
       "      <th>hospital_beds_per_thousand</th>\n",
       "      <th>life_expectancy</th>\n",
       "      <th>human_development_index</th>\n",
       "      <th>excess_mortality_cumulative_absolute</th>\n",
       "      <th>excess_mortality_cumulative</th>\n",
       "      <th>excess_mortality</th>\n",
       "      <th>excess_mortality_cumulative_per_million</th>\n",
       "    </tr>\n",
       "  </thead>\n",
       "  <tbody>\n",
       "    <tr>\n",
       "      <th>count</th>\n",
       "      <td>2.099910e+05</td>\n",
       "      <td>2.097250e+05</td>\n",
       "      <td>2.085290e+05</td>\n",
       "      <td>1.909110e+05</td>\n",
       "      <td>190841.000000</td>\n",
       "      <td>189661.000000</td>\n",
       "      <td>209030.000000</td>\n",
       "      <td>208764.000000</td>\n",
       "      <td>207573.000000</td>\n",
       "      <td>189963.000000</td>\n",
       "      <td>...</td>\n",
       "      <td>135914.000000</td>\n",
       "      <td>134053.000000</td>\n",
       "      <td>88212.000000</td>\n",
       "      <td>159626.000000</td>\n",
       "      <td>204554.000000</td>\n",
       "      <td>174960.000000</td>\n",
       "      <td>7.271000e+03</td>\n",
       "      <td>7271.000000</td>\n",
       "      <td>7316.000000</td>\n",
       "      <td>7271.000000</td>\n",
       "    </tr>\n",
       "    <tr>\n",
       "      <th>mean</th>\n",
       "      <td>4.208594e+06</td>\n",
       "      <td>1.249183e+04</td>\n",
       "      <td>1.253065e+04</td>\n",
       "      <td>7.236159e+04</td>\n",
       "      <td>142.213235</td>\n",
       "      <td>142.945373</td>\n",
       "      <td>56472.447693</td>\n",
       "      <td>189.213773</td>\n",
       "      <td>189.730236</td>\n",
       "      <td>672.340212</td>\n",
       "      <td>...</td>\n",
       "      <td>10.672860</td>\n",
       "      <td>32.807303</td>\n",
       "      <td>50.844391</td>\n",
       "      <td>3.084572</td>\n",
       "      <td>73.628685</td>\n",
       "      <td>0.724873</td>\n",
       "      <td>4.665339e+04</td>\n",
       "      <td>9.763841</td>\n",
       "      <td>14.545178</td>\n",
       "      <td>1283.087107</td>\n",
       "    </tr>\n",
       "    <tr>\n",
       "      <th>std</th>\n",
       "      <td>2.638688e+07</td>\n",
       "      <td>8.618204e+04</td>\n",
       "      <td>8.428407e+04</td>\n",
       "      <td>3.730230e+05</td>\n",
       "      <td>741.635540</td>\n",
       "      <td>727.140728</td>\n",
       "      <td>101293.662906</td>\n",
       "      <td>976.936237</td>\n",
       "      <td>644.432030</td>\n",
       "      <td>959.421551</td>\n",
       "      <td>...</td>\n",
       "      <td>10.622366</td>\n",
       "      <td>13.533751</td>\n",
       "      <td>31.840864</td>\n",
       "      <td>2.550096</td>\n",
       "      <td>7.447324</td>\n",
       "      <td>0.149692</td>\n",
       "      <td>1.300163e+05</td>\n",
       "      <td>13.688964</td>\n",
       "      <td>26.761036</td>\n",
       "      <td>1694.885257</td>\n",
       "    </tr>\n",
       "    <tr>\n",
       "      <th>min</th>\n",
       "      <td>1.000000e+00</td>\n",
       "      <td>0.000000e+00</td>\n",
       "      <td>0.000000e+00</td>\n",
       "      <td>1.000000e+00</td>\n",
       "      <td>0.000000</td>\n",
       "      <td>0.000000</td>\n",
       "      <td>0.001000</td>\n",
       "      <td>0.000000</td>\n",
       "      <td>0.000000</td>\n",
       "      <td>0.000000</td>\n",
       "      <td>...</td>\n",
       "      <td>0.100000</td>\n",
       "      <td>7.700000</td>\n",
       "      <td>1.188000</td>\n",
       "      <td>0.100000</td>\n",
       "      <td>53.280000</td>\n",
       "      <td>0.394000</td>\n",
       "      <td>-3.772610e+04</td>\n",
       "      <td>-28.450000</td>\n",
       "      <td>-95.920000</td>\n",
       "      <td>-1884.678982</td>\n",
       "    </tr>\n",
       "    <tr>\n",
       "      <th>25%</th>\n",
       "      <td>3.978500e+03</td>\n",
       "      <td>0.000000e+00</td>\n",
       "      <td>6.429000e+00</td>\n",
       "      <td>1.090000e+02</td>\n",
       "      <td>0.000000</td>\n",
       "      <td>0.000000</td>\n",
       "      <td>1001.966250</td>\n",
       "      <td>0.000000</td>\n",
       "      <td>1.412000</td>\n",
       "      <td>28.421000</td>\n",
       "      <td>...</td>\n",
       "      <td>1.900000</td>\n",
       "      <td>21.600000</td>\n",
       "      <td>20.859000</td>\n",
       "      <td>1.300000</td>\n",
       "      <td>69.500000</td>\n",
       "      <td>0.602000</td>\n",
       "      <td>2.205000e+01</td>\n",
       "      <td>0.330000</td>\n",
       "      <td>-0.230000</td>\n",
       "      <td>14.670109</td>\n",
       "    </tr>\n",
       "    <tr>\n",
       "      <th>50%</th>\n",
       "      <td>4.608800e+04</td>\n",
       "      <td>5.800000e+01</td>\n",
       "      <td>9.757100e+01</td>\n",
       "      <td>1.118000e+03</td>\n",
       "      <td>1.000000</td>\n",
       "      <td>1.571000</td>\n",
       "      <td>9610.130500</td>\n",
       "      <td>8.234500</td>\n",
       "      <td>19.966000</td>\n",
       "      <td>202.448000</td>\n",
       "      <td>...</td>\n",
       "      <td>6.300000</td>\n",
       "      <td>31.400000</td>\n",
       "      <td>49.839000</td>\n",
       "      <td>2.500000</td>\n",
       "      <td>75.050000</td>\n",
       "      <td>0.743000</td>\n",
       "      <td>5.511300e+03</td>\n",
       "      <td>7.230000</td>\n",
       "      <td>7.325000</td>\n",
       "      <td>741.055294</td>\n",
       "    </tr>\n",
       "    <tr>\n",
       "      <th>75%</th>\n",
       "      <td>4.988990e+05</td>\n",
       "      <td>9.830000e+02</td>\n",
       "      <td>1.146000e+03</td>\n",
       "      <td>9.486500e+03</td>\n",
       "      <td>15.000000</td>\n",
       "      <td>16.429000</td>\n",
       "      <td>68031.223000</td>\n",
       "      <td>99.883750</td>\n",
       "      <td>136.870000</td>\n",
       "      <td>993.350000</td>\n",
       "      <td>...</td>\n",
       "      <td>19.300000</td>\n",
       "      <td>41.300000</td>\n",
       "      <td>82.502000</td>\n",
       "      <td>4.200000</td>\n",
       "      <td>79.070000</td>\n",
       "      <td>0.845000</td>\n",
       "      <td>3.296970e+04</td>\n",
       "      <td>15.370000</td>\n",
       "      <td>20.290000</td>\n",
       "      <td>1996.448440</td>\n",
       "    </tr>\n",
       "    <tr>\n",
       "      <th>max</th>\n",
       "      <td>6.147766e+08</td>\n",
       "      <td>4.081625e+06</td>\n",
       "      <td>3.436127e+06</td>\n",
       "      <td>6.536187e+06</td>\n",
       "      <td>17737.000000</td>\n",
       "      <td>14858.143000</td>\n",
       "      <td>655309.333000</td>\n",
       "      <td>195005.313000</td>\n",
       "      <td>35258.843000</td>\n",
       "      <td>6420.583000</td>\n",
       "      <td>...</td>\n",
       "      <td>44.000000</td>\n",
       "      <td>78.100000</td>\n",
       "      <td>100.000000</td>\n",
       "      <td>13.800000</td>\n",
       "      <td>86.750000</td>\n",
       "      <td>0.957000</td>\n",
       "      <td>1.220577e+06</td>\n",
       "      <td>76.550000</td>\n",
       "      <td>376.180000</td>\n",
       "      <td>9766.306877</td>\n",
       "    </tr>\n",
       "  </tbody>\n",
       "</table>\n",
       "<p>8 rows × 62 columns</p>\n",
       "</div>"
      ],
      "text/plain": [
       "        total_cases     new_cases  new_cases_smoothed  total_deaths  \\\n",
       "count  2.099910e+05  2.097250e+05        2.085290e+05  1.909110e+05   \n",
       "mean   4.208594e+06  1.249183e+04        1.253065e+04  7.236159e+04   \n",
       "std    2.638688e+07  8.618204e+04        8.428407e+04  3.730230e+05   \n",
       "min    1.000000e+00  0.000000e+00        0.000000e+00  1.000000e+00   \n",
       "25%    3.978500e+03  0.000000e+00        6.429000e+00  1.090000e+02   \n",
       "50%    4.608800e+04  5.800000e+01        9.757100e+01  1.118000e+03   \n",
       "75%    4.988990e+05  9.830000e+02        1.146000e+03  9.486500e+03   \n",
       "max    6.147766e+08  4.081625e+06        3.436127e+06  6.536187e+06   \n",
       "\n",
       "          new_deaths  new_deaths_smoothed  total_cases_per_million  \\\n",
       "count  190841.000000        189661.000000            209030.000000   \n",
       "mean      142.213235           142.945373             56472.447693   \n",
       "std       741.635540           727.140728            101293.662906   \n",
       "min         0.000000             0.000000                 0.001000   \n",
       "25%         0.000000             0.000000              1001.966250   \n",
       "50%         1.000000             1.571000              9610.130500   \n",
       "75%        15.000000            16.429000             68031.223000   \n",
       "max     17737.000000         14858.143000            655309.333000   \n",
       "\n",
       "       new_cases_per_million  new_cases_smoothed_per_million  \\\n",
       "count          208764.000000                   207573.000000   \n",
       "mean              189.213773                      189.730236   \n",
       "std               976.936237                      644.432030   \n",
       "min                 0.000000                        0.000000   \n",
       "25%                 0.000000                        1.412000   \n",
       "50%                 8.234500                       19.966000   \n",
       "75%                99.883750                      136.870000   \n",
       "max            195005.313000                    35258.843000   \n",
       "\n",
       "       total_deaths_per_million  ...  female_smokers   male_smokers  \\\n",
       "count             189963.000000  ...   135914.000000  134053.000000   \n",
       "mean                 672.340212  ...       10.672860      32.807303   \n",
       "std                  959.421551  ...       10.622366      13.533751   \n",
       "min                    0.000000  ...        0.100000       7.700000   \n",
       "25%                   28.421000  ...        1.900000      21.600000   \n",
       "50%                  202.448000  ...        6.300000      31.400000   \n",
       "75%                  993.350000  ...       19.300000      41.300000   \n",
       "max                 6420.583000  ...       44.000000      78.100000   \n",
       "\n",
       "       handwashing_facilities  hospital_beds_per_thousand  life_expectancy  \\\n",
       "count            88212.000000               159626.000000    204554.000000   \n",
       "mean                50.844391                    3.084572        73.628685   \n",
       "std                 31.840864                    2.550096         7.447324   \n",
       "min                  1.188000                    0.100000        53.280000   \n",
       "25%                 20.859000                    1.300000        69.500000   \n",
       "50%                 49.839000                    2.500000        75.050000   \n",
       "75%                 82.502000                    4.200000        79.070000   \n",
       "max                100.000000                   13.800000        86.750000   \n",
       "\n",
       "       human_development_index  excess_mortality_cumulative_absolute  \\\n",
       "count            174960.000000                          7.271000e+03   \n",
       "mean                  0.724873                          4.665339e+04   \n",
       "std                   0.149692                          1.300163e+05   \n",
       "min                   0.394000                         -3.772610e+04   \n",
       "25%                   0.602000                          2.205000e+01   \n",
       "50%                   0.743000                          5.511300e+03   \n",
       "75%                   0.845000                          3.296970e+04   \n",
       "max                   0.957000                          1.220577e+06   \n",
       "\n",
       "       excess_mortality_cumulative  excess_mortality  \\\n",
       "count                  7271.000000       7316.000000   \n",
       "mean                      9.763841         14.545178   \n",
       "std                      13.688964         26.761036   \n",
       "min                     -28.450000        -95.920000   \n",
       "25%                       0.330000         -0.230000   \n",
       "50%                       7.230000          7.325000   \n",
       "75%                      15.370000         20.290000   \n",
       "max                      76.550000        376.180000   \n",
       "\n",
       "       excess_mortality_cumulative_per_million  \n",
       "count                              7271.000000  \n",
       "mean                               1283.087107  \n",
       "std                                1694.885257  \n",
       "min                               -1884.678982  \n",
       "25%                                  14.670109  \n",
       "50%                                 741.055294  \n",
       "75%                                1996.448440  \n",
       "max                                9766.306877  \n",
       "\n",
       "[8 rows x 62 columns]"
      ]
     },
     "execution_count": 11,
     "metadata": {},
     "output_type": "execute_result"
    }
   ],
   "source": [
    "DFnew.describe()"
   ]
  },
  {
   "cell_type": "code",
   "execution_count": 12,
   "metadata": {},
   "outputs": [
    {
     "data": {
      "text/plain": [
       "pandas.core.frame.DataFrame"
      ]
     },
     "execution_count": 12,
     "metadata": {},
     "output_type": "execute_result"
    }
   ],
   "source": [
    "tmp = DFnew.describe()\n",
    "type(tmp)"
   ]
  },
  {
   "cell_type": "code",
   "execution_count": 13,
   "metadata": {},
   "outputs": [
    {
     "data": {
      "text/plain": [
       "(8, 62)"
      ]
     },
     "execution_count": 13,
     "metadata": {},
     "output_type": "execute_result"
    }
   ],
   "source": [
    "tmp.shape"
   ]
  },
  {
   "cell_type": "code",
   "execution_count": 14,
   "metadata": {},
   "outputs": [
    {
     "data": {
      "text/plain": [
       "(218944, 67)"
      ]
     },
     "execution_count": 14,
     "metadata": {},
     "output_type": "execute_result"
    }
   ],
   "source": [
    "DFnew.shape"
   ]
  },
  {
   "cell_type": "markdown",
   "metadata": {},
   "source": [
    "## 2.3 Is there any missing value?"
   ]
  },
  {
   "cell_type": "code",
   "execution_count": 15,
   "metadata": {},
   "outputs": [
    {
     "data": {
      "text/plain": [
       "6600233"
      ]
     },
     "execution_count": 15,
     "metadata": {},
     "output_type": "execute_result"
    }
   ],
   "source": [
    "DFnew.isnull().sum().sum()"
   ]
  },
  {
   "cell_type": "markdown",
   "metadata": {},
   "source": [
    "## 2.4 how many different locations?"
   ]
  },
  {
   "cell_type": "code",
   "execution_count": 16,
   "metadata": {},
   "outputs": [
    {
     "data": {
      "text/plain": [
       "244"
      ]
     },
     "execution_count": 16,
     "metadata": {},
     "output_type": "execute_result"
    }
   ],
   "source": [
    "len(set(DFnew.location))"
   ]
  },
  {
   "cell_type": "code",
   "execution_count": 17,
   "metadata": {},
   "outputs": [
    {
     "data": {
      "text/plain": [
       "218944"
      ]
     },
     "execution_count": 17,
     "metadata": {},
     "output_type": "execute_result"
    }
   ],
   "source": [
    "len(DFnew)"
   ]
  },
  {
   "cell_type": "code",
   "execution_count": 18,
   "metadata": {},
   "outputs": [
    {
     "data": {
      "text/plain": [
       "(218944, 67)"
      ]
     },
     "execution_count": 18,
     "metadata": {},
     "output_type": "execute_result"
    }
   ],
   "source": [
    "DFnew.shape"
   ]
  },
  {
   "cell_type": "code",
   "execution_count": 19,
   "metadata": {},
   "outputs": [
    {
     "data": {
      "text/plain": [
       "6"
      ]
     },
     "execution_count": 19,
     "metadata": {},
     "output_type": "execute_result"
    }
   ],
   "source": [
    "tmplist = [ [1,2,3], [4,5], [6,7,8], 9, 'mystring 1', DFnew]\n",
    "len(tmplist)"
   ]
  },
  {
   "cell_type": "code",
   "execution_count": 20,
   "metadata": {},
   "outputs": [
    {
     "data": {
      "text/plain": [
       "16"
      ]
     },
     "execution_count": 20,
     "metadata": {},
     "output_type": "execute_result"
    }
   ],
   "source": [
    "len('mystring 1, 2, 3')"
   ]
  },
  {
   "cell_type": "code",
   "execution_count": 21,
   "metadata": {},
   "outputs": [
    {
     "data": {
      "text/plain": [
       "1"
      ]
     },
     "execution_count": 21,
     "metadata": {},
     "output_type": "execute_result"
    }
   ],
   "source": [
    "len(['mystring 1, 2, 3'])"
   ]
  },
  {
   "cell_type": "markdown",
   "metadata": {},
   "source": [
    "## 2.5 what is the last day of the record?"
   ]
  },
  {
   "cell_type": "code",
   "execution_count": 22,
   "metadata": {
    "scrolled": true
   },
   "outputs": [
    {
     "data": {
      "text/html": [
       "<div>\n",
       "<style scoped>\n",
       "    .dataframe tbody tr th:only-of-type {\n",
       "        vertical-align: middle;\n",
       "    }\n",
       "\n",
       "    .dataframe tbody tr th {\n",
       "        vertical-align: top;\n",
       "    }\n",
       "\n",
       "    .dataframe thead th {\n",
       "        text-align: right;\n",
       "    }\n",
       "</style>\n",
       "<table border=\"1\" class=\"dataframe\">\n",
       "  <thead>\n",
       "    <tr style=\"text-align: right;\">\n",
       "      <th></th>\n",
       "      <th>iso_code</th>\n",
       "      <th>continent</th>\n",
       "      <th>location</th>\n",
       "      <th>date</th>\n",
       "      <th>total_cases</th>\n",
       "      <th>new_cases</th>\n",
       "      <th>new_cases_smoothed</th>\n",
       "      <th>total_deaths</th>\n",
       "      <th>new_deaths</th>\n",
       "      <th>new_deaths_smoothed</th>\n",
       "      <th>...</th>\n",
       "      <th>female_smokers</th>\n",
       "      <th>male_smokers</th>\n",
       "      <th>handwashing_facilities</th>\n",
       "      <th>hospital_beds_per_thousand</th>\n",
       "      <th>life_expectancy</th>\n",
       "      <th>human_development_index</th>\n",
       "      <th>excess_mortality_cumulative_absolute</th>\n",
       "      <th>excess_mortality_cumulative</th>\n",
       "      <th>excess_mortality</th>\n",
       "      <th>excess_mortality_cumulative_per_million</th>\n",
       "    </tr>\n",
       "  </thead>\n",
       "  <tbody>\n",
       "    <tr>\n",
       "      <th>0</th>\n",
       "      <td>AFG</td>\n",
       "      <td>Asia</td>\n",
       "      <td>Afghanistan</td>\n",
       "      <td>2020-02-24</td>\n",
       "      <td>5.0</td>\n",
       "      <td>5.0</td>\n",
       "      <td>NaN</td>\n",
       "      <td>NaN</td>\n",
       "      <td>NaN</td>\n",
       "      <td>NaN</td>\n",
       "      <td>...</td>\n",
       "      <td>NaN</td>\n",
       "      <td>NaN</td>\n",
       "      <td>37.746</td>\n",
       "      <td>0.5</td>\n",
       "      <td>64.83</td>\n",
       "      <td>0.511</td>\n",
       "      <td>NaN</td>\n",
       "      <td>NaN</td>\n",
       "      <td>NaN</td>\n",
       "      <td>NaN</td>\n",
       "    </tr>\n",
       "    <tr>\n",
       "      <th>1</th>\n",
       "      <td>AFG</td>\n",
       "      <td>Asia</td>\n",
       "      <td>Afghanistan</td>\n",
       "      <td>2020-02-25</td>\n",
       "      <td>5.0</td>\n",
       "      <td>0.0</td>\n",
       "      <td>NaN</td>\n",
       "      <td>NaN</td>\n",
       "      <td>NaN</td>\n",
       "      <td>NaN</td>\n",
       "      <td>...</td>\n",
       "      <td>NaN</td>\n",
       "      <td>NaN</td>\n",
       "      <td>37.746</td>\n",
       "      <td>0.5</td>\n",
       "      <td>64.83</td>\n",
       "      <td>0.511</td>\n",
       "      <td>NaN</td>\n",
       "      <td>NaN</td>\n",
       "      <td>NaN</td>\n",
       "      <td>NaN</td>\n",
       "    </tr>\n",
       "    <tr>\n",
       "      <th>2</th>\n",
       "      <td>AFG</td>\n",
       "      <td>Asia</td>\n",
       "      <td>Afghanistan</td>\n",
       "      <td>2020-02-26</td>\n",
       "      <td>5.0</td>\n",
       "      <td>0.0</td>\n",
       "      <td>NaN</td>\n",
       "      <td>NaN</td>\n",
       "      <td>NaN</td>\n",
       "      <td>NaN</td>\n",
       "      <td>...</td>\n",
       "      <td>NaN</td>\n",
       "      <td>NaN</td>\n",
       "      <td>37.746</td>\n",
       "      <td>0.5</td>\n",
       "      <td>64.83</td>\n",
       "      <td>0.511</td>\n",
       "      <td>NaN</td>\n",
       "      <td>NaN</td>\n",
       "      <td>NaN</td>\n",
       "      <td>NaN</td>\n",
       "    </tr>\n",
       "    <tr>\n",
       "      <th>3</th>\n",
       "      <td>AFG</td>\n",
       "      <td>Asia</td>\n",
       "      <td>Afghanistan</td>\n",
       "      <td>2020-02-27</td>\n",
       "      <td>5.0</td>\n",
       "      <td>0.0</td>\n",
       "      <td>NaN</td>\n",
       "      <td>NaN</td>\n",
       "      <td>NaN</td>\n",
       "      <td>NaN</td>\n",
       "      <td>...</td>\n",
       "      <td>NaN</td>\n",
       "      <td>NaN</td>\n",
       "      <td>37.746</td>\n",
       "      <td>0.5</td>\n",
       "      <td>64.83</td>\n",
       "      <td>0.511</td>\n",
       "      <td>NaN</td>\n",
       "      <td>NaN</td>\n",
       "      <td>NaN</td>\n",
       "      <td>NaN</td>\n",
       "    </tr>\n",
       "    <tr>\n",
       "      <th>4</th>\n",
       "      <td>AFG</td>\n",
       "      <td>Asia</td>\n",
       "      <td>Afghanistan</td>\n",
       "      <td>2020-02-28</td>\n",
       "      <td>5.0</td>\n",
       "      <td>0.0</td>\n",
       "      <td>NaN</td>\n",
       "      <td>NaN</td>\n",
       "      <td>NaN</td>\n",
       "      <td>NaN</td>\n",
       "      <td>...</td>\n",
       "      <td>NaN</td>\n",
       "      <td>NaN</td>\n",
       "      <td>37.746</td>\n",
       "      <td>0.5</td>\n",
       "      <td>64.83</td>\n",
       "      <td>0.511</td>\n",
       "      <td>NaN</td>\n",
       "      <td>NaN</td>\n",
       "      <td>NaN</td>\n",
       "      <td>NaN</td>\n",
       "    </tr>\n",
       "  </tbody>\n",
       "</table>\n",
       "<p>5 rows × 67 columns</p>\n",
       "</div>"
      ],
      "text/plain": [
       "  iso_code continent     location        date  total_cases  new_cases  \\\n",
       "0      AFG      Asia  Afghanistan  2020-02-24          5.0        5.0   \n",
       "1      AFG      Asia  Afghanistan  2020-02-25          5.0        0.0   \n",
       "2      AFG      Asia  Afghanistan  2020-02-26          5.0        0.0   \n",
       "3      AFG      Asia  Afghanistan  2020-02-27          5.0        0.0   \n",
       "4      AFG      Asia  Afghanistan  2020-02-28          5.0        0.0   \n",
       "\n",
       "   new_cases_smoothed  total_deaths  new_deaths  new_deaths_smoothed  ...  \\\n",
       "0                 NaN           NaN         NaN                  NaN  ...   \n",
       "1                 NaN           NaN         NaN                  NaN  ...   \n",
       "2                 NaN           NaN         NaN                  NaN  ...   \n",
       "3                 NaN           NaN         NaN                  NaN  ...   \n",
       "4                 NaN           NaN         NaN                  NaN  ...   \n",
       "\n",
       "   female_smokers  male_smokers  handwashing_facilities  \\\n",
       "0             NaN           NaN                  37.746   \n",
       "1             NaN           NaN                  37.746   \n",
       "2             NaN           NaN                  37.746   \n",
       "3             NaN           NaN                  37.746   \n",
       "4             NaN           NaN                  37.746   \n",
       "\n",
       "   hospital_beds_per_thousand  life_expectancy  human_development_index  \\\n",
       "0                         0.5            64.83                    0.511   \n",
       "1                         0.5            64.83                    0.511   \n",
       "2                         0.5            64.83                    0.511   \n",
       "3                         0.5            64.83                    0.511   \n",
       "4                         0.5            64.83                    0.511   \n",
       "\n",
       "   excess_mortality_cumulative_absolute  excess_mortality_cumulative  \\\n",
       "0                                   NaN                          NaN   \n",
       "1                                   NaN                          NaN   \n",
       "2                                   NaN                          NaN   \n",
       "3                                   NaN                          NaN   \n",
       "4                                   NaN                          NaN   \n",
       "\n",
       "   excess_mortality  excess_mortality_cumulative_per_million  \n",
       "0               NaN                                      NaN  \n",
       "1               NaN                                      NaN  \n",
       "2               NaN                                      NaN  \n",
       "3               NaN                                      NaN  \n",
       "4               NaN                                      NaN  \n",
       "\n",
       "[5 rows x 67 columns]"
      ]
     },
     "execution_count": 22,
     "metadata": {},
     "output_type": "execute_result"
    }
   ],
   "source": [
    "DFnew.head()"
   ]
  },
  {
   "cell_type": "code",
   "execution_count": 23,
   "metadata": {},
   "outputs": [
    {
     "data": {
      "text/plain": [
       "'2022-09-24'"
      ]
     },
     "execution_count": 23,
     "metadata": {},
     "output_type": "execute_result"
    }
   ],
   "source": [
    "max(DFnew.date)"
   ]
  },
  {
   "cell_type": "code",
   "execution_count": 24,
   "metadata": {},
   "outputs": [
    {
     "data": {
      "text/plain": [
       "'2022-09-24'"
      ]
     },
     "execution_count": 24,
     "metadata": {},
     "output_type": "execute_result"
    }
   ],
   "source": [
    "DFnew.date.max()"
   ]
  },
  {
   "cell_type": "code",
   "execution_count": 25,
   "metadata": {},
   "outputs": [
    {
     "data": {
      "text/plain": [
       "pandas.core.series.Series"
      ]
     },
     "execution_count": 25,
     "metadata": {},
     "output_type": "execute_result"
    }
   ],
   "source": [
    "type(DFnew.date)"
   ]
  },
  {
   "cell_type": "code",
   "execution_count": 26,
   "metadata": {
    "scrolled": true
   },
   "outputs": [
    {
     "data": {
      "text/plain": [
       "(218944,)"
      ]
     },
     "execution_count": 26,
     "metadata": {},
     "output_type": "execute_result"
    }
   ],
   "source": [
    "DFnew.date.shape"
   ]
  },
  {
   "cell_type": "code",
   "execution_count": null,
   "metadata": {},
   "outputs": [],
   "source": []
  },
  {
   "cell_type": "markdown",
   "metadata": {},
   "source": [
    "## the above 2 max() are different methods.  One is system builtin, another is a method in pandas.core.series."
   ]
  },
  {
   "cell_type": "code",
   "execution_count": null,
   "metadata": {},
   "outputs": [],
   "source": []
  },
  {
   "cell_type": "code",
   "execution_count": null,
   "metadata": {},
   "outputs": [],
   "source": []
  },
  {
   "cell_type": "markdown",
   "metadata": {},
   "source": [
    "# 3. How to check the consistency of the number of missing values reported by different methods"
   ]
  },
  {
   "cell_type": "markdown",
   "metadata": {},
   "source": [
    "## 3.1 describe()"
   ]
  },
  {
   "cell_type": "code",
   "execution_count": 27,
   "metadata": {
    "scrolled": true
   },
   "outputs": [
    {
     "data": {
      "text/html": [
       "<div>\n",
       "<style scoped>\n",
       "    .dataframe tbody tr th:only-of-type {\n",
       "        vertical-align: middle;\n",
       "    }\n",
       "\n",
       "    .dataframe tbody tr th {\n",
       "        vertical-align: top;\n",
       "    }\n",
       "\n",
       "    .dataframe thead th {\n",
       "        text-align: right;\n",
       "    }\n",
       "</style>\n",
       "<table border=\"1\" class=\"dataframe\">\n",
       "  <thead>\n",
       "    <tr style=\"text-align: right;\">\n",
       "      <th></th>\n",
       "      <th>total_cases</th>\n",
       "      <th>new_cases</th>\n",
       "      <th>new_cases_smoothed</th>\n",
       "      <th>total_deaths</th>\n",
       "      <th>new_deaths</th>\n",
       "      <th>new_deaths_smoothed</th>\n",
       "      <th>total_cases_per_million</th>\n",
       "      <th>new_cases_per_million</th>\n",
       "      <th>new_cases_smoothed_per_million</th>\n",
       "      <th>total_deaths_per_million</th>\n",
       "      <th>...</th>\n",
       "      <th>female_smokers</th>\n",
       "      <th>male_smokers</th>\n",
       "      <th>handwashing_facilities</th>\n",
       "      <th>hospital_beds_per_thousand</th>\n",
       "      <th>life_expectancy</th>\n",
       "      <th>human_development_index</th>\n",
       "      <th>excess_mortality_cumulative_absolute</th>\n",
       "      <th>excess_mortality_cumulative</th>\n",
       "      <th>excess_mortality</th>\n",
       "      <th>excess_mortality_cumulative_per_million</th>\n",
       "    </tr>\n",
       "  </thead>\n",
       "  <tbody>\n",
       "    <tr>\n",
       "      <th>count</th>\n",
       "      <td>2.099910e+05</td>\n",
       "      <td>2.097250e+05</td>\n",
       "      <td>2.085290e+05</td>\n",
       "      <td>1.909110e+05</td>\n",
       "      <td>190841.000000</td>\n",
       "      <td>189661.000000</td>\n",
       "      <td>209030.000000</td>\n",
       "      <td>208764.000000</td>\n",
       "      <td>207573.000000</td>\n",
       "      <td>189963.000000</td>\n",
       "      <td>...</td>\n",
       "      <td>135914.000000</td>\n",
       "      <td>134053.000000</td>\n",
       "      <td>88212.000000</td>\n",
       "      <td>159626.000000</td>\n",
       "      <td>204554.000000</td>\n",
       "      <td>174960.000000</td>\n",
       "      <td>7.271000e+03</td>\n",
       "      <td>7271.000000</td>\n",
       "      <td>7316.000000</td>\n",
       "      <td>7271.000000</td>\n",
       "    </tr>\n",
       "    <tr>\n",
       "      <th>mean</th>\n",
       "      <td>4.208594e+06</td>\n",
       "      <td>1.249183e+04</td>\n",
       "      <td>1.253065e+04</td>\n",
       "      <td>7.236159e+04</td>\n",
       "      <td>142.213235</td>\n",
       "      <td>142.945373</td>\n",
       "      <td>56472.447693</td>\n",
       "      <td>189.213773</td>\n",
       "      <td>189.730236</td>\n",
       "      <td>672.340212</td>\n",
       "      <td>...</td>\n",
       "      <td>10.672860</td>\n",
       "      <td>32.807303</td>\n",
       "      <td>50.844391</td>\n",
       "      <td>3.084572</td>\n",
       "      <td>73.628685</td>\n",
       "      <td>0.724873</td>\n",
       "      <td>4.665339e+04</td>\n",
       "      <td>9.763841</td>\n",
       "      <td>14.545178</td>\n",
       "      <td>1283.087107</td>\n",
       "    </tr>\n",
       "    <tr>\n",
       "      <th>std</th>\n",
       "      <td>2.638688e+07</td>\n",
       "      <td>8.618204e+04</td>\n",
       "      <td>8.428407e+04</td>\n",
       "      <td>3.730230e+05</td>\n",
       "      <td>741.635540</td>\n",
       "      <td>727.140728</td>\n",
       "      <td>101293.662906</td>\n",
       "      <td>976.936237</td>\n",
       "      <td>644.432030</td>\n",
       "      <td>959.421551</td>\n",
       "      <td>...</td>\n",
       "      <td>10.622366</td>\n",
       "      <td>13.533751</td>\n",
       "      <td>31.840864</td>\n",
       "      <td>2.550096</td>\n",
       "      <td>7.447324</td>\n",
       "      <td>0.149692</td>\n",
       "      <td>1.300163e+05</td>\n",
       "      <td>13.688964</td>\n",
       "      <td>26.761036</td>\n",
       "      <td>1694.885257</td>\n",
       "    </tr>\n",
       "    <tr>\n",
       "      <th>min</th>\n",
       "      <td>1.000000e+00</td>\n",
       "      <td>0.000000e+00</td>\n",
       "      <td>0.000000e+00</td>\n",
       "      <td>1.000000e+00</td>\n",
       "      <td>0.000000</td>\n",
       "      <td>0.000000</td>\n",
       "      <td>0.001000</td>\n",
       "      <td>0.000000</td>\n",
       "      <td>0.000000</td>\n",
       "      <td>0.000000</td>\n",
       "      <td>...</td>\n",
       "      <td>0.100000</td>\n",
       "      <td>7.700000</td>\n",
       "      <td>1.188000</td>\n",
       "      <td>0.100000</td>\n",
       "      <td>53.280000</td>\n",
       "      <td>0.394000</td>\n",
       "      <td>-3.772610e+04</td>\n",
       "      <td>-28.450000</td>\n",
       "      <td>-95.920000</td>\n",
       "      <td>-1884.678982</td>\n",
       "    </tr>\n",
       "    <tr>\n",
       "      <th>25%</th>\n",
       "      <td>3.978500e+03</td>\n",
       "      <td>0.000000e+00</td>\n",
       "      <td>6.429000e+00</td>\n",
       "      <td>1.090000e+02</td>\n",
       "      <td>0.000000</td>\n",
       "      <td>0.000000</td>\n",
       "      <td>1001.966250</td>\n",
       "      <td>0.000000</td>\n",
       "      <td>1.412000</td>\n",
       "      <td>28.421000</td>\n",
       "      <td>...</td>\n",
       "      <td>1.900000</td>\n",
       "      <td>21.600000</td>\n",
       "      <td>20.859000</td>\n",
       "      <td>1.300000</td>\n",
       "      <td>69.500000</td>\n",
       "      <td>0.602000</td>\n",
       "      <td>2.205000e+01</td>\n",
       "      <td>0.330000</td>\n",
       "      <td>-0.230000</td>\n",
       "      <td>14.670109</td>\n",
       "    </tr>\n",
       "    <tr>\n",
       "      <th>50%</th>\n",
       "      <td>4.608800e+04</td>\n",
       "      <td>5.800000e+01</td>\n",
       "      <td>9.757100e+01</td>\n",
       "      <td>1.118000e+03</td>\n",
       "      <td>1.000000</td>\n",
       "      <td>1.571000</td>\n",
       "      <td>9610.130500</td>\n",
       "      <td>8.234500</td>\n",
       "      <td>19.966000</td>\n",
       "      <td>202.448000</td>\n",
       "      <td>...</td>\n",
       "      <td>6.300000</td>\n",
       "      <td>31.400000</td>\n",
       "      <td>49.839000</td>\n",
       "      <td>2.500000</td>\n",
       "      <td>75.050000</td>\n",
       "      <td>0.743000</td>\n",
       "      <td>5.511300e+03</td>\n",
       "      <td>7.230000</td>\n",
       "      <td>7.325000</td>\n",
       "      <td>741.055294</td>\n",
       "    </tr>\n",
       "    <tr>\n",
       "      <th>75%</th>\n",
       "      <td>4.988990e+05</td>\n",
       "      <td>9.830000e+02</td>\n",
       "      <td>1.146000e+03</td>\n",
       "      <td>9.486500e+03</td>\n",
       "      <td>15.000000</td>\n",
       "      <td>16.429000</td>\n",
       "      <td>68031.223000</td>\n",
       "      <td>99.883750</td>\n",
       "      <td>136.870000</td>\n",
       "      <td>993.350000</td>\n",
       "      <td>...</td>\n",
       "      <td>19.300000</td>\n",
       "      <td>41.300000</td>\n",
       "      <td>82.502000</td>\n",
       "      <td>4.200000</td>\n",
       "      <td>79.070000</td>\n",
       "      <td>0.845000</td>\n",
       "      <td>3.296970e+04</td>\n",
       "      <td>15.370000</td>\n",
       "      <td>20.290000</td>\n",
       "      <td>1996.448440</td>\n",
       "    </tr>\n",
       "    <tr>\n",
       "      <th>max</th>\n",
       "      <td>6.147766e+08</td>\n",
       "      <td>4.081625e+06</td>\n",
       "      <td>3.436127e+06</td>\n",
       "      <td>6.536187e+06</td>\n",
       "      <td>17737.000000</td>\n",
       "      <td>14858.143000</td>\n",
       "      <td>655309.333000</td>\n",
       "      <td>195005.313000</td>\n",
       "      <td>35258.843000</td>\n",
       "      <td>6420.583000</td>\n",
       "      <td>...</td>\n",
       "      <td>44.000000</td>\n",
       "      <td>78.100000</td>\n",
       "      <td>100.000000</td>\n",
       "      <td>13.800000</td>\n",
       "      <td>86.750000</td>\n",
       "      <td>0.957000</td>\n",
       "      <td>1.220577e+06</td>\n",
       "      <td>76.550000</td>\n",
       "      <td>376.180000</td>\n",
       "      <td>9766.306877</td>\n",
       "    </tr>\n",
       "  </tbody>\n",
       "</table>\n",
       "<p>8 rows × 62 columns</p>\n",
       "</div>"
      ],
      "text/plain": [
       "        total_cases     new_cases  new_cases_smoothed  total_deaths  \\\n",
       "count  2.099910e+05  2.097250e+05        2.085290e+05  1.909110e+05   \n",
       "mean   4.208594e+06  1.249183e+04        1.253065e+04  7.236159e+04   \n",
       "std    2.638688e+07  8.618204e+04        8.428407e+04  3.730230e+05   \n",
       "min    1.000000e+00  0.000000e+00        0.000000e+00  1.000000e+00   \n",
       "25%    3.978500e+03  0.000000e+00        6.429000e+00  1.090000e+02   \n",
       "50%    4.608800e+04  5.800000e+01        9.757100e+01  1.118000e+03   \n",
       "75%    4.988990e+05  9.830000e+02        1.146000e+03  9.486500e+03   \n",
       "max    6.147766e+08  4.081625e+06        3.436127e+06  6.536187e+06   \n",
       "\n",
       "          new_deaths  new_deaths_smoothed  total_cases_per_million  \\\n",
       "count  190841.000000        189661.000000            209030.000000   \n",
       "mean      142.213235           142.945373             56472.447693   \n",
       "std       741.635540           727.140728            101293.662906   \n",
       "min         0.000000             0.000000                 0.001000   \n",
       "25%         0.000000             0.000000              1001.966250   \n",
       "50%         1.000000             1.571000              9610.130500   \n",
       "75%        15.000000            16.429000             68031.223000   \n",
       "max     17737.000000         14858.143000            655309.333000   \n",
       "\n",
       "       new_cases_per_million  new_cases_smoothed_per_million  \\\n",
       "count          208764.000000                   207573.000000   \n",
       "mean              189.213773                      189.730236   \n",
       "std               976.936237                      644.432030   \n",
       "min                 0.000000                        0.000000   \n",
       "25%                 0.000000                        1.412000   \n",
       "50%                 8.234500                       19.966000   \n",
       "75%                99.883750                      136.870000   \n",
       "max            195005.313000                    35258.843000   \n",
       "\n",
       "       total_deaths_per_million  ...  female_smokers   male_smokers  \\\n",
       "count             189963.000000  ...   135914.000000  134053.000000   \n",
       "mean                 672.340212  ...       10.672860      32.807303   \n",
       "std                  959.421551  ...       10.622366      13.533751   \n",
       "min                    0.000000  ...        0.100000       7.700000   \n",
       "25%                   28.421000  ...        1.900000      21.600000   \n",
       "50%                  202.448000  ...        6.300000      31.400000   \n",
       "75%                  993.350000  ...       19.300000      41.300000   \n",
       "max                 6420.583000  ...       44.000000      78.100000   \n",
       "\n",
       "       handwashing_facilities  hospital_beds_per_thousand  life_expectancy  \\\n",
       "count            88212.000000               159626.000000    204554.000000   \n",
       "mean                50.844391                    3.084572        73.628685   \n",
       "std                 31.840864                    2.550096         7.447324   \n",
       "min                  1.188000                    0.100000        53.280000   \n",
       "25%                 20.859000                    1.300000        69.500000   \n",
       "50%                 49.839000                    2.500000        75.050000   \n",
       "75%                 82.502000                    4.200000        79.070000   \n",
       "max                100.000000                   13.800000        86.750000   \n",
       "\n",
       "       human_development_index  excess_mortality_cumulative_absolute  \\\n",
       "count            174960.000000                          7.271000e+03   \n",
       "mean                  0.724873                          4.665339e+04   \n",
       "std                   0.149692                          1.300163e+05   \n",
       "min                   0.394000                         -3.772610e+04   \n",
       "25%                   0.602000                          2.205000e+01   \n",
       "50%                   0.743000                          5.511300e+03   \n",
       "75%                   0.845000                          3.296970e+04   \n",
       "max                   0.957000                          1.220577e+06   \n",
       "\n",
       "       excess_mortality_cumulative  excess_mortality  \\\n",
       "count                  7271.000000       7316.000000   \n",
       "mean                      9.763841         14.545178   \n",
       "std                      13.688964         26.761036   \n",
       "min                     -28.450000        -95.920000   \n",
       "25%                       0.330000         -0.230000   \n",
       "50%                       7.230000          7.325000   \n",
       "75%                      15.370000         20.290000   \n",
       "max                      76.550000        376.180000   \n",
       "\n",
       "       excess_mortality_cumulative_per_million  \n",
       "count                              7271.000000  \n",
       "mean                               1283.087107  \n",
       "std                                1694.885257  \n",
       "min                               -1884.678982  \n",
       "25%                                  14.670109  \n",
       "50%                                 741.055294  \n",
       "75%                                1996.448440  \n",
       "max                                9766.306877  \n",
       "\n",
       "[8 rows x 62 columns]"
      ]
     },
     "execution_count": 27,
     "metadata": {},
     "output_type": "execute_result"
    }
   ],
   "source": [
    "DFnew.describe() "
   ]
  },
  {
   "cell_type": "code",
   "execution_count": 28,
   "metadata": {},
   "outputs": [
    {
     "data": {
      "text/plain": [
       "pandas.core.frame.DataFrame"
      ]
     },
     "execution_count": 28,
     "metadata": {},
     "output_type": "execute_result"
    }
   ],
   "source": [
    "type(DFnew.describe())"
   ]
  },
  {
   "cell_type": "code",
   "execution_count": 29,
   "metadata": {},
   "outputs": [],
   "source": [
    "a = DFnew.describe()"
   ]
  },
  {
   "cell_type": "code",
   "execution_count": 30,
   "metadata": {},
   "outputs": [
    {
     "data": {
      "text/plain": [
       "Index(['count', 'mean', 'std', 'min', '25%', '50%', '75%', 'max'], dtype='object')"
      ]
     },
     "execution_count": 30,
     "metadata": {},
     "output_type": "execute_result"
    }
   ],
   "source": [
    "a.index"
   ]
  },
  {
   "cell_type": "code",
   "execution_count": 31,
   "metadata": {
    "scrolled": false
   },
   "outputs": [
    {
     "data": {
      "text/html": [
       "<div>\n",
       "<style scoped>\n",
       "    .dataframe tbody tr th:only-of-type {\n",
       "        vertical-align: middle;\n",
       "    }\n",
       "\n",
       "    .dataframe tbody tr th {\n",
       "        vertical-align: top;\n",
       "    }\n",
       "\n",
       "    .dataframe thead th {\n",
       "        text-align: right;\n",
       "    }\n",
       "</style>\n",
       "<table border=\"1\" class=\"dataframe\">\n",
       "  <thead>\n",
       "    <tr style=\"text-align: right;\">\n",
       "      <th></th>\n",
       "      <th>index</th>\n",
       "      <th>total_cases</th>\n",
       "      <th>new_cases</th>\n",
       "      <th>new_cases_smoothed</th>\n",
       "      <th>total_deaths</th>\n",
       "      <th>new_deaths</th>\n",
       "      <th>new_deaths_smoothed</th>\n",
       "      <th>total_cases_per_million</th>\n",
       "      <th>new_cases_per_million</th>\n",
       "      <th>new_cases_smoothed_per_million</th>\n",
       "      <th>...</th>\n",
       "      <th>female_smokers</th>\n",
       "      <th>male_smokers</th>\n",
       "      <th>handwashing_facilities</th>\n",
       "      <th>hospital_beds_per_thousand</th>\n",
       "      <th>life_expectancy</th>\n",
       "      <th>human_development_index</th>\n",
       "      <th>excess_mortality_cumulative_absolute</th>\n",
       "      <th>excess_mortality_cumulative</th>\n",
       "      <th>excess_mortality</th>\n",
       "      <th>excess_mortality_cumulative_per_million</th>\n",
       "    </tr>\n",
       "  </thead>\n",
       "  <tbody>\n",
       "    <tr>\n",
       "      <th>0</th>\n",
       "      <td>count</td>\n",
       "      <td>2.099910e+05</td>\n",
       "      <td>2.097250e+05</td>\n",
       "      <td>2.085290e+05</td>\n",
       "      <td>1.909110e+05</td>\n",
       "      <td>190841.000000</td>\n",
       "      <td>189661.000000</td>\n",
       "      <td>209030.000000</td>\n",
       "      <td>208764.000000</td>\n",
       "      <td>207573.000000</td>\n",
       "      <td>...</td>\n",
       "      <td>135914.000000</td>\n",
       "      <td>134053.000000</td>\n",
       "      <td>88212.000000</td>\n",
       "      <td>159626.000000</td>\n",
       "      <td>204554.000000</td>\n",
       "      <td>174960.000000</td>\n",
       "      <td>7.271000e+03</td>\n",
       "      <td>7271.000000</td>\n",
       "      <td>7316.000000</td>\n",
       "      <td>7271.000000</td>\n",
       "    </tr>\n",
       "    <tr>\n",
       "      <th>1</th>\n",
       "      <td>mean</td>\n",
       "      <td>4.208594e+06</td>\n",
       "      <td>1.249183e+04</td>\n",
       "      <td>1.253065e+04</td>\n",
       "      <td>7.236159e+04</td>\n",
       "      <td>142.213235</td>\n",
       "      <td>142.945373</td>\n",
       "      <td>56472.447693</td>\n",
       "      <td>189.213773</td>\n",
       "      <td>189.730236</td>\n",
       "      <td>...</td>\n",
       "      <td>10.672860</td>\n",
       "      <td>32.807303</td>\n",
       "      <td>50.844391</td>\n",
       "      <td>3.084572</td>\n",
       "      <td>73.628685</td>\n",
       "      <td>0.724873</td>\n",
       "      <td>4.665339e+04</td>\n",
       "      <td>9.763841</td>\n",
       "      <td>14.545178</td>\n",
       "      <td>1283.087107</td>\n",
       "    </tr>\n",
       "    <tr>\n",
       "      <th>2</th>\n",
       "      <td>std</td>\n",
       "      <td>2.638688e+07</td>\n",
       "      <td>8.618204e+04</td>\n",
       "      <td>8.428407e+04</td>\n",
       "      <td>3.730230e+05</td>\n",
       "      <td>741.635540</td>\n",
       "      <td>727.140728</td>\n",
       "      <td>101293.662906</td>\n",
       "      <td>976.936237</td>\n",
       "      <td>644.432030</td>\n",
       "      <td>...</td>\n",
       "      <td>10.622366</td>\n",
       "      <td>13.533751</td>\n",
       "      <td>31.840864</td>\n",
       "      <td>2.550096</td>\n",
       "      <td>7.447324</td>\n",
       "      <td>0.149692</td>\n",
       "      <td>1.300163e+05</td>\n",
       "      <td>13.688964</td>\n",
       "      <td>26.761036</td>\n",
       "      <td>1694.885257</td>\n",
       "    </tr>\n",
       "    <tr>\n",
       "      <th>3</th>\n",
       "      <td>min</td>\n",
       "      <td>1.000000e+00</td>\n",
       "      <td>0.000000e+00</td>\n",
       "      <td>0.000000e+00</td>\n",
       "      <td>1.000000e+00</td>\n",
       "      <td>0.000000</td>\n",
       "      <td>0.000000</td>\n",
       "      <td>0.001000</td>\n",
       "      <td>0.000000</td>\n",
       "      <td>0.000000</td>\n",
       "      <td>...</td>\n",
       "      <td>0.100000</td>\n",
       "      <td>7.700000</td>\n",
       "      <td>1.188000</td>\n",
       "      <td>0.100000</td>\n",
       "      <td>53.280000</td>\n",
       "      <td>0.394000</td>\n",
       "      <td>-3.772610e+04</td>\n",
       "      <td>-28.450000</td>\n",
       "      <td>-95.920000</td>\n",
       "      <td>-1884.678982</td>\n",
       "    </tr>\n",
       "    <tr>\n",
       "      <th>4</th>\n",
       "      <td>25%</td>\n",
       "      <td>3.978500e+03</td>\n",
       "      <td>0.000000e+00</td>\n",
       "      <td>6.429000e+00</td>\n",
       "      <td>1.090000e+02</td>\n",
       "      <td>0.000000</td>\n",
       "      <td>0.000000</td>\n",
       "      <td>1001.966250</td>\n",
       "      <td>0.000000</td>\n",
       "      <td>1.412000</td>\n",
       "      <td>...</td>\n",
       "      <td>1.900000</td>\n",
       "      <td>21.600000</td>\n",
       "      <td>20.859000</td>\n",
       "      <td>1.300000</td>\n",
       "      <td>69.500000</td>\n",
       "      <td>0.602000</td>\n",
       "      <td>2.205000e+01</td>\n",
       "      <td>0.330000</td>\n",
       "      <td>-0.230000</td>\n",
       "      <td>14.670109</td>\n",
       "    </tr>\n",
       "    <tr>\n",
       "      <th>5</th>\n",
       "      <td>50%</td>\n",
       "      <td>4.608800e+04</td>\n",
       "      <td>5.800000e+01</td>\n",
       "      <td>9.757100e+01</td>\n",
       "      <td>1.118000e+03</td>\n",
       "      <td>1.000000</td>\n",
       "      <td>1.571000</td>\n",
       "      <td>9610.130500</td>\n",
       "      <td>8.234500</td>\n",
       "      <td>19.966000</td>\n",
       "      <td>...</td>\n",
       "      <td>6.300000</td>\n",
       "      <td>31.400000</td>\n",
       "      <td>49.839000</td>\n",
       "      <td>2.500000</td>\n",
       "      <td>75.050000</td>\n",
       "      <td>0.743000</td>\n",
       "      <td>5.511300e+03</td>\n",
       "      <td>7.230000</td>\n",
       "      <td>7.325000</td>\n",
       "      <td>741.055294</td>\n",
       "    </tr>\n",
       "    <tr>\n",
       "      <th>6</th>\n",
       "      <td>75%</td>\n",
       "      <td>4.988990e+05</td>\n",
       "      <td>9.830000e+02</td>\n",
       "      <td>1.146000e+03</td>\n",
       "      <td>9.486500e+03</td>\n",
       "      <td>15.000000</td>\n",
       "      <td>16.429000</td>\n",
       "      <td>68031.223000</td>\n",
       "      <td>99.883750</td>\n",
       "      <td>136.870000</td>\n",
       "      <td>...</td>\n",
       "      <td>19.300000</td>\n",
       "      <td>41.300000</td>\n",
       "      <td>82.502000</td>\n",
       "      <td>4.200000</td>\n",
       "      <td>79.070000</td>\n",
       "      <td>0.845000</td>\n",
       "      <td>3.296970e+04</td>\n",
       "      <td>15.370000</td>\n",
       "      <td>20.290000</td>\n",
       "      <td>1996.448440</td>\n",
       "    </tr>\n",
       "    <tr>\n",
       "      <th>7</th>\n",
       "      <td>max</td>\n",
       "      <td>6.147766e+08</td>\n",
       "      <td>4.081625e+06</td>\n",
       "      <td>3.436127e+06</td>\n",
       "      <td>6.536187e+06</td>\n",
       "      <td>17737.000000</td>\n",
       "      <td>14858.143000</td>\n",
       "      <td>655309.333000</td>\n",
       "      <td>195005.313000</td>\n",
       "      <td>35258.843000</td>\n",
       "      <td>...</td>\n",
       "      <td>44.000000</td>\n",
       "      <td>78.100000</td>\n",
       "      <td>100.000000</td>\n",
       "      <td>13.800000</td>\n",
       "      <td>86.750000</td>\n",
       "      <td>0.957000</td>\n",
       "      <td>1.220577e+06</td>\n",
       "      <td>76.550000</td>\n",
       "      <td>376.180000</td>\n",
       "      <td>9766.306877</td>\n",
       "    </tr>\n",
       "  </tbody>\n",
       "</table>\n",
       "<p>8 rows × 63 columns</p>\n",
       "</div>"
      ],
      "text/plain": [
       "   index   total_cases     new_cases  new_cases_smoothed  total_deaths  \\\n",
       "0  count  2.099910e+05  2.097250e+05        2.085290e+05  1.909110e+05   \n",
       "1   mean  4.208594e+06  1.249183e+04        1.253065e+04  7.236159e+04   \n",
       "2    std  2.638688e+07  8.618204e+04        8.428407e+04  3.730230e+05   \n",
       "3    min  1.000000e+00  0.000000e+00        0.000000e+00  1.000000e+00   \n",
       "4    25%  3.978500e+03  0.000000e+00        6.429000e+00  1.090000e+02   \n",
       "5    50%  4.608800e+04  5.800000e+01        9.757100e+01  1.118000e+03   \n",
       "6    75%  4.988990e+05  9.830000e+02        1.146000e+03  9.486500e+03   \n",
       "7    max  6.147766e+08  4.081625e+06        3.436127e+06  6.536187e+06   \n",
       "\n",
       "      new_deaths  new_deaths_smoothed  total_cases_per_million  \\\n",
       "0  190841.000000        189661.000000            209030.000000   \n",
       "1     142.213235           142.945373             56472.447693   \n",
       "2     741.635540           727.140728            101293.662906   \n",
       "3       0.000000             0.000000                 0.001000   \n",
       "4       0.000000             0.000000              1001.966250   \n",
       "5       1.000000             1.571000              9610.130500   \n",
       "6      15.000000            16.429000             68031.223000   \n",
       "7   17737.000000         14858.143000            655309.333000   \n",
       "\n",
       "   new_cases_per_million  new_cases_smoothed_per_million  ...  female_smokers  \\\n",
       "0          208764.000000                   207573.000000  ...   135914.000000   \n",
       "1             189.213773                      189.730236  ...       10.672860   \n",
       "2             976.936237                      644.432030  ...       10.622366   \n",
       "3               0.000000                        0.000000  ...        0.100000   \n",
       "4               0.000000                        1.412000  ...        1.900000   \n",
       "5               8.234500                       19.966000  ...        6.300000   \n",
       "6              99.883750                      136.870000  ...       19.300000   \n",
       "7          195005.313000                    35258.843000  ...       44.000000   \n",
       "\n",
       "    male_smokers  handwashing_facilities  hospital_beds_per_thousand  \\\n",
       "0  134053.000000            88212.000000               159626.000000   \n",
       "1      32.807303               50.844391                    3.084572   \n",
       "2      13.533751               31.840864                    2.550096   \n",
       "3       7.700000                1.188000                    0.100000   \n",
       "4      21.600000               20.859000                    1.300000   \n",
       "5      31.400000               49.839000                    2.500000   \n",
       "6      41.300000               82.502000                    4.200000   \n",
       "7      78.100000              100.000000                   13.800000   \n",
       "\n",
       "   life_expectancy  human_development_index  \\\n",
       "0    204554.000000            174960.000000   \n",
       "1        73.628685                 0.724873   \n",
       "2         7.447324                 0.149692   \n",
       "3        53.280000                 0.394000   \n",
       "4        69.500000                 0.602000   \n",
       "5        75.050000                 0.743000   \n",
       "6        79.070000                 0.845000   \n",
       "7        86.750000                 0.957000   \n",
       "\n",
       "   excess_mortality_cumulative_absolute  excess_mortality_cumulative  \\\n",
       "0                          7.271000e+03                  7271.000000   \n",
       "1                          4.665339e+04                     9.763841   \n",
       "2                          1.300163e+05                    13.688964   \n",
       "3                         -3.772610e+04                   -28.450000   \n",
       "4                          2.205000e+01                     0.330000   \n",
       "5                          5.511300e+03                     7.230000   \n",
       "6                          3.296970e+04                    15.370000   \n",
       "7                          1.220577e+06                    76.550000   \n",
       "\n",
       "   excess_mortality  excess_mortality_cumulative_per_million  \n",
       "0       7316.000000                              7271.000000  \n",
       "1         14.545178                              1283.087107  \n",
       "2         26.761036                              1694.885257  \n",
       "3        -95.920000                             -1884.678982  \n",
       "4         -0.230000                                14.670109  \n",
       "5          7.325000                               741.055294  \n",
       "6         20.290000                              1996.448440  \n",
       "7        376.180000                              9766.306877  \n",
       "\n",
       "[8 rows x 63 columns]"
      ]
     },
     "execution_count": 31,
     "metadata": {},
     "output_type": "execute_result"
    }
   ],
   "source": [
    "a.reset_index()"
   ]
  },
  {
   "cell_type": "code",
   "execution_count": 32,
   "metadata": {},
   "outputs": [
    {
     "data": {
      "text/html": [
       "<div>\n",
       "<style scoped>\n",
       "    .dataframe tbody tr th:only-of-type {\n",
       "        vertical-align: middle;\n",
       "    }\n",
       "\n",
       "    .dataframe tbody tr th {\n",
       "        vertical-align: top;\n",
       "    }\n",
       "\n",
       "    .dataframe thead th {\n",
       "        text-align: right;\n",
       "    }\n",
       "</style>\n",
       "<table border=\"1\" class=\"dataframe\">\n",
       "  <thead>\n",
       "    <tr style=\"text-align: right;\">\n",
       "      <th></th>\n",
       "      <th>total_cases</th>\n",
       "      <th>new_cases</th>\n",
       "      <th>new_cases_smoothed</th>\n",
       "      <th>total_deaths</th>\n",
       "      <th>new_deaths</th>\n",
       "      <th>new_deaths_smoothed</th>\n",
       "      <th>total_cases_per_million</th>\n",
       "      <th>new_cases_per_million</th>\n",
       "      <th>new_cases_smoothed_per_million</th>\n",
       "      <th>total_deaths_per_million</th>\n",
       "      <th>...</th>\n",
       "      <th>female_smokers</th>\n",
       "      <th>male_smokers</th>\n",
       "      <th>handwashing_facilities</th>\n",
       "      <th>hospital_beds_per_thousand</th>\n",
       "      <th>life_expectancy</th>\n",
       "      <th>human_development_index</th>\n",
       "      <th>excess_mortality_cumulative_absolute</th>\n",
       "      <th>excess_mortality_cumulative</th>\n",
       "      <th>excess_mortality</th>\n",
       "      <th>excess_mortality_cumulative_per_million</th>\n",
       "    </tr>\n",
       "  </thead>\n",
       "  <tbody>\n",
       "    <tr>\n",
       "      <th>count</th>\n",
       "      <td>2.099910e+05</td>\n",
       "      <td>2.097250e+05</td>\n",
       "      <td>2.085290e+05</td>\n",
       "      <td>1.909110e+05</td>\n",
       "      <td>190841.000000</td>\n",
       "      <td>189661.000000</td>\n",
       "      <td>209030.000000</td>\n",
       "      <td>208764.000000</td>\n",
       "      <td>207573.000000</td>\n",
       "      <td>189963.000000</td>\n",
       "      <td>...</td>\n",
       "      <td>135914.000000</td>\n",
       "      <td>134053.000000</td>\n",
       "      <td>88212.000000</td>\n",
       "      <td>159626.000000</td>\n",
       "      <td>204554.000000</td>\n",
       "      <td>174960.000000</td>\n",
       "      <td>7.271000e+03</td>\n",
       "      <td>7271.000000</td>\n",
       "      <td>7316.000000</td>\n",
       "      <td>7271.000000</td>\n",
       "    </tr>\n",
       "    <tr>\n",
       "      <th>mean</th>\n",
       "      <td>4.208594e+06</td>\n",
       "      <td>1.249183e+04</td>\n",
       "      <td>1.253065e+04</td>\n",
       "      <td>7.236159e+04</td>\n",
       "      <td>142.213235</td>\n",
       "      <td>142.945373</td>\n",
       "      <td>56472.447693</td>\n",
       "      <td>189.213773</td>\n",
       "      <td>189.730236</td>\n",
       "      <td>672.340212</td>\n",
       "      <td>...</td>\n",
       "      <td>10.672860</td>\n",
       "      <td>32.807303</td>\n",
       "      <td>50.844391</td>\n",
       "      <td>3.084572</td>\n",
       "      <td>73.628685</td>\n",
       "      <td>0.724873</td>\n",
       "      <td>4.665339e+04</td>\n",
       "      <td>9.763841</td>\n",
       "      <td>14.545178</td>\n",
       "      <td>1283.087107</td>\n",
       "    </tr>\n",
       "    <tr>\n",
       "      <th>std</th>\n",
       "      <td>2.638688e+07</td>\n",
       "      <td>8.618204e+04</td>\n",
       "      <td>8.428407e+04</td>\n",
       "      <td>3.730230e+05</td>\n",
       "      <td>741.635540</td>\n",
       "      <td>727.140728</td>\n",
       "      <td>101293.662906</td>\n",
       "      <td>976.936237</td>\n",
       "      <td>644.432030</td>\n",
       "      <td>959.421551</td>\n",
       "      <td>...</td>\n",
       "      <td>10.622366</td>\n",
       "      <td>13.533751</td>\n",
       "      <td>31.840864</td>\n",
       "      <td>2.550096</td>\n",
       "      <td>7.447324</td>\n",
       "      <td>0.149692</td>\n",
       "      <td>1.300163e+05</td>\n",
       "      <td>13.688964</td>\n",
       "      <td>26.761036</td>\n",
       "      <td>1694.885257</td>\n",
       "    </tr>\n",
       "    <tr>\n",
       "      <th>min</th>\n",
       "      <td>1.000000e+00</td>\n",
       "      <td>0.000000e+00</td>\n",
       "      <td>0.000000e+00</td>\n",
       "      <td>1.000000e+00</td>\n",
       "      <td>0.000000</td>\n",
       "      <td>0.000000</td>\n",
       "      <td>0.001000</td>\n",
       "      <td>0.000000</td>\n",
       "      <td>0.000000</td>\n",
       "      <td>0.000000</td>\n",
       "      <td>...</td>\n",
       "      <td>0.100000</td>\n",
       "      <td>7.700000</td>\n",
       "      <td>1.188000</td>\n",
       "      <td>0.100000</td>\n",
       "      <td>53.280000</td>\n",
       "      <td>0.394000</td>\n",
       "      <td>-3.772610e+04</td>\n",
       "      <td>-28.450000</td>\n",
       "      <td>-95.920000</td>\n",
       "      <td>-1884.678982</td>\n",
       "    </tr>\n",
       "    <tr>\n",
       "      <th>25%</th>\n",
       "      <td>3.978500e+03</td>\n",
       "      <td>0.000000e+00</td>\n",
       "      <td>6.429000e+00</td>\n",
       "      <td>1.090000e+02</td>\n",
       "      <td>0.000000</td>\n",
       "      <td>0.000000</td>\n",
       "      <td>1001.966250</td>\n",
       "      <td>0.000000</td>\n",
       "      <td>1.412000</td>\n",
       "      <td>28.421000</td>\n",
       "      <td>...</td>\n",
       "      <td>1.900000</td>\n",
       "      <td>21.600000</td>\n",
       "      <td>20.859000</td>\n",
       "      <td>1.300000</td>\n",
       "      <td>69.500000</td>\n",
       "      <td>0.602000</td>\n",
       "      <td>2.205000e+01</td>\n",
       "      <td>0.330000</td>\n",
       "      <td>-0.230000</td>\n",
       "      <td>14.670109</td>\n",
       "    </tr>\n",
       "    <tr>\n",
       "      <th>50%</th>\n",
       "      <td>4.608800e+04</td>\n",
       "      <td>5.800000e+01</td>\n",
       "      <td>9.757100e+01</td>\n",
       "      <td>1.118000e+03</td>\n",
       "      <td>1.000000</td>\n",
       "      <td>1.571000</td>\n",
       "      <td>9610.130500</td>\n",
       "      <td>8.234500</td>\n",
       "      <td>19.966000</td>\n",
       "      <td>202.448000</td>\n",
       "      <td>...</td>\n",
       "      <td>6.300000</td>\n",
       "      <td>31.400000</td>\n",
       "      <td>49.839000</td>\n",
       "      <td>2.500000</td>\n",
       "      <td>75.050000</td>\n",
       "      <td>0.743000</td>\n",
       "      <td>5.511300e+03</td>\n",
       "      <td>7.230000</td>\n",
       "      <td>7.325000</td>\n",
       "      <td>741.055294</td>\n",
       "    </tr>\n",
       "    <tr>\n",
       "      <th>75%</th>\n",
       "      <td>4.988990e+05</td>\n",
       "      <td>9.830000e+02</td>\n",
       "      <td>1.146000e+03</td>\n",
       "      <td>9.486500e+03</td>\n",
       "      <td>15.000000</td>\n",
       "      <td>16.429000</td>\n",
       "      <td>68031.223000</td>\n",
       "      <td>99.883750</td>\n",
       "      <td>136.870000</td>\n",
       "      <td>993.350000</td>\n",
       "      <td>...</td>\n",
       "      <td>19.300000</td>\n",
       "      <td>41.300000</td>\n",
       "      <td>82.502000</td>\n",
       "      <td>4.200000</td>\n",
       "      <td>79.070000</td>\n",
       "      <td>0.845000</td>\n",
       "      <td>3.296970e+04</td>\n",
       "      <td>15.370000</td>\n",
       "      <td>20.290000</td>\n",
       "      <td>1996.448440</td>\n",
       "    </tr>\n",
       "    <tr>\n",
       "      <th>max</th>\n",
       "      <td>6.147766e+08</td>\n",
       "      <td>4.081625e+06</td>\n",
       "      <td>3.436127e+06</td>\n",
       "      <td>6.536187e+06</td>\n",
       "      <td>17737.000000</td>\n",
       "      <td>14858.143000</td>\n",
       "      <td>655309.333000</td>\n",
       "      <td>195005.313000</td>\n",
       "      <td>35258.843000</td>\n",
       "      <td>6420.583000</td>\n",
       "      <td>...</td>\n",
       "      <td>44.000000</td>\n",
       "      <td>78.100000</td>\n",
       "      <td>100.000000</td>\n",
       "      <td>13.800000</td>\n",
       "      <td>86.750000</td>\n",
       "      <td>0.957000</td>\n",
       "      <td>1.220577e+06</td>\n",
       "      <td>76.550000</td>\n",
       "      <td>376.180000</td>\n",
       "      <td>9766.306877</td>\n",
       "    </tr>\n",
       "  </tbody>\n",
       "</table>\n",
       "<p>8 rows × 62 columns</p>\n",
       "</div>"
      ],
      "text/plain": [
       "        total_cases     new_cases  new_cases_smoothed  total_deaths  \\\n",
       "count  2.099910e+05  2.097250e+05        2.085290e+05  1.909110e+05   \n",
       "mean   4.208594e+06  1.249183e+04        1.253065e+04  7.236159e+04   \n",
       "std    2.638688e+07  8.618204e+04        8.428407e+04  3.730230e+05   \n",
       "min    1.000000e+00  0.000000e+00        0.000000e+00  1.000000e+00   \n",
       "25%    3.978500e+03  0.000000e+00        6.429000e+00  1.090000e+02   \n",
       "50%    4.608800e+04  5.800000e+01        9.757100e+01  1.118000e+03   \n",
       "75%    4.988990e+05  9.830000e+02        1.146000e+03  9.486500e+03   \n",
       "max    6.147766e+08  4.081625e+06        3.436127e+06  6.536187e+06   \n",
       "\n",
       "          new_deaths  new_deaths_smoothed  total_cases_per_million  \\\n",
       "count  190841.000000        189661.000000            209030.000000   \n",
       "mean      142.213235           142.945373             56472.447693   \n",
       "std       741.635540           727.140728            101293.662906   \n",
       "min         0.000000             0.000000                 0.001000   \n",
       "25%         0.000000             0.000000              1001.966250   \n",
       "50%         1.000000             1.571000              9610.130500   \n",
       "75%        15.000000            16.429000             68031.223000   \n",
       "max     17737.000000         14858.143000            655309.333000   \n",
       "\n",
       "       new_cases_per_million  new_cases_smoothed_per_million  \\\n",
       "count          208764.000000                   207573.000000   \n",
       "mean              189.213773                      189.730236   \n",
       "std               976.936237                      644.432030   \n",
       "min                 0.000000                        0.000000   \n",
       "25%                 0.000000                        1.412000   \n",
       "50%                 8.234500                       19.966000   \n",
       "75%                99.883750                      136.870000   \n",
       "max            195005.313000                    35258.843000   \n",
       "\n",
       "       total_deaths_per_million  ...  female_smokers   male_smokers  \\\n",
       "count             189963.000000  ...   135914.000000  134053.000000   \n",
       "mean                 672.340212  ...       10.672860      32.807303   \n",
       "std                  959.421551  ...       10.622366      13.533751   \n",
       "min                    0.000000  ...        0.100000       7.700000   \n",
       "25%                   28.421000  ...        1.900000      21.600000   \n",
       "50%                  202.448000  ...        6.300000      31.400000   \n",
       "75%                  993.350000  ...       19.300000      41.300000   \n",
       "max                 6420.583000  ...       44.000000      78.100000   \n",
       "\n",
       "       handwashing_facilities  hospital_beds_per_thousand  life_expectancy  \\\n",
       "count            88212.000000               159626.000000    204554.000000   \n",
       "mean                50.844391                    3.084572        73.628685   \n",
       "std                 31.840864                    2.550096         7.447324   \n",
       "min                  1.188000                    0.100000        53.280000   \n",
       "25%                 20.859000                    1.300000        69.500000   \n",
       "50%                 49.839000                    2.500000        75.050000   \n",
       "75%                 82.502000                    4.200000        79.070000   \n",
       "max                100.000000                   13.800000        86.750000   \n",
       "\n",
       "       human_development_index  excess_mortality_cumulative_absolute  \\\n",
       "count            174960.000000                          7.271000e+03   \n",
       "mean                  0.724873                          4.665339e+04   \n",
       "std                   0.149692                          1.300163e+05   \n",
       "min                   0.394000                         -3.772610e+04   \n",
       "25%                   0.602000                          2.205000e+01   \n",
       "50%                   0.743000                          5.511300e+03   \n",
       "75%                   0.845000                          3.296970e+04   \n",
       "max                   0.957000                          1.220577e+06   \n",
       "\n",
       "       excess_mortality_cumulative  excess_mortality  \\\n",
       "count                  7271.000000       7316.000000   \n",
       "mean                      9.763841         14.545178   \n",
       "std                      13.688964         26.761036   \n",
       "min                     -28.450000        -95.920000   \n",
       "25%                       0.330000         -0.230000   \n",
       "50%                       7.230000          7.325000   \n",
       "75%                      15.370000         20.290000   \n",
       "max                      76.550000        376.180000   \n",
       "\n",
       "       excess_mortality_cumulative_per_million  \n",
       "count                              7271.000000  \n",
       "mean                               1283.087107  \n",
       "std                                1694.885257  \n",
       "min                               -1884.678982  \n",
       "25%                                  14.670109  \n",
       "50%                                 741.055294  \n",
       "75%                                1996.448440  \n",
       "max                                9766.306877  \n",
       "\n",
       "[8 rows x 62 columns]"
      ]
     },
     "execution_count": 32,
     "metadata": {},
     "output_type": "execute_result"
    }
   ],
   "source": [
    "a"
   ]
  },
  {
   "cell_type": "code",
   "execution_count": null,
   "metadata": {},
   "outputs": [],
   "source": []
  },
  {
   "cell_type": "code",
   "execution_count": null,
   "metadata": {},
   "outputs": [],
   "source": []
  },
  {
   "cell_type": "code",
   "execution_count": 34,
   "metadata": {},
   "outputs": [],
   "source": [
    "b = pd.DataFrame([ [1,2], [3,4], [5, 6], [7,8]])"
   ]
  },
  {
   "cell_type": "code",
   "execution_count": 35,
   "metadata": {
    "scrolled": true
   },
   "outputs": [
    {
     "data": {
      "text/html": [
       "<div>\n",
       "<style scoped>\n",
       "    .dataframe tbody tr th:only-of-type {\n",
       "        vertical-align: middle;\n",
       "    }\n",
       "\n",
       "    .dataframe tbody tr th {\n",
       "        vertical-align: top;\n",
       "    }\n",
       "\n",
       "    .dataframe thead th {\n",
       "        text-align: right;\n",
       "    }\n",
       "</style>\n",
       "<table border=\"1\" class=\"dataframe\">\n",
       "  <thead>\n",
       "    <tr style=\"text-align: right;\">\n",
       "      <th></th>\n",
       "      <th>0</th>\n",
       "      <th>1</th>\n",
       "    </tr>\n",
       "  </thead>\n",
       "  <tbody>\n",
       "    <tr>\n",
       "      <th>0</th>\n",
       "      <td>1</td>\n",
       "      <td>2</td>\n",
       "    </tr>\n",
       "    <tr>\n",
       "      <th>1</th>\n",
       "      <td>3</td>\n",
       "      <td>4</td>\n",
       "    </tr>\n",
       "    <tr>\n",
       "      <th>2</th>\n",
       "      <td>5</td>\n",
       "      <td>6</td>\n",
       "    </tr>\n",
       "    <tr>\n",
       "      <th>3</th>\n",
       "      <td>7</td>\n",
       "      <td>8</td>\n",
       "    </tr>\n",
       "  </tbody>\n",
       "</table>\n",
       "</div>"
      ],
      "text/plain": [
       "   0  1\n",
       "0  1  2\n",
       "1  3  4\n",
       "2  5  6\n",
       "3  7  8"
      ]
     },
     "execution_count": 35,
     "metadata": {},
     "output_type": "execute_result"
    }
   ],
   "source": [
    "b"
   ]
  },
  {
   "cell_type": "code",
   "execution_count": 36,
   "metadata": {},
   "outputs": [
    {
     "data": {
      "text/plain": [
       "RangeIndex(start=0, stop=2, step=1)"
      ]
     },
     "execution_count": 36,
     "metadata": {},
     "output_type": "execute_result"
    }
   ],
   "source": [
    "b.columns"
   ]
  },
  {
   "cell_type": "code",
   "execution_count": 37,
   "metadata": {},
   "outputs": [
    {
     "data": {
      "text/html": [
       "<div>\n",
       "<style scoped>\n",
       "    .dataframe tbody tr th:only-of-type {\n",
       "        vertical-align: middle;\n",
       "    }\n",
       "\n",
       "    .dataframe tbody tr th {\n",
       "        vertical-align: top;\n",
       "    }\n",
       "\n",
       "    .dataframe thead th {\n",
       "        text-align: right;\n",
       "    }\n",
       "</style>\n",
       "<table border=\"1\" class=\"dataframe\">\n",
       "  <thead>\n",
       "    <tr style=\"text-align: right;\">\n",
       "      <th></th>\n",
       "      <th>total_cases</th>\n",
       "      <th>new_cases</th>\n",
       "      <th>new_cases_smoothed</th>\n",
       "      <th>total_deaths</th>\n",
       "      <th>new_deaths</th>\n",
       "      <th>new_deaths_smoothed</th>\n",
       "      <th>total_cases_per_million</th>\n",
       "      <th>new_cases_per_million</th>\n",
       "      <th>new_cases_smoothed_per_million</th>\n",
       "      <th>total_deaths_per_million</th>\n",
       "      <th>...</th>\n",
       "      <th>female_smokers</th>\n",
       "      <th>male_smokers</th>\n",
       "      <th>handwashing_facilities</th>\n",
       "      <th>hospital_beds_per_thousand</th>\n",
       "      <th>life_expectancy</th>\n",
       "      <th>human_development_index</th>\n",
       "      <th>excess_mortality_cumulative_absolute</th>\n",
       "      <th>excess_mortality_cumulative</th>\n",
       "      <th>excess_mortality</th>\n",
       "      <th>excess_mortality_cumulative_per_million</th>\n",
       "    </tr>\n",
       "  </thead>\n",
       "  <tbody>\n",
       "    <tr>\n",
       "      <th>count</th>\n",
       "      <td>2.099910e+05</td>\n",
       "      <td>2.097250e+05</td>\n",
       "      <td>2.085290e+05</td>\n",
       "      <td>1.909110e+05</td>\n",
       "      <td>190841.000000</td>\n",
       "      <td>189661.000000</td>\n",
       "      <td>209030.000000</td>\n",
       "      <td>208764.000000</td>\n",
       "      <td>207573.000000</td>\n",
       "      <td>189963.000000</td>\n",
       "      <td>...</td>\n",
       "      <td>135914.000000</td>\n",
       "      <td>134053.000000</td>\n",
       "      <td>88212.000000</td>\n",
       "      <td>159626.000000</td>\n",
       "      <td>204554.000000</td>\n",
       "      <td>174960.000000</td>\n",
       "      <td>7.271000e+03</td>\n",
       "      <td>7271.000000</td>\n",
       "      <td>7316.000000</td>\n",
       "      <td>7271.000000</td>\n",
       "    </tr>\n",
       "    <tr>\n",
       "      <th>mean</th>\n",
       "      <td>4.208594e+06</td>\n",
       "      <td>1.249183e+04</td>\n",
       "      <td>1.253065e+04</td>\n",
       "      <td>7.236159e+04</td>\n",
       "      <td>142.213235</td>\n",
       "      <td>142.945373</td>\n",
       "      <td>56472.447693</td>\n",
       "      <td>189.213773</td>\n",
       "      <td>189.730236</td>\n",
       "      <td>672.340212</td>\n",
       "      <td>...</td>\n",
       "      <td>10.672860</td>\n",
       "      <td>32.807303</td>\n",
       "      <td>50.844391</td>\n",
       "      <td>3.084572</td>\n",
       "      <td>73.628685</td>\n",
       "      <td>0.724873</td>\n",
       "      <td>4.665339e+04</td>\n",
       "      <td>9.763841</td>\n",
       "      <td>14.545178</td>\n",
       "      <td>1283.087107</td>\n",
       "    </tr>\n",
       "    <tr>\n",
       "      <th>std</th>\n",
       "      <td>2.638688e+07</td>\n",
       "      <td>8.618204e+04</td>\n",
       "      <td>8.428407e+04</td>\n",
       "      <td>3.730230e+05</td>\n",
       "      <td>741.635540</td>\n",
       "      <td>727.140728</td>\n",
       "      <td>101293.662906</td>\n",
       "      <td>976.936237</td>\n",
       "      <td>644.432030</td>\n",
       "      <td>959.421551</td>\n",
       "      <td>...</td>\n",
       "      <td>10.622366</td>\n",
       "      <td>13.533751</td>\n",
       "      <td>31.840864</td>\n",
       "      <td>2.550096</td>\n",
       "      <td>7.447324</td>\n",
       "      <td>0.149692</td>\n",
       "      <td>1.300163e+05</td>\n",
       "      <td>13.688964</td>\n",
       "      <td>26.761036</td>\n",
       "      <td>1694.885257</td>\n",
       "    </tr>\n",
       "    <tr>\n",
       "      <th>min</th>\n",
       "      <td>1.000000e+00</td>\n",
       "      <td>0.000000e+00</td>\n",
       "      <td>0.000000e+00</td>\n",
       "      <td>1.000000e+00</td>\n",
       "      <td>0.000000</td>\n",
       "      <td>0.000000</td>\n",
       "      <td>0.001000</td>\n",
       "      <td>0.000000</td>\n",
       "      <td>0.000000</td>\n",
       "      <td>0.000000</td>\n",
       "      <td>...</td>\n",
       "      <td>0.100000</td>\n",
       "      <td>7.700000</td>\n",
       "      <td>1.188000</td>\n",
       "      <td>0.100000</td>\n",
       "      <td>53.280000</td>\n",
       "      <td>0.394000</td>\n",
       "      <td>-3.772610e+04</td>\n",
       "      <td>-28.450000</td>\n",
       "      <td>-95.920000</td>\n",
       "      <td>-1884.678982</td>\n",
       "    </tr>\n",
       "    <tr>\n",
       "      <th>25%</th>\n",
       "      <td>3.978500e+03</td>\n",
       "      <td>0.000000e+00</td>\n",
       "      <td>6.429000e+00</td>\n",
       "      <td>1.090000e+02</td>\n",
       "      <td>0.000000</td>\n",
       "      <td>0.000000</td>\n",
       "      <td>1001.966250</td>\n",
       "      <td>0.000000</td>\n",
       "      <td>1.412000</td>\n",
       "      <td>28.421000</td>\n",
       "      <td>...</td>\n",
       "      <td>1.900000</td>\n",
       "      <td>21.600000</td>\n",
       "      <td>20.859000</td>\n",
       "      <td>1.300000</td>\n",
       "      <td>69.500000</td>\n",
       "      <td>0.602000</td>\n",
       "      <td>2.205000e+01</td>\n",
       "      <td>0.330000</td>\n",
       "      <td>-0.230000</td>\n",
       "      <td>14.670109</td>\n",
       "    </tr>\n",
       "    <tr>\n",
       "      <th>50%</th>\n",
       "      <td>4.608800e+04</td>\n",
       "      <td>5.800000e+01</td>\n",
       "      <td>9.757100e+01</td>\n",
       "      <td>1.118000e+03</td>\n",
       "      <td>1.000000</td>\n",
       "      <td>1.571000</td>\n",
       "      <td>9610.130500</td>\n",
       "      <td>8.234500</td>\n",
       "      <td>19.966000</td>\n",
       "      <td>202.448000</td>\n",
       "      <td>...</td>\n",
       "      <td>6.300000</td>\n",
       "      <td>31.400000</td>\n",
       "      <td>49.839000</td>\n",
       "      <td>2.500000</td>\n",
       "      <td>75.050000</td>\n",
       "      <td>0.743000</td>\n",
       "      <td>5.511300e+03</td>\n",
       "      <td>7.230000</td>\n",
       "      <td>7.325000</td>\n",
       "      <td>741.055294</td>\n",
       "    </tr>\n",
       "    <tr>\n",
       "      <th>75%</th>\n",
       "      <td>4.988990e+05</td>\n",
       "      <td>9.830000e+02</td>\n",
       "      <td>1.146000e+03</td>\n",
       "      <td>9.486500e+03</td>\n",
       "      <td>15.000000</td>\n",
       "      <td>16.429000</td>\n",
       "      <td>68031.223000</td>\n",
       "      <td>99.883750</td>\n",
       "      <td>136.870000</td>\n",
       "      <td>993.350000</td>\n",
       "      <td>...</td>\n",
       "      <td>19.300000</td>\n",
       "      <td>41.300000</td>\n",
       "      <td>82.502000</td>\n",
       "      <td>4.200000</td>\n",
       "      <td>79.070000</td>\n",
       "      <td>0.845000</td>\n",
       "      <td>3.296970e+04</td>\n",
       "      <td>15.370000</td>\n",
       "      <td>20.290000</td>\n",
       "      <td>1996.448440</td>\n",
       "    </tr>\n",
       "    <tr>\n",
       "      <th>max</th>\n",
       "      <td>6.147766e+08</td>\n",
       "      <td>4.081625e+06</td>\n",
       "      <td>3.436127e+06</td>\n",
       "      <td>6.536187e+06</td>\n",
       "      <td>17737.000000</td>\n",
       "      <td>14858.143000</td>\n",
       "      <td>655309.333000</td>\n",
       "      <td>195005.313000</td>\n",
       "      <td>35258.843000</td>\n",
       "      <td>6420.583000</td>\n",
       "      <td>...</td>\n",
       "      <td>44.000000</td>\n",
       "      <td>78.100000</td>\n",
       "      <td>100.000000</td>\n",
       "      <td>13.800000</td>\n",
       "      <td>86.750000</td>\n",
       "      <td>0.957000</td>\n",
       "      <td>1.220577e+06</td>\n",
       "      <td>76.550000</td>\n",
       "      <td>376.180000</td>\n",
       "      <td>9766.306877</td>\n",
       "    </tr>\n",
       "  </tbody>\n",
       "</table>\n",
       "<p>8 rows × 62 columns</p>\n",
       "</div>"
      ],
      "text/plain": [
       "        total_cases     new_cases  new_cases_smoothed  total_deaths  \\\n",
       "count  2.099910e+05  2.097250e+05        2.085290e+05  1.909110e+05   \n",
       "mean   4.208594e+06  1.249183e+04        1.253065e+04  7.236159e+04   \n",
       "std    2.638688e+07  8.618204e+04        8.428407e+04  3.730230e+05   \n",
       "min    1.000000e+00  0.000000e+00        0.000000e+00  1.000000e+00   \n",
       "25%    3.978500e+03  0.000000e+00        6.429000e+00  1.090000e+02   \n",
       "50%    4.608800e+04  5.800000e+01        9.757100e+01  1.118000e+03   \n",
       "75%    4.988990e+05  9.830000e+02        1.146000e+03  9.486500e+03   \n",
       "max    6.147766e+08  4.081625e+06        3.436127e+06  6.536187e+06   \n",
       "\n",
       "          new_deaths  new_deaths_smoothed  total_cases_per_million  \\\n",
       "count  190841.000000        189661.000000            209030.000000   \n",
       "mean      142.213235           142.945373             56472.447693   \n",
       "std       741.635540           727.140728            101293.662906   \n",
       "min         0.000000             0.000000                 0.001000   \n",
       "25%         0.000000             0.000000              1001.966250   \n",
       "50%         1.000000             1.571000              9610.130500   \n",
       "75%        15.000000            16.429000             68031.223000   \n",
       "max     17737.000000         14858.143000            655309.333000   \n",
       "\n",
       "       new_cases_per_million  new_cases_smoothed_per_million  \\\n",
       "count          208764.000000                   207573.000000   \n",
       "mean              189.213773                      189.730236   \n",
       "std               976.936237                      644.432030   \n",
       "min                 0.000000                        0.000000   \n",
       "25%                 0.000000                        1.412000   \n",
       "50%                 8.234500                       19.966000   \n",
       "75%                99.883750                      136.870000   \n",
       "max            195005.313000                    35258.843000   \n",
       "\n",
       "       total_deaths_per_million  ...  female_smokers   male_smokers  \\\n",
       "count             189963.000000  ...   135914.000000  134053.000000   \n",
       "mean                 672.340212  ...       10.672860      32.807303   \n",
       "std                  959.421551  ...       10.622366      13.533751   \n",
       "min                    0.000000  ...        0.100000       7.700000   \n",
       "25%                   28.421000  ...        1.900000      21.600000   \n",
       "50%                  202.448000  ...        6.300000      31.400000   \n",
       "75%                  993.350000  ...       19.300000      41.300000   \n",
       "max                 6420.583000  ...       44.000000      78.100000   \n",
       "\n",
       "       handwashing_facilities  hospital_beds_per_thousand  life_expectancy  \\\n",
       "count            88212.000000               159626.000000    204554.000000   \n",
       "mean                50.844391                    3.084572        73.628685   \n",
       "std                 31.840864                    2.550096         7.447324   \n",
       "min                  1.188000                    0.100000        53.280000   \n",
       "25%                 20.859000                    1.300000        69.500000   \n",
       "50%                 49.839000                    2.500000        75.050000   \n",
       "75%                 82.502000                    4.200000        79.070000   \n",
       "max                100.000000                   13.800000        86.750000   \n",
       "\n",
       "       human_development_index  excess_mortality_cumulative_absolute  \\\n",
       "count            174960.000000                          7.271000e+03   \n",
       "mean                  0.724873                          4.665339e+04   \n",
       "std                   0.149692                          1.300163e+05   \n",
       "min                   0.394000                         -3.772610e+04   \n",
       "25%                   0.602000                          2.205000e+01   \n",
       "50%                   0.743000                          5.511300e+03   \n",
       "75%                   0.845000                          3.296970e+04   \n",
       "max                   0.957000                          1.220577e+06   \n",
       "\n",
       "       excess_mortality_cumulative  excess_mortality  \\\n",
       "count                  7271.000000       7316.000000   \n",
       "mean                      9.763841         14.545178   \n",
       "std                      13.688964         26.761036   \n",
       "min                     -28.450000        -95.920000   \n",
       "25%                       0.330000         -0.230000   \n",
       "50%                       7.230000          7.325000   \n",
       "75%                      15.370000         20.290000   \n",
       "max                      76.550000        376.180000   \n",
       "\n",
       "       excess_mortality_cumulative_per_million  \n",
       "count                              7271.000000  \n",
       "mean                               1283.087107  \n",
       "std                                1694.885257  \n",
       "min                               -1884.678982  \n",
       "25%                                  14.670109  \n",
       "50%                                 741.055294  \n",
       "75%                                1996.448440  \n",
       "max                                9766.306877  \n",
       "\n",
       "[8 rows x 62 columns]"
      ]
     },
     "execution_count": 37,
     "metadata": {},
     "output_type": "execute_result"
    }
   ],
   "source": [
    "a"
   ]
  },
  {
   "cell_type": "code",
   "execution_count": 38,
   "metadata": {},
   "outputs": [
    {
     "data": {
      "text/plain": [
       "209991.0"
      ]
     },
     "execution_count": 38,
     "metadata": {},
     "output_type": "execute_result"
    }
   ],
   "source": [
    "\n",
    "a.loc['count', 'total_cases']"
   ]
  },
  {
   "cell_type": "code",
   "execution_count": 39,
   "metadata": {},
   "outputs": [
    {
     "data": {
      "text/plain": [
       "209991.0"
      ]
     },
     "execution_count": 39,
     "metadata": {},
     "output_type": "execute_result"
    }
   ],
   "source": [
    "a.iloc[0,0]"
   ]
  },
  {
   "cell_type": "code",
   "execution_count": 40,
   "metadata": {},
   "outputs": [
    {
     "data": {
      "text/html": [
       "<div>\n",
       "<style scoped>\n",
       "    .dataframe tbody tr th:only-of-type {\n",
       "        vertical-align: middle;\n",
       "    }\n",
       "\n",
       "    .dataframe tbody tr th {\n",
       "        vertical-align: top;\n",
       "    }\n",
       "\n",
       "    .dataframe thead th {\n",
       "        text-align: right;\n",
       "    }\n",
       "</style>\n",
       "<table border=\"1\" class=\"dataframe\">\n",
       "  <thead>\n",
       "    <tr style=\"text-align: right;\">\n",
       "      <th></th>\n",
       "      <th>new_cases</th>\n",
       "      <th>total_deaths</th>\n",
       "      <th>new_deaths_smoothed</th>\n",
       "    </tr>\n",
       "  </thead>\n",
       "  <tbody>\n",
       "    <tr>\n",
       "      <th>count</th>\n",
       "      <td>209725.000000</td>\n",
       "      <td>190911.000000</td>\n",
       "      <td>189661.000000</td>\n",
       "    </tr>\n",
       "    <tr>\n",
       "      <th>mean</th>\n",
       "      <td>12491.829753</td>\n",
       "      <td>72361.585299</td>\n",
       "      <td>142.945373</td>\n",
       "    </tr>\n",
       "    <tr>\n",
       "      <th>std</th>\n",
       "      <td>86182.041196</td>\n",
       "      <td>373022.996000</td>\n",
       "      <td>727.140728</td>\n",
       "    </tr>\n",
       "  </tbody>\n",
       "</table>\n",
       "</div>"
      ],
      "text/plain": [
       "           new_cases   total_deaths  new_deaths_smoothed\n",
       "count  209725.000000  190911.000000        189661.000000\n",
       "mean    12491.829753   72361.585299           142.945373\n",
       "std     86182.041196  373022.996000           727.140728"
      ]
     },
     "execution_count": 40,
     "metadata": {},
     "output_type": "execute_result"
    }
   ],
   "source": [
    "a.iloc[0:3,1:7:2]"
   ]
  },
  {
   "cell_type": "code",
   "execution_count": 41,
   "metadata": {},
   "outputs": [
    {
     "data": {
      "text/plain": [
       "209991.0"
      ]
     },
     "execution_count": 41,
     "metadata": {},
     "output_type": "execute_result"
    }
   ],
   "source": [
    "a.loc['count', 'total_cases']"
   ]
  },
  {
   "cell_type": "code",
   "execution_count": 42,
   "metadata": {},
   "outputs": [
    {
     "data": {
      "text/plain": [
       "(218944, 67)"
      ]
     },
     "execution_count": 42,
     "metadata": {},
     "output_type": "execute_result"
    }
   ],
   "source": [
    "DFnew.shape"
   ]
  },
  {
   "cell_type": "code",
   "execution_count": 43,
   "metadata": {},
   "outputs": [
    {
     "data": {
      "text/plain": [
       "8953.0"
      ]
     },
     "execution_count": 43,
     "metadata": {},
     "output_type": "execute_result"
    }
   ],
   "source": [
    "DFnew.shape[0]-a.iloc[0,0]"
   ]
  },
  {
   "cell_type": "code",
   "execution_count": 44,
   "metadata": {},
   "outputs": [
    {
     "data": {
      "text/plain": [
       "9219.0"
      ]
     },
     "execution_count": 44,
     "metadata": {},
     "output_type": "execute_result"
    }
   ],
   "source": [
    "DFnew.shape[0] - DFnew.describe().loc['count', 'new_cases']"
   ]
  },
  {
   "cell_type": "code",
   "execution_count": 45,
   "metadata": {},
   "outputs": [
    {
     "data": {
      "text/plain": [
       "8953.0"
      ]
     },
     "execution_count": 45,
     "metadata": {},
     "output_type": "execute_result"
    }
   ],
   "source": [
    "DFnew.shape[0] - DFnew.describe().loc['count', 'total_cases']"
   ]
  },
  {
   "cell_type": "code",
   "execution_count": 46,
   "metadata": {},
   "outputs": [],
   "source": [
    "### There are more rows than actually included in described for total_cases and new_cases.\n",
    "### Is it due to the situation that some missing values in total_cases and new_cases?\n"
   ]
  },
  {
   "cell_type": "markdown",
   "metadata": {},
   "source": [
    "## 3.2 isnull()"
   ]
  },
  {
   "cell_type": "code",
   "execution_count": 47,
   "metadata": {},
   "outputs": [
    {
     "data": {
      "text/plain": [
       "iso_code                                           0\n",
       "continent                                      12595\n",
       "location                                           0\n",
       "date                                               0\n",
       "total_cases                                     8953\n",
       "new_cases                                       9219\n",
       "new_cases_smoothed                             10415\n",
       "total_deaths                                   28033\n",
       "new_deaths                                     28103\n",
       "new_deaths_smoothed                            29283\n",
       "total_cases_per_million                         9914\n",
       "new_cases_per_million                          10180\n",
       "new_cases_smoothed_per_million                 11371\n",
       "total_deaths_per_million                       28981\n",
       "new_deaths_per_million                         29051\n",
       "new_deaths_smoothed_per_million                30226\n",
       "reproduction_rate                              54555\n",
       "icu_patients                                  191057\n",
       "icu_patients_per_million                      191057\n",
       "hosp_patients                                 188300\n",
       "hosp_patients_per_million                     188300\n",
       "weekly_icu_admissions                         211741\n",
       "weekly_icu_admissions_per_million             211741\n",
       "weekly_hosp_admissions                        204718\n",
       "weekly_hosp_admissions_per_million            204718\n",
       "total_tests                                   139557\n",
       "new_tests                                     143541\n",
       "total_tests_per_thousand                      139557\n",
       "new_tests_per_thousand                        143541\n",
       "new_tests_smoothed                            114979\n",
       "                                               ...  \n",
       "total_boosters                                186280\n",
       "new_vaccinations                              168537\n",
       "new_vaccinations_smoothed                      93133\n",
       "total_vaccinations_per_hundred                157678\n",
       "people_vaccinated_per_hundred                 160377\n",
       "people_fully_vaccinated_per_hundred           163135\n",
       "total_boosters_per_hundred                    186280\n",
       "new_vaccinations_smoothed_per_million          93133\n",
       "new_people_vaccinated_smoothed                 93827\n",
       "new_people_vaccinated_smoothed_per_hundred     93827\n",
       "stringency_index                               54137\n",
       "population                                      1278\n",
       "population_density                             24515\n",
       "median_age                                     39026\n",
       "aged_65_older                                  40927\n",
       "aged_70_older                                  39968\n",
       "gdp_per_capita                                 39698\n",
       "extreme_poverty                               102040\n",
       "cardiovasc_death_rate                          39499\n",
       "diabetes_prevalence                            30322\n",
       "female_smokers                                 83030\n",
       "male_smokers                                   84891\n",
       "handwashing_facilities                        130732\n",
       "hospital_beds_per_thousand                     59318\n",
       "life_expectancy                                14390\n",
       "human_development_index                        43984\n",
       "excess_mortality_cumulative_absolute          211673\n",
       "excess_mortality_cumulative                   211673\n",
       "excess_mortality                              211628\n",
       "excess_mortality_cumulative_per_million       211673\n",
       "Length: 67, dtype: int64"
      ]
     },
     "execution_count": 47,
     "metadata": {},
     "output_type": "execute_result"
    }
   ],
   "source": [
    "DFnew.isnull().sum()"
   ]
  },
  {
   "cell_type": "code",
   "execution_count": 48,
   "metadata": {},
   "outputs": [
    {
     "data": {
      "text/plain": [
       "iso_code                                           0\n",
       "continent                                      12595\n",
       "location                                           0\n",
       "date                                               0\n",
       "total_cases                                     8953\n",
       "new_cases                                       9219\n",
       "new_cases_smoothed                             10415\n",
       "total_deaths                                   28033\n",
       "new_deaths                                     28103\n",
       "new_deaths_smoothed                            29283\n",
       "total_cases_per_million                         9914\n",
       "new_cases_per_million                          10180\n",
       "new_cases_smoothed_per_million                 11371\n",
       "total_deaths_per_million                       28981\n",
       "new_deaths_per_million                         29051\n",
       "new_deaths_smoothed_per_million                30226\n",
       "reproduction_rate                              54555\n",
       "icu_patients                                  191057\n",
       "icu_patients_per_million                      191057\n",
       "hosp_patients                                 188300\n",
       "hosp_patients_per_million                     188300\n",
       "weekly_icu_admissions                         211741\n",
       "weekly_icu_admissions_per_million             211741\n",
       "weekly_hosp_admissions                        204718\n",
       "weekly_hosp_admissions_per_million            204718\n",
       "total_tests                                   139557\n",
       "new_tests                                     143541\n",
       "total_tests_per_thousand                      139557\n",
       "new_tests_per_thousand                        143541\n",
       "new_tests_smoothed                            114979\n",
       "                                               ...  \n",
       "total_boosters                                186280\n",
       "new_vaccinations                              168537\n",
       "new_vaccinations_smoothed                      93133\n",
       "total_vaccinations_per_hundred                157678\n",
       "people_vaccinated_per_hundred                 160377\n",
       "people_fully_vaccinated_per_hundred           163135\n",
       "total_boosters_per_hundred                    186280\n",
       "new_vaccinations_smoothed_per_million          93133\n",
       "new_people_vaccinated_smoothed                 93827\n",
       "new_people_vaccinated_smoothed_per_hundred     93827\n",
       "stringency_index                               54137\n",
       "population                                      1278\n",
       "population_density                             24515\n",
       "median_age                                     39026\n",
       "aged_65_older                                  40927\n",
       "aged_70_older                                  39968\n",
       "gdp_per_capita                                 39698\n",
       "extreme_poverty                               102040\n",
       "cardiovasc_death_rate                          39499\n",
       "diabetes_prevalence                            30322\n",
       "female_smokers                                 83030\n",
       "male_smokers                                   84891\n",
       "handwashing_facilities                        130732\n",
       "hospital_beds_per_thousand                     59318\n",
       "life_expectancy                                14390\n",
       "human_development_index                        43984\n",
       "excess_mortality_cumulative_absolute          211673\n",
       "excess_mortality_cumulative                   211673\n",
       "excess_mortality                              211628\n",
       "excess_mortality_cumulative_per_million       211673\n",
       "Length: 67, dtype: int64"
      ]
     },
     "execution_count": 48,
     "metadata": {},
     "output_type": "execute_result"
    }
   ],
   "source": [
    "DFnew.isnull().sum()"
   ]
  },
  {
   "cell_type": "markdown",
   "metadata": {},
   "source": [
    "## you should be able to see that the numbers of missing values (NaN) reported by DF.isnull().sum() report total_cases and new_cases are the same as that indicated by describe()."
   ]
  },
  {
   "cell_type": "markdown",
   "metadata": {},
   "source": [
    "## 3.3 Cross check the number of missing values reported by different methods"
   ]
  },
  {
   "cell_type": "code",
   "execution_count": 49,
   "metadata": {},
   "outputs": [
    {
     "data": {
      "text/plain": [
       "(8, 62)"
      ]
     },
     "execution_count": 49,
     "metadata": {},
     "output_type": "execute_result"
    }
   ],
   "source": [
    "DFnew.describe().shape"
   ]
  },
  {
   "cell_type": "code",
   "execution_count": 50,
   "metadata": {},
   "outputs": [
    {
     "data": {
      "text/plain": [
       "(218944, 67)"
      ]
     },
     "execution_count": 50,
     "metadata": {},
     "output_type": "execute_result"
    }
   ],
   "source": [
    "DFnew.shape"
   ]
  },
  {
   "cell_type": "markdown",
   "metadata": {},
   "source": [
    "## showing that 5 features(67-62) are not reported by describe.  What are they?"
   ]
  },
  {
   "cell_type": "code",
   "execution_count": 51,
   "metadata": {},
   "outputs": [
    {
     "data": {
      "text/plain": [
       "iso_code                                       object\n",
       "continent                                      object\n",
       "location                                       object\n",
       "date                                           object\n",
       "total_cases                                   float64\n",
       "new_cases                                     float64\n",
       "new_cases_smoothed                            float64\n",
       "total_deaths                                  float64\n",
       "new_deaths                                    float64\n",
       "new_deaths_smoothed                           float64\n",
       "total_cases_per_million                       float64\n",
       "new_cases_per_million                         float64\n",
       "new_cases_smoothed_per_million                float64\n",
       "total_deaths_per_million                      float64\n",
       "new_deaths_per_million                        float64\n",
       "new_deaths_smoothed_per_million               float64\n",
       "reproduction_rate                             float64\n",
       "icu_patients                                  float64\n",
       "icu_patients_per_million                      float64\n",
       "hosp_patients                                 float64\n",
       "hosp_patients_per_million                     float64\n",
       "weekly_icu_admissions                         float64\n",
       "weekly_icu_admissions_per_million             float64\n",
       "weekly_hosp_admissions                        float64\n",
       "weekly_hosp_admissions_per_million            float64\n",
       "total_tests                                   float64\n",
       "new_tests                                     float64\n",
       "total_tests_per_thousand                      float64\n",
       "new_tests_per_thousand                        float64\n",
       "new_tests_smoothed                            float64\n",
       "                                               ...   \n",
       "total_boosters                                float64\n",
       "new_vaccinations                              float64\n",
       "new_vaccinations_smoothed                     float64\n",
       "total_vaccinations_per_hundred                float64\n",
       "people_vaccinated_per_hundred                 float64\n",
       "people_fully_vaccinated_per_hundred           float64\n",
       "total_boosters_per_hundred                    float64\n",
       "new_vaccinations_smoothed_per_million         float64\n",
       "new_people_vaccinated_smoothed                float64\n",
       "new_people_vaccinated_smoothed_per_hundred    float64\n",
       "stringency_index                              float64\n",
       "population                                    float64\n",
       "population_density                            float64\n",
       "median_age                                    float64\n",
       "aged_65_older                                 float64\n",
       "aged_70_older                                 float64\n",
       "gdp_per_capita                                float64\n",
       "extreme_poverty                               float64\n",
       "cardiovasc_death_rate                         float64\n",
       "diabetes_prevalence                           float64\n",
       "female_smokers                                float64\n",
       "male_smokers                                  float64\n",
       "handwashing_facilities                        float64\n",
       "hospital_beds_per_thousand                    float64\n",
       "life_expectancy                               float64\n",
       "human_development_index                       float64\n",
       "excess_mortality_cumulative_absolute          float64\n",
       "excess_mortality_cumulative                   float64\n",
       "excess_mortality                              float64\n",
       "excess_mortality_cumulative_per_million       float64\n",
       "Length: 67, dtype: object"
      ]
     },
     "execution_count": 51,
     "metadata": {},
     "output_type": "execute_result"
    }
   ],
   "source": [
    "DFnew.dtypes"
   ]
  },
  {
   "cell_type": "code",
   "execution_count": 52,
   "metadata": {},
   "outputs": [
    {
     "data": {
      "text/plain": [
       "pandas.core.series.Series"
      ]
     },
     "execution_count": 52,
     "metadata": {},
     "output_type": "execute_result"
    }
   ],
   "source": [
    "type(DFnew.dtypes)"
   ]
  },
  {
   "cell_type": "code",
   "execution_count": 53,
   "metadata": {
    "scrolled": true
   },
   "outputs": [],
   "source": [
    "tmp = DFnew.dtypes.reset_index()"
   ]
  },
  {
   "cell_type": "code",
   "execution_count": 54,
   "metadata": {},
   "outputs": [
    {
     "data": {
      "text/plain": [
       "pandas.core.frame.DataFrame"
      ]
     },
     "execution_count": 54,
     "metadata": {},
     "output_type": "execute_result"
    }
   ],
   "source": [
    "type(tmp)"
   ]
  },
  {
   "cell_type": "code",
   "execution_count": 55,
   "metadata": {},
   "outputs": [
    {
     "data": {
      "text/plain": [
       "Index(['index', 0], dtype='object')"
      ]
     },
     "execution_count": 55,
     "metadata": {},
     "output_type": "execute_result"
    }
   ],
   "source": [
    "tmp.columns"
   ]
  },
  {
   "cell_type": "code",
   "execution_count": 56,
   "metadata": {},
   "outputs": [
    {
     "data": {
      "text/plain": [
       "index    object\n",
       "0        object\n",
       "dtype: object"
      ]
     },
     "execution_count": 56,
     "metadata": {},
     "output_type": "execute_result"
    }
   ],
   "source": [
    "tmp.dtypes"
   ]
  },
  {
   "cell_type": "code",
   "execution_count": 57,
   "metadata": {},
   "outputs": [],
   "source": [
    "tmp.columns = ['feature', 'type']"
   ]
  },
  {
   "cell_type": "code",
   "execution_count": null,
   "metadata": {},
   "outputs": [],
   "source": []
  },
  {
   "cell_type": "code",
   "execution_count": 58,
   "metadata": {
    "scrolled": true
   },
   "outputs": [
    {
     "data": {
      "text/html": [
       "<div>\n",
       "<style scoped>\n",
       "    .dataframe tbody tr th:only-of-type {\n",
       "        vertical-align: middle;\n",
       "    }\n",
       "\n",
       "    .dataframe tbody tr th {\n",
       "        vertical-align: top;\n",
       "    }\n",
       "\n",
       "    .dataframe thead th {\n",
       "        text-align: right;\n",
       "    }\n",
       "</style>\n",
       "<table border=\"1\" class=\"dataframe\">\n",
       "  <thead>\n",
       "    <tr style=\"text-align: right;\">\n",
       "      <th></th>\n",
       "      <th>feature</th>\n",
       "      <th>type</th>\n",
       "    </tr>\n",
       "  </thead>\n",
       "  <tbody>\n",
       "    <tr>\n",
       "      <th>0</th>\n",
       "      <td>iso_code</td>\n",
       "      <td>object</td>\n",
       "    </tr>\n",
       "    <tr>\n",
       "      <th>1</th>\n",
       "      <td>continent</td>\n",
       "      <td>object</td>\n",
       "    </tr>\n",
       "    <tr>\n",
       "      <th>2</th>\n",
       "      <td>location</td>\n",
       "      <td>object</td>\n",
       "    </tr>\n",
       "    <tr>\n",
       "      <th>3</th>\n",
       "      <td>date</td>\n",
       "      <td>object</td>\n",
       "    </tr>\n",
       "    <tr>\n",
       "      <th>4</th>\n",
       "      <td>total_cases</td>\n",
       "      <td>float64</td>\n",
       "    </tr>\n",
       "    <tr>\n",
       "      <th>5</th>\n",
       "      <td>new_cases</td>\n",
       "      <td>float64</td>\n",
       "    </tr>\n",
       "    <tr>\n",
       "      <th>6</th>\n",
       "      <td>new_cases_smoothed</td>\n",
       "      <td>float64</td>\n",
       "    </tr>\n",
       "    <tr>\n",
       "      <th>7</th>\n",
       "      <td>total_deaths</td>\n",
       "      <td>float64</td>\n",
       "    </tr>\n",
       "    <tr>\n",
       "      <th>8</th>\n",
       "      <td>new_deaths</td>\n",
       "      <td>float64</td>\n",
       "    </tr>\n",
       "    <tr>\n",
       "      <th>9</th>\n",
       "      <td>new_deaths_smoothed</td>\n",
       "      <td>float64</td>\n",
       "    </tr>\n",
       "  </tbody>\n",
       "</table>\n",
       "</div>"
      ],
      "text/plain": [
       "               feature     type\n",
       "0             iso_code   object\n",
       "1            continent   object\n",
       "2             location   object\n",
       "3                 date   object\n",
       "4          total_cases  float64\n",
       "5            new_cases  float64\n",
       "6   new_cases_smoothed  float64\n",
       "7         total_deaths  float64\n",
       "8           new_deaths  float64\n",
       "9  new_deaths_smoothed  float64"
      ]
     },
     "execution_count": 58,
     "metadata": {},
     "output_type": "execute_result"
    }
   ],
   "source": [
    "tmp.head(10)"
   ]
  },
  {
   "cell_type": "code",
   "execution_count": 59,
   "metadata": {
    "scrolled": true
   },
   "outputs": [
    {
     "data": {
      "text/html": [
       "<div>\n",
       "<style scoped>\n",
       "    .dataframe tbody tr th:only-of-type {\n",
       "        vertical-align: middle;\n",
       "    }\n",
       "\n",
       "    .dataframe tbody tr th {\n",
       "        vertical-align: top;\n",
       "    }\n",
       "\n",
       "    .dataframe thead th {\n",
       "        text-align: right;\n",
       "    }\n",
       "</style>\n",
       "<table border=\"1\" class=\"dataframe\">\n",
       "  <thead>\n",
       "    <tr style=\"text-align: right;\">\n",
       "      <th></th>\n",
       "      <th>feature</th>\n",
       "      <th>type</th>\n",
       "    </tr>\n",
       "  </thead>\n",
       "  <tbody>\n",
       "    <tr>\n",
       "      <th>0</th>\n",
       "      <td>iso_code</td>\n",
       "      <td>object</td>\n",
       "    </tr>\n",
       "    <tr>\n",
       "      <th>1</th>\n",
       "      <td>continent</td>\n",
       "      <td>object</td>\n",
       "    </tr>\n",
       "    <tr>\n",
       "      <th>2</th>\n",
       "      <td>location</td>\n",
       "      <td>object</td>\n",
       "    </tr>\n",
       "    <tr>\n",
       "      <th>3</th>\n",
       "      <td>date</td>\n",
       "      <td>object</td>\n",
       "    </tr>\n",
       "    <tr>\n",
       "      <th>33</th>\n",
       "      <td>tests_units</td>\n",
       "      <td>object</td>\n",
       "    </tr>\n",
       "  </tbody>\n",
       "</table>\n",
       "</div>"
      ],
      "text/plain": [
       "        feature    type\n",
       "0      iso_code  object\n",
       "1     continent  object\n",
       "2      location  object\n",
       "3          date  object\n",
       "33  tests_units  object"
      ]
     },
     "execution_count": 59,
     "metadata": {},
     "output_type": "execute_result"
    }
   ],
   "source": [
    "tmp[tmp.type == 'object']"
   ]
  },
  {
   "cell_type": "code",
   "execution_count": 60,
   "metadata": {},
   "outputs": [
    {
     "data": {
      "text/plain": [
       "{dtype('float64'), dtype('O')}"
      ]
     },
     "execution_count": 60,
     "metadata": {},
     "output_type": "execute_result"
    }
   ],
   "source": [
    "set(tmp.type)"
   ]
  },
  {
   "cell_type": "code",
   "execution_count": null,
   "metadata": {},
   "outputs": [],
   "source": []
  },
  {
   "cell_type": "code",
   "execution_count": 61,
   "metadata": {
    "scrolled": true
   },
   "outputs": [
    {
     "data": {
      "text/html": [
       "<div>\n",
       "<style scoped>\n",
       "    .dataframe tbody tr th:only-of-type {\n",
       "        vertical-align: middle;\n",
       "    }\n",
       "\n",
       "    .dataframe tbody tr th {\n",
       "        vertical-align: top;\n",
       "    }\n",
       "\n",
       "    .dataframe thead th {\n",
       "        text-align: right;\n",
       "    }\n",
       "</style>\n",
       "<table border=\"1\" class=\"dataframe\">\n",
       "  <thead>\n",
       "    <tr style=\"text-align: right;\">\n",
       "      <th></th>\n",
       "      <th>feature</th>\n",
       "      <th>type</th>\n",
       "    </tr>\n",
       "  </thead>\n",
       "  <tbody>\n",
       "    <tr>\n",
       "      <th>4</th>\n",
       "      <td>total_cases</td>\n",
       "      <td>float64</td>\n",
       "    </tr>\n",
       "    <tr>\n",
       "      <th>5</th>\n",
       "      <td>new_cases</td>\n",
       "      <td>float64</td>\n",
       "    </tr>\n",
       "    <tr>\n",
       "      <th>6</th>\n",
       "      <td>new_cases_smoothed</td>\n",
       "      <td>float64</td>\n",
       "    </tr>\n",
       "    <tr>\n",
       "      <th>7</th>\n",
       "      <td>total_deaths</td>\n",
       "      <td>float64</td>\n",
       "    </tr>\n",
       "    <tr>\n",
       "      <th>8</th>\n",
       "      <td>new_deaths</td>\n",
       "      <td>float64</td>\n",
       "    </tr>\n",
       "    <tr>\n",
       "      <th>9</th>\n",
       "      <td>new_deaths_smoothed</td>\n",
       "      <td>float64</td>\n",
       "    </tr>\n",
       "    <tr>\n",
       "      <th>10</th>\n",
       "      <td>total_cases_per_million</td>\n",
       "      <td>float64</td>\n",
       "    </tr>\n",
       "    <tr>\n",
       "      <th>11</th>\n",
       "      <td>new_cases_per_million</td>\n",
       "      <td>float64</td>\n",
       "    </tr>\n",
       "    <tr>\n",
       "      <th>12</th>\n",
       "      <td>new_cases_smoothed_per_million</td>\n",
       "      <td>float64</td>\n",
       "    </tr>\n",
       "    <tr>\n",
       "      <th>13</th>\n",
       "      <td>total_deaths_per_million</td>\n",
       "      <td>float64</td>\n",
       "    </tr>\n",
       "    <tr>\n",
       "      <th>14</th>\n",
       "      <td>new_deaths_per_million</td>\n",
       "      <td>float64</td>\n",
       "    </tr>\n",
       "    <tr>\n",
       "      <th>15</th>\n",
       "      <td>new_deaths_smoothed_per_million</td>\n",
       "      <td>float64</td>\n",
       "    </tr>\n",
       "    <tr>\n",
       "      <th>16</th>\n",
       "      <td>reproduction_rate</td>\n",
       "      <td>float64</td>\n",
       "    </tr>\n",
       "    <tr>\n",
       "      <th>17</th>\n",
       "      <td>icu_patients</td>\n",
       "      <td>float64</td>\n",
       "    </tr>\n",
       "    <tr>\n",
       "      <th>18</th>\n",
       "      <td>icu_patients_per_million</td>\n",
       "      <td>float64</td>\n",
       "    </tr>\n",
       "    <tr>\n",
       "      <th>19</th>\n",
       "      <td>hosp_patients</td>\n",
       "      <td>float64</td>\n",
       "    </tr>\n",
       "    <tr>\n",
       "      <th>20</th>\n",
       "      <td>hosp_patients_per_million</td>\n",
       "      <td>float64</td>\n",
       "    </tr>\n",
       "    <tr>\n",
       "      <th>21</th>\n",
       "      <td>weekly_icu_admissions</td>\n",
       "      <td>float64</td>\n",
       "    </tr>\n",
       "    <tr>\n",
       "      <th>22</th>\n",
       "      <td>weekly_icu_admissions_per_million</td>\n",
       "      <td>float64</td>\n",
       "    </tr>\n",
       "    <tr>\n",
       "      <th>23</th>\n",
       "      <td>weekly_hosp_admissions</td>\n",
       "      <td>float64</td>\n",
       "    </tr>\n",
       "    <tr>\n",
       "      <th>24</th>\n",
       "      <td>weekly_hosp_admissions_per_million</td>\n",
       "      <td>float64</td>\n",
       "    </tr>\n",
       "    <tr>\n",
       "      <th>25</th>\n",
       "      <td>total_tests</td>\n",
       "      <td>float64</td>\n",
       "    </tr>\n",
       "    <tr>\n",
       "      <th>26</th>\n",
       "      <td>new_tests</td>\n",
       "      <td>float64</td>\n",
       "    </tr>\n",
       "    <tr>\n",
       "      <th>27</th>\n",
       "      <td>total_tests_per_thousand</td>\n",
       "      <td>float64</td>\n",
       "    </tr>\n",
       "    <tr>\n",
       "      <th>28</th>\n",
       "      <td>new_tests_per_thousand</td>\n",
       "      <td>float64</td>\n",
       "    </tr>\n",
       "    <tr>\n",
       "      <th>29</th>\n",
       "      <td>new_tests_smoothed</td>\n",
       "      <td>float64</td>\n",
       "    </tr>\n",
       "    <tr>\n",
       "      <th>30</th>\n",
       "      <td>new_tests_smoothed_per_thousand</td>\n",
       "      <td>float64</td>\n",
       "    </tr>\n",
       "    <tr>\n",
       "      <th>31</th>\n",
       "      <td>positive_rate</td>\n",
       "      <td>float64</td>\n",
       "    </tr>\n",
       "    <tr>\n",
       "      <th>32</th>\n",
       "      <td>tests_per_case</td>\n",
       "      <td>float64</td>\n",
       "    </tr>\n",
       "    <tr>\n",
       "      <th>34</th>\n",
       "      <td>total_vaccinations</td>\n",
       "      <td>float64</td>\n",
       "    </tr>\n",
       "    <tr>\n",
       "      <th>...</th>\n",
       "      <td>...</td>\n",
       "      <td>...</td>\n",
       "    </tr>\n",
       "    <tr>\n",
       "      <th>37</th>\n",
       "      <td>total_boosters</td>\n",
       "      <td>float64</td>\n",
       "    </tr>\n",
       "    <tr>\n",
       "      <th>38</th>\n",
       "      <td>new_vaccinations</td>\n",
       "      <td>float64</td>\n",
       "    </tr>\n",
       "    <tr>\n",
       "      <th>39</th>\n",
       "      <td>new_vaccinations_smoothed</td>\n",
       "      <td>float64</td>\n",
       "    </tr>\n",
       "    <tr>\n",
       "      <th>40</th>\n",
       "      <td>total_vaccinations_per_hundred</td>\n",
       "      <td>float64</td>\n",
       "    </tr>\n",
       "    <tr>\n",
       "      <th>41</th>\n",
       "      <td>people_vaccinated_per_hundred</td>\n",
       "      <td>float64</td>\n",
       "    </tr>\n",
       "    <tr>\n",
       "      <th>42</th>\n",
       "      <td>people_fully_vaccinated_per_hundred</td>\n",
       "      <td>float64</td>\n",
       "    </tr>\n",
       "    <tr>\n",
       "      <th>43</th>\n",
       "      <td>total_boosters_per_hundred</td>\n",
       "      <td>float64</td>\n",
       "    </tr>\n",
       "    <tr>\n",
       "      <th>44</th>\n",
       "      <td>new_vaccinations_smoothed_per_million</td>\n",
       "      <td>float64</td>\n",
       "    </tr>\n",
       "    <tr>\n",
       "      <th>45</th>\n",
       "      <td>new_people_vaccinated_smoothed</td>\n",
       "      <td>float64</td>\n",
       "    </tr>\n",
       "    <tr>\n",
       "      <th>46</th>\n",
       "      <td>new_people_vaccinated_smoothed_per_hundred</td>\n",
       "      <td>float64</td>\n",
       "    </tr>\n",
       "    <tr>\n",
       "      <th>47</th>\n",
       "      <td>stringency_index</td>\n",
       "      <td>float64</td>\n",
       "    </tr>\n",
       "    <tr>\n",
       "      <th>48</th>\n",
       "      <td>population</td>\n",
       "      <td>float64</td>\n",
       "    </tr>\n",
       "    <tr>\n",
       "      <th>49</th>\n",
       "      <td>population_density</td>\n",
       "      <td>float64</td>\n",
       "    </tr>\n",
       "    <tr>\n",
       "      <th>50</th>\n",
       "      <td>median_age</td>\n",
       "      <td>float64</td>\n",
       "    </tr>\n",
       "    <tr>\n",
       "      <th>51</th>\n",
       "      <td>aged_65_older</td>\n",
       "      <td>float64</td>\n",
       "    </tr>\n",
       "    <tr>\n",
       "      <th>52</th>\n",
       "      <td>aged_70_older</td>\n",
       "      <td>float64</td>\n",
       "    </tr>\n",
       "    <tr>\n",
       "      <th>53</th>\n",
       "      <td>gdp_per_capita</td>\n",
       "      <td>float64</td>\n",
       "    </tr>\n",
       "    <tr>\n",
       "      <th>54</th>\n",
       "      <td>extreme_poverty</td>\n",
       "      <td>float64</td>\n",
       "    </tr>\n",
       "    <tr>\n",
       "      <th>55</th>\n",
       "      <td>cardiovasc_death_rate</td>\n",
       "      <td>float64</td>\n",
       "    </tr>\n",
       "    <tr>\n",
       "      <th>56</th>\n",
       "      <td>diabetes_prevalence</td>\n",
       "      <td>float64</td>\n",
       "    </tr>\n",
       "    <tr>\n",
       "      <th>57</th>\n",
       "      <td>female_smokers</td>\n",
       "      <td>float64</td>\n",
       "    </tr>\n",
       "    <tr>\n",
       "      <th>58</th>\n",
       "      <td>male_smokers</td>\n",
       "      <td>float64</td>\n",
       "    </tr>\n",
       "    <tr>\n",
       "      <th>59</th>\n",
       "      <td>handwashing_facilities</td>\n",
       "      <td>float64</td>\n",
       "    </tr>\n",
       "    <tr>\n",
       "      <th>60</th>\n",
       "      <td>hospital_beds_per_thousand</td>\n",
       "      <td>float64</td>\n",
       "    </tr>\n",
       "    <tr>\n",
       "      <th>61</th>\n",
       "      <td>life_expectancy</td>\n",
       "      <td>float64</td>\n",
       "    </tr>\n",
       "    <tr>\n",
       "      <th>62</th>\n",
       "      <td>human_development_index</td>\n",
       "      <td>float64</td>\n",
       "    </tr>\n",
       "    <tr>\n",
       "      <th>63</th>\n",
       "      <td>excess_mortality_cumulative_absolute</td>\n",
       "      <td>float64</td>\n",
       "    </tr>\n",
       "    <tr>\n",
       "      <th>64</th>\n",
       "      <td>excess_mortality_cumulative</td>\n",
       "      <td>float64</td>\n",
       "    </tr>\n",
       "    <tr>\n",
       "      <th>65</th>\n",
       "      <td>excess_mortality</td>\n",
       "      <td>float64</td>\n",
       "    </tr>\n",
       "    <tr>\n",
       "      <th>66</th>\n",
       "      <td>excess_mortality_cumulative_per_million</td>\n",
       "      <td>float64</td>\n",
       "    </tr>\n",
       "  </tbody>\n",
       "</table>\n",
       "<p>62 rows × 2 columns</p>\n",
       "</div>"
      ],
      "text/plain": [
       "                                       feature     type\n",
       "4                                  total_cases  float64\n",
       "5                                    new_cases  float64\n",
       "6                           new_cases_smoothed  float64\n",
       "7                                 total_deaths  float64\n",
       "8                                   new_deaths  float64\n",
       "9                          new_deaths_smoothed  float64\n",
       "10                     total_cases_per_million  float64\n",
       "11                       new_cases_per_million  float64\n",
       "12              new_cases_smoothed_per_million  float64\n",
       "13                    total_deaths_per_million  float64\n",
       "14                      new_deaths_per_million  float64\n",
       "15             new_deaths_smoothed_per_million  float64\n",
       "16                           reproduction_rate  float64\n",
       "17                                icu_patients  float64\n",
       "18                    icu_patients_per_million  float64\n",
       "19                               hosp_patients  float64\n",
       "20                   hosp_patients_per_million  float64\n",
       "21                       weekly_icu_admissions  float64\n",
       "22           weekly_icu_admissions_per_million  float64\n",
       "23                      weekly_hosp_admissions  float64\n",
       "24          weekly_hosp_admissions_per_million  float64\n",
       "25                                 total_tests  float64\n",
       "26                                   new_tests  float64\n",
       "27                    total_tests_per_thousand  float64\n",
       "28                      new_tests_per_thousand  float64\n",
       "29                          new_tests_smoothed  float64\n",
       "30             new_tests_smoothed_per_thousand  float64\n",
       "31                               positive_rate  float64\n",
       "32                              tests_per_case  float64\n",
       "34                          total_vaccinations  float64\n",
       "..                                         ...      ...\n",
       "37                              total_boosters  float64\n",
       "38                            new_vaccinations  float64\n",
       "39                   new_vaccinations_smoothed  float64\n",
       "40              total_vaccinations_per_hundred  float64\n",
       "41               people_vaccinated_per_hundred  float64\n",
       "42         people_fully_vaccinated_per_hundred  float64\n",
       "43                  total_boosters_per_hundred  float64\n",
       "44       new_vaccinations_smoothed_per_million  float64\n",
       "45              new_people_vaccinated_smoothed  float64\n",
       "46  new_people_vaccinated_smoothed_per_hundred  float64\n",
       "47                            stringency_index  float64\n",
       "48                                  population  float64\n",
       "49                          population_density  float64\n",
       "50                                  median_age  float64\n",
       "51                               aged_65_older  float64\n",
       "52                               aged_70_older  float64\n",
       "53                              gdp_per_capita  float64\n",
       "54                             extreme_poverty  float64\n",
       "55                       cardiovasc_death_rate  float64\n",
       "56                         diabetes_prevalence  float64\n",
       "57                              female_smokers  float64\n",
       "58                                male_smokers  float64\n",
       "59                      handwashing_facilities  float64\n",
       "60                  hospital_beds_per_thousand  float64\n",
       "61                             life_expectancy  float64\n",
       "62                     human_development_index  float64\n",
       "63        excess_mortality_cumulative_absolute  float64\n",
       "64                 excess_mortality_cumulative  float64\n",
       "65                            excess_mortality  float64\n",
       "66     excess_mortality_cumulative_per_million  float64\n",
       "\n",
       "[62 rows x 2 columns]"
      ]
     },
     "execution_count": 61,
     "metadata": {},
     "output_type": "execute_result"
    }
   ],
   "source": [
    "tmp[tmp.type == 'float64']"
   ]
  },
  {
   "cell_type": "markdown",
   "metadata": {},
   "source": [
    "# 4. Graph"
   ]
  },
  {
   "cell_type": "markdown",
   "metadata": {},
   "source": [
    "## What type of consistencys we can check on data\n",
    "--------\n",
    "1. Cumulative values should be monotonically increasing\n",
    "- Cumulative data is not supposed to have huge jump in \n",
    "- No missing date in the data\n",
    "- Consistencies among cumulative, new and smoothed data (7 days average)\n",
    "- Is there any backward data change in the new data"
   ]
  },
  {
   "cell_type": "code",
   "execution_count": 44,
   "metadata": {
    "scrolled": false
   },
   "outputs": [
    {
     "data": {
      "text/plain": [
       "Index(['iso_code', 'continent', 'location', 'date', 'total_cases', 'new_cases',\n",
       "       'new_cases_smoothed', 'total_deaths', 'new_deaths',\n",
       "       'new_deaths_smoothed', 'total_cases_per_million',\n",
       "       'new_cases_per_million', 'new_cases_smoothed_per_million',\n",
       "       'total_deaths_per_million', 'new_deaths_per_million',\n",
       "       'new_deaths_smoothed_per_million', 'reproduction_rate', 'icu_patients',\n",
       "       'icu_patients_per_million', 'hosp_patients',\n",
       "       'hosp_patients_per_million', 'weekly_icu_admissions',\n",
       "       'weekly_icu_admissions_per_million', 'weekly_hosp_admissions',\n",
       "       'weekly_hosp_admissions_per_million', 'total_tests', 'new_tests',\n",
       "       'total_tests_per_thousand', 'new_tests_per_thousand',\n",
       "       'new_tests_smoothed', 'new_tests_smoothed_per_thousand',\n",
       "       'positive_rate', 'tests_per_case', 'tests_units', 'total_vaccinations',\n",
       "       'people_vaccinated', 'people_fully_vaccinated', 'total_boosters',\n",
       "       'new_vaccinations', 'new_vaccinations_smoothed',\n",
       "       'total_vaccinations_per_hundred', 'people_vaccinated_per_hundred',\n",
       "       'people_fully_vaccinated_per_hundred', 'total_boosters_per_hundred',\n",
       "       'new_vaccinations_smoothed_per_million',\n",
       "       'new_people_vaccinated_smoothed',\n",
       "       'new_people_vaccinated_smoothed_per_hundred', 'stringency_index',\n",
       "       'population', 'population_density', 'median_age', 'aged_65_older',\n",
       "       'aged_70_older', 'gdp_per_capita', 'extreme_poverty',\n",
       "       'cardiovasc_death_rate', 'diabetes_prevalence', 'female_smokers',\n",
       "       'male_smokers', 'handwashing_facilities', 'hospital_beds_per_thousand',\n",
       "       'life_expectancy', 'human_development_index',\n",
       "       'excess_mortality_cumulative_absolute', 'excess_mortality_cumulative',\n",
       "       'excess_mortality', 'excess_mortality_cumulative_per_million'],\n",
       "      dtype='object')"
      ]
     },
     "execution_count": 44,
     "metadata": {},
     "output_type": "execute_result"
    }
   ],
   "source": [
    "DFnew.columns"
   ]
  },
  {
   "cell_type": "code",
   "execution_count": 33,
   "metadata": {},
   "outputs": [],
   "source": [
    "import matplotlib.pyplot as plt\n",
    "%matplotlib inline\n"
   ]
  },
  {
   "cell_type": "code",
   "execution_count": null,
   "metadata": {},
   "outputs": [],
   "source": []
  },
  {
   "cell_type": "code",
   "execution_count": 56,
   "metadata": {
    "scrolled": false
   },
   "outputs": [
    {
     "data": {
      "text/plain": [
       "([<matplotlib.axis.XTick at 0x7f84d97386d8>,\n",
       "  <matplotlib.axis.XTick at 0x7f84d972bfd0>,\n",
       "  <matplotlib.axis.XTick at 0x7f84d972bcf8>],\n",
       " <a list of 3 Text xticklabel objects>)"
      ]
     },
     "execution_count": 56,
     "metadata": {},
     "output_type": "execute_result"
    },
    {
     "data": {
      "image/png": "[encoded data removed]",
      "text/plain": [
       "<Figure size 1152x720 with 1 Axes>"
      ]
     },
     "metadata": {
      "needs_background": "light"
     },
     "output_type": "display_data"
    }
   ],
   "source": [
    "plt.figure(figsize=(16.0, 10.0))\n",
    "\n",
    "tmp = DFnew[DFnew.location == 'Taiwan']\n",
    "\n",
    "plt.scatter(tmp.date, tmp.total_cases)\n",
    "plt.xlim(('2022-01-25', '2022-01-30'))\n",
    "plt.ylim((16000,20000))\n",
    "plt.xticks(['2022-01-01','2022-01-15', '2022-01-30'])\n",
    "    \n"
   ]
  },
  {
   "cell_type": "code",
   "execution_count": 51,
   "metadata": {
    "scrolled": true
   },
   "outputs": [
    {
     "name": "stdout",
     "output_type": "stream",
     "text": [
      "205750    2021-01-01\n",
      "205823    2021-03-15\n",
      "205896    2021-05-27\n",
      "205969    2021-08-08\n",
      "206042    2021-10-20\n",
      "Name: date, dtype: object\n"
     ]
    },
    {
     "data": {
      "text/plain": [
       "([<matplotlib.axis.XTick at 0x7f84d89ce8d0>,\n",
       "  <matplotlib.axis.XTick at 0x7f84d89ce160>,\n",
       "  <matplotlib.axis.XTick at 0x7f84d89c9e48>,\n",
       "  <matplotlib.axis.XTick at 0x7f84d89e9940>,\n",
       "  <matplotlib.axis.XTick at 0x7f84d89e9dd8>],\n",
       " <a list of 5 Text xticklabel objects>)"
      ]
     },
     "execution_count": 51,
     "metadata": {},
     "output_type": "execute_result"
    },
    {
     "data": {
      "image/png": "[encoded data removed]",
      "text/plain": [
       "<Figure size 1152x720 with 1 Axes>"
      ]
     },
     "metadata": {
      "needs_background": "light"
     },
     "output_type": "display_data"
    }
   ],
   "source": [
    "plt.figure(figsize=(16.0, 10.0))\n",
    "\n",
    "tmp = DFnew[DFnew.location == 'United Kingdom']\n",
    "DateStart = '2021-01-01'\n",
    "DateEnd = '2021-12-31'\n",
    "\n",
    "tmp = tmp[(tmp.date >= DateStart) & (tmp.date <= DateEnd)]\n",
    "datelist = tmp.date.iloc[0::int(len(tmp)/5)]\n",
    "print(datelist)\n",
    "plt.scatter(tmp.date, tmp.total_cases)\n",
    "# plt.xlim((DateStart, 'DateEnd))\n",
    "# plt.ylim((14000,17000))\n",
    "plt.xticks(datelist)\n",
    "    \n"
   ]
  },
  {
   "cell_type": "code",
   "execution_count": null,
   "metadata": {},
   "outputs": [],
   "source": []
  },
  {
   "cell_type": "code",
   "execution_count": null,
   "metadata": {},
   "outputs": [],
   "source": []
  },
  {
   "cell_type": "code",
   "execution_count": null,
   "metadata": {},
   "outputs": [],
   "source": []
  },
  {
   "cell_type": "markdown",
   "metadata": {},
   "source": [
    "# 5. correct some data error manually"
   ]
  },
  {
   "cell_type": "code",
   "execution_count": 66,
   "metadata": {},
   "outputs": [
    {
     "data": {
      "text/plain": [
       "Index(['iso_code', 'continent', 'location', 'date', 'total_cases', 'new_cases',\n",
       "       'new_cases_smoothed', 'total_deaths', 'new_deaths',\n",
       "       'new_deaths_smoothed', 'total_cases_per_million',\n",
       "       'new_cases_per_million', 'new_cases_smoothed_per_million',\n",
       "       'total_deaths_per_million', 'new_deaths_per_million',\n",
       "       'new_deaths_smoothed_per_million', 'reproduction_rate', 'icu_patients',\n",
       "       'icu_patients_per_million', 'hosp_patients',\n",
       "       'hosp_patients_per_million', 'weekly_icu_admissions',\n",
       "       'weekly_icu_admissions_per_million', 'weekly_hosp_admissions',\n",
       "       'weekly_hosp_admissions_per_million', 'total_tests', 'new_tests',\n",
       "       'total_tests_per_thousand', 'new_tests_per_thousand',\n",
       "       'new_tests_smoothed', 'new_tests_smoothed_per_thousand',\n",
       "       'positive_rate', 'tests_per_case', 'tests_units', 'total_vaccinations',\n",
       "       'people_vaccinated', 'people_fully_vaccinated', 'total_boosters',\n",
       "       'new_vaccinations', 'new_vaccinations_smoothed',\n",
       "       'total_vaccinations_per_hundred', 'people_vaccinated_per_hundred',\n",
       "       'people_fully_vaccinated_per_hundred', 'total_boosters_per_hundred',\n",
       "       'new_vaccinations_smoothed_per_million',\n",
       "       'new_people_vaccinated_smoothed',\n",
       "       'new_people_vaccinated_smoothed_per_hundred', 'stringency_index',\n",
       "       'population', 'population_density', 'median_age', 'aged_65_older',\n",
       "       'aged_70_older', 'gdp_per_capita', 'extreme_poverty',\n",
       "       'cardiovasc_death_rate', 'diabetes_prevalence', 'female_smokers',\n",
       "       'male_smokers', 'handwashing_facilities', 'hospital_beds_per_thousand',\n",
       "       'life_expectancy', 'human_development_index',\n",
       "       'excess_mortality_cumulative_absolute', 'excess_mortality_cumulative',\n",
       "       'excess_mortality', 'excess_mortality_cumulative_per_million'],\n",
       "      dtype='object')"
      ]
     },
     "execution_count": 66,
     "metadata": {},
     "output_type": "execute_result"
    }
   ],
   "source": [
    "DFnew.columns"
   ]
  },
  {
   "cell_type": "code",
   "execution_count": 67,
   "metadata": {
    "scrolled": true
   },
   "outputs": [
    {
     "data": {
      "text/html": [
       "<div>\n",
       "<style scoped>\n",
       "    .dataframe tbody tr th:only-of-type {\n",
       "        vertical-align: middle;\n",
       "    }\n",
       "\n",
       "    .dataframe tbody tr th {\n",
       "        vertical-align: top;\n",
       "    }\n",
       "\n",
       "    .dataframe thead th {\n",
       "        text-align: right;\n",
       "    }\n",
       "</style>\n",
       "<table border=\"1\" class=\"dataframe\">\n",
       "  <thead>\n",
       "    <tr style=\"text-align: right;\">\n",
       "      <th></th>\n",
       "      <th>new_tests_smoothed_per_thousand</th>\n",
       "      <th>positive_rate</th>\n",
       "      <th>tests_per_case</th>\n",
       "      <th>tests_units</th>\n",
       "      <th>total_vaccinations</th>\n",
       "      <th>people_vaccinated</th>\n",
       "      <th>people_fully_vaccinated</th>\n",
       "      <th>total_boosters</th>\n",
       "      <th>new_vaccinations</th>\n",
       "      <th>new_vaccinations_smoothed</th>\n",
       "    </tr>\n",
       "  </thead>\n",
       "  <tbody>\n",
       "    <tr>\n",
       "      <th>191968</th>\n",
       "      <td>1.167</td>\n",
       "      <td>0.0023</td>\n",
       "      <td>437.0</td>\n",
       "      <td>people tested</td>\n",
       "      <td>2278338.0</td>\n",
       "      <td>2232145.0</td>\n",
       "      <td>46193.0</td>\n",
       "      <td>NaN</td>\n",
       "      <td>190751.0</td>\n",
       "      <td>53266.0</td>\n",
       "    </tr>\n",
       "    <tr>\n",
       "      <th>191969</th>\n",
       "      <td>1.162</td>\n",
       "      <td>0.0023</td>\n",
       "      <td>435.3</td>\n",
       "      <td>people tested</td>\n",
       "      <td>NaN</td>\n",
       "      <td>NaN</td>\n",
       "      <td>NaN</td>\n",
       "      <td>NaN</td>\n",
       "      <td>NaN</td>\n",
       "      <td>68911.0</td>\n",
       "    </tr>\n",
       "    <tr>\n",
       "      <th>191970</th>\n",
       "      <td>1.175</td>\n",
       "      <td>0.0020</td>\n",
       "      <td>495.7</td>\n",
       "      <td>people tested</td>\n",
       "      <td>2518860.0</td>\n",
       "      <td>2472399.0</td>\n",
       "      <td>46461.0</td>\n",
       "      <td>NaN</td>\n",
       "      <td>NaN</td>\n",
       "      <td>84555.0</td>\n",
       "    </tr>\n",
       "    <tr>\n",
       "      <th>191971</th>\n",
       "      <td>1.152</td>\n",
       "      <td>0.0019</td>\n",
       "      <td>524.2</td>\n",
       "      <td>people tested</td>\n",
       "      <td>2628789.0</td>\n",
       "      <td>2581047.0</td>\n",
       "      <td>47742.0</td>\n",
       "      <td>NaN</td>\n",
       "      <td>109929.0</td>\n",
       "      <td>94885.0</td>\n",
       "    </tr>\n",
       "    <tr>\n",
       "      <th>191972</th>\n",
       "      <td>1.104</td>\n",
       "      <td>0.0018</td>\n",
       "      <td>542.2</td>\n",
       "      <td>people tested</td>\n",
       "      <td>2740540.0</td>\n",
       "      <td>2691066.0</td>\n",
       "      <td>49474.0</td>\n",
       "      <td>NaN</td>\n",
       "      <td>111751.0</td>\n",
       "      <td>105409.0</td>\n",
       "    </tr>\n",
       "    <tr>\n",
       "      <th>191973</th>\n",
       "      <td>1.080</td>\n",
       "      <td>0.0018</td>\n",
       "      <td>556.6</td>\n",
       "      <td>people tested</td>\n",
       "      <td>2899997.0</td>\n",
       "      <td>2847653.0</td>\n",
       "      <td>52344.0</td>\n",
       "      <td>NaN</td>\n",
       "      <td>159457.0</td>\n",
       "      <td>122397.0</td>\n",
       "    </tr>\n",
       "    <tr>\n",
       "      <th>191974</th>\n",
       "      <td>1.048</td>\n",
       "      <td>0.0017</td>\n",
       "      <td>591.1</td>\n",
       "      <td>people tested</td>\n",
       "      <td>3121081.0</td>\n",
       "      <td>3060361.0</td>\n",
       "      <td>60720.0</td>\n",
       "      <td>NaN</td>\n",
       "      <td>221084.0</td>\n",
       "      <td>147642.0</td>\n",
       "    </tr>\n",
       "    <tr>\n",
       "      <th>191975</th>\n",
       "      <td>1.020</td>\n",
       "      <td>0.0016</td>\n",
       "      <td>621.5</td>\n",
       "      <td>people tested</td>\n",
       "      <td>3357000.0</td>\n",
       "      <td>3284679.0</td>\n",
       "      <td>72321.0</td>\n",
       "      <td>NaN</td>\n",
       "      <td>235919.0</td>\n",
       "      <td>154095.0</td>\n",
       "    </tr>\n",
       "    <tr>\n",
       "      <th>191976</th>\n",
       "      <td>1.005</td>\n",
       "      <td>0.0014</td>\n",
       "      <td>739.6</td>\n",
       "      <td>people tested</td>\n",
       "      <td>NaN</td>\n",
       "      <td>NaN</td>\n",
       "      <td>NaN</td>\n",
       "      <td>NaN</td>\n",
       "      <td>NaN</td>\n",
       "      <td>151832.0</td>\n",
       "    </tr>\n",
       "  </tbody>\n",
       "</table>\n",
       "</div>"
      ],
      "text/plain": [
       "        new_tests_smoothed_per_thousand  positive_rate  tests_per_case  \\\n",
       "191968                            1.167         0.0023           437.0   \n",
       "191969                            1.162         0.0023           435.3   \n",
       "191970                            1.175         0.0020           495.7   \n",
       "191971                            1.152         0.0019           524.2   \n",
       "191972                            1.104         0.0018           542.2   \n",
       "191973                            1.080         0.0018           556.6   \n",
       "191974                            1.048         0.0017           591.1   \n",
       "191975                            1.020         0.0016           621.5   \n",
       "191976                            1.005         0.0014           739.6   \n",
       "\n",
       "          tests_units  total_vaccinations  people_vaccinated  \\\n",
       "191968  people tested           2278338.0          2232145.0   \n",
       "191969  people tested                 NaN                NaN   \n",
       "191970  people tested           2518860.0          2472399.0   \n",
       "191971  people tested           2628789.0          2581047.0   \n",
       "191972  people tested           2740540.0          2691066.0   \n",
       "191973  people tested           2899997.0          2847653.0   \n",
       "191974  people tested           3121081.0          3060361.0   \n",
       "191975  people tested           3357000.0          3284679.0   \n",
       "191976  people tested                 NaN                NaN   \n",
       "\n",
       "        people_fully_vaccinated  total_boosters  new_vaccinations  \\\n",
       "191968                  46193.0             NaN          190751.0   \n",
       "191969                      NaN             NaN               NaN   \n",
       "191970                  46461.0             NaN               NaN   \n",
       "191971                  47742.0             NaN          109929.0   \n",
       "191972                  49474.0             NaN          111751.0   \n",
       "191973                  52344.0             NaN          159457.0   \n",
       "191974                  60720.0             NaN          221084.0   \n",
       "191975                  72321.0             NaN          235919.0   \n",
       "191976                      NaN             NaN               NaN   \n",
       "\n",
       "        new_vaccinations_smoothed  \n",
       "191968                    53266.0  \n",
       "191969                    68911.0  \n",
       "191970                    84555.0  \n",
       "191971                    94885.0  \n",
       "191972                   105409.0  \n",
       "191973                   122397.0  \n",
       "191974                   147642.0  \n",
       "191975                   154095.0  \n",
       "191976                   151832.0  "
      ]
     },
     "execution_count": 67,
     "metadata": {},
     "output_type": "execute_result"
    }
   ],
   "source": [
    "Taiwan = DFnew[DFnew.location == 'Taiwan']\n",
    "Taiwan[(Taiwan.date > '2021-07-01') & (Taiwan.date < '2021-07-11')].iloc[:, 30:40]"
   ]
  },
  {
   "cell_type": "code",
   "execution_count": 73,
   "metadata": {},
   "outputs": [
    {
     "data": {
      "text/plain": [
       "2278338.0"
      ]
     },
     "execution_count": 73,
     "metadata": {},
     "output_type": "execute_result"
    }
   ],
   "source": [
    "2232145.0 + 46193.0"
   ]
  },
  {
   "cell_type": "code",
   "execution_count": 72,
   "metadata": {},
   "outputs": [
    {
     "data": {
      "text/html": [
       "<div>\n",
       "<style scoped>\n",
       "    .dataframe tbody tr th:only-of-type {\n",
       "        vertical-align: middle;\n",
       "    }\n",
       "\n",
       "    .dataframe tbody tr th {\n",
       "        vertical-align: top;\n",
       "    }\n",
       "\n",
       "    .dataframe thead th {\n",
       "        text-align: right;\n",
       "    }\n",
       "</style>\n",
       "<table border=\"1\" class=\"dataframe\">\n",
       "  <thead>\n",
       "    <tr style=\"text-align: right;\">\n",
       "      <th></th>\n",
       "      <th>location</th>\n",
       "      <th>date</th>\n",
       "      <th>total_vaccinations</th>\n",
       "      <th>people_vaccinated</th>\n",
       "      <th>people_fully_vaccinated</th>\n",
       "      <th>total_boosters</th>\n",
       "      <th>new_vaccinations</th>\n",
       "      <th>new_vaccinations_smoothed</th>\n",
       "      <th>total_vaccinations_per_hundred</th>\n",
       "      <th>people_vaccinated_per_hundred</th>\n",
       "      <th>people_fully_vaccinated_per_hundred</th>\n",
       "      <th>total_boosters_per_hundred</th>\n",
       "    </tr>\n",
       "  </thead>\n",
       "  <tbody>\n",
       "    <tr>\n",
       "      <th>191968</th>\n",
       "      <td>Taiwan</td>\n",
       "      <td>2021-07-02</td>\n",
       "      <td>2278338.0</td>\n",
       "      <td>2232145.0</td>\n",
       "      <td>46193.0</td>\n",
       "      <td>NaN</td>\n",
       "      <td>190751.0</td>\n",
       "      <td>53266.0</td>\n",
       "      <td>9.55</td>\n",
       "      <td>9.36</td>\n",
       "      <td>0.19</td>\n",
       "      <td>NaN</td>\n",
       "    </tr>\n",
       "    <tr>\n",
       "      <th>191969</th>\n",
       "      <td>Taiwan</td>\n",
       "      <td>2021-07-03</td>\n",
       "      <td>NaN</td>\n",
       "      <td>NaN</td>\n",
       "      <td>NaN</td>\n",
       "      <td>NaN</td>\n",
       "      <td>NaN</td>\n",
       "      <td>68911.0</td>\n",
       "      <td>NaN</td>\n",
       "      <td>NaN</td>\n",
       "      <td>NaN</td>\n",
       "      <td>NaN</td>\n",
       "    </tr>\n",
       "    <tr>\n",
       "      <th>191970</th>\n",
       "      <td>Taiwan</td>\n",
       "      <td>2021-07-04</td>\n",
       "      <td>2518860.0</td>\n",
       "      <td>2472399.0</td>\n",
       "      <td>46461.0</td>\n",
       "      <td>NaN</td>\n",
       "      <td>NaN</td>\n",
       "      <td>84555.0</td>\n",
       "      <td>10.56</td>\n",
       "      <td>10.36</td>\n",
       "      <td>0.19</td>\n",
       "      <td>NaN</td>\n",
       "    </tr>\n",
       "    <tr>\n",
       "      <th>191971</th>\n",
       "      <td>Taiwan</td>\n",
       "      <td>2021-07-05</td>\n",
       "      <td>2628789.0</td>\n",
       "      <td>2581047.0</td>\n",
       "      <td>47742.0</td>\n",
       "      <td>NaN</td>\n",
       "      <td>109929.0</td>\n",
       "      <td>94885.0</td>\n",
       "      <td>11.02</td>\n",
       "      <td>10.82</td>\n",
       "      <td>0.20</td>\n",
       "      <td>NaN</td>\n",
       "    </tr>\n",
       "    <tr>\n",
       "      <th>191972</th>\n",
       "      <td>Taiwan</td>\n",
       "      <td>2021-07-06</td>\n",
       "      <td>2740540.0</td>\n",
       "      <td>2691066.0</td>\n",
       "      <td>49474.0</td>\n",
       "      <td>NaN</td>\n",
       "      <td>111751.0</td>\n",
       "      <td>105409.0</td>\n",
       "      <td>11.49</td>\n",
       "      <td>11.28</td>\n",
       "      <td>0.21</td>\n",
       "      <td>NaN</td>\n",
       "    </tr>\n",
       "    <tr>\n",
       "      <th>191973</th>\n",
       "      <td>Taiwan</td>\n",
       "      <td>2021-07-07</td>\n",
       "      <td>2899997.0</td>\n",
       "      <td>2847653.0</td>\n",
       "      <td>52344.0</td>\n",
       "      <td>NaN</td>\n",
       "      <td>159457.0</td>\n",
       "      <td>122397.0</td>\n",
       "      <td>12.15</td>\n",
       "      <td>11.93</td>\n",
       "      <td>0.22</td>\n",
       "      <td>NaN</td>\n",
       "    </tr>\n",
       "    <tr>\n",
       "      <th>191974</th>\n",
       "      <td>Taiwan</td>\n",
       "      <td>2021-07-08</td>\n",
       "      <td>3121081.0</td>\n",
       "      <td>3060361.0</td>\n",
       "      <td>60720.0</td>\n",
       "      <td>NaN</td>\n",
       "      <td>221084.0</td>\n",
       "      <td>147642.0</td>\n",
       "      <td>13.08</td>\n",
       "      <td>12.83</td>\n",
       "      <td>0.25</td>\n",
       "      <td>NaN</td>\n",
       "    </tr>\n",
       "    <tr>\n",
       "      <th>191975</th>\n",
       "      <td>Taiwan</td>\n",
       "      <td>2021-07-09</td>\n",
       "      <td>3357000.0</td>\n",
       "      <td>3284679.0</td>\n",
       "      <td>72321.0</td>\n",
       "      <td>NaN</td>\n",
       "      <td>235919.0</td>\n",
       "      <td>154095.0</td>\n",
       "      <td>14.07</td>\n",
       "      <td>13.77</td>\n",
       "      <td>0.30</td>\n",
       "      <td>NaN</td>\n",
       "    </tr>\n",
       "    <tr>\n",
       "      <th>191976</th>\n",
       "      <td>Taiwan</td>\n",
       "      <td>2021-07-10</td>\n",
       "      <td>NaN</td>\n",
       "      <td>NaN</td>\n",
       "      <td>NaN</td>\n",
       "      <td>NaN</td>\n",
       "      <td>NaN</td>\n",
       "      <td>151832.0</td>\n",
       "      <td>NaN</td>\n",
       "      <td>NaN</td>\n",
       "      <td>NaN</td>\n",
       "      <td>NaN</td>\n",
       "    </tr>\n",
       "  </tbody>\n",
       "</table>\n",
       "</div>"
      ],
      "text/plain": [
       "       location        date  total_vaccinations  people_vaccinated  \\\n",
       "191968   Taiwan  2021-07-02           2278338.0          2232145.0   \n",
       "191969   Taiwan  2021-07-03                 NaN                NaN   \n",
       "191970   Taiwan  2021-07-04           2518860.0          2472399.0   \n",
       "191971   Taiwan  2021-07-05           2628789.0          2581047.0   \n",
       "191972   Taiwan  2021-07-06           2740540.0          2691066.0   \n",
       "191973   Taiwan  2021-07-07           2899997.0          2847653.0   \n",
       "191974   Taiwan  2021-07-08           3121081.0          3060361.0   \n",
       "191975   Taiwan  2021-07-09           3357000.0          3284679.0   \n",
       "191976   Taiwan  2021-07-10                 NaN                NaN   \n",
       "\n",
       "        people_fully_vaccinated  total_boosters  new_vaccinations  \\\n",
       "191968                  46193.0             NaN          190751.0   \n",
       "191969                      NaN             NaN               NaN   \n",
       "191970                  46461.0             NaN               NaN   \n",
       "191971                  47742.0             NaN          109929.0   \n",
       "191972                  49474.0             NaN          111751.0   \n",
       "191973                  52344.0             NaN          159457.0   \n",
       "191974                  60720.0             NaN          221084.0   \n",
       "191975                  72321.0             NaN          235919.0   \n",
       "191976                      NaN             NaN               NaN   \n",
       "\n",
       "        new_vaccinations_smoothed  total_vaccinations_per_hundred  \\\n",
       "191968                    53266.0                            9.55   \n",
       "191969                    68911.0                             NaN   \n",
       "191970                    84555.0                           10.56   \n",
       "191971                    94885.0                           11.02   \n",
       "191972                   105409.0                           11.49   \n",
       "191973                   122397.0                           12.15   \n",
       "191974                   147642.0                           13.08   \n",
       "191975                   154095.0                           14.07   \n",
       "191976                   151832.0                             NaN   \n",
       "\n",
       "        people_vaccinated_per_hundred  people_fully_vaccinated_per_hundred  \\\n",
       "191968                           9.36                                 0.19   \n",
       "191969                            NaN                                  NaN   \n",
       "191970                          10.36                                 0.19   \n",
       "191971                          10.82                                 0.20   \n",
       "191972                          11.28                                 0.21   \n",
       "191973                          11.93                                 0.22   \n",
       "191974                          12.83                                 0.25   \n",
       "191975                          13.77                                 0.30   \n",
       "191976                            NaN                                  NaN   \n",
       "\n",
       "        total_boosters_per_hundred  \n",
       "191968                         NaN  \n",
       "191969                         NaN  \n",
       "191970                         NaN  \n",
       "191971                         NaN  \n",
       "191972                         NaN  \n",
       "191973                         NaN  \n",
       "191974                         NaN  \n",
       "191975                         NaN  \n",
       "191976                         NaN  "
      ]
     },
     "execution_count": 72,
     "metadata": {},
     "output_type": "execute_result"
    }
   ],
   "source": [
    "Taiwan[(Taiwan.date > '2021-07-01') & (Taiwan.date < '2021-07-11')]\\\n",
    ".iloc[:, list(range(2,4)) + list(range(34,44)) ]"
   ]
  },
  {
   "cell_type": "code",
   "execution_count": null,
   "metadata": {},
   "outputs": [],
   "source": [
    "# Taiwan's vaccination data is missing on 2021/07/03. Interpolate it.\n",
    "# more missing before the vaccination begins and after.\n",
    "\n",
    "myindex = NarrowWW[(NarrowWW.date == '2021-07-03') & (NarrowWW.location == 'Taiwan')].index[0]\n",
    "print('myindex is ', myindex)\n",
    "print(NarrowWW.loc[myindex-2:myindex+3][['date' , 'new_vaccinations', 'new_vaccinations_smoothed',\n",
    "       'total_vaccinations_per_hundred', 'people_vaccinated_per_hundred', 'people_fully_vaccinated_per_hundred',\n",
    "       'total_boosters_per_hundred']])\n",
    "# at and loc both work while at is for a single cell and loc can be serveral cells.\n",
    "NarrowWW.at[myindex, 'people_vaccinated_per_hundred'] = 9.87\n",
    "NarrowWW.loc[myindex, 'people_fully_vaccinated_per_hundred'] = 0.19\n",
    "\n",
    "NarrowWW.at[myindex, 'total_vaccinations_per_hundred'] = \\\n",
    "NarrowWW.loc[myindex, 'people_fully_vaccinated_per_hundred'] + \\\n",
    "NarrowWW.at[myindex, 'people_vaccinated_per_hundred']\n",
    "\n",
    "NarrowWW[(NarrowWW.location == 'Taiwan') & (NarrowWW.date == '2021-07-03')]\\\n",
    "[['date', 'total_vaccinations_per_hundred', 'people_vaccinated_per_hundred', \\\n",
    "  'people_fully_vaccinated_per_hundred', 'total_boosters_per_hundred', 'days']]"
   ]
  },
  {
   "cell_type": "code",
   "execution_count": null,
   "metadata": {},
   "outputs": [],
   "source": []
  },
  {
   "cell_type": "code",
   "execution_count": null,
   "metadata": {},
   "outputs": [],
   "source": []
  },
  {
   "cell_type": "markdown",
   "metadata": {},
   "source": [
    "# 4. Read old OWID data, plan to compare it to new OWID of the same interval"
   ]
  },
  {
   "cell_type": "code",
   "execution_count": 175,
   "metadata": {},
   "outputs": [],
   "source": [
    "DF1 = pd.read_csv('~/AI/COVID-19/VaccinateByDate/owid-covid-data.csv')"
   ]
  },
  {
   "cell_type": "code",
   "execution_count": 176,
   "metadata": {},
   "outputs": [
    {
     "data": {
      "text/plain": [
       "'2022-07-12'"
      ]
     },
     "execution_count": 176,
     "metadata": {},
     "output_type": "execute_result"
    }
   ],
   "source": [
    "DF1.date.max()"
   ]
  },
  {
   "cell_type": "code",
   "execution_count": 177,
   "metadata": {},
   "outputs": [],
   "source": [
    "DF2 = DFnew[DFnew.date <= '2022-07-12']"
   ]
  },
  {
   "cell_type": "code",
   "execution_count": 178,
   "metadata": {},
   "outputs": [
    {
     "name": "stdout",
     "output_type": "stream",
     "text": [
      "(200789, 67)\n"
     ]
    },
    {
     "data": {
      "text/plain": [
       "(201620, 67)"
      ]
     },
     "execution_count": 178,
     "metadata": {},
     "output_type": "execute_result"
    }
   ],
   "source": [
    "print(DF1.shape)\n",
    "DF2.shape"
   ]
  },
  {
   "cell_type": "code",
   "execution_count": 179,
   "metadata": {},
   "outputs": [
    {
     "data": {
      "text/plain": [
       "'2022-07-12'"
      ]
     },
     "execution_count": 179,
     "metadata": {},
     "output_type": "execute_result"
    }
   ],
   "source": [
    "DF2.date.max()"
   ]
  },
  {
   "cell_type": "code",
   "execution_count": null,
   "metadata": {},
   "outputs": [],
   "source": []
  },
  {
   "cell_type": "code",
   "execution_count": null,
   "metadata": {},
   "outputs": [],
   "source": [
    "\n",
    "\n",
    "\n",
    "\n",
    "\n",
    "\n",
    "\n",
    "PopByCountry = PopByCountry[['location','population']]\n",
    "PopByCountry = PopByCountry.groupby('location').mean()\n",
    "print(PopByCountry.head())\n",
    "PopByCountryDict = PopByCountry.to_dict()\n",
    "PopByCountryDict = PopByCountryDict['population']\n",
    "# PopByCountryDict = dict(PopByCountry)\n",
    "PopByCountryDict.items()\n",
    "PopByCountry = PopByCountry.reset_index()\n",
    "PopByCountry.rename(columns={'location':'Region'}, inplace=True)\n",
    "PopByCountry.head()"
   ]
  },
  {
   "cell_type": "code",
   "execution_count": null,
   "metadata": {
    "scrolled": true
   },
   "outputs": [],
   "source": [
    "! pwd\n",
    "\n",
    "# https://raw.githubusercontent.com/owid/covid-19-data/master/public/data/variants/covid-variants.csv\n",
    "# https://github.com/owid/covid-19-data/tree/master/public/data\n",
    "# https://github.com/owid/covid-19-data/blob/master/public/data/vaccinations/vaccinations-by-manufacturer.csv\n",
    "\n"
   ]
  },
  {
   "cell_type": "markdown",
   "metadata": {},
   "source": [
    "# Convert wide timeseries data to timeseries narrow data\n",
    "----------\n",
    "WHO data, downloaded from Kaggle, is timeseries wide format, one line per country.\n",
    "Need to convert it to narrow format, one (date, country, data...) per line.\n",
    "Wide format:  total_cases, total_deaths total_recovered.\n",
    "Output narrow format: total_cases, deaths, recovered\n",
    "\n",
    "source:\n",
    "https://www.kaggle.com/sudalairajkumar/novel-corona-virus-2019-dataset#time_series_covid_19_confirmed.csv\n",
    "\n",
    "\n",
    "By Nengkuan Tu, 2020/05/24, nengkuan@yahoo.com"
   ]
  },
  {
   "cell_type": "code",
   "execution_count": null,
   "metadata": {},
   "outputs": [],
   "source": [
    "import pandas as pd\n",
    "import numpy as np\n",
    "\n",
    "from itertools import accumulate\n",
    "\n",
    "import matplotlib.pyplot as plt\n",
    "%matplotlib inline\n",
    "\n",
    "import copy as copy\n",
    "\n",
    "import time\n",
    "\n"
   ]
  },
  {
   "cell_type": "code",
   "execution_count": null,
   "metadata": {},
   "outputs": [],
   "source": [
    "CurrentVariantFocus = 'Omicron'"
   ]
  },
  {
   "cell_type": "code",
   "execution_count": null,
   "metadata": {},
   "outputs": [],
   "source": [
    "def prepend_zero_data(df):\n",
    "    \n",
    "    Lzero = [ [i-300, 0., 0., 0.] for i in range(df.iloc[0].days+300)]\n",
    "\n",
    "    dfzero = pd.DataFrame(Lzero)\n",
    "    dfzero.columns = ['days', 'total', 'total_deaths', 'VacTotal']\n",
    "    dfzero['Date'] = df.iloc[0].Date\n",
    "    dfzero['continent'] = df.iloc[0].continent\n",
    "    dfzero['Region'] = df.iloc[0].Region\n",
    "    \n",
    "    return pd.concat([dfzero, df], sort=False)\n",
    "# jj = NarrowWW[NarrowWW.Region == 'United States'][['Date', 'days', 'continent', 'Region', 'total', 'total_deaths', 'VacTotal']]\n",
    "# print(jj.head())\n",
    "# prepend_data(jj)"
   ]
  },
  {
   "cell_type": "code",
   "execution_count": null,
   "metadata": {},
   "outputs": [],
   "source": [
    "# latest_date = '9/23/2020'    #  MAKE SURE you have the right latest_date\n",
    "# dirname = '../TimeData/WideNarrow_ConfirmedDeatheRecovered/20200923/'\n",
    "IncubationDays = 14\n",
    "pd.set_option('display.width', 120)"
   ]
  },
  {
   "cell_type": "code",
   "execution_count": null,
   "metadata": {},
   "outputs": [],
   "source": [
    "def Add_days_column(data_in):\n",
    "    \n",
    "    import copy as copy\n",
    "    data = copy.copy(data_in)\n",
    "\n",
    "    reference_datetime = pd.to_datetime('2019/12/31',format='%Y/%m/%d')\n",
    "    data_col = data.columns\n",
    "    \n",
    "    if 'Date' in data_col:\n",
    "        MyDateSeries = data.Date\n",
    "    elif 'date' in data_col:\n",
    "        MyDateSeries = data.date\n",
    "    else: \n",
    "        print(\"Add_days_column: Date or date column is not found in input data\")\n",
    "        exit()\n",
    "        \n",
    "#     latest_days = (pd.to_datetime(LATEST_DATE,format='%Y/%m/%d') - reference_datetime).days\n",
    "#     print('1st \\n', data.columns)\n",
    "#     dicttmp = { 'date': 'Date'}\n",
    "#     data.rename(columns=dicttmp, inplace=True)\n",
    "#     print('2nd \\n', data.columns)\n",
    "\n",
    "#     if '-' in str(data.Date.iloc[0]):\n",
    "#         data['days'] = pd.to_datetime(data.Date,format='%Y-%m-%d')\n",
    "#     elif '/' in str(data.Date.iloc[0]): \n",
    "#         data['days'] = pd.to_datetime(data.Date,format='%Y/%m/%d')\n",
    "#     else:\n",
    "#         data['days'] = pd.to_datetime(data.Date,format='%Y%m%d')\n",
    "\n",
    "    if '-' in str(MyDateSeries.iloc[0]):\n",
    "        data['days'] = pd.to_datetime(MyDateSeries,format='%Y-%m-%d')\n",
    "    elif '/' in str(MyDateSeries.iloc[0]): \n",
    "        data['days'] = pd.to_datetime(MyDateSeries,format='%Y/%m/%d')\n",
    "    else:\n",
    "        data['days'] = pd.to_datetime(MyDateSeries,format='%Y%m%d')\n",
    "\n",
    "#     print(data.dtypes)\n",
    "    \n",
    "    b = (data.days - reference_datetime).dt.days\n",
    "    data.days = b\n",
    "    return data\n"
   ]
  },
  {
   "cell_type": "code",
   "execution_count": null,
   "metadata": {},
   "outputs": [],
   "source": []
  },
  {
   "cell_type": "code",
   "execution_count": null,
   "metadata": {},
   "outputs": [],
   "source": [
    "def newn(cumulativecases, n):\n",
    "    import copy as copy\n",
    "    accumulated = copy.copy(cumulativecases)\n",
    "    accumulated = list(accumulated)\n",
    "    tmp = [(accumulated[i] - accumulated[i-n])/n  for i in range(n, len(accumulated))]\n",
    "\n",
    "    tmp1 = list(accumulated[:n])\n",
    "    tmp2 = tmp1 + tmp\n",
    "    return pd.Series(tmp2)\n"
   ]
  },
  {
   "cell_type": "code",
   "execution_count": null,
   "metadata": {},
   "outputs": [],
   "source": [
    "def Total_n(New, n):\n",
    "    tmp1  = pd.Series([New.iloc[0:i].sum() for i in range(1, n)])\n",
    "    print(tmp1)\n",
    "    tmp2  = pd.Series([New.iloc[i-n:i].sum() for i in range(n, New.shape[0]+1)])\n",
    "    print(tmp2.tail())\n",
    "    tmp = pd.concat([tmp1,tmp2], axis=0)\n",
    "    print(tmp.tail())\n",
    "    return tmp"
   ]
  },
  {
   "cell_type": "code",
   "execution_count": null,
   "metadata": {},
   "outputs": [],
   "source": []
  },
  {
   "cell_type": "code",
   "execution_count": null,
   "metadata": {},
   "outputs": [],
   "source": [
    "def WideToNarrow(Wide, DesiredCol, DateIndex, IsDataCumulative=1):\n",
    "    # If desired, drop entries with zero latitude and longitude here (need codes).\n",
    "    # These entries are not standard areas. Examples of 0 latitude and longitude are:\n",
    "    # Diamond Prince, Michigan Department of Correction.\n",
    "    # codes to drop entries with zero latitude and longitude.\n",
    "    # entries of zero latitude and longitude can be dropped outside this subroutine.\n",
    "    \n",
    "    # INPUT:  \n",
    "    #     Wide: timeseries wide format data with something like\n",
    "    #        subregion, region, lat, longitude, date1 date2, date3, ......., daten\n",
    "    #        date format is m/d/yy\n",
    "    #     DesireCol: ['subregion', 'region', 'lat', 'longitude', 'date', 'content']\n",
    "    #         The DesireCol can be renamed to whatever you like.  \n",
    "    #         However, it should be the same size as Wide before date column.\n",
    "    #         The content is the content of the Wide.  The current sources of Wide are:\n",
    "    #         totalcases, deaths, and recovered.  However, it can be anything.\n",
    "    #     DateIndex: an integer index of the beginning of the a series of date columns in Wide.\n",
    "    #     IsDataCumulative:  1 if yes.\n",
    "    # RETURN:\n",
    "    #     Narrow format, timeseries data with columns specified in DlesiredCol.\n",
    "    #     The date format is converted to yyyymmdd.  The data is daily new data.\n",
    "    \n",
    "    \n",
    "    Narrow = pd.DataFrame({})\n",
    "    \n",
    "    for i in range(Wide.shape[0]): \n",
    "        jdata = Wide.iloc[i, DateIndex:]\n",
    "#         print(jdata.shape)\n",
    "#         print(jdata.head())\n",
    "        \n",
    "        # when the original data is cumulative data, the following statement will convert it into daily new.\n",
    "        if(IsDataCumulative == 1):\n",
    "            jnew = jdata.diff()\n",
    "            jnew.iloc[0] = jdata.iloc[0]\n",
    "    \n",
    "        \n",
    "        jnew = jnew.T\n",
    "        \n",
    "        jnew = jnew.reset_index()\n",
    "#         print(jnew.shape)\n",
    "        jcumulative = jnew.iloc[:,1].cumsum()\n",
    "        jnew7 = newn(jcumulative, 7)\n",
    "        L1 = [list(Wide.iloc[i, :DateIndex])]\n",
    "        \n",
    "        jj = pd.DataFrame(L1 * jdata.shape[0]) \n",
    "        \n",
    "        jjj = pd.concat([jj, jnew, jnew7, jcumulative], axis=1, ignore_index=True)  # must use ignore_index=True\n",
    "        \n",
    "        Narrow = pd.concat([Narrow, jjj], sort=False, ignore_index=True)  # must use ignore_index=True\n",
    "        \n",
    "    Narrow.columns = DesiredCol\n",
    "    Narrow = Add_days_column(Narrow)\n",
    "\n",
    "    return Narrow"
   ]
  },
  {
   "cell_type": "markdown",
   "metadata": {},
   "source": [
    "## read population data"
   ]
  },
  {
   "cell_type": "code",
   "execution_count": null,
   "metadata": {
    "scrolled": true
   },
   "outputs": [],
   "source": [
    "# read population data\n",
    "# https://github.com/owid/covid-19-data/blob/master/public/data/owid-covid-data.csv\n",
    "\n",
    "# pd.set_option('display.width', 120)\n",
    "PopByCountry = pd.read_csv('~/AI/COVID-19/VaccinateByDate/owid-covid-data.csv')\n",
    "PopByCountry = PopByCountry[['location','population']]\n",
    "PopByCountry = PopByCountry.groupby('location').mean()\n",
    "print(PopByCountry.head())\n",
    "PopByCountryDict = PopByCountry.to_dict()\n",
    "PopByCountryDict = PopByCountryDict['population']\n",
    "# PopByCountryDict = dict(PopByCountry)\n",
    "PopByCountryDict.items()\n",
    "PopByCountry = PopByCountry.reset_index()\n",
    "PopByCountry.rename(columns={'location':'Region'}, inplace=True)\n",
    "PopByCountry.head()"
   ]
  },
  {
   "cell_type": "markdown",
   "metadata": {},
   "source": [
    "### 1.2.2 Correct some wrong data"
   ]
  },
  {
   "cell_type": "markdown",
   "metadata": {},
   "source": [
    "#### 1.2.2.0 find what are missing."
   ]
  },
  {
   "cell_type": "code",
   "execution_count": null,
   "metadata": {},
   "outputs": [],
   "source": [
    "NarrowWW_Columns = NarrowWW.columns\n",
    "NarrowWW_Columns"
   ]
  },
  {
   "cell_type": "code",
   "execution_count": null,
   "metadata": {
    "scrolled": true
   },
   "outputs": [],
   "source": [
    "NarrowWW[(NarrowWW.location == 'Taiwan') & (NarrowWW.days > 550)].isnull().sum()"
   ]
  },
  {
   "cell_type": "markdown",
   "metadata": {},
   "source": [
    "#### 1.2.2.1 one missing data in vaccination for Taiwan"
   ]
  },
  {
   "cell_type": "code",
   "execution_count": null,
   "metadata": {
    "scrolled": false
   },
   "outputs": [],
   "source": [
    "# Taiwan's vaccination data is missing on 2021/07/03. Interpolate it.\n",
    "# more missing before the vaccination begins and after.\n",
    "\n",
    "myindex = NarrowWW[(NarrowWW.date == '2021-07-03') & (NarrowWW.location == 'Taiwan')].index[0]\n",
    "print('myindex is ', myindex)\n",
    "print(NarrowWW.loc[myindex-2:myindex+3][['date' , 'new_vaccinations', 'new_vaccinations_smoothed',\n",
    "       'total_vaccinations_per_hundred', 'people_vaccinated_per_hundred', 'people_fully_vaccinated_per_hundred',\n",
    "       'total_boosters_per_hundred']])\n",
    "# at and loc both work while at is for a single cell and loc can be serveral cells.\n",
    "NarrowWW.at[myindex, 'people_vaccinated_per_hundred'] = 9.87\n",
    "NarrowWW.loc[myindex, 'people_fully_vaccinated_per_hundred'] = 0.19\n",
    "\n",
    "NarrowWW.at[myindex, 'total_vaccinations_per_hundred'] = \\\n",
    "NarrowWW.loc[myindex, 'people_fully_vaccinated_per_hundred'] + \\\n",
    "NarrowWW.at[myindex, 'people_vaccinated_per_hundred']\n",
    "\n",
    "NarrowWW[(NarrowWW.location == 'Taiwan') & (NarrowWW.date == '2021-07-03')]\\\n",
    "[['date', 'total_vaccinations_per_hundred', 'people_vaccinated_per_hundred', \\\n",
    "  'people_fully_vaccinated_per_hundred', 'total_boosters_per_hundred', 'days']]"
   ]
  },
  {
   "cell_type": "markdown",
   "metadata": {},
   "source": [
    "#### 1.2.2.2 Check the consistency of vaccinatiion\n",
    "- This section is just for checking.  It does not need to run.\n",
    "- total_vaccinations_per_hundred, people_vaccinated_per_hundred, people_fully_vaccinated_per_hundred\n",
    "    - The above 3 columns may not be incomplete or inconsistent\n"
   ]
  },
  {
   "cell_type": "code",
   "execution_count": null,
   "metadata": {
    "scrolled": false
   },
   "outputs": [],
   "source": [
    "mylist = []\n",
    "\n",
    "# for i in ['China', 'Taiwan']:\n",
    "for i in set(NarrowWW.location) :\n",
    "    tmp = NarrowWW[NarrowWW.location == i]\n",
    "    TotalNull = tmp.total_vaccinations_per_hundred.isnull().sum()\n",
    "    Vac1Null = tmp.people_vaccinated_per_hundred.isnull().sum()\n",
    "    if(TotalNull != Vac1Null) : \n",
    "        mylist = mylist + [[i, Vac1Null, TotalNull,  Vac1Null - TotalNull]]\n",
    "#         print(i, Vac1Null, TotalNull,  Vac1Null - TotalNull)\n",
    "#     else: print(i)\n",
    "        \n",
    "print(pd.DataFrame(mylist, columns = ['a', 'b', 'c', 'd']).sort_values('d').head())\n"
   ]
  },
  {
   "cell_type": "code",
   "execution_count": null,
   "metadata": {
    "scrolled": true
   },
   "outputs": [],
   "source": [
    "# for i in ['China', 'United Arab Emirates', 'Saudi Arabia', 'Australia', 'Albania', 'Guernsey', 'Macao', 'Pakistan']:\n",
    "#     tmp = NarrowWW[NarrowWW.days > 450]\n",
    "#     print(i, tmp[tmp.location == i].shape)\n",
    "#     print(tmp[tmp.location == i]\\\n",
    "# [['total_vaccinations_per_hundred', 'people_vaccinated_per_hundred', 'people_fully_vaccinated_per_hundred']]\\\n",
    "# .isnull().sum())"
   ]
  },
  {
   "cell_type": "code",
   "execution_count": null,
   "metadata": {},
   "outputs": [],
   "source": [
    "tmp = NarrowWW[NarrowWW.location == 'Bahrain'].iloc[:, 39:42]\n",
    "tmp2 = tmp.dropna(axis = 0, subset=['people_vaccinated_per_hundred'])\n",
    "tmp2.head()"
   ]
  },
  {
   "cell_type": "code",
   "execution_count": null,
   "metadata": {},
   "outputs": [],
   "source": [
    "tmp = NarrowWW[NarrowWW.location == 'United Arab Emirates'].iloc[:, 39:42]\n",
    "tmp2 = tmp.dropna(axis = 0, subset=['total_vaccinations_per_hundred'])\n",
    "tmp2.head()"
   ]
  },
  {
   "cell_type": "markdown",
   "metadata": {},
   "source": [
    "### 1.2.3 Redefine NarrowWW so that it contains only interested columns and these columns are renamed.\n",
    "- days column is added here"
   ]
  },
  {
   "cell_type": "code",
   "execution_count": null,
   "metadata": {
    "scrolled": true
   },
   "outputs": [],
   "source": [
    "Col_Key_Orig_NarrowWW = ['date',  'continent', 'location', 'total_cases', 'new_cases', 'new_cases_smoothed', \\\n",
    "                         'total_deaths', 'new_deaths', 'new_deaths_smoothed', 'population',                         \n",
    "                         'total_cases_per_million', 'new_cases_per_million',\n",
    "       'new_cases_smoothed_per_million', 'total_deaths_per_million', 'new_deaths_per_million',\n",
    "       'new_deaths_smoothed_per_million',                         \n",
    "       'total_tests', 'new_tests', 'total_tests_per_thousand', 'new_tests_per_thousand',\n",
    "        'new_tests_smoothed', 'new_tests_smoothed_per_thousand',\n",
    "       'positive_rate', 'tests_per_case', 'tests_units',\n",
    "        'total_vaccinations_per_hundred', 'people_vaccinated_per_hundred', 'people_fully_vaccinated_per_hundred',\n",
    "        'total_boosters_per_hundred', 'median_age', 'aged_65_older', 'aged_70_older', 'life_expectancy']\n",
    "Col_Key_Renamed_NarrowWW = ['Date', 'continent', 'Region', 'total', 'new', 'new7',  \n",
    "                            'total_deaths', 'new_deaths', 'new_deaths7', 'Pop',                            \n",
    "                            'total_per_M', 'new_per_M',\n",
    "       'new7_per_M', 'total_deaths_per_M', 'new_deaths_per_M',\n",
    "       'new_deaths7_per_M',\n",
    "        'total_tests', 'new_tests', 'total_TestsPerK', 'TestsPerK',\n",
    "        'new_tests7', 'new_tests7PerK',\n",
    "       'positive_rate', 'tests_per_case', 'tests_units',\n",
    "        'VacTotal', 'Vac1', 'Vac2', 'Vac3',\n",
    "        'median_age', 'aged_65_up', 'aged_70_up', 'life_expectancy']\n",
    "\n",
    "NarrowWW = NarrowWW[Col_Key_Orig_NarrowWW]\n",
    "NarrowWW.columns = Col_Key_Renamed_NarrowWW\n",
    "NarrowWW.drop(columns=['continent'])\n",
    "NarrowWW = Add_days_column(NarrowWW)\n",
    "NarrowWW.head()"
   ]
  },
  {
   "cell_type": "code",
   "execution_count": null,
   "metadata": {},
   "outputs": [],
   "source": [
    "NarrowOrig[NarrowOrig.location == 'Lower middle income'][['date',  'location',  'total_cases', \\\n",
    "            'median_age', 'aged_65_older', 'aged_70_older', 'life_expectancy']].iloc[333::900]"
   ]
  },
  {
   "cell_type": "code",
   "execution_count": null,
   "metadata": {
    "scrolled": true
   },
   "outputs": [],
   "source": [
    "NarrowOrig[NarrowOrig.location == 'Upper middle income'][['date',  'location',  'total_cases', \\\n",
    "            'median_age', 'aged_65_older', 'aged_70_older', 'life_expectancy']].iloc[333::200]"
   ]
  },
  {
   "cell_type": "code",
   "execution_count": null,
   "metadata": {},
   "outputs": [],
   "source": [
    "NarrowOrig[NarrowOrig.location == 'Lower middle income'][['date',  'location',  'total_cases', \\\n",
    "            'median_age', 'aged_65_older', 'aged_70_older', 'life_expectancy']].iloc[333::200]"
   ]
  },
  {
   "cell_type": "code",
   "execution_count": null,
   "metadata": {},
   "outputs": [],
   "source": [
    "NarrowOrig[NarrowOrig.location == 'Peru'][['date',  'location',  'total_cases', \\\n",
    "            'median_age', 'aged_65_older', 'aged_70_older', 'life_expectancy']].iloc[333::200]"
   ]
  },
  {
   "cell_type": "markdown",
   "metadata": {},
   "source": [
    "### 1.2.4 create some subset of the data for future use"
   ]
  },
  {
   "cell_type": "code",
   "execution_count": null,
   "metadata": {
    "scrolled": false
   },
   "outputs": [],
   "source": [
    "WW = NarrowWW[NarrowWW.Region == 'World']\n",
    "Taiwan = NarrowWW[NarrowWW.Region == 'Taiwan']\n",
    "WW.head()"
   ]
  },
  {
   "cell_type": "code",
   "execution_count": null,
   "metadata": {},
   "outputs": [],
   "source": [
    "Taiwan.columns"
   ]
  },
  {
   "cell_type": "code",
   "execution_count": null,
   "metadata": {
    "scrolled": true
   },
   "outputs": [],
   "source": [
    "Taiwan.tail()"
   ]
  },
  {
   "cell_type": "code",
   "execution_count": null,
   "metadata": {},
   "outputs": [],
   "source": [
    "tmp = copy.copy(Taiwan)\n",
    "tmp1 = tmp[[ 'VacTotal', 'Vac1', 'Vac2', 'Vac3']]\n",
    "tmp1.fillna(method='ffill', inplace=True)\n",
    "tmp.drop(axis=1, columns = [ 'VacTotal', 'Vac1', 'Vac2', 'Vac3'])\n",
    "tmp = pd.concat((tmp, tmp1), sort=False)\n",
    "tmp.tail()"
   ]
  },
  {
   "cell_type": "code",
   "execution_count": null,
   "metadata": {},
   "outputs": [],
   "source": [
    "NarrowOrig.columns"
   ]
  },
  {
   "cell_type": "code",
   "execution_count": null,
   "metadata": {},
   "outputs": [],
   "source": [
    "NarrowOrig[NarrowOrig.location == 'Morocco'][['date', \\\n",
    "                                             'excess_mortality_cumulative_absolute',\n",
    "       'excess_mortality_cumulative', 'excess_mortality',\\\n",
    "        'excess_mortality_cumulative_per_million', 'total_deaths_per_million']].tail(50)"
   ]
  },
  {
   "cell_type": "code",
   "execution_count": null,
   "metadata": {},
   "outputs": [],
   "source": [
    " NarrowOrig[(NarrowOrig.continent.notnull())]"
   ]
  },
  {
   "cell_type": "code",
   "execution_count": null,
   "metadata": {
    "scrolled": true
   },
   "outputs": [],
   "source": [
    "NarrowOrigCurrentDate = NarrowOrig[(NarrowOrig.date == '2022-07-12') \\\n",
    "                                   & (NarrowOrig.continent.notnull()) ].fillna(0)\n",
    "NarrowOrigCurrentDate.to_csv('NarrowOrigCurrentDate.csv', index=False)\n",
    "print(NarrowOrigCurrentDate.head())\n",
    "print(NarrowOrigCurrentDate.shape)\n",
    "junk = pd.read_csv('NarrowOrigCurrentDate.csv')\n",
    "print(junk.head())\n",
    "print(junk.shape)"
   ]
  },
  {
   "cell_type": "code",
   "execution_count": null,
   "metadata": {
    "scrolled": true
   },
   "outputs": [],
   "source": [
    "junk[['location', 'date',     \n",
    "       'total_vaccinations_per_hundred', 'people_vaccinated_per_hundred', 'people_fully_vaccinated_per_hundred',\n",
    "       'total_boosters_per_hundred', 'total_cases_per_million', 'new_cases_per_million',\n",
    "       'new_cases_smoothed_per_million', 'total_deaths_per_million', 'new_deaths_per_million']]"
   ]
  },
  {
   "cell_type": "markdown",
   "metadata": {},
   "source": [
    "### 1.2.5 Check and remove rows with continent or World as location \n",
    "------------\n",
    "- Collection of countries like Asia, World are included in the dataset.  They need to be removed so that there is no multiple count of the statistics.\n",
    "- These rows has NaN value for its continent column."
   ]
  },
  {
   "cell_type": "code",
   "execution_count": null,
   "metadata": {},
   "outputs": [],
   "source": [
    "NarrowAll = copy.copy(NarrowWW)"
   ]
  },
  {
   "cell_type": "code",
   "execution_count": null,
   "metadata": {
    "scrolled": false
   },
   "outputs": [],
   "source": [
    "NarrowWW[NarrowWW.Region == 'Asia'].head(3)"
   ]
  },
  {
   "cell_type": "code",
   "execution_count": null,
   "metadata": {
    "scrolled": false
   },
   "outputs": [],
   "source": [
    "NarrowWW[NarrowWW.Region == 'World'].tail(3)"
   ]
  },
  {
   "cell_type": "code",
   "execution_count": null,
   "metadata": {
    "scrolled": false
   },
   "outputs": [],
   "source": [
    "# this shows that all locations with missing continent are collections of multiple countries.\n",
    "set(NarrowWW[NarrowWW.continent != NarrowWW.continent ].Region)"
   ]
  },
  {
   "cell_type": "code",
   "execution_count": null,
   "metadata": {
    "scrolled": true
   },
   "outputs": [],
   "source": [
    "SetContinents = ['Africa',\n",
    " 'Asia',\n",
    " 'Europe',\n",
    " 'European Union',\n",
    " 'North America',\n",
    " 'Oceania',\n",
    " 'South America',\n",
    " 'World']\n",
    "\n",
    "NarrowContinent = pd.DataFrame([])\n",
    "# NarrowContinent = NarrowWW[NarrowWW.Region in SetContinents]\n",
    "for i in SetContinents:\n",
    "    NarrowContinent = pd.concat([NarrowContinent,NarrowWW[NarrowWW.Region == i]])\n",
    "                                             \n",
    "NarrowContinent.head()"
   ]
  },
  {
   "cell_type": "code",
   "execution_count": null,
   "metadata": {},
   "outputs": [],
   "source": [
    "SetIncome = ['Low income', 'Lower middle income',\n",
    " 'Upper middle income', 'High income',]\n",
    "\n",
    "NarrowIncome = pd.DataFrame([])\n",
    "# NarrowContinent = NarrowWW[NarrowWW.Region in SetContinents]\n",
    "for i in SetIncome:\n",
    "    NarrowIncome = pd.concat([NarrowIncome,NarrowWW[NarrowWW.Region == i]])\n",
    "                                             \n",
    "NarrowIncome.head()"
   ]
  },
  {
   "cell_type": "code",
   "execution_count": null,
   "metadata": {},
   "outputs": [],
   "source": [
    "# remove rows with missing 'continent' value.  This step will remove all locations named Afriica, Asia, World ...\n",
    "print(NarrowWW.shape)\n",
    "NarrowWW.dropna(subset=['continent'], inplace=True)\n",
    "print(NarrowWW.shape)"
   ]
  },
  {
   "cell_type": "code",
   "execution_count": null,
   "metadata": {},
   "outputs": [],
   "source": [
    "# To confirm whether all \"collections of countries\" are removed.  \n",
    "# If the following statement return empty set, then we are done.\n",
    "set(NarrowWW[NarrowWW.continent != NarrowWW.continent ].Region)"
   ]
  },
  {
   "cell_type": "code",
   "execution_count": null,
   "metadata": {},
   "outputs": [],
   "source": [
    "NarrowWW.columns"
   ]
  },
  {
   "cell_type": "markdown",
   "metadata": {},
   "source": [
    "### 1.2.6 Check some consistency\n",
    "- not required"
   ]
  },
  {
   "cell_type": "markdown",
   "metadata": {},
   "source": [
    "# 2. Some analysis"
   ]
  },
  {
   "cell_type": "markdown",
   "metadata": {},
   "source": [
    "## 2.1 Clean up WW, NarrowIncome, NarrowContinent data\n",
    "--------\n",
    "- fillna(method='ffill', inplace=True) on total type of data"
   ]
  },
  {
   "cell_type": "code",
   "execution_count": null,
   "metadata": {},
   "outputs": [],
   "source": [
    "ALL = set(NarrowContinent.Region)\n",
    "WW = pd.DataFrame([], columns=NarrowContinent.columns)\n",
    "for i in ALL:\n",
    "    tmp = NarrowContinent[NarrowContinent.Region == i]\n",
    "    tmp.fillna(method='ffill', inplace=True)\n",
    "    WW = pd.concat((WW, tmp), axis = 0)\n",
    "NarrowContinent = WW\n",
    "    \n",
    "ALL = set(NarrowIncome.Region)\n",
    "WW = pd.DataFrame([], columns=NarrowIncome.columns)\n",
    "for i in ALL:\n",
    "    tmp = NarrowIncome[NarrowIncome.Region == i]\n",
    "    tmp.fillna(method='ffill', inplace=True)\n",
    "    WW = pd.concat((WW, tmp), axis = 0)\n",
    "NarrowIncome = WW\n",
    "\n",
    "ALL = set(NarrowWW.Region)\n",
    "WW = pd.DataFrame([], columns=NarrowWW.columns)\n",
    "for i in ALL:\n",
    "    tmp = NarrowWW[NarrowWW.Region == i]\n",
    "    tmp.fillna(method='ffill', inplace=True)\n",
    "    WW = pd.concat((WW, tmp), axis = 0)"
   ]
  },
  {
   "cell_type": "code",
   "execution_count": null,
   "metadata": {
    "scrolled": true
   },
   "outputs": [],
   "source": [
    "WW[WW.Region == 'United States'].tail(10)"
   ]
  },
  {
   "cell_type": "markdown",
   "metadata": {},
   "source": [
    "## 2.2 select the current totals for analysis"
   ]
  },
  {
   "cell_type": "code",
   "execution_count": null,
   "metadata": {
    "scrolled": true
   },
   "outputs": [],
   "source": [
    "WWCurrentDate = WW[(WW.Date == '2022-07-12') ].fillna(0)\n",
    "WWCurrentDate.to_csv('WWCurrentDate.csv', index=False)\n",
    "print(WWCurrentDate.head())\n",
    "print(WWCurrentDate.shape)\n",
    "junk = pd.read_csv('WWCurrentDate.csv')\n",
    "print(junk.head())\n",
    "print(junk.shape)\n",
    "\n",
    "IncomeCurrentDate = NarrowIncome[(NarrowIncome.Date == '2022-07-12') ].fillna(0)\n",
    "ContinentCurrentDate = NarrowContinent[(NarrowContinent.Date == '2022-07-12') ].fillna(0)"
   ]
  },
  {
   "cell_type": "code",
   "execution_count": null,
   "metadata": {},
   "outputs": [],
   "source": [
    "# IncomeCurrentDate.sort_values('aged_70_up', ascending=False)\\\n",
    "# [['Region', 'total_deaths_per_M']].sort_values('total_deaths_per_M')\n",
    "IncomeCurrentDate.sort_values('aged_70_up', ascending=False)\\\n",
    "[['Region', 'total_per_M']].sort_values('total_per_M')"
   ]
  },
  {
   "cell_type": "code",
   "execution_count": null,
   "metadata": {},
   "outputs": [],
   "source": []
  },
  {
   "cell_type": "code",
   "execution_count": null,
   "metadata": {
    "scrolled": true
   },
   "outputs": [],
   "source": [
    "IncomeCurrentDate.sort_values('total_deaths_per_M', ascending=True)\\\n",
    "[['Region', 'total_deaths_per_M']].head(25)"
   ]
  },
  {
   "cell_type": "code",
   "execution_count": null,
   "metadata": {},
   "outputs": [],
   "source": [
    "WWCurrentDate[WWCurrentDate.continent == 'Africa'].sort_values('total_deaths_per_M', ascending=False)\\\n",
    "[['Region','total_deaths_per_M']].iloc[:31].rename(columns={'total_deaths_per_M':'TotalDeathsPerM'})"
   ]
  },
  {
   "cell_type": "code",
   "execution_count": null,
   "metadata": {},
   "outputs": [],
   "source": [
    "WWCurrentDate[WWCurrentDate.Region == 'Taiwan'].iloc[0]"
   ]
  },
  {
   "cell_type": "code",
   "execution_count": null,
   "metadata": {},
   "outputs": [],
   "source": [
    "WWCurrentDate.sort_values('total_deaths_per_M', ascending=False)\\\n",
    "[['Region','total_deaths_per_M']].iloc[:31].rename(columns={'total_deaths_per_M':'TotalDeathsPerM'})"
   ]
  },
  {
   "cell_type": "code",
   "execution_count": null,
   "metadata": {
    "scrolled": true
   },
   "outputs": [],
   "source": [
    "WWCurrentDate[WWCurrentDate.continent == 'Africa'][['Region', 'total_TestsPerK' ]]\\\n",
    ".sort_values('total_TestsPerK' , ascending = False)"
   ]
  },
  {
   "cell_type": "code",
   "execution_count": null,
   "metadata": {
    "scrolled": true
   },
   "outputs": [],
   "source": [
    "WWCurrentDate[WWCurrentDate.continent == 'Asia'][['Region', 'total_TestsPerK' ]]\\\n",
    ".sort_values('total_TestsPerK' , ascending = False)"
   ]
  },
  {
   "cell_type": "code",
   "execution_count": null,
   "metadata": {},
   "outputs": [],
   "source": [
    "WW[WW.Region == 'Australia']"
   ]
  },
  {
   "cell_type": "code",
   "execution_count": null,
   "metadata": {
    "scrolled": true
   },
   "outputs": [],
   "source": [
    "WWCurrentDate[WWCurrentDate.continent == 'North America'][['Region', 'total_TestsPerK' ]]\\\n",
    ".sort_values('total_TestsPerK' , ascending = False)"
   ]
  },
  {
   "cell_type": "code",
   "execution_count": null,
   "metadata": {
    "scrolled": true
   },
   "outputs": [],
   "source": [
    "WWCurrentDate.columns"
   ]
  },
  {
   "cell_type": "code",
   "execution_count": null,
   "metadata": {},
   "outputs": [],
   "source": [
    "plt.figure(figsize=(12,8))\n",
    "plt.scatter(WWCurrentDate.total_TestsPerK, WWCurrentDate.total_per_M/1000)\n",
    "plt.xlabel('total_TestsPerK', fontsize=20)\n",
    "plt.ylabel('total_per_M/1000', fontsize=20)\n",
    "plt.xticks(fontsize=16)\n",
    "plt.yticks(fontsize=16)\n",
    "# plt.xlim(0, 3000)\n",
    "# plt.ylim(0, 300)"
   ]
  },
  {
   "cell_type": "code",
   "execution_count": null,
   "metadata": {
    "scrolled": true
   },
   "outputs": [],
   "source": [
    "WWCurrentDate[WWCurrentDate.total_TestsPerK < 1].sort_values('total_TestsPerK')\\\n",
    "[['continent', 'Region', \n",
    "       'total_per_M',  'total_deaths_per_M',\n",
    "       'total_TestsPerK']]"
   ]
  },
  {
   "cell_type": "code",
   "execution_count": null,
   "metadata": {},
   "outputs": [],
   "source": [
    "jjj = WWCurrentDate[WWCurrentDate.total_TestsPerK > 1].sort_values('total_TestsPerK')\\\n",
    "[['continent', 'Region', \n",
    "       'total_per_M',  'total_deaths_per_M',\n",
    "       'total_TestsPerK']]\n",
    "\n",
    "jjj['TestPosRate'] = jjj.total_per_M / jjj.total_TestsPerK/1000\n",
    "jjj.sort_values('TestPosRate', ascending=False).head(16)\n",
    "# jjj.shape"
   ]
  },
  {
   "cell_type": "code",
   "execution_count": null,
   "metadata": {},
   "outputs": [],
   "source": [
    "jjj[jjj.Region == 'Taiwan'].iloc[0]\n"
   ]
  },
  {
   "cell_type": "code",
   "execution_count": null,
   "metadata": {},
   "outputs": [],
   "source": [
    "WWCurrentDate[WWCurrentDate.Region == 'United States'].iloc[0]\n"
   ]
  },
  {
   "cell_type": "code",
   "execution_count": null,
   "metadata": {},
   "outputs": [],
   "source": [
    "173195/545861"
   ]
  },
  {
   "cell_type": "code",
   "execution_count": null,
   "metadata": {},
   "outputs": [],
   "source": [
    "set(jjj.continent)"
   ]
  },
  {
   "cell_type": "code",
   "execution_count": null,
   "metadata": {
    "scrolled": true
   },
   "outputs": [],
   "source": [
    "jjj[(jjj.total_TestsPerK > 10000) & (jjj.TestPosRate > 0) ]"
   ]
  },
  {
   "cell_type": "code",
   "execution_count": null,
   "metadata": {},
   "outputs": [],
   "source": [
    "jjj.columns"
   ]
  },
  {
   "cell_type": "code",
   "execution_count": null,
   "metadata": {
    "scrolled": false
   },
   "outputs": [],
   "source": [
    "plt.figure(figsize=(16,9))\n",
    "# mycolor = ['g', 'b', 'k', 'y', 'c', 'r']\n",
    "# mycontinent = ['Asia', 'Europe', 'North America', 'Oceania', 'South America', 'Africa']\n",
    "mycolor = ['b', 'k', 'y', 'c']\n",
    "mycontinent = [ 'Europe', 'North America', 'Oceania', 'South America']\n",
    "mycolor = ['r']\n",
    "mycontinent = ['Africa']\n",
    "# mycolor = ['g']\n",
    "# mycontinent = ['Asia']\n",
    "# mycolor = ['b']\n",
    "# mycontinent = ['Europe']\n",
    "j = 0\n",
    "for j in range(len(mycontinent)):\n",
    "    jjjoneContinent = jjj[jjj.continent == mycontinent[j]]\n",
    "#     print(mycontinent[j], jjjoneContinent.shape)\n",
    "#     print(jjjoneContinent[['Region', 'total_per_M', 'total_deaths_per_M', 'total_TestsPerK', 'TestPosRate']].sort_values('total_TestsPerK'))\n",
    "\n",
    "#     plt.scatter(jjjoneContinent.total_TestsPerK, \\\n",
    "#                 jjjoneContinent.TestPosRate, c=mycolor[j], alpha=0.4+0.1*j, s=200)\n",
    "    plt.scatter(jjjoneContinent.total_TestsPerK, \\\n",
    "                jjjoneContinent.total_per_M, c=mycolor[j], alpha=0.5+0.1*j, s=200)\n",
    "    j = j+1\n",
    "plt.xlabel('total_TestsPerK', fontsize=24)\n",
    "plt.ylabel('Total Cases Per M', fontsize=24)\n",
    "# plt.ylabel('Test Positive Rate', fontsize=24)\n",
    "# plt.legend(mycontinent, fontsize=24)\n",
    "plt.xticks(fontsize=24)\n",
    "plt.yticks(fontsize=24)\n",
    "plt.grid()\n",
    "plt.xlim(0, 100)\n",
    "plt.ylim(0, 10000)"
   ]
  },
  {
   "cell_type": "code",
   "execution_count": null,
   "metadata": {},
   "outputs": [],
   "source": []
  },
  {
   "cell_type": "code",
   "execution_count": null,
   "metadata": {},
   "outputs": [],
   "source": [
    "jjjoneContinent.sort_values('total_TestsPerK').shape"
   ]
  },
  {
   "cell_type": "code",
   "execution_count": null,
   "metadata": {},
   "outputs": [],
   "source": [
    "jjjoneContinent"
   ]
  },
  {
   "cell_type": "code",
   "execution_count": null,
   "metadata": {},
   "outputs": [],
   "source": [
    "jjjoneContinent.sort_values('total_TestsPerK').iloc[34:]"
   ]
  },
  {
   "cell_type": "code",
   "execution_count": null,
   "metadata": {},
   "outputs": [],
   "source": [
    "jjjoneContinent.sort_values('total_TestsPerK')"
   ]
  },
  {
   "cell_type": "code",
   "execution_count": null,
   "metadata": {},
   "outputs": [],
   "source": []
  },
  {
   "cell_type": "code",
   "execution_count": null,
   "metadata": {},
   "outputs": [],
   "source": [
    "# jjj[(jjj.total_TestsPerK > 5000) & (jjj.TestPosRate < 1000)].sort_values('total_TestsPerK', ascending=False)\n",
    "jjj[(jjj.total_TestsPerK > 0) & (jjj.TestPosRate > 0.3)].sort_values('TestPosRate', ascending=False)"
   ]
  },
  {
   "cell_type": "code",
   "execution_count": null,
   "metadata": {
    "scrolled": true
   },
   "outputs": [],
   "source": [
    "jjj[(jjj.continent == 'Africa')].sort_values('total_TestsPerK', ascending=False)"
   ]
  },
  {
   "cell_type": "code",
   "execution_count": null,
   "metadata": {
    "scrolled": true
   },
   "outputs": [],
   "source": [
    "jjj[(jjj.continent == 'Africa')].sort_values('TestPosRate', ascending=False).shape"
   ]
  },
  {
   "cell_type": "code",
   "execution_count": null,
   "metadata": {},
   "outputs": [],
   "source": [
    "plt.figure(figsize=(12,8))\n",
    "plt.scatter(WWCurrentDate.aged_70_up, WWCurrentDate.total_deaths_per_M)\n",
    "plt.xlabel('aged_70_up', fontsize=20)\n",
    "plt.ylabel('total_deaths_per_M', fontsize=20)"
   ]
  },
  {
   "cell_type": "code",
   "execution_count": null,
   "metadata": {
    "scrolled": false
   },
   "outputs": [],
   "source": [
    "plt.figure(figsize=(12,8))\n",
    "plt.scatter(WWCurrentDate.VacTotal, WWCurrentDate.total_deaths_per_M)\n",
    "plt.xlabel('Vaccination', fontsize=20)\n",
    "plt.ylabel('total_deaths_per_M', fontsize=20)"
   ]
  },
  {
   "cell_type": "code",
   "execution_count": null,
   "metadata": {},
   "outputs": [],
   "source": []
  },
  {
   "cell_type": "code",
   "execution_count": null,
   "metadata": {},
   "outputs": [],
   "source": []
  },
  {
   "cell_type": "markdown",
   "metadata": {},
   "source": [
    "# ??????. Special Project"
   ]
  },
  {
   "cell_type": "markdown",
   "metadata": {},
   "source": [
    "## 2.1 WW statistics"
   ]
  },
  {
   "cell_type": "code",
   "execution_count": null,
   "metadata": {},
   "outputs": [],
   "source": [
    "Taiwan = NarrowWW[NarrowWW.Region == 'Taiwan']"
   ]
  },
  {
   "cell_type": "code",
   "execution_count": null,
   "metadata": {},
   "outputs": [],
   "source": [
    "Taiwan.columns"
   ]
  },
  {
   "cell_type": "code",
   "execution_count": null,
   "metadata": {
    "scrolled": true
   },
   "outputs": [],
   "source": [
    "T2 = copy.copy(Taiwan)\n",
    "T2['death_rate'] = T2.total_deaths/T2.total\n",
    "\n",
    "print(T2[['Date', 'Region', 'total', 'new7', 'total_deaths', 'new_deaths']].tail())"
   ]
  },
  {
   "cell_type": "code",
   "execution_count": null,
   "metadata": {},
   "outputs": [],
   "source": []
  },
  {
   "cell_type": "code",
   "execution_count": null,
   "metadata": {},
   "outputs": [],
   "source": [
    "import matplotlib.pyplot as plt\n",
    "import seaborn as sns\n",
    "\n",
    "plt.figure(figsize=(20.0, 12.0))\n",
    "# plt.yscale('log')\n",
    "# plt.ylim(0, 10000)\n",
    "plt.scatter(T2.days, T2.death_rate, alpha=0.7)\n",
    "plt.xlabel('Days since 20191231, 20210514 is at Days 500', fontsize=24)\n",
    "plt.ylabel('Death% by confirmed cases', fontsize=24)\n",
    "plt.xticks(fontsize=16)\n",
    "plt.yticks(fontsize=16)\n",
    "plt.text(501, 0.0,'Taiwan outbreak on 20210515', va='bottom', rotation=90, fontsize=20)\n",
    "plt.text(531, 0.0,'Taiwan begin vaccination for age 75+', va='bottom', rotation=90, fontsize=20)\n",
    "plt.text(540, 0.007,'and nursing home on 20210614', va='bottom', rotation=90, fontsize=20)\n",
    "plt.legend(['Taiwan'], fontsize=24)\n",
    "# sns.pairplot(tmp[tmp.Region == 'Italy'])\n",
    "# sns.heatmap(WideWW[WideWW.Region == 'Italy'].corr())\n",
    "plt.title('Cumulatiive Death Rate by Day up to 2021/7/22', fontsize=32)\n",
    "plt.show()"
   ]
  },
  {
   "cell_type": "markdown",
   "metadata": {},
   "source": [
    "## 2.2 find worst hit region by new_cases_smoothed_per_million (new7_per_M)"
   ]
  },
  {
   "cell_type": "code",
   "execution_count": null,
   "metadata": {},
   "outputs": [],
   "source": [
    "myNarrow = copy.copy(NarrowWW)\n",
    "myNarrow.columns"
   ]
  },
  {
   "cell_type": "code",
   "execution_count": null,
   "metadata": {
    "scrolled": true
   },
   "outputs": [],
   "source": [
    "# LatestInfection = pd.DataFrame(columns=['Region', 'date', 'new_cases_smoothed_per_million'])\n",
    "# LatestInfection = pd.DataFrame()\n",
    "LatestInfection = pd.DataFrame([])\n",
    "MaxDaysInAllData = myNarrow.days.max()\n",
    "\n",
    "for i in set(myNarrow.Region):\n",
    "    Current = myNarrow[myNarrow.Region == i]\n",
    "    max_days = Current.days.max()\n",
    "    if max_days < (MaxDaysInAllData - 15): continue  # if this region's data is too old, skip it.\n",
    "    tmp = Current[Current.days == max_days]\n",
    "    LatestInfection = pd.concat([LatestInfection, tmp])\n",
    "\n",
    "LatestInfection.fillna(0, inplace=True)\n",
    "tmp = LatestInfection.sort_values(by = ['new_deaths7_per_M'], ascending=False)\n",
    "print(tmp.shape)\n",
    "                                 \n",
    "# myNarrow.sort_values('new_cases_smoothed_per_million', ascending=False)"
   ]
  },
  {
   "cell_type": "code",
   "execution_count": null,
   "metadata": {},
   "outputs": [],
   "source": [
    "tmp2 = tmp[['Region', 'new_deaths7_per_M', 'new_deaths', 'new7_per_M', 'new7',  'days']]\n",
    "tmp2.to_csv('./current_status.csv', index=False)\n",
    "tmp3 = pd.read_csv('./current_status.csv')\n",
    "tmp3.head()"
   ]
  },
  {
   "cell_type": "code",
   "execution_count": null,
   "metadata": {},
   "outputs": [],
   "source": [
    "tmp[['Region', 'Date', 'new7_per_M', 'new7', 'new_deaths7_per_M', 'days']].head()"
   ]
  },
  {
   "cell_type": "code",
   "execution_count": null,
   "metadata": {},
   "outputs": [],
   "source": [
    "tmp[tmp.Region == 'China'][['Region', 'Date', 'new7_per_M', 'new7', 'days']].head(10)"
   ]
  },
  {
   "cell_type": "code",
   "execution_count": null,
   "metadata": {},
   "outputs": [],
   "source": [
    "### Does not work!!!!\n",
    "\n",
    "\n",
    "# # LatestInfection = pd.DataFrame(columns=['location', 'date', 'new_cases_smoothed_per_million'])\n",
    "# LatestInfection = []\n",
    "\n",
    "# for i in set(myNarrow.location):\n",
    "#     Current = myNarrow[myNarrow.location == i]\n",
    "#     tmp = Current.sort_values('days', ascending=False)\n",
    "   \n",
    "#     tmp2 = list(tmp[['location', 'date', 'new_cases_smoothed_per_million']].iloc[0])\n",
    "# #     print(tmp2.shape)\n",
    "#     LatestInfection = LatestInfection + [tmp2]\n",
    "# # print(LatestInfection)    \n",
    "# LatestInfection = pd.DataFrame(LatestInfection)\n",
    "# LatestInfection.fillna(0, inplace=True)\n",
    "# print(LatestInfection.head())\n",
    "# # LatestInfection.columns = [['location', 'date', 'new_cases_smoothed_per_million']]\n",
    "# LatestInfection.columns = [['a', 'b', 'c']]\n",
    "# print(LatestInfection.head())\n",
    "# print(LatestInfection.shape)\n",
    "# print(LatestInfection.tail())\n",
    "# print(LatestInfection.dtypes)\n",
    "# LatestInfection.sort_values(by = ['c'],ignore_index=True)\n",
    "                                 \n",
    "# # myNarrow.sort_values('new_cases_smoothed_per_million', ascending=False)"
   ]
  },
  {
   "cell_type": "code",
   "execution_count": null,
   "metadata": {
    "scrolled": false
   },
   "outputs": [],
   "source": [
    "import matplotlib.pyplot as plt\n",
    "import seaborn as sns\n",
    "\n",
    "plt.figure(figsize=(20.0, 12.0))\n",
    "# plt.yscale('log')\n",
    "plt.xlim(150, 600)\n",
    "plt.ylim(0, 400000)\n",
    "plt.xlabel('Days since 20191231, 20210514 is at Days 500', fontsize=24)\n",
    "plt.ylabel('New cases', fontsize=24)\n",
    "plt.xticks(fontsize=16)\n",
    "plt.yticks(fontsize=16)\n",
    "\n",
    "LastDays = myNarrow.days.max()\n",
    "LastDate = myNarrow[myNarrow.days == LastDays].Date.iloc[0]\n",
    "\n",
    "ListRegion  = ['United Kingdom', 'United States', \\\n",
    "#                  'Israel', \\\n",
    "                 'India']\n",
    "mycolor = ['r', 'k', 'c', 'y']\n",
    "j = 0\n",
    "for i in ListRegion:\n",
    "    CurrentNarrow = myNarrow[myNarrow.Region == i]\n",
    "    CurrentDelta = Delta[Delta.Region == i]\n",
    "    plt.plot(CurrentNarrow.days, CurrentNarrow.new7, \\\n",
    "             color=mycolor[j], linewidth=12, alpha=0.3)\n",
    "    plt.plot(CurrentDelta.days, CurrentDelta.num_sequences*7.1, \\\n",
    "             color=mycolor[j],linewidth=3, alpha=1.0)\n",
    "    j = j + 1\n",
    "\n",
    "#     plt.scatter(CurrentDelta.days, CurrentDelta.num_sequences, s=200, marker='o', alpha=0.7)\n",
    "# plt.legend(ListRegion, fontsize=24)\n",
    "\n",
    "ListRegion2  = ['United Kingdom', 'United Kingdom Delta * 100', \\\n",
    "                  'United States', 'United States Delta * 100',\\\n",
    "#                   'Israel', 'Israel Delta * 100', \\\n",
    "                 'India', 'India Delta * 100']\n",
    "plt.legend(ListRegion2, fontsize=24)\n",
    "\n",
    "\n",
    "# plt.text(501, 0.0,'Taiwan outbreak on 20210515', va='bottom', rotation=90, fontsize=20)\n",
    "# plt.text(531, 0.0,'Taiwan begin vaccination for age 75+', va='bottom', rotation=90, fontsize=20)\n",
    "# plt.text(540, 0.007,'and nursing home on 20210614', va='bottom', rotation=90, fontsize=20)\n",
    "\n",
    "# sns.pairplot(tmp[tmp.Region == 'Italy'])\n",
    "# sns.heatmap(WideWW[WideWW.Region == 'Italy'].corr())\n",
    "plt.title('New cases and new delta cases up to ' + LastDate, fontsize=32)\n",
    "plt.show()\n",
    "\n"
   ]
  },
  {
   "cell_type": "code",
   "execution_count": null,
   "metadata": {},
   "outputs": [],
   "source": []
  },
  {
   "cell_type": "code",
   "execution_count": null,
   "metadata": {},
   "outputs": [],
   "source": [
    "import matplotlib.pyplot as plt\n",
    "import seaborn as sns\n",
    "\n",
    "plt.figure(figsize=(20.0, 12.0))\n",
    "# plt.yscale('log')\n",
    "# plt.ylim(0, 10000)\n",
    "plt.xlabel('Days since 20191231, 20210514 is at Days 500', fontsize=24)\n",
    "plt.ylabel('New cases', fontsize=24)\n",
    "plt.xticks(fontsize=16)\n",
    "plt.yticks(fontsize=16)\n",
    "\n",
    "LastDays = myNarrow.days.max()\n",
    "LastDate = myNarrow[myNarrow.days == LastDays].Date.iloc[0]\n",
    "\n",
    "ListRegion  = ['United Kingdom']\n",
    "for i in ListRegion:\n",
    "    CurrentNarrow = myNarrow[myNarrow.Region == i]\n",
    "    CurrentDelta = Delta[Delta.Region == i]\n",
    "    plt.plot(CurrentNarrow.days, CurrentNarrow.new7, alpha=0.7)\n",
    "    plt.scatter(CurrentDelta.days, CurrentDelta.num_sequences, marker='o', alpha=0.7)\n",
    "\n",
    "# plt.text(501, 0.0,'Taiwan outbreak on 20210515', va='bottom', rotation=90, fontsize=20)\n",
    "# plt.text(531, 0.0,'Taiwan begin vaccination for age 75+', va='bottom', rotation=90, fontsize=20)\n",
    "# plt.text(540, 0.007,'and nursing home on 20210614', va='bottom', rotation=90, fontsize=20)\n",
    "plt.legend(ListRegion, fontsize=24)\n",
    "# sns.pairplot(tmp[tmp.Region == 'Italy'])\n",
    "# sns.heatmap(WideWW[WideWW.Region == 'Italy'].corr())\n",
    "plt.title('New cases and new delta cases up to' + LastDate, fontsize=32)\n",
    "plt.show()\n",
    "\n"
   ]
  },
  {
   "cell_type": "code",
   "execution_count": null,
   "metadata": {},
   "outputs": [],
   "source": [
    "Variants.columns"
   ]
  },
  {
   "cell_type": "code",
   "execution_count": null,
   "metadata": {
    "scrolled": true
   },
   "outputs": [],
   "source": [
    "DeltaCumulative = (Delta.groupby('Region').sum()).reset_index().iloc[:, :2]\n",
    "print(DeltaCumulative.shape)\n",
    "DeltaCumulative = pd.merge(left=DeltaCumulative, right= PopByCountry)\n",
    "DeltaCumulative['TotalPerPop'] = DeltaCumulative.num_sequences/DeltaCumulative.population*1000000\n",
    "DeltaCumulative.sort_values('TotalPerPop', ascending=False).head()"
   ]
  },
  {
   "cell_type": "markdown",
   "metadata": {},
   "source": [
    "# 3. Standardize columns names\n",
    "- Standardization is necessary to make them consistent so that it would be easier to share same codes."
   ]
  },
  {
   "cell_type": "code",
   "execution_count": null,
   "metadata": {
    "scrolled": true
   },
   "outputs": [],
   "source": [
    "# NarrowWW[NarrowWW.location == 'Taiwan'].iloc[-25:-18][['people_vaccinated_per_hundred', 'people_fully_vaccinated_per_hundred']]"
   ]
  },
  {
   "cell_type": "markdown",
   "metadata": {},
   "source": [
    "## 3.1 select some columns and rename them for easier to process"
   ]
  },
  {
   "cell_type": "code",
   "execution_count": null,
   "metadata": {
    "scrolled": true
   },
   "outputs": [],
   "source": [
    "NarrowWW.columns"
   ]
  },
  {
   "cell_type": "code",
   "execution_count": null,
   "metadata": {},
   "outputs": [],
   "source": [
    "Col_Key_Orig_NarrowWW"
   ]
  },
  {
   "cell_type": "code",
   "execution_count": null,
   "metadata": {},
   "outputs": [],
   "source": [
    "Col_Key_Renamed_NarrowWW"
   ]
  },
  {
   "cell_type": "code",
   "execution_count": null,
   "metadata": {
    "scrolled": false
   },
   "outputs": [],
   "source": [
    "# NarrowWW=NarrowWW[Col_Key_Orig_NarrowWW]\n",
    "# NarrowWW.columns =  Col_Key_Renamed_NarrowWW"
   ]
  },
  {
   "cell_type": "code",
   "execution_count": null,
   "metadata": {},
   "outputs": [],
   "source": [
    "NarrowWW.columns"
   ]
  },
  {
   "cell_type": "markdown",
   "metadata": {},
   "source": [
    "## 3.2 change negative \"new\" to 0\n",
    "--------\n",
    "- new case should not be negative.  It is some sort of wrong entry.  Change it to 0"
   ]
  },
  {
   "cell_type": "code",
   "execution_count": null,
   "metadata": {
    "scrolled": true
   },
   "outputs": [],
   "source": [
    "NarrowWW[NarrowWW.Region == 'Spain'].iloc[80:90]"
   ]
  },
  {
   "cell_type": "code",
   "execution_count": null,
   "metadata": {
    "scrolled": false
   },
   "outputs": [],
   "source": [
    "tmp = np.array([i >= 0 for i in NarrowWW.new ])  # an array of 1 (for positive) and 0 (for negative)\n",
    "tmp = tmp * NarrowWW.new   # copy  new to tmp for positive and 0 for negative\n",
    "NarrowWW.drop(columns = 'new', inplace=True)  # remove new column\n",
    "NarrowWW['new'] = tmp   # add new columns with the same values for positive and 0 for negative"
   ]
  },
  {
   "cell_type": "code",
   "execution_count": null,
   "metadata": {
    "scrolled": true
   },
   "outputs": [],
   "source": [
    "NarrowWW[NarrowWW.Region == 'Spain'].iloc[80:90]\n",
    "# look for 0 which was negatiive originally in new column.  new column may moved to the end of the row."
   ]
  },
  {
   "cell_type": "markdown",
   "metadata": {},
   "source": [
    "## 3.3 Add 'days' column"
   ]
  },
  {
   "cell_type": "code",
   "execution_count": null,
   "metadata": {
    "scrolled": false
   },
   "outputs": [],
   "source": [
    "# NarrowWW = Add_days_column(NarrowWW)\n",
    "# NarrowWW.tail()"
   ]
  },
  {
   "cell_type": "code",
   "execution_count": null,
   "metadata": {},
   "outputs": [],
   "source": []
  },
  {
   "cell_type": "markdown",
   "metadata": {},
   "source": [
    "## 3.4 drop rows with missing VacTotal value\n",
    "------------\n",
    "- We want to investigate how vaccination affect the pandemic.  To avoid the bias due to the data in a long period of time without vaccination are removed."
   ]
  },
  {
   "cell_type": "code",
   "execution_count": null,
   "metadata": {
    "scrolled": false
   },
   "outputs": [],
   "source": [
    "VacDF = NarrowWW.dropna(subset=['VacTotal'])\n",
    "print(VacDF.shape)\n",
    "VacDF.tail()"
   ]
  },
  {
   "cell_type": "markdown",
   "metadata": {},
   "source": [
    "### 3.4.1 Check the consistency of Vaccination statistics in WW, NarrowWW and VacDF.\n",
    "--------\n",
    "- Is WW.people_fully_vaccinated_per_hundred + WW.people_vaccinated_per_hundred equal to WW.total_vaccinations_per_hundred?\n",
    "\n",
    "- Is NarrowWW.Vac1 + NarrowWW.Vac2 equal to NarrowWW.VacTotal?\n",
    "\n"
   ]
  },
  {
   "cell_type": "code",
   "execution_count": null,
   "metadata": {
    "scrolled": true
   },
   "outputs": [],
   "source": [
    "WW.columns"
   ]
  },
  {
   "cell_type": "code",
   "execution_count": null,
   "metadata": {},
   "outputs": [],
   "source": [
    "tmp1 = NarrowWW[NarrowWW.Vac1 != NarrowWW.Vac1]\n",
    "print(tmp1.shape, NarrowWW.shape)\n",
    "tmp2 = NarrowWW[NarrowWW.Vac2 != NarrowWW.Vac2]\n",
    "print(tmp2.shape, NarrowWW.shape)\n",
    "print('% that at least 1 Vac is not empty ', 2 - (tmp1.shape[0] + tmp2.shape[0])/NarrowWW.shape[0])\n",
    "print(NarrowWW[NarrowWW.Region == 'World'].head())\n",
    "print(WW[['VacTotal',\n",
    "       'Vac1', 'Vac2']].tail())\n",
    "NarrowWW.tail()"
   ]
  },
  {
   "cell_type": "code",
   "execution_count": null,
   "metadata": {},
   "outputs": [],
   "source": [
    "NarrowWW[NarrowWW.Date == '2021-07-22'].shape"
   ]
  },
  {
   "cell_type": "code",
   "execution_count": null,
   "metadata": {},
   "outputs": [],
   "source": [
    "NarrowWW[NarrowWW.Date == '2021-07-22'].tail()"
   ]
  },
  {
   "cell_type": "code",
   "execution_count": null,
   "metadata": {
    "scrolled": true
   },
   "outputs": [],
   "source": [
    "NarrowWW[NarrowWW.Date == '2021-07-22'].sum()"
   ]
  },
  {
   "cell_type": "code",
   "execution_count": null,
   "metadata": {},
   "outputs": [],
   "source": [
    "WW[WW.Date == '2021-07-22'][['Pop', 'VacTotal', 'Vac1', 'Vac2']]"
   ]
  },
  {
   "cell_type": "code",
   "execution_count": null,
   "metadata": {},
   "outputs": [],
   "source": [
    "a = NarrowWW[NarrowWW.Date == '2021-07-22'][['Pop',  'VacTotal', 'Vac1', 'Vac2']]\n",
    "print(a.Pop.sum())\n",
    "\n",
    "mysumT = (a.Pop * a.VacTotal).sum()\n",
    "mysum1 = (a.Pop * a.Vac1).sum()\n",
    "mysum2 = (a.Pop * a.Vac2).sum()\n",
    "mysumP = (a.Pop).sum()\n",
    "\n",
    "print(mysumT/mysumP)\n",
    "print(mysum1/mysumP)\n",
    "print(mysum2/mysumP)\n",
    "\n",
    "\n",
    "\n",
    "print((a.Pop * a.VacTotal).sum())"
   ]
  },
  {
   "cell_type": "markdown",
   "metadata": {},
   "source": [
    "## 3.5 Add NormNew column\n",
    "-------\n",
    "### 3.5.1 adding a new column NormNew to  VacDF and NarrowWW\n",
    "- When showing data from different regions on the same page, daily new cases should be normalized to be meaningful.  The normalized daily cases are under the new column \"NormNew\""
   ]
  },
  {
   "cell_type": "code",
   "execution_count": null,
   "metadata": {},
   "outputs": [],
   "source": [
    "RegionVacSet = set(NarrowWW.Region)\n",
    "VacInfected = pd.DataFrame()\n",
    "\n",
    "for i in RegionVacSet:\n",
    "    tmp = NarrowWW[NarrowWW.Region == i]\n",
    "    mymean = tmp.new.mean()\n",
    "    if((mymean == 0) | (mymean != mymean)): \n",
    "        print(\"Region has zero mean or nan mean:\", i, mymean)\n",
    "        continue\n",
    "#   tmp['NormNew'] = tmp.new / mymean  # will raise warning\n",
    "    tmpSeries = tmp.new7 / mymean\n",
    "    tmpSeries.rename('NormNew', inplace=True)\n",
    "    tmp = pd.concat([tmp, tmpSeries], axis = 1 )\n",
    "    VacInfected = pd.concat([VacInfected, tmp])\n",
    "    \n",
    "print(VacInfected.tail())\n",
    "NarrowWW = VacInfected"
   ]
  },
  {
   "cell_type": "code",
   "execution_count": null,
   "metadata": {},
   "outputs": [],
   "source": [
    "NarrowWW.shape"
   ]
  },
  {
   "cell_type": "code",
   "execution_count": null,
   "metadata": {
    "scrolled": false
   },
   "outputs": [],
   "source": [
    "# VacDF['NormNew'] =  VacDF.new7 / mymean\n",
    "# Regions have no case since the vaccination will not be investigated.\n",
    "# VacInfected:  Regions with mymean = 0 will be excluded.  \n",
    "\n",
    "RegionVacSet = set(VacDF.Region)\n",
    "VacInfected = pd.DataFrame()\n",
    "\n",
    "for i in RegionVacSet:\n",
    "    tmp = VacDF[VacDF.Region == i]\n",
    "    mymean = tmp.new.mean()\n",
    "    if((mymean == 0) | (mymean != mymean)): \n",
    "        print(\"Region has zero mean or nan mean:\", i, mymean)\n",
    "        continue\n",
    "#   tmp['NormNew'] = tmp.new / mymean  # will raise warning\n",
    "    tmpSeries = tmp.new7 / mymean\n",
    "    tmpSeries.rename('NormNew', inplace=True)\n",
    "    tmp = pd.concat([tmp, tmpSeries], axis = 1 )\n",
    "    VacInfected = pd.concat([VacInfected, tmp])\n",
    "    \n",
    "print(VacInfected.tail())\n",
    "VacDF = VacInfected\n"
   ]
  },
  {
   "cell_type": "code",
   "execution_count": null,
   "metadata": {},
   "outputs": [],
   "source": []
  },
  {
   "cell_type": "markdown",
   "metadata": {},
   "source": [
    "### 3.5.2 find countries which are vaccinated but have no cases since the vaccination\n",
    "-------\n",
    "- not used in the later process.  Just to understand the data"
   ]
  },
  {
   "cell_type": "code",
   "execution_count": null,
   "metadata": {},
   "outputs": [],
   "source": [
    "# find countries which are vaccinated but have no cases since the vaccination\n",
    "\n",
    "junk = set(VacInfected.Region)\n",
    "print(len(junk), len(RegionVacSet), len(RegionVacSet - junk))\n",
    "RegionVacSet - junk\n"
   ]
  },
  {
   "cell_type": "code",
   "execution_count": null,
   "metadata": {},
   "outputs": [],
   "source": [
    "VacDF[VacDF.Region == 'Samoa'].new.sum()"
   ]
  },
  {
   "cell_type": "code",
   "execution_count": null,
   "metadata": {},
   "outputs": [],
   "source": [
    "VacDF[VacDF.Region == 'Vanuatu'].new.sum()"
   ]
  },
  {
   "cell_type": "code",
   "execution_count": null,
   "metadata": {},
   "outputs": [],
   "source": [
    "VacDF[VacDF.Region == 'Gibraltar'].new.sum()"
   ]
  },
  {
   "cell_type": "code",
   "execution_count": null,
   "metadata": {},
   "outputs": [],
   "source": [
    "NarrowOrig[NarrowOrig.location == 'Gibraltar'].new_cases.sum()  \n",
    "# new_cases data are missing in the data.  its data in VacDF data and NarrowWW are imported from WideWW data."
   ]
  },
  {
   "cell_type": "markdown",
   "metadata": {},
   "source": [
    "## 3.6 Replace NaN in Vac1 and Vac2 with 0\n",
    "----------\n",
    "- Our VacDF is based on non zero VacTotal\n",
    "- There are many NaN for Vac1 and Vac2 while VacTotal is not.  Just to convert them to 0 which is the actual value Vac2 in the early time of vaccination"
   ]
  },
  {
   "cell_type": "code",
   "execution_count": null,
   "metadata": {},
   "outputs": [],
   "source": [
    "VacDF = VacDF.fillna(0)\n",
    "VacDF.head(10)"
   ]
  },
  {
   "cell_type": "markdown",
   "metadata": {},
   "source": [
    "## 3.7 Create two dict showing the vaccination status for each region.\n",
    "------\n",
    "- Vaccination status is specified by 0, 1, 2, ... for the regions whose max vaccination pct are less than 10, 20, 30, or 20, 40, 60, ....."
   ]
  },
  {
   "cell_type": "code",
   "execution_count": null,
   "metadata": {},
   "outputs": [],
   "source": [
    "RegionVacSet = set(VacDF.Region)\n",
    "len(RegionVacSet)"
   ]
  },
  {
   "cell_type": "code",
   "execution_count": null,
   "metadata": {},
   "outputs": [],
   "source": [
    "# mycolors = ['k', 'b',  'r', 'g', 'c', 'm', 'y', 'y', 'y',  'y', 'y', 'y', 'y', 'y', 'y', 'y']\n",
    "mycolors = ['y', 'm',  'c', 'k', 'r', 'b', 'g', 'y', 'm',  'c', 'k', 'r', 'b', 'g']"
   ]
  },
  {
   "cell_type": "code",
   "execution_count": null,
   "metadata": {},
   "outputs": [],
   "source": [
    "VacMaxDict = {i : mycolors[int(VacDF[VacDF.Region == i].VacTotal.max()/20)] for i in RegionVacSet}\n",
    "VacMaxDict\n",
    "VacMax2Dict = {i : mycolors[int(VacDF[VacDF.Region == i].VacTotal.max()/20)] for i in RegionVacSet}\n",
    "VacMax2Dict"
   ]
  },
  {
   "cell_type": "code",
   "execution_count": null,
   "metadata": {},
   "outputs": [],
   "source": [
    "VacDF['Color'] = [ VacMaxDict[i] for i in VacDF.Region]"
   ]
  },
  {
   "cell_type": "code",
   "execution_count": null,
   "metadata": {},
   "outputs": [],
   "source": [
    "VacDF.tail()"
   ]
  },
  {
   "cell_type": "markdown",
   "metadata": {},
   "source": [
    "## 3.8 define some sets containing the countries we want to investigate together\n"
   ]
  },
  {
   "cell_type": "code",
   "execution_count": null,
   "metadata": {},
   "outputs": [],
   "source": [
    "# Source: https://www.nature.com/articles/d41586-021-01146-0\n",
    "\n",
    "SinoVacSet1 = set(['Brazil', 'Turkey', 'Chile', 'Thailand', 'Cambodia', 'Laos', 'Turkey'])\n",
    "\n",
    "# https://www.cnbc.com/2021/07/08/five-vaccinated-countries-with-high-covid-rates-rely-on-china-vaccines.html\n",
    "SinoVacSet2 = set([ 'Mongolia', 'Uruguay', 'Chile'] ) # 'Seychelles', 'United Arab Emirates'])\n",
    "\n",
    "# Thailand also uses Chinese vaccine"
   ]
  },
  {
   "cell_type": "markdown",
   "metadata": {},
   "source": [
    "# 4. Graphing"
   ]
  },
  {
   "cell_type": "code",
   "execution_count": null,
   "metadata": {},
   "outputs": [],
   "source": [
    "Delta_Cumulative = pd.DataFrame(Delta.groupby('Region').sum())\\\n",
    ".reset_index()[['Region', 'num_sequences']]\n",
    "Delta_Cumulative.sort_values('num_sequences', ascending=False).head()\n",
    "                  "
   ]
  },
  {
   "cell_type": "code",
   "execution_count": null,
   "metadata": {},
   "outputs": [],
   "source": [
    "RegionZeroDeltaSet = set((Delta_Cumulative[Delta_Cumulative.num_sequences == 0].Region))\n",
    "RegionZeroDeltaSet\n",
    "Region50DeltaSet = set((Delta_Cumulative[Delta_Cumulative.num_sequences < 50].Region))\n",
    "Region50DeltaSet = Region50DeltaSet - RegionZeroDeltaSet\n",
    "Region50DeltaSet"
   ]
  },
  {
   "cell_type": "markdown",
   "metadata": {},
   "source": [
    "## 4.1 Graph by countries"
   ]
  },
  {
   "cell_type": "code",
   "execution_count": null,
   "metadata": {
    "scrolled": false
   },
   "outputs": [],
   "source": [
    "NarrowWW.columns"
   ]
  },
  {
   "cell_type": "code",
   "execution_count": null,
   "metadata": {},
   "outputs": [],
   "source": [
    "def graphn(df, Regions, end_days=0,  NORM=1, DATE=1, Start_Vac=10, \\\n",
    "           MIN_Vac=0,  BeforePeak=-1, LeadDay  = 0, MAX_Y_NORM  = 0, DEATH=0):\n",
    "    # multiple plots on the same figure.  One plot for each region in Region list\n",
    "    # Input:\n",
    "        # Region: a list of several regions.\n",
    "        # New: 1 to plot daily new, 0 to plot NormNew\n",
    "        # not used.  FullVac:  1 to make 2 plots, one for Vac1, another for Vac2\n",
    "\n",
    "        \n",
    "        \n",
    "\n",
    "    plt.figure(figsize=(16.0, 10.0))\n",
    "    LINEWIDTH =2\n",
    "#     plt.yscale('log')\n",
    "#     plt.ylim(0, 100000)\n",
    "        \n",
    "    # Set up df upto end_days and Title of the figure.\n",
    "    if(end_days > 0) : df = df[df.days <= end_days]\n",
    "    end_days = max(df.days)\n",
    "    EndDate = df[df.days == end_days].iloc[0].Date\n",
    "#     print(\"end days =\", end_days, EndDate)\n",
    "    ListPlotedRegion = []\n",
    "    \n",
    "    for i in Regions:\n",
    "        tmp = df[df.Region == i]\n",
    "        \n",
    "\n",
    "        if tmp.shape[0] == 0 : continue\n",
    "        \n",
    "#         print(i, tmp.shape)\n",
    "#         print(i, 'max VacTotal = ', tmp.VacTotal.iloc[-1])   \n",
    "\n",
    "        maxVac = tmp.VacTotal.iloc[-1]\n",
    "        if maxVac < MIN_Vac: continue\n",
    "                    \n",
    "        # set up range to investigate.  \n",
    "        # The beginning of the range is the peak of max tmp.new7\n",
    "#         print(i, tmp.shape)\n",
    "#         print(tmp.head())\n",
    "#         print(tmp.tail())\n",
    "        daysAtMaxNew7 = tmp[tmp.new7 == max(tmp.new7)].days.iloc[0]\n",
    "        if BeforePeak == 1:\n",
    "            tmp = tmp[tmp.days <= daysAtMaxNew7]\n",
    "    #         Vaccine = Vaccine[Vaccine.days <= (daysAtMaxNew7)]\n",
    "    #         TITLE = 'The growing stage of the infection and the vaccination'\n",
    "        elif BeforePeak == 0:\n",
    "            tmp = tmp[tmp.days >= daysAtMaxNew7]\n",
    "    #         Vaccine = Vaccine[Vaccine.days > (daysAtMaxNew7)]\n",
    "    #         TITLE = 'The declining stage of the infection and the vaccination'\n",
    "    #     else:\n",
    "    #         TITLE = 'The full range of the infection and the vaccination'        \n",
    "\n",
    "\n",
    "                      \n",
    "        ALPHA = 0.5\n",
    "        LINEWIDTH = (LINEWIDTH + 2) % 12 + 1\n",
    "              \n",
    "        if(DATE == 0) : \n",
    "            X = tmp.VacTotal\n",
    "            X_label = 'Vaccination administrated%'\n",
    "            TITLE = 'The efficacy of vaccination to contain COVID-19 up to '\n",
    "        else : \n",
    "            X = tmp.days\n",
    "            X_label = 'Elapsed days since 2019/12/31. Days 500 is 2021/5/14'\n",
    "            TITLE = 'Time evolvement of COVID-19 pandemic up to '\n",
    "\n",
    "        if(NORM == 1) : \n",
    "            Y = tmp.NormNew\n",
    "            Y_label = 'Normalized cases per country over time/vaccination'\n",
    "            if MAX_Y_NORM != 0: plt.ylim(0,MAX_Y_NORM)\n",
    "        else : \n",
    "            Y = tmp.new7\n",
    "            Y_label = 'Last 7 days average'\n",
    "\n",
    "        plt.plot(X, Y, linewidth=LINEWIDTH, alpha=ALPHA)\n",
    "        plt.xlabel(X_label, fontsize=20)\n",
    "        plt.ylabel(Y_label, fontsize=20)\n",
    "        plt.xticks(fontsize=16)\n",
    "        plt.yticks(fontsize=16)\n",
    "        \n",
    "        # If the vaccine is effective, then the cases should drop as the vaccination goes.\n",
    "        # in other words, their correlation coef should be negative.  \n",
    "        # However, lower vaccination may not help.  \n",
    "        # Therefore, we calculate CC from some point of vaccination on, for example 20%.\n",
    "        tmp = tmp[tmp.VacTotal > Start_Vac] \n",
    "        \n",
    "        # Because it would take LeadDay for vaccination to be effective, \n",
    "        # if LeadDay=1, then today's vaccination will show effect tomorrow.\n",
    "        # Therefore, we add LeadDay to all days in Vaccine so that it will sync with df\n",
    "        DaysIncrementedByLeadDay = tmp.days + LeadDay\n",
    "        tmp2 = copy.copy(tmp)\n",
    "        tmp2.drop('days', axis=1, inplace=True)\n",
    "        tmp2['days'] = DaysIncrementedByLeadDay\n",
    "#         tmp2.drop('NormNew', axis=1, inplace=True)\n",
    "        tmp3 = tmp[['days', 'NormNew']].merge(tmp2[['days','VacTotal']])\n",
    "#         print(i, tmp.shape, tmp2.shape, tmp3.shape)\n",
    "#         print(tmp.head())\n",
    "#         print(tmp2.head())\n",
    "#         print('Country = ', i)\n",
    "#         print(tmp3.head())\n",
    "       \n",
    "        myCC = tmp3.VacTotal.corr(tmp3.NormNew)\n",
    "        ListPlotedRegion =  ListPlotedRegion + [[i, myCC, tmp3.shape[0], maxVac]]\n",
    "        \n",
    "    #     plt.legend(['Partially Vacinnated', 'Fully Vacinnated'], fontsize=24)\n",
    "\n",
    "    FIG = ''\n",
    "    plt.title(FIG + TITLE +  EndDate, fontsize=24)\n",
    "    \n",
    "    DfPlotedRegion = pd.DataFrame(ListPlotedRegion, columns=['Region', 'CC', 'SizeToGetCC', 'maxVac'])\n",
    "    if len(ListPlotedRegion) <= 20 : \n",
    "        plt.legend(DfPlotedRegion.Region, fontsize=10)\n",
    "    \n",
    "    plt.show()\n",
    "#     print(ListPlotedRegion)\n",
    "#     print(len(ListPlotedRegion))\n",
    "    return  DfPlotedRegion.sort_values('CC')\n"
   ]
  },
  {
   "cell_type": "code",
   "execution_count": null,
   "metadata": {
    "scrolled": false
   },
   "outputs": [],
   "source": [
    "CC = graphn(VacDF, set(VacDF.Region), end_days=660,  \\\n",
    "       NORM=1, DATE=1, Start_Vac=10, BeforePeak=-1, MIN_Vac=30, MAX_Y_NORM =10, LeadDay=0)\n",
    "print(CC.shape)\n",
    "CCStartAll = CC.dropna()\n",
    "print(CCStartAll.shape, '\\n', CCStartAll)"
   ]
  },
  {
   "cell_type": "code",
   "execution_count": null,
   "metadata": {},
   "outputs": [],
   "source": []
  },
  {
   "cell_type": "code",
   "execution_count": null,
   "metadata": {},
   "outputs": [],
   "source": []
  },
  {
   "cell_type": "code",
   "execution_count": null,
   "metadata": {},
   "outputs": [],
   "source": []
  },
  {
   "cell_type": "code",
   "execution_count": null,
   "metadata": {},
   "outputs": [],
   "source": [
    "def graph_Timed_Cases_Vaccine(df, Vaccine, Region, end_days=0, LeadDay  = 0, BeforePeak=0):\n",
    "    # multiple plots on the same figure.  One plot for each region in Region list\n",
    "    # Input:\n",
    "        # Region: a siingle region.\n",
    "        # df: daily new cases, new deaths or their smoothed equivalents\n",
    "        # Vaccine: daily (can be biweekly or so) vaccines administrated.\n",
    "        # LeadDay: days needed for vaccination to take effect.\n",
    "\n",
    "        \n",
    "#     print(Vaccine.head(20))\n",
    "#     print('---------------')\n",
    "\n",
    "    df = df[df.Region == Region] \n",
    "    Vaccine = Vaccine[Vaccine.Region == Region]\n",
    "    \n",
    "#     print(Vaccine.head(20))\n",
    "#     print('---------------')\n",
    "    \n",
    "    \n",
    "    # Because it would take LeadDay for vaccination to be effective, \n",
    "    # if LeadDay=1, then today's vaccination will show effect tomorrow.\n",
    "    # Therefore, we add LeadDay to all days in Vaccine so that it will sync with df\n",
    "    DaysIncrementedByLeadDay = Vaccine.days + LeadDay\n",
    "    Vaccine.drop('days', axis=1, inplace=True)\n",
    "    Vaccine['days'] = DaysIncrementedByLeadDay\n",
    "    \n",
    "#     print(Vaccine)\n",
    "    \n",
    "    # Set up df upto end_days and Title for the figure.\n",
    "    if(end_days > 0) : \n",
    "        df = df[df.days <= end_days]\n",
    "        Vaccine = Vaccine[Vaccine.days <= end_days]\n",
    "    end_days = max(df.days)\n",
    "    EndDate = df[df.days == end_days].iloc[0].Date\n",
    "    \n",
    "    # set up range to investigate.  \n",
    "    # The beginning of the range is the peak of max df.new7\n",
    "    daysAtMaxNew7 = df[df.new7 == max(df.new7)].days.iloc[0]\n",
    "    if BeforePeak == 1:\n",
    "        df = df[df.days <= daysAtMaxNew7]\n",
    "        Vaccine = Vaccine[Vaccine.days <= (daysAtMaxNew7)]\n",
    "        TITLE = 'The growing stage of the infection and the vaccination'\n",
    "    elif BeforePeak == 0:\n",
    "        df = df[df.days >= daysAtMaxNew7]\n",
    "        Vaccine = Vaccine[Vaccine.days > (daysAtMaxNew7)]\n",
    "        TITLE = 'The declining stage of the infection and the vaccination'\n",
    "    else:\n",
    "        TITLE = 'The full range of the infection and the vaccination'\n",
    "        \n",
    "    TITLE = TITLE + ' for ' + Region\n",
    "   \n",
    "    X = df.days\n",
    "    Y = df.new7 * 400\n",
    "\n",
    "    plt.figure(figsize=(16.0, 10.0))\n",
    "    LINEWIDTH =2\n",
    "#     plt.yscale('log')\n",
    "#     plt.ylim(0, 100000)\n",
    "    ALPHA = 0.5\n",
    "    LINEWIDTH = 1\n",
    "    X_label = 'Elapsed days since 2019/12/31. Days 500 is 2021/5/14'\n",
    "    Y_label = '7 days average of confirmed case or  viccine administrated'   \n",
    "    \n",
    "    print(max(Y), 'max y')\n",
    "    plt.plot(X, Y, linewidth=15, alpha=0.3)\n",
    "          \n",
    "    VaccinesPct = Vaccine.groupby('vaccine').total_vaccinations.max().reset_index()\n",
    "    tmpsum = VaccinesPct.total_vaccinations.sum()\n",
    "    VaccinesPct['pct'] = (VaccinesPct.total_vaccinations /tmpsum * 100).astype(int)\n",
    "    VaccinesPct.sort_values('pct', ascending=False)\n",
    "   \n",
    "    List_Vaccine = list(set(Vaccine.vaccine))     \n",
    "    VaccineCC =  []\n",
    "    \n",
    "    for i in List_Vaccine :\n",
    "        LINEWIDTH = LINEWIDTH + 1 \n",
    "        CurrentVaccine = Vaccine[Vaccine.vaccine == i]\n",
    "        Y_Vac = CurrentVaccine.total_vaccinations\n",
    "        X_Vac = CurrentVaccine.days\n",
    "               \n",
    "        plt.plot(X_Vac, Y_Vac, linewidth=LINEWIDTH, alpha=ALPHA)\n",
    "        \n",
    "        # calculate CC\n",
    "        sharedX = list(set(X_Vac) & set(X))\n",
    "        sharedX.sort()\n",
    "        print(i, len(set(X_Vac)), len(set(X)), len(sharedX))\n",
    "#         sharedX = sharedX.sort() # This one is invalid.  sort does not return anything\n",
    "        np1 = np.array([df[df.days == k].new7.iloc[0] for k in sharedX])\n",
    "        np2 = np.array([CurrentVaccine[CurrentVaccine.days == k].\\\n",
    "                        total_vaccinations.iloc[0] for k in sharedX])\n",
    "        myCC = np.corrcoef(np1, np2)\n",
    "        myPct = VaccinesPct[VaccinesPct.vaccine == i].pct.iloc[0]\n",
    "        VaccineCC =  VaccineCC + [[Region, i, myPct, myCC[0,1], np1.shape[0], len(sharedX)]]\n",
    "        \n",
    "    plt.xlabel(X_label, fontsize=20)\n",
    "    plt.ylabel(Y_label, fontsize=20)\n",
    "    plt.xticks(fontsize=16)\n",
    "    plt.yticks(fontsize=16)\n",
    "\n",
    "#     plt.legend(['Partially Vacinnated', 'Fully Vacinnated'], fontsize=24)\n",
    "\n",
    "    FIG = ''\n",
    "    plt.title(FIG + TITLE +  EndDate, fontsize=24)\n",
    "    \n",
    "    plt.legend(['Confirmed Cases'] +  List_Vaccine, fontsize=10)\n",
    "    \n",
    "    plt.show()\n",
    "    \n",
    "    VaccineCC = pd.DataFrame(VaccineCC, columns=['Region', 'vaccine', 'Pct', 'CC', 'DataSize', 'sharedX_size'])\n",
    "    VaccineCC.sort_values('CC', inplace=True)\n",
    " \n",
    "    return  VaccineCC\n"
   ]
  },
  {
   "cell_type": "code",
   "execution_count": null,
   "metadata": {},
   "outputs": [],
   "source": [
    "graph_Timed_Cases_Vaccine(VacDF[VacDF.days > 500], VacBrand, 'Chile', end_days=0, \\\n",
    "                          BeforePeak=-1, LeadDay = 10)"
   ]
  },
  {
   "cell_type": "code",
   "execution_count": null,
   "metadata": {
    "scrolled": false
   },
   "outputs": [],
   "source": [
    "graph_Timed_Cases_Vaccine(VacDF, VacBrand, 'Hungary', end_days=0, LeadDay = 15, BeforePeak=-1,)"
   ]
  },
  {
   "cell_type": "code",
   "execution_count": null,
   "metadata": {},
   "outputs": [],
   "source": []
  },
  {
   "cell_type": "markdown",
   "metadata": {},
   "source": [
    "## 4.2 Graph1: Global Graph"
   ]
  },
  {
   "cell_type": "code",
   "execution_count": null,
   "metadata": {},
   "outputs": [],
   "source": [
    "NarrowWW.columns"
   ]
  },
  {
   "cell_type": "code",
   "execution_count": null,
   "metadata": {},
   "outputs": [],
   "source": [
    "def graph1(df, Region, end_days=0, NORM=1, DATE=1, MIN_Vac=0, MAX_X=0, MAX_Y=0):\n",
    "    # single scatter plots on the same figure.  One plot for each region in Region list\n",
    "    # Input:\n",
    "        # Region: a string represent a region in df.  If \"ALL\", then plot all data in df.\n",
    "        # New: 1 to plot daily new, 0 to plot NormNew\n",
    "        # FullVac:  1 to make 2 plots, one for Vac1, another for Vac2\n",
    "               \n",
    "    plt.figure(figsize=(16.0, 10.0))\n",
    "    \n",
    "    # Set up df upto end_days and Title of the figure.\n",
    "    if(end_days > 0) : df = df[df.days <= end_days]\n",
    "    end_days = max(df.days)\n",
    "    EndDate = df[df.days == end_days].iloc[0].Date\n",
    "    print(\"end days =\", end_days, EndDate)\n",
    "\n",
    "    if MAX_X != 0 : plt.xlim(0, MAX_X)\n",
    "    if MAX_Y != 0 : plt.ylim(0, MAX_Y)\n",
    "    \n",
    "    if(Region == \"ALL\"): \n",
    "        tmp = df\n",
    "        Region = 'All Countries'\n",
    "        ALPHA = 0.3\n",
    "    else : \n",
    "        tmp = df[df.Region == Region]\n",
    "        ALPHA = 1.0\n",
    "    \n",
    "    if(DATE == 0) : \n",
    "        X = tmp.VacTotal\n",
    "        X_label = 'Vaccination Adminstrated %'\n",
    "        TITLE = 'The efficacy of vaccination in '+ Region + ' up to '\n",
    "    else : \n",
    "        X = tmp.days\n",
    "        X_label = 'Elapsed days since 2019/12/31. Days 500 is 2021/5/14'\n",
    "        TITLE = 'Time evolvement of COVID-19 in ' + Region + ' up to '\n",
    "\n",
    "    if(NORM == 1) : \n",
    "        Y = tmp.NormNew\n",
    "        Y_label = 'Normalized cases by population'\n",
    "    else : \n",
    "        Y = tmp.new7\n",
    "        Y_label = 'Last 7 days average confirmed cases'\n",
    "    \n",
    "    if MAX_Y != 0 : plt.ylim(0, MAX_Y)\n",
    "    \n",
    "#     plt.yscale('log')\n",
    "#     plt.ylim(0, 50)\n",
    "\n",
    "    plt.title(TITLE  +  EndDate, fontsize=24)\n",
    "\n",
    "#     if((Region == \"All Countries\") & (DATE != 1)): \n",
    "#         for i in range(20, 240, 20):\n",
    "#             plt.scatter([0], [0], color=[mycolors[int(i/20)-1]], label='Countries of max vac% < '+ str(i))\n",
    "#         plt.legend(fontsize=16) \n",
    "#         FONTSIZE = 14\n",
    "#         if NORM != 1:\n",
    "#             plt.text(15, 380000, 'Red: India(high values) and other countries', fontsize=FONTSIZE)\n",
    "#             plt.text(6, 250000, 'Blue: US(high values) and other countries', fontsize=FONTSIZE)\n",
    "#             plt.text(200, 5000, 'Cyan: Gibraltar', fontsize=FONTSIZE)\n",
    "#             plt.text(150, 5000, 'Magenta: Malta', fontsize=FONTSIZE)\n",
    "#             plt.text(130, 20000, 'Green: UK(high values), Spain and other countries', fontsize=FONTSIZE)\n",
    "#         else:\n",
    "#             plt.text(84, 3, 'Cyan: Malta', fontsize=FONTSIZE)\n",
    "    \n",
    "#     plt.scatter(tmp.iloc[:,2], tmp.iloc[:,1], alpha=ALPHA, color=tmp.Color)\n",
    "#     plt.scatter(X, Y, alpha=ALPHA, color=tmp.Color)\n",
    "#     plt.scatter(X, Y, alpha=ALPHA)\n",
    "    plt.plot(X, Y, alpha=ALPHA)\n",
    "    \n",
    "    plt.xlabel(X_label, fontsize=20)\n",
    "    plt.ylabel(Y_label, fontsize=20)\n",
    "    plt.xticks(fontsize=16)\n",
    "    plt.yticks(fontsize=16)\n",
    "#     plt.legend(['Partially Vacinnated', 'Fully Vacinnated'], fontsize=24)\n",
    "\n",
    "    \n",
    "\n",
    "    \n",
    "#     # print text in the graph for a single Region\n",
    "#     if(Region != \"All Countries\"):         \n",
    "#         plt.text(0, 0, tmp.iloc[0].Date, \\\n",
    "#          va='bottom', rotation=90, fontsize=16)\n",
    "\n",
    "#         for vacpct in range(10, int(tmp[tmp.days == end_days].iloc[0, 2]), 10):\n",
    "#             a = max(tmp[tmp.Vac1 < vacpct].Vac1)\n",
    "#             b = min(tmp[tmp.Vac1 >= vacpct].Vac1)\n",
    "#             a1 = tmp[tmp.Vac1 == a].iloc[0].days\n",
    "#             b1 = tmp[tmp.Vac1 == b].iloc[0].days\n",
    "#             vacpct_day = int(round(a1 + (b1 - a1) * ((vacpct - a)/(b-a)), 0))  \n",
    "#             plt.text(vacpct, 0, tmp[tmp.days == vacpct_day].iloc[0].Date, \\\n",
    "#                      va='bottom', rotation=90, fontsize=16)\n",
    "\n",
    "    plt.show()\n",
    "    return\n"
   ]
  },
  {
   "cell_type": "code",
   "execution_count": null,
   "metadata": {},
   "outputs": [],
   "source": [
    "# CurrentCountry = NarrowWW[NarrowWW.Region == 'United Kingdom']\n",
    "results = graph1(NarrowWW, 'Gibraltar', end_days=0,  \\\n",
    "       NORM=1, DATE=0, MIN_Vac=40)\n",
    "print(results)\n",
    "results = graph1(WW, 'Gibraltar', end_days=0,  \\\n",
    "       NORM=0, DATE=1, MIN_Vac=40)\n",
    "print(results)\n"
   ]
  },
  {
   "cell_type": "code",
   "execution_count": null,
   "metadata": {},
   "outputs": [],
   "source": [
    "set(VacDF[(VacDF.VacTotal > 150) & (VacDF.VacTotal < 190) ].Region)"
   ]
  },
  {
   "cell_type": "code",
   "execution_count": null,
   "metadata": {
    "scrolled": false
   },
   "outputs": [],
   "source": [
    "VacDF.columns"
   ]
  },
  {
   "cell_type": "code",
   "execution_count": null,
   "metadata": {
    "scrolled": false
   },
   "outputs": [],
   "source": [
    "# VacDF[VacDF.Color == 'k'][VacDF.days > 570].tail(50)\n",
    "VacDF[VacDF.Region == 'India'].tail(30)"
   ]
  },
  {
   "cell_type": "code",
   "execution_count": null,
   "metadata": {
    "scrolled": false
   },
   "outputs": [],
   "source": [
    "graph1(VacDF, \"Argentina\", 0, NORM=0, DATE=0)"
   ]
  },
  {
   "cell_type": "code",
   "execution_count": null,
   "metadata": {
    "scrolled": false
   },
   "outputs": [],
   "source": [
    "graph1(VacDF, \"ALL\", 0, NORM=0, DATE=0)\n",
    "graph1(VacDF, \"ALL\", 0, NORM=1, DATE=0)\n",
    "graph1(VacDF, \"ALL\", 0, NORM=0, DATE=1)\n",
    "graph1(VacDF, \"ALL\", 0, NORM=1, DATE=1)"
   ]
  },
  {
   "cell_type": "code",
   "execution_count": null,
   "metadata": {},
   "outputs": [],
   "source": [
    "ttt = VacDF[VacDF.days <= 500]\n",
    "print(ttt.days.max())\n",
    "print(VacDF[VacDF.days == 500])"
   ]
  },
  {
   "cell_type": "code",
   "execution_count": null,
   "metadata": {
    "scrolled": false
   },
   "outputs": [],
   "source": [
    "VacDF[VacDF.Color == 'y'][VacDF.NormNew > 2][VacDF.VacTotal > 120].tail(50)"
   ]
  },
  {
   "cell_type": "code",
   "execution_count": null,
   "metadata": {
    "scrolled": false
   },
   "outputs": [],
   "source": [
    "graph1(VacDF, \"ALL\", 405, NORM=0, DATE=0, MAX_X= 20, MAX_Y=0)\n",
    "graph1(VacDF, \"ALL\", 405, NORM=1, DATE=0, MAX_X= 20, MAX_Y=5)"
   ]
  },
  {
   "cell_type": "code",
   "execution_count": null,
   "metadata": {},
   "outputs": [],
   "source": [
    "graph1(VacDF, \"ALL\", 450, NORM=0, DATE=0, MAX_X= 50, MAX_Y=0)\n",
    "graph1(VacDF, \"ALL\", 450, NORM=1, DATE=0, MAX_X= 50, MAX_Y=5)"
   ]
  },
  {
   "cell_type": "code",
   "execution_count": null,
   "metadata": {},
   "outputs": [],
   "source": []
  },
  {
   "cell_type": "code",
   "execution_count": null,
   "metadata": {},
   "outputs": [],
   "source": [
    "# VacDF[VacDF.Color == 'k'][VacDF.NormNew > 5][VacDF.VacTotal > 10].tail(50)\n",
    "VacDF[(VacDF.Color == 'r') & (VacDF.VacTotal > 40)].tail(50)"
   ]
  },
  {
   "cell_type": "code",
   "execution_count": null,
   "metadata": {
    "scrolled": false
   },
   "outputs": [],
   "source": [
    "Delta.groupby('Date').sum()"
   ]
  },
  {
   "cell_type": "code",
   "execution_count": null,
   "metadata": {},
   "outputs": [],
   "source": [
    "Delta[Delta.num_sequences > 0].sort_values('days')"
   ]
  },
  {
   "cell_type": "code",
   "execution_count": null,
   "metadata": {},
   "outputs": [],
   "source": []
  },
  {
   "cell_type": "code",
   "execution_count": null,
   "metadata": {
    "scrolled": false
   },
   "outputs": [],
   "source": [
    "graph1(VacDF, \"Israel\", 0, 0, 1)"
   ]
  },
  {
   "cell_type": "code",
   "execution_count": null,
   "metadata": {
    "scrolled": false
   },
   "outputs": [],
   "source": [
    "graph1(VacDF, \"United Kingdom\", 0, 0, 1)"
   ]
  },
  {
   "cell_type": "code",
   "execution_count": null,
   "metadata": {},
   "outputs": [],
   "source": [
    "tmp = VacDF[VacDF.Region == 'Taiwan']\n",
    "tmp[tmp.days == 550]"
   ]
  },
  {
   "cell_type": "code",
   "execution_count": null,
   "metadata": {
    "scrolled": true
   },
   "outputs": [],
   "source": [
    "graph1(VacDF, \"Taiwan\", 0, 0, 0)"
   ]
  },
  {
   "cell_type": "code",
   "execution_count": null,
   "metadata": {
    "scrolled": false
   },
   "outputs": [],
   "source": [
    "graph1(VacDF, \"South Africa\", 0, 0, 0)"
   ]
  },
  {
   "cell_type": "code",
   "execution_count": null,
   "metadata": {},
   "outputs": [],
   "source": [
    "VacDF.columns"
   ]
  },
  {
   "cell_type": "code",
   "execution_count": null,
   "metadata": {
    "scrolled": true
   },
   "outputs": [],
   "source": [
    "VacDF[VacDF.Region == 'South Africa'][['Date', 'VacTotal', 'Vac1', 'Vac2' ]]"
   ]
  },
  {
   "cell_type": "code",
   "execution_count": null,
   "metadata": {},
   "outputs": [],
   "source": []
  },
  {
   "cell_type": "code",
   "execution_count": null,
   "metadata": {
    "scrolled": false
   },
   "outputs": [],
   "source": [
    "for i in SinoVacSet2:\n",
    "    graph1(VacDF, i , 0, 0)"
   ]
  },
  {
   "cell_type": "code",
   "execution_count": null,
   "metadata": {
    "scrolled": false
   },
   "outputs": [],
   "source": [
    "for i in ['United Kingdom', 'France', 'Israel', 'United States', 'Vietnam', 'Japan', 'South Korea',\\\n",
    "          'Germany']:\n",
    "    graph1(VacDF, i, 0, 0, 1 )"
   ]
  },
  {
   "cell_type": "code",
   "execution_count": null,
   "metadata": {},
   "outputs": [],
   "source": [
    "graphn(VacDF, ['United Kingdom', 'France', 'Israel', 'United States', 'Vietnam', 'Japan', 'South Korea',\\\n",
    "          'Germany'], end_days=0)"
   ]
  },
  {
   "cell_type": "code",
   "execution_count": null,
   "metadata": {},
   "outputs": [],
   "source": [
    "VacDF[VacDF.Region == 'United Kingdom'].tail()"
   ]
  },
  {
   "cell_type": "code",
   "execution_count": null,
   "metadata": {},
   "outputs": [],
   "source": []
  },
  {
   "cell_type": "code",
   "execution_count": null,
   "metadata": {
    "scrolled": false
   },
   "outputs": [],
   "source": [
    "for i in  set(VacDF.Region):\n",
    "#     graph1(VacDF, i , 0, 0)\n",
    "    print( i, 1000* VacDF[VacDF.Region == i].iloc[-1].TestsPerK/\\\n",
    "          VacDF[VacDF.Region == i].iloc[-1].Pop)"
   ]
  },
  {
   "cell_type": "code",
   "execution_count": null,
   "metadata": {},
   "outputs": [],
   "source": [
    "\n",
    "for i in ['Taiwan', 'Japan', 'India', 'Russia', 'Canada', 'Chile', 'Italy', 'Israel', 'Denmark']:\n",
    "    a  = VacDF[VacDF.Region == i].iloc[-1].TestsPerK\n",
    "    b = VacDF[VacDF.Region == i].iloc[-1].Pop\n",
    "    c  = VacDF[VacDF.Region == i].iloc[-1].Date\n",
    "    print(c, a, i)"
   ]
  },
  {
   "cell_type": "code",
   "execution_count": null,
   "metadata": {},
   "outputs": [],
   "source": [
    "T2.tail()"
   ]
  },
  {
   "cell_type": "code",
   "execution_count": null,
   "metadata": {},
   "outputs": [],
   "source": [
    "for i in RegionVacSet:\n",
    "    a  = VacDF[VacDF.Region == i].iloc[-1].TestsPerK\n",
    "    b = VacDF[VacDF.Region == i].iloc[-1].Pop\n",
    "    c  = VacDF[VacDF.Region == i].iloc[-1].Date\n",
    "    print(c, a, i)"
   ]
  },
  {
   "cell_type": "code",
   "execution_count": null,
   "metadata": {},
   "outputs": [],
   "source": [
    "RegionVacSet"
   ]
  },
  {
   "cell_type": "code",
   "execution_count": null,
   "metadata": {
    "scrolled": true
   },
   "outputs": [],
   "source": [
    "for i in set(VacDF.Region):\n",
    "    myVacs = VacBrand[VacBrand.Region == i ].groupby('vaccine').max()\n",
    "    # print(myVacs)\n",
    "    # print(myVacs.sum())\n",
    "    mypop = VacDF[VacDF.Region == i].iloc[-1].Pop\n",
    "    myVac = VacDF[VacDF.Region == i].iloc[-1].VacTotal\n",
    "    # print(myVac, mypop, myVac * mypop/100)\n",
    "    FromPctPop = myVac * mypop/100\n",
    "    FromSumVaccine = myVacs.total_vaccinations.sum()\n",
    "    if(FromSumVaccine != 0.0) : print(i, FromSumVaccine/FromPctPop )"
   ]
  },
  {
   "cell_type": "code",
   "execution_count": null,
   "metadata": {},
   "outputs": [],
   "source": [
    "VacBrand.columns"
   ]
  },
  {
   "cell_type": "markdown",
   "metadata": {},
   "source": [
    "## 4.3 Graph for a single country"
   ]
  },
  {
   "cell_type": "code",
   "execution_count": null,
   "metadata": {},
   "outputs": [],
   "source": [
    "def graph_single_country(df, VacDF, Vaccine, AllVaccineByRegion, Region, \\\n",
    "                         DeathScale=100, VacScale=10, end_days=0, LeadDay  = 0, \\\n",
    "                         BeforePeak=0):\n",
    "    # One plot with many info for one Region.\n",
    "    # Input:        \n",
    "        # df: daily new cases, new deaths or their smoothed equivalents\n",
    "        # Vaccine: daily (can be biweekly or so) vaccines administrated.\n",
    "        # AllVaccineByRegion: is not time series, has all viccine pct for each country\n",
    "        # Region: a single region.\n",
    "        # LeadDay: days needed for vaccination to take effect.\n",
    "\n",
    "    df = df[df.Region == Region] \n",
    "    if df.shape[0] == 0 : \n",
    "        print('Region: ', Region, '  not recognized') \n",
    "        return [Region]\n",
    "    VacDF = VacDF[VacDF.Region == Region]\n",
    "    if VacDF.shape[0] == 0 : \n",
    "        print('Region: ', Region, '  not recognized') \n",
    "        return [Region]\n",
    "\n",
    "    SKIP_Death = 0\n",
    "    \n",
    "    \n",
    "#     # AllVaccineByRegion is not time series\n",
    "#     AllVaccineByRegion = AllVaccineByRegion[AllVaccineByRegion.Region == Region]\n",
    "#     print(Region, 'AllVaccineByRegion.shape = ', AllVaccineByRegion.shape)\n",
    "#     TotalShotsInOneRegion = AllVaccineByRegion.TotalShotsInOneRegion.iloc[0]\n",
    "    # Vaccine is time series\n",
    "    Vaccine = Vaccine[Vaccine.Region == Region]\n",
    "    if Vaccine.shape[0] >= 1:\n",
    "        YvalueMax = Vaccine.total_vaccinations.max()\n",
    "    else: YvalueMax = 0\n",
    "    max_vaccine_total = YvalueMax\n",
    "    \n",
    "    Vaccine1st = 'Unknown vaccine'\n",
    "    Vaccine1stPct = VacDF.VacTotal.max()\n",
    "    # AllVaccineByRegion is not time series\n",
    "    AllVaccineByRegion = AllVaccineByRegion[AllVaccineByRegion.Region == Region]\n",
    "    if AllVaccineByRegion.shape[0] >= 1:\n",
    "        MainVaccineByRegion = AllVaccineByRegion.iloc[0]\n",
    "        print('Main Vaccine is ', MainVaccineByRegion)\n",
    "        Vaccine1st = MainVaccineByRegion.vaccine\n",
    "        Vaccine1stPct = MainVaccineByRegion.pct_shot       \n",
    "\n",
    "#         Vaccine1st = MainVaccineByRegion.vaccine + ' ' + \\\n",
    "#         str(MainVaccineByRegion.pct_shot)+'%'       \n",
    "        \n",
    "    TITLE = Region + ': COVID-19 upto ' +  ' '\n",
    "    print(TITLE)\n",
    "    \n",
    "    # Set up df upto end_days and Title for the figure.\n",
    "    if(end_days > 0) : \n",
    "        df = df[df.days <= end_days]\n",
    "        Vaccine = Vaccine[Vaccine.days <= end_days]\n",
    "    end_days = max(df.days)\n",
    "    EndDate = df[df.days == end_days].iloc[0].Date        \n",
    "\n",
    "    X = df.days\n",
    "    Y1 = df.new7\n",
    "    Y2 = df.new_deaths7\n",
    "#     if Y2.max() == 0: # This does not work if deaths7 is NaN\n",
    "    if (Y2.max() != Y2.max()) | (Y2.max() == 0) :\n",
    "        print('============', Region, ' does not have deaths7. Use new_deaths')\n",
    "        Y2 = df.new_deaths\n",
    "        if (Y2.max() != Y2.max()) | (Y2.max() == 0) :\n",
    "            print('============', Region, ' does not have new_deaths. Skip death')\n",
    "            SKIP_Death = 1\n",
    "            \n",
    "    Xvac = VacDF.days\n",
    "    Yvac = VacDF.VacTotal\n",
    "    max_VacTotal = Yvac.max()\n",
    "    \n",
    "    print('Before Ymax, MaxCases, MaxVac', YvalueMax, Y1.max(), max_VacTotal)\n",
    "    YvalueMax = max(YvalueMax, Y1.max())  # YvalueMax is set to max new7 or Vaccine.total_vaccinations.max()\n",
    "    print('After  Ymax, MaxCases, MaxVac', YvalueMax, Y1.max(), max_VacTotal)\n",
    "    \n",
    "    New7Scale =  10**int(round(np.log10(YvalueMax / Y1.max()), 0))\n",
    "    if SKIP_Death == 0 :\n",
    "        DeathScale = 10**int(round(np.log10(YvalueMax / Y2.max()), 0))\n",
    "    VacScale = 10**int(round(np.log10(YvalueMax / Yvac.max()), 0))\n",
    "    print(\"New7Scale, DeathScale, VacScale = \", New7Scale, DeathScale, VacScale)\n",
    "    \n",
    "    New7Scale = New7Scale / VacScale\n",
    "    if SKIP_Death == 0 :  DeathScale = DeathScale / VacScale\n",
    "    \n",
    "    Y1 = Y1 * New7Scale\n",
    "    if SKIP_Death == 0 : Y2 = Y2 * DeathScale\n",
    "    Yvac = Yvac\n",
    "\n",
    "    int(round(np.log10(100 / 1), 2))\n",
    "\n",
    "    plt.figure(figsize=(16.0, 10.0))\n",
    "    LINEWIDTH =2\n",
    "#     plt.yscale('log')\n",
    "#     plt.ylim(0, 100000)\n",
    "    ALPHA = 0.5\n",
    "    LINEWIDTH = 1\n",
    "    X_label = 'Elapsed days since 2019/12/31. Days 500 is 2021/5/14'\n",
    "    Y_label = 'confirmed cases, deaths and vaccine administrated'   \n",
    "    \n",
    "    print(max(Y1), 'max cases')\n",
    "    plt.plot(X, Y1, linewidth=15, alpha=0.3, color='orange')\n",
    "    if SKIP_Death == 0 : plt.plot(X, Y2, linewidth=5, alpha=0.6, color='red')\n",
    "    plt.plot(Xvac, Yvac, linewidth=3, alpha=1.0, color='green')\n",
    "    \n",
    "    # plot vaccines if known\n",
    "    mycolor4vaccine = ['cyan', 'black', 'blue',  \\\n",
    "                       'magenta', 'green', 'red', 'orange', 'yellow']  \n",
    "    \n",
    "    for i in range(AllVaccineByRegion.shape[0]) :\n",
    "        print(Region, 'AllVaccineByRegion.shape = ', AllVaccineByRegion.shape)\n",
    "        TotalShotsInOneRegion = AllVaccineByRegion.TotalShotsInOneRegion.iloc[0]\n",
    "\n",
    "        LINEWIDTH = LINEWIDTH + 1 \n",
    "        CurrentVaccine = Vaccine[Vaccine.vaccine == AllVaccineByRegion.iloc[i].vaccine]\n",
    "        X_Vac = CurrentVaccine.days\n",
    "        Y_Vac = CurrentVaccine.total_vaccinations / TotalShotsInOneRegion * max_VacTotal\n",
    "        plt.plot(X_Vac, Y_Vac, linewidth=2, linestyle='dashed', \\\n",
    "                 alpha=0.7, color=mycolor4vaccine[i])\n",
    "              \n",
    "    plt.xlabel(X_label, fontsize=20)\n",
    "    plt.ylabel(Y_label, fontsize=20)\n",
    "    plt.xticks(fontsize=16)\n",
    "    plt.yticks(fontsize=16)\n",
    "    \n",
    "\n",
    "    jj = AllVaccineByRegion\n",
    "    jk = [jj.iloc[k].vaccine + ' ' \\\n",
    "          + str(int(jj.iloc[k].pct_shot ) ) + '%' \\\n",
    "          for k in range(jj.shape[0])]\n",
    "\n",
    "#     jk = [jj.iloc[k].vaccine + '/'+str(VacScale) + ' ' \\\n",
    "#           + str(int(jj.iloc[k].pct_shot ) ) + '%' \\\n",
    "#           for k in range(jj.shape[0])]\n",
    "\n",
    "#     jk = [jj.iloc[k].vaccine + '/'+str(VacScale) + ' ' \\\n",
    "#           + str(int(jj.iloc[k].pct_shot * Yvac.max() / 100) ) + '%' \\\n",
    "#           for k in range(jj.shape[0])]\n",
    "\n",
    "    if SKIP_Death == 1 :\n",
    "        plt.legend(['Daily new cases* ' + str(New7Scale), \\\n",
    "                'Vaccination% administrated']\\\n",
    "               + jk, fontsize=16)\n",
    "    else:\n",
    "        plt.legend(['Daily new cases* ' + str(New7Scale), \\\n",
    "                'Daily new deaths * ' + str(DeathScale), \\\n",
    "                'Vaccination% administrated']\\\n",
    "               + jk, fontsize=16)\n",
    "\n",
    "    FIG = ''\n",
    "    plt.title(TITLE + EndDate + ' ' + Vaccine1st + ' ' + \\\n",
    "              str(Vaccine1stPct)+'%' , fontsize=20)\n",
    "    plt.grid()\n",
    "    \n",
    "    plt.show()\n",
    "    \n",
    "    return  [Region, max_VacTotal, Vaccine1st, Vaccine1stPct]"
   ]
  },
  {
   "cell_type": "code",
   "execution_count": null,
   "metadata": {
    "scrolled": true
   },
   "outputs": [],
   "source": [
    "AllVaccineByRegion.head()"
   ]
  },
  {
   "cell_type": "code",
   "execution_count": null,
   "metadata": {
    "scrolled": true
   },
   "outputs": [],
   "source": [
    "VacDF[VacDF.Region == 'Japan'].iloc[-1]"
   ]
  },
  {
   "cell_type": "code",
   "execution_count": null,
   "metadata": {
    "scrolled": true
   },
   "outputs": [],
   "source": [
    "NarrowWW[NarrowWW.Region == 'Bugaria']"
   ]
  },
  {
   "cell_type": "code",
   "execution_count": null,
   "metadata": {
    "scrolled": true
   },
   "outputs": [],
   "source": [
    "VacBrand[VacBrand.Region == 'Portugal'].groupby('vaccine').max()"
   ]
  },
  {
   "cell_type": "code",
   "execution_count": null,
   "metadata": {},
   "outputs": [],
   "source": [
    "MainVaccineByRegion[MainVaccineByRegion.Region == 'Portugal']"
   ]
  },
  {
   "cell_type": "code",
   "execution_count": null,
   "metadata": {},
   "outputs": [],
   "source": [
    "MyFocus = [ 'Taiwan']\n",
    "results = []\n",
    "for Region in MyFocus :\n",
    "# for Region in MyFocus :\n",
    "    rtv = graph_single_country(NarrowWW, VacDF, VacBrand, AllVaccineByRegion, \\\n",
    "                     Region, DeathScale=10, VacScale=100, \\\n",
    "                     end_days=0, LeadDay  = 0, BeforePeak=0)\n",
    "    results = results + [rtv]\n",
    "print(results)\n"
   ]
  },
  {
   "cell_type": "code",
   "execution_count": null,
   "metadata": {
    "scrolled": false
   },
   "outputs": [],
   "source": [
    "# MyFocus = [ 'Uruguay', 'Chile', 'Israel', 'Hungary', 'Hong Kong']\n",
    "\n",
    "# MyFocus = [ 'United States', 'United Kingdom', 'Germany', 'Italy', 'France']\n",
    "MyFocus = [ 'Taiwan', 'Singapore', 'Thailand', 'India', 'Philippines']\n",
    "results = []\n",
    "for Region in MyFocus :\n",
    "# for Region in MyFocus :\n",
    "    rtv = graph_single_country(NarrowWW, VacDF, VacBrand, AllVaccineByRegion, \\\n",
    "                     Region, DeathScale=10, VacScale=100, \\\n",
    "                     end_days=0, LeadDay  = 0, BeforePeak=0)\n",
    "    results = results + [rtv]\n",
    "print(results)\n"
   ]
  },
  {
   "cell_type": "code",
   "execution_count": null,
   "metadata": {
    "scrolled": false
   },
   "outputs": [],
   "source": [
    "MyFocus = ['Portugal', 'Japan', 'Iceland', 'Romania', 'Hungary', \\\n",
    "           'United States','Taiwan', 'Germany',  'Bugaria']\n",
    "\n",
    "results = []\n",
    "for Region in set(VacDF.Region) :\n",
    "# for Region in MyFocus :\n",
    "    rtv = graph_single_country(NarrowWW, VacDF, VacBrand, AllVaccineByRegion, \\\n",
    "                     Region, DeathScale=10, VacScale=100, \\\n",
    "                     end_days=0, LeadDay  = 0, BeforePeak=0)\n",
    "    results = results + [rtv]\n",
    "print(results)\n"
   ]
  },
  {
   "cell_type": "code",
   "execution_count": null,
   "metadata": {},
   "outputs": [],
   "source": []
  },
  {
   "cell_type": "code",
   "execution_count": null,
   "metadata": {
    "scrolled": true
   },
   "outputs": [],
   "source": [
    "# CCbyVaccine = pd.DataFrame.merge(ResultDF, CCStartAll)\n",
    "# print(CCbyVaccine.groupby('Vaccine1st').mean())\n",
    "# print(CCbyVaccine.groupby('Vaccine1st').count())"
   ]
  },
  {
   "cell_type": "code",
   "execution_count": null,
   "metadata": {},
   "outputs": [],
   "source": [
    "CCbyVaccine.columns"
   ]
  },
  {
   "cell_type": "code",
   "execution_count": null,
   "metadata": {},
   "outputs": [],
   "source": [
    "CCStartAll.head()"
   ]
  },
  {
   "cell_type": "code",
   "execution_count": null,
   "metadata": {},
   "outputs": [],
   "source": [
    "# tmp = np.array(CCbyVaccine)\n",
    "# for i in range(tmp.shape[0]):    \n",
    "#     if tmp[i, 2]  == 'Unknown vaccine':\n",
    "#         tmp[i, 3] = 0\n",
    "#         if tmp[i, 0] in ChinaVaccineRegion :\n",
    "#             tmp[i, 2] = 'MaybeSinovac'\n",
    "#         elif tmp[i, 0] in BNT_Region :\n",
    "#             tmp[i, 2] = 'MaybeBNT'\n",
    "#         elif tmp[i, 0] in AZ_Region :\n",
    "#             tmp[i, 2] = 'MaybeAZ'\n",
    "   \n",
    "# tmp = pd.DataFrame(tmp, columns= \\\n",
    "#                    ['Country', 'CurrentVacTotal%', 'MainVaccine', 'MainVaccine%', \\\n",
    "#                     'CC', 'SizeToGetCC', 'AerageVacBeforeDelta%'])\n",
    "# tmp = tmp.astype({'CurrentVacTotal%': int, 'MainVaccine%': int, \\\n",
    "#                     'CC':float, 'SizeToGetCC':int, \\\n",
    "#                   'AerageVacBeforeDelta%':int}, copy=False)\n",
    "# tmp = tmp[['Country', 'CurrentVacTotal%', 'MainVaccine', 'MainVaccine%', \\\n",
    "#                     'CC', 'AerageVacBeforeDelta%']]\n",
    "# tmp.dtypes\n",
    "# tmp1 = tmp.groupby('MainVaccine').mean().reset_index()\n",
    "# tmp2 = tmp.groupby('MainVaccine').Country.count().reset_index()\n",
    "# tmp3 = pd.merge(tmp1, tmp2)\n",
    "# print(tmp3)\n",
    "\n",
    "# print('\\nCC is correlation coeficient between time series VacTotal% and Cases before Delta impact.')\n",
    "# print('The lower CC the better vaccine efficacy.')\n",
    "# print('CC between -1 and -0.5 are perfect. It is terrible to be positive')\n",
    "# print('CurrentVacTotal% is shots/population.')\n",
    "# print('MainVaccine% is based on all vaccine usage.  The max is 100%')\n",
    "# print('AerageVacBeforeDelta% is the average of vaccination% on 20210701 for countries included.')\n",
    "# print('Countries with 30% or lower vaccination rate are not included in this statistics.')\n",
    "# print('78 countries are included in this statistics.')\n",
    "# print('34 of 78 countries have detailed vaccine usage.')\n",
    "# print('Others are either not known or not organized yet and are labeled with \\\"Maybe\\\" or \\\"Unknown\\\"')\n",
    "\n",
    "\n",
    "# print(tmp.shape)"
   ]
  },
  {
   "cell_type": "code",
   "execution_count": null,
   "metadata": {},
   "outputs": [],
   "source": [
    "# tmp.columns"
   ]
  },
  {
   "cell_type": "code",
   "execution_count": null,
   "metadata": {},
   "outputs": [],
   "source": [
    "# tmp[tmp.MainVaccine == 'Sinovac']"
   ]
  },
  {
   "cell_type": "code",
   "execution_count": null,
   "metadata": {},
   "outputs": [],
   "source": [
    "# CCbyViccine[CCbyViccine.Vaccine1st == 'Sinovac']"
   ]
  },
  {
   "cell_type": "code",
   "execution_count": null,
   "metadata": {},
   "outputs": [],
   "source": []
  },
  {
   "cell_type": "markdown",
   "metadata": {},
   "source": [
    "# 5. Investigation of vaccine's efficacy for Delta variant"
   ]
  },
  {
   "cell_type": "code",
   "execution_count": null,
   "metadata": {},
   "outputs": [],
   "source": [
    "CCbyVaccine.columns"
   ]
  },
  {
   "cell_type": "code",
   "execution_count": null,
   "metadata": {
    "scrolled": true
   },
   "outputs": [],
   "source": [
    "CCbyVaccine.columns = ['Country', 'CurrentVacTotal%', 'MainVaccine', 'MainVaccine%', \\\n",
    "                    'CC', 'SizeToGetCC', 'AerageVacBeforeDelta%']\n",
    "CCbyVaccine.head()"
   ]
  },
  {
   "cell_type": "code",
   "execution_count": null,
   "metadata": {},
   "outputs": [],
   "source": [
    "tmp = np.array(CCbyVaccine)\n",
    "for i in range(tmp.shape[0]):    \n",
    "    if tmp[i, 2]  == 'Unknown vaccine':\n",
    "        tmp[i, 3] = 0\n",
    "        if tmp[i, 0] in ChinaVaccineRegion :\n",
    "            tmp[i, 2] = 'MaybeSinovac'\n",
    "        elif tmp[i, 0] in BNT_Region :\n",
    "            tmp[i, 2] = 'MaybeBNT'\n",
    "        elif tmp[i, 0] in AZ_Region :\n",
    "            tmp[i, 2] = 'MaybeAZ'\n",
    "            \n",
    "VaccineForDelta = pd.DataFrame(tmp, columns=CCbyVaccine.columns)\n",
    "# VaccineForDelta = VaccineForDelta.rename({'Country': 'Region'}, inplace=True)\n",
    "# VaccineForDelta.columns = [['Region', 'CurrentVacTotal%', 'MainVaccine', 'MainVaccine%', \\\n",
    "#                     'CC', 'SizeToGetCC', 'AerageVacBeforeDelta%']]\n",
    "VaccineForDelta.head()"
   ]
  },
  {
   "cell_type": "code",
   "execution_count": null,
   "metadata": {},
   "outputs": [],
   "source": []
  },
  {
   "cell_type": "code",
   "execution_count": null,
   "metadata": {},
   "outputs": [],
   "source": [
    "VacDF.columns"
   ]
  },
  {
   "cell_type": "code",
   "execution_count": null,
   "metadata": {},
   "outputs": [],
   "source": []
  },
  {
   "cell_type": "code",
   "execution_count": null,
   "metadata": {
    "scrolled": false
   },
   "outputs": [],
   "source": [
    "tmp = []\n",
    "noDelta = []\n",
    "LowHighRatio = 0.5\n",
    "\n",
    "for i in set(VacDF.Region):\n",
    "    \n",
    "    CurrentRegion = VacDF[VacDF.Region == i]\n",
    "    DeltaHigh = CurrentRegion[CurrentRegion.days > 547].new7.max()\n",
    "    DeltaHighDay = CurrentRegion[(CurrentRegion.days > 547) & \\\n",
    "                                 (CurrentRegion.new7 == DeltaHigh)].days\n",
    "    if len(DeltaHighDay) == 0:\n",
    "        print(i, 'DeltaHigh --------- ', DeltaHigh)\n",
    "        continue\n",
    "    else :\n",
    "        DeltaHighDay = DeltaHighDay.iloc[0]\n",
    "    \n",
    "    \n",
    "    VaccinatedHigh = CurrentRegion[(CurrentRegion.days > 366) & \\\n",
    "                                   (CurrentRegion.days < 547)].new7.max()\n",
    "    VaccinatedHighDay = CurrentRegion[(CurrentRegion.days > 366) & \\\n",
    "                                   (CurrentRegion.days < 547) &\\\n",
    "                                 (CurrentRegion.new7 == VaccinatedHigh)].days\n",
    "    if len(VaccinatedHighDay) == 0:\n",
    "        print(i, 'VaccinedHigh --------- ', VaccinatedHigh)\n",
    "        continue\n",
    "    else :\n",
    "        VaccinatedHighDay = VaccinatedHighDay.iloc[0]\n",
    "        \n",
    "    LowBtwnVacDelta = CurrentRegion[(CurrentRegion.days > VaccinatedHighDay) & \\\n",
    "                                   (CurrentRegion.days < DeltaHighDay)].new7.min()\n",
    "    LowBtwnVacDeltaDay = CurrentRegion[(CurrentRegion.days > VaccinatedHighDay)&\\\n",
    "                                 (CurrentRegion.new7 == LowBtwnVacDelta)].days\n",
    "    if len(LowBtwnVacDeltaDay) == 0:\n",
    "        print(i, 'LowBtwnVacDeltaDay --------- ', LowBtwnVacDelta)\n",
    "        continue\n",
    "    else :\n",
    "        LowBtwnVacDeltaDay = LowBtwnVacDeltaDay.iloc[0]\n",
    "    \n",
    "    EarlyHigh = CurrentRegion[CurrentRegion.days < 366].new7.max()\n",
    "\n",
    "    DeltaHighDeath = CurrentRegion[CurrentRegion.days > 547].new_deaths7.max()\n",
    "    EarlyHighDeath = CurrentRegion[CurrentRegion.days < 366].new_deaths7.max()\n",
    "    VaccinatedHighDeath = CurrentRegion[(CurrentRegion.days > 366) & \\\n",
    "                                   (CurrentRegion.days < 547)].new_deaths7.max()\n",
    "   \n",
    "    if (LowBtwnVacDelta / VaccinatedHigh > LowHighRatio) |\\\n",
    "    (LowBtwnVacDelta / DeltaHigh > LowHighRatio):\n",
    "#         print(i, 'The low between Vaccinated and Delta is not low enough')\n",
    "#         print('   Day  : ', VaccinatedHighDay, LowBtwnVacDeltaDay, DeltaHighDay)\n",
    "#         print('   Cases: ', VaccinatedHigh, LowBtwnVacDelta, DeltaHigh)\n",
    "#         print([[i, EarlyHigh/VaccinatedHigh, DeltaHigh/VaccinatedHigh,\\\n",
    "#                  EarlyHighDeath/VaccinatedHighDeath, \\\n",
    "#                 DeltaHighDeath/VaccinatedHighDeath]])\n",
    "        noDelta = noDelta + [[i, EarlyHigh/VaccinatedHigh, DeltaHigh/VaccinatedHigh,\\\n",
    "                 EarlyHighDeath/VaccinatedHighDeath, \\\n",
    "                DeltaHighDeath/VaccinatedHighDeath]]\n",
    "#         print(noDelta)\n",
    "    else :\n",
    "        print(i, \"======================\")\n",
    "        tmp = tmp + [[i, EarlyHigh/VaccinatedHigh, DeltaHigh/VaccinatedHigh,\\\n",
    "                     EarlyHighDeath/VaccinatedHighDeath, \\\n",
    "                      DeltaHighDeath/VaccinatedHighDeath]]\n",
    "\n",
    "print(noDelta)\n",
    "noDeltaDF = pd.DataFrame(noDelta, \\\n",
    "            columns=['Country', 'Early', 'Delta', 'EarlyDeath', 'DeltaDeath'])\n",
    "tmpDF = pd.DataFrame(tmp, \\\n",
    "            columns=['Country', 'Early', 'Delta', 'EarlyDeath', 'DeltaDeath'])\n",
    "VaccineForDelta = pd.merge(VaccineForDelta, tmpDF)\n",
    "VaccineForDelta.sort_values('Delta', inplace=True)\n",
    "# VaccineFornoDelta = pd.merge(VaccineForDelta, noDeltaDF)\n",
    "# VaccineFornoDelta.sort_values('Delta', inplace=True)"
   ]
  },
  {
   "cell_type": "code",
   "execution_count": null,
   "metadata": {},
   "outputs": [],
   "source": [
    "print(noDeltaDF.mean())\n",
    "print(noDeltaDF.median())\n"
   ]
  },
  {
   "cell_type": "code",
   "execution_count": null,
   "metadata": {},
   "outputs": [],
   "source": [
    "print(Delta_Countries.head())\n",
    "print(noDeltaDF.head())"
   ]
  },
  {
   "cell_type": "code",
   "execution_count": null,
   "metadata": {},
   "outputs": [],
   "source": [
    "noDeltaVsGisaidDelta = pd.merge(noDeltaDF, Delta_Countries, \\\n",
    "                                left_on='Country', right_on='Region')\n",
    "noDeltaVsGisaidDelta.drop(columns=['Region'], inplace=True)\n",
    "noDeltaVsGisaidDelta.sort_values('pct_delta')"
   ]
  },
  {
   "cell_type": "code",
   "execution_count": null,
   "metadata": {},
   "outputs": [],
   "source": []
  },
  {
   "cell_type": "code",
   "execution_count": null,
   "metadata": {},
   "outputs": [],
   "source": [
    "pd.set_option('display.width', 140)\n",
    "print(VaccineForDelta.shape)\n",
    "print(VaccineForDelta.groupby('MainVaccine').mean())\n",
    "print()\n",
    "# print(VaccineForDelta.groupby('MainVaccine').Country.count())\n",
    "print(VaccineForDelta.groupby('MainVaccine').count())"
   ]
  },
  {
   "cell_type": "code",
   "execution_count": null,
   "metadata": {},
   "outputs": [],
   "source": [
    "pd.set_option('display.width', 140)\n",
    "print(VaccineFornoDelta.groupby('MainVaccine').mean())\n",
    "print()\n",
    "print(VaccineFornoDelta.groupby('MainVaccine').Country.count())"
   ]
  },
  {
   "cell_type": "code",
   "execution_count": null,
   "metadata": {},
   "outputs": [],
   "source": [
    "VaccineFornoDelta"
   ]
  },
  {
   "cell_type": "code",
   "execution_count": null,
   "metadata": {},
   "outputs": [],
   "source": []
  },
  {
   "cell_type": "code",
   "execution_count": null,
   "metadata": {},
   "outputs": [],
   "source": []
  },
  {
   "cell_type": "markdown",
   "metadata": {},
   "source": [
    "# 6. Investigate vaccination effectiveness"
   ]
  },
  {
   "cell_type": "markdown",
   "metadata": {},
   "source": [
    "## 6.1 Vaccination info is updated every 14 days, therefore, we get 14 days new for every day, then merge it to vaccination data "
   ]
  },
  {
   "cell_type": "code",
   "execution_count": null,
   "metadata": {
    "scrolled": false
   },
   "outputs": [],
   "source": [
    "Total14 = pd.DataFrame([])\n",
    "\n",
    "for i in set(NarrowWW.Region):\n",
    "    Narrow1Region = NarrowWW[NarrowWW.Region == i]\n",
    "    print(Narrow1Region.tail(16))\n",
    "    print(Narrow1Region.tail(14).sum())\n",
    "    tmp = Total_n(Narrow1Region.new, 14)\n",
    "    print(tmp.shape, Narrow1Region.shape, Narrow1Region[['Region', 'Date']].shape)\n",
    "    print(tmp.tail(14))\n",
    "    print( Narrow1Region.tail(14))\n",
    "    print( Narrow1Region[['Region', 'Date']].tail(14) )\n",
    "    Total14 = pd.concat([Narrow1Region[['Region', 'Date']], tmp], axis=1)\n",
    "    print(\"Total shape = \", Total14.shape)\n",
    "    \n",
    "print(Total14.head(20))# \n"
   ]
  },
  {
   "cell_type": "code",
   "execution_count": null,
   "metadata": {},
   "outputs": [],
   "source": []
  },
  {
   "cell_type": "markdown",
   "metadata": {},
   "source": [
    "# A. Some special projects"
   ]
  },
  {
   "cell_type": "markdown",
   "metadata": {},
   "source": [
    "## A1"
   ]
  },
  {
   "cell_type": "code",
   "execution_count": null,
   "metadata": {},
   "outputs": [],
   "source": [
    "VacDF.head()"
   ]
  },
  {
   "cell_type": "code",
   "execution_count": null,
   "metadata": {},
   "outputs": [],
   "source": [
    "VacDF[VacDF.Region == 'United Kingdom'][['days', 'VacTotal']]"
   ]
  },
  {
   "cell_type": "code",
   "execution_count": null,
   "metadata": {},
   "outputs": [],
   "source": []
  },
  {
   "cell_type": "code",
   "execution_count": null,
   "metadata": {},
   "outputs": [],
   "source": [
    "VacDF.columns"
   ]
  },
  {
   "cell_type": "code",
   "execution_count": null,
   "metadata": {},
   "outputs": [],
   "source": [
    "Delta.head()"
   ]
  },
  {
   "cell_type": "code",
   "execution_count": null,
   "metadata": {},
   "outputs": [],
   "source": [
    "import matplotlib.pyplot as plt\n",
    "import seaborn as sns\n",
    "\n",
    "plt.figure(figsize=(20.0, 12.0))\n",
    "# plt.yscale('log')\n",
    "# plt.ylim(0, 10000)\n",
    "plt.xlabel('Days since 20191231, 20210514 is at Days 500', fontsize=24)\n",
    "plt.ylabel('Death% by confirmed cases', fontsize=24)\n",
    "plt.xticks(fontsize=16)\n",
    "plt.yticks(fontsize=16)\n",
    "\n",
    "ListLocation  = ['United Kingdom']\n",
    "for i in ListLocation:\n",
    "    CurrentVac = VacDF[VacDF.Region == i]\n",
    "    DDay = CurrentVac.iloc[0].days\n",
    "    print('DDay = ', DDay)\n",
    "    CurrentDelta = Delta[Delta.Region == i]\n",
    "    CurrentDelta = CurrentDelta[CurrentDelta.days >= DDay]\n",
    "    plt.scatter(CurrentVac.days, CurrentVac.new7, marker='X', s = 200, alpha=0.7)\n",
    "    plt.scatter(CurrentDelta.days, CurrentDelta.num_sequences/14, marker='d', s = 200, alpha=0.7)\n",
    "    plt.scatter(CurrentDelta.days, CurrentDelta.num_sequences_total/14, marker='D',s = 200,  alpha=0.7)\n",
    "\n",
    "# plt.text(501, 0.0,'Taiwan outbreak on 20210515', va='bottom', rotation=90, fontsize=20)\n",
    "# plt.text(531, 0.0,'Taiwan begin vaccination for age 75+', va='bottom', rotation=90, fontsize=20)\n",
    "# plt.text(540, 0.007,'and nursing home on 20210614', va='bottom', rotation=90, fontsize=20)\n",
    "plt.legend(ListLocation, fontsize=24)\n",
    "# sns.pairplot(tmp[tmp.Region == 'Italy'])\n",
    "# sns.heatmap(WideWW[WideWW.Region == 'Italy'].corr())\n",
    "plt.title('Cumulatiive Death Rate by Day up to 2021/7/22', fontsize=32)\n",
    "plt.show()\n"
   ]
  },
  {
   "cell_type": "markdown",
   "metadata": {},
   "source": [
    "# 7. Omicron\n"
   ]
  },
  {
   "cell_type": "markdown",
   "metadata": {},
   "source": [
    "## 7.1 Some basic statistics"
   ]
  },
  {
   "cell_type": "code",
   "execution_count": null,
   "metadata": {
    "scrolled": false
   },
   "outputs": [],
   "source": [
    "Narrow2022 = NarrowWW[NarrowWW.days > 0]\n",
    "Narrow2022 = Narrow2022.fillna(0)\n",
    "Narrow2022.columns"
   ]
  },
  {
   "cell_type": "code",
   "execution_count": null,
   "metadata": {},
   "outputs": [],
   "source": [
    "Narrow2022 = Narrow2022[['Date', 'continent', 'Region', 'total', 'new', 'new7', 'total_deaths', 'new_deaths', 'new_deaths7', 'Pop',\n",
    "       'total_per_M', 'new_per_M', 'new7_per_M', 'total_deaths_per_M', 'new_deaths_per_M', 'new_deaths7_per_M',\n",
    "       'TestsPerK', 'VacTotal', 'Vac1', 'Vac2', 'Vac3', 'days']]"
   ]
  },
  {
   "cell_type": "code",
   "execution_count": null,
   "metadata": {},
   "outputs": [],
   "source": [
    "max_days = Narrow2022.days.max()\n",
    "print(max_days)"
   ]
  },
  {
   "cell_type": "code",
   "execution_count": null,
   "metadata": {
    "scrolled": true
   },
   "outputs": [],
   "source": [
    "# similar to \"Narrow2022[Narrow2022.days == max_days].head()\".  Example to extract the contend of groupby.\n",
    "tmp = Narrow2022.groupby('Region')\n",
    "Total = []\n",
    "for a, b in tmp:\n",
    "    total = b.new.sum()\n",
    "    total_deaths = b.new_deaths.sum()    \n",
    "    total_per_M = b.new_per_M.sum()\n",
    "    total_deaths_per_M = b.new_deaths_per_M.sum()\n",
    "    continent = b.iloc[0].continent\n",
    "    if(total == 0): death_rate_by_infected = 0\n",
    "    else: death_rate_by_infected = total_deaths /total * 100\n",
    "\n",
    "    Total = Total + [[a,continent, total,  total_deaths, total_per_M,  \\\n",
    "                      total_deaths_per_M, death_rate_by_infected]]\n",
    "    \n",
    "#     print(a, type(a), type(b), b.shape)\n",
    "Total=pd.DataFrame(Total, columns=['Region', 'continent', 'total', 'total_deaths', 'total_per_M', \\\n",
    "                                   'total_deaths_per_M', 'CovidDeathPct'])\n",
    "Total.to_csv('Death_Stat.csv')"
   ]
  },
  {
   "cell_type": "code",
   "execution_count": null,
   "metadata": {
    "scrolled": true
   },
   "outputs": [],
   "source": [
    "Total.head()"
   ]
  },
  {
   "cell_type": "code",
   "execution_count": null,
   "metadata": {},
   "outputs": [],
   "source": [
    "Narrow2022[Narrow2022.days == max_days].head()"
   ]
  },
  {
   "cell_type": "code",
   "execution_count": null,
   "metadata": {},
   "outputs": [],
   "source": []
  },
  {
   "cell_type": "code",
   "execution_count": null,
   "metadata": {},
   "outputs": [],
   "source": [
    "Locations = ['Taiwan', 'Australia', 'New Zealand', 'Vietnam', 'Hong Kong', 'South Korea',\\\n",
    "             'United States', 'Japan', 'China']\n",
    "tmp = []\n",
    "for i in Locations: \n",
    "    Current = Total[Total.Region == i].iloc[-1]\n",
    "    tmp = tmp + [[Current.Region, Current.total_deaths_per_M]]\n",
    "    \n",
    "print(tmp)\n",
    "pd.DataFrame(tmp, columns=['Country', 'total_deaths_per_M']).sort_values('total_deaths_per_M')\n"
   ]
  },
  {
   "cell_type": "code",
   "execution_count": null,
   "metadata": {},
   "outputs": [],
   "source": []
  },
  {
   "cell_type": "code",
   "execution_count": null,
   "metadata": {
    "scrolled": false
   },
   "outputs": [],
   "source": [
    "Total.sort_values('CovidDeathPct')[['Region', 'CovidDeathPct']].head(30)\n",
    "Total.sort_values('CovidDeathPct').reset_index().head(10)"
   ]
  },
  {
   "cell_type": "code",
   "execution_count": null,
   "metadata": {},
   "outputs": [],
   "source": [
    "Total[Total.Region == 'United States']"
   ]
  },
  {
   "cell_type": "code",
   "execution_count": null,
   "metadata": {},
   "outputs": [],
   "source": [
    "tmp = []\n",
    "for i in ['Taiwan', 'Hong Kong', 'South Korea', 'Japan', 'New Zealand', 'Australia']:\n",
    "    tmp = tmp + [list(Total[Total.Region == i][['Region', 'total', 'total_deaths', 'total_per_M', \\\n",
    "                                   'total_deaths_per_M', 'CovidDeathPct']].iloc[0])]\n",
    "    \n",
    "print(pd.DataFrame(tmp, columns=['Region', 'total', 'total_deaths', 'total_per_M', \\\n",
    "                                   'total_deaths_per_M', 'CovidDeathPct']))"
   ]
  },
  {
   "cell_type": "code",
   "execution_count": null,
   "metadata": {},
   "outputs": [],
   "source": []
  },
  {
   "cell_type": "markdown",
   "metadata": {},
   "source": [
    "## 7.2 "
   ]
  },
  {
   "cell_type": "code",
   "execution_count": null,
   "metadata": {
    "scrolled": true
   },
   "outputs": [],
   "source": [
    "NarrowWW.tail()"
   ]
  },
  {
   "cell_type": "code",
   "execution_count": null,
   "metadata": {},
   "outputs": [],
   "source": [
    "OmicronCountries = ['Australia', 'Belgium', 'Botswana', 'United Kingdom', \\\n",
    "                    'Denmark', 'Germany', \\\n",
    "                    'Hong Kong', 'Israel', 'Italy', 'Netherlands',\\\n",
    "                    'France', 'Canada',  'South Africa']\n",
    "OmicronCountries2 = ['Australia',  'Botswana', \\\n",
    "                    'Hong Kong', 'Israel', 'Italy',\\\n",
    "                    'France', 'Canada',  'South Africa']\n",
    "OmicronCountries3 = ['Australia', 'United Kingdom',  \\\n",
    "                      'Italy',\\\n",
    "                    'France',  'South Africa']\n",
    "\n",
    "WEurope = ['West Europe', 'United Kingdom', 'Germany', \\\n",
    "                     'Italy', \\\n",
    "                    'France', 'Spain']\n",
    "EEurope = ['East Europe', 'Czechia', 'Russia', \\\n",
    "                     'Poland', \\\n",
    "                    'Ukraine']\n",
    "\n",
    "NAmerica = ['North America', 'Canada', 'United States', \\\n",
    "            'Mexico']\n",
    "\n",
    "\n",
    "EAsia = ['East Asia', 'Japan', 'South Korea', 'Taiwan']\n",
    "\n",
    "SAmerica = ['South America', 'Chile', 'Peru', \\\n",
    "        'Argentina', 'Brazil']\n",
    "SPacific = ['South Pacific', 'New Zealand', 'Australia']\n",
    "SAfrica = ['South Africa', 'South Africa', 'Zimbabwe', 'Namibia', 'Botswana' ]\n",
    "\n",
    "Equator = ['Equator', 'Kenya', 'El Salvador', 'Ecuador',\\\n",
    "           'Colombia', \\\n",
    "          'Tunisia', 'Indonesia', \\\n",
    "          'Singapore']\n",
    "\n",
    "\n",
    "\n",
    "North = {'Qatar',  'Mexico', 'Iceland', 'Tunisia', 'Bosnia', 'Kuwait', \\\n",
    "         'Czechia', 'Tajikistan', 'Portugal', 'Sweden', 'United States',  \\\n",
    "         'Ireland', 'Georgia', 'Guatemala', 'Spain', 'Romania', 'Belgium', \\\n",
    "         'Greenland', 'Russia', 'Croatia', 'Austria', 'Jordan', \\\n",
    "         'Poland', 'Gibraltar', 'Greece', 'Oman',  \\\n",
    "         'Ukraine', 'Bulgaria', 'Palestine', 'Lebanon', 'Uzbekistan', 'Norway', \\\n",
    "         'Switzerland', 'Kyrgyzstan', 'Mongolia', \\\n",
    "         'Slovakia', 'Seychelles', 'United Kingdom', 'Philippines', 'Kazakhstan', \\\n",
    "         'Cyprus', 'Kosovo', 'Italy', \\\n",
    "         'Slovenia',  'France', 'Lithuania',  'Belarus',  'Azerbaijan', \\\n",
    "          'North Macedonia', 'Japan',  'Hong Kong', \\\n",
    "         'Luxembourg', 'South Korea', 'French Polynesia', 'Armenia',  \\\n",
    "          'Serbia', 'Canada', 'Thailand', 'Germany', 'Algeria', \\\n",
    "        'Liechtenstein',  'Taiwan', 'Finland', 'Israel', \\\n",
    "         'Macao',  'Hungary', 'Estonia', 'Albania', \\\n",
    "         'Denmark', 'Netherlands',  'Iran'}\n",
    "\n",
    "# Equator = ['Nicaragua', 'Palestine', 'El Salvador', 'Malaysia', 'Egypt', 'Ecuador',\\\n",
    "#          'Costa Rica', 'Dominican Republic', 'Guatemala', 'Paraguay', 'Colombia', 'Kuwait',\\\n",
    "#           'Tunisia', 'Israel', 'Costa Rica', 'Bermuda', 'Puerto Rico', 'Jamaica', 'Barbados', \\\n",
    "#           'Cuba', 'Singapore', 'Malta']\n"
   ]
  },
  {
   "cell_type": "code",
   "execution_count": null,
   "metadata": {},
   "outputs": [],
   "source": [
    "def GetSumOverRange(DFcolumn, RANGE=1):\n",
    "\n",
    "    cumulative = DFcolumn.cumsum()\n",
    "    SumOverRange = cumulative.diff(RANGE)\n",
    "        \n",
    "    return SumOverRange   "
   ]
  },
  {
   "cell_type": "code",
   "execution_count": null,
   "metadata": {},
   "outputs": [],
   "source": [
    "# just a practice for accumulation sum with fading historical value.\n",
    "e = np.array([0.5 for i in range(1000)])\n",
    "ce = pd.DataFrame(e.cumsum())\n",
    "print(ce.shape)\n",
    "de = ce.diff(100).fillna(0)\n",
    "print(de)\n",
    "\n",
    "\n",
    "f = [0 for i in range(len(e))]        \n",
    "for i in range(len(e)-1) :\n",
    "    f[i+1] = round(e[i] * 0.15 + f[i], 1)\n",
    "    \n",
    "print(f)"
   ]
  },
  {
   "cell_type": "code",
   "execution_count": null,
   "metadata": {
    "scrolled": true
   },
   "outputs": [],
   "source": [
    "NarrowWW.columns"
   ]
  },
  {
   "cell_type": "code",
   "execution_count": null,
   "metadata": {},
   "outputs": [],
   "source": [
    "def graph_Ncountries(df, Regions, begin_day=0, end_day=0, \\\n",
    "                     NORM=1, DATE=1, MIN_Vac=0, MAX_X=0, MAX_Y=0, \\\n",
    "                     SmoothInterval_C=7, Range_V=0, RESCALE=True, REF_SCALE=300, C_RESCALE=1, D_RESCALE=1, \\\n",
    "                     GRAPH=True, GRAPH_CDV = 'CDV', XLeft=2020.0, XRight=2022.5):\n",
    "    # single scatter plots on the same figure.  One plot for each region in Region list\n",
    "    # Input:\n",
    "        # Region: a string represent a region in df.  If \"ALL\", then plot all data in df.\n",
    "        # New: 1 to plot daily new, 0 to plot NormNew\n",
    "        # FullVac:  1 to make 2 plots, one for Vac1, another for Vac2 \n",
    "        # Range_V: vaccine effective days, 0 for all accumulated vaccination\n",
    "        # SmoothInterval_C: days to smooth the cases and deaths.\n",
    "        # C_RESCALE, D_RESCALE:  rescale cases and deaths to fit in the graph.\n",
    "        \n",
    "    RANGE=max(SmoothInterval_C, Range_V)\n",
    "    if(begin_day > 0) : \n",
    "        df = df[df.days >= (begin_day-RANGE)]  # check if begin_day-RANGE<0 works well not not.\n",
    "        \n",
    "    if(NORM == 1) : \n",
    "        df = df[['Date', 'days', 'continent', 'Region', 'total_per_M', 'total_deaths_per_M', 'VacTotal']]\n",
    "        Y_label = 'Average Daily Cases and Deaths in last ' + str(SmoothInterval_C) + ' days per 1M people'\n",
    "    else:\n",
    "        df = df[['Date', 'days', 'continent', 'Region', 'total', 'total_deaths', 'VacTotal']]\n",
    "        Y_label = 'Total Cases and Deaths in last ' + str(SmoothInterval_C) + ' days'\n",
    "\n",
    "    df.columns = ['Date', 'days', 'continent', 'Region', 'total', 'total_deaths', 'VacTotal']\n",
    "    \n",
    "    # Set up df upto end_days \n",
    "    if(end_day > 0) : df = df[df.days <= end_day]\n",
    "    end_day = max(df.days)\n",
    "    \n",
    "    # EndDate will be used as substring in graph title.\n",
    "    EndDate = df[df.days == end_day].iloc[0].Date\n",
    "#     print(\"end day =\", end_day, EndDate)\n",
    " \n",
    "    \n",
    "    YD = []   # will store [Region, MaxNewAtLowVac,MaxDeathAtLowVac, MaxNewAtAlpha,MaxDeathAtAlpha, .....]\n",
    "    \n",
    "    \n",
    "    if GRAPH == True : \n",
    "        Max_ScaledY = 0  # used to position (e.g. alpha, delta, ...) text in the figure\n",
    "        ALPHA = 0.8\n",
    "        LINEWIDTH = 1\n",
    "        LEGEND = []\n",
    "        AREA = Regions[0]\n",
    "        COLOR= ['k', 'r', 'b', 'g', 'y', 'm', 'c' ]\n",
    "        plt.figure(figsize=(16.0, 12.0))\n",
    "        if MAX_X != 0 : plt.xlim(0, MAX_X)\n",
    "        if MAX_Y != 0 : plt.ylim(0, MAX_Y)\n",
    "\n",
    "        \n",
    "    for Region in Regions[1:] :    # Regions[0] is the descriptions of the Regions in Regions[1:]\n",
    "        tmp = df[df.Region == Region]\n",
    "#         print('length of ' + Region, len(tmp))\n",
    "#         print(tmp.isnull().sum())\n",
    "        tmp.fillna(method='ffill', inplace=True)\n",
    "        tmp.fillna(0, inplace=True)\n",
    "        tmp = prepend_zero_data(tmp)\n",
    "        \n",
    "#         print(tmp.tail())\n",
    "        \n",
    "        if (begin_day - tmp.iloc[0].days)  < RANGE:\n",
    "            print(Region, ': no data before begin_day is available to calculate new cumulated value in the specified RANGE')\n",
    "            print('Solution: Use lower RANGE or higher begin_day')\n",
    "            print('RANGE is the higher value of SmoothInterval_C and SmoothInterval_V')\n",
    "            continue\n",
    "\n",
    "        D = tmp.total_deaths.diff(SmoothInterval_C) / SmoothInterval_C  # Deaths\n",
    "        C = tmp.total.diff(SmoothInterval_C) / SmoothInterval_C         # Cases      \n",
    "        if(Range_V == 0): V = tmp.VacTotal     # use total administrated vaccination\n",
    "        else: V = tmp.VacTotal.diff(Range_V)       # use vaccination administrated in past Range_V days.\n",
    "        \n",
    "#         e = tmp.VacTotal.diff()\n",
    "#         e = (e + abs(e)) / 2\n",
    "#         e = list(e.fillna(0))\n",
    "#         f = [0 for i in range(len(e))]        \n",
    "#         for i in range(len(e)-1) :\n",
    "#             f[i+1] = e[i] * 0.9\n",
    "            \n",
    "\n",
    "        # convert negative values to zero.\n",
    "        tmp['D'] = (D + abs(D)) / 2\n",
    "        tmp['C'] = (C + abs(C)) / 2                        \n",
    "        tmp['V'] = (V + abs(V)) / 2\n",
    "        \n",
    "        tmp.fillna(0)\n",
    "            \n",
    "        if(DATE == 0) : \n",
    "            tmp['X'] = tmp.VacTotal\n",
    "            X_label = 'Vaccination Adminstrated %'\n",
    "            TITLE = AREA + ': ' + 'The efficacy of vaccination up to ' + EndDate \n",
    "        else:\n",
    "#             tmp['X'] = tmp.days - 731  # convert to YearFloat like 2021.5 is for July 1, 2021\n",
    "            tmp['X'] = tmp.days /365 + 2020  # convert to YearFloat like 2021.5 is for July 1, 2021\n",
    "            if Range_V == 0:\n",
    "                X_label = '2021.5 is 2021/7/2.  Line: Cases, Dot: Deaths, Dash: %Vac'\n",
    "            else:\n",
    "                X_label = '2021.5 is 2021/7/2.  Line: Cases, Dot: Deaths, Dash: %Vac in past '\\\n",
    "                       + str(Range_V) + ' days'\n",
    "                \n",
    "\n",
    "#             X_label = '  Line: Confirmed cases, Dot: Deaths, Dash: effectively vaccinated, 2021.5 is 2021/7/2'\n",
    "            TITLE = AREA + ' up to ' + EndDate\n",
    "\n",
    "\n",
    "        XYD = tmp[['days', 'X', 'C', 'D']]\n",
    "        XYD.columns=['days', 'Year', 'NewInRange', 'DeathInRange']\n",
    "#         print(XYD.shape)    ###########\n",
    "#         print(XYD[XYD.Year > 2022.0].iloc[0:-30])    ###########\n",
    "        # The death will follow the infected. Try 2 weeks for the lag.\n",
    "        New1 = XYD[XYD.Year < 2021.2].NewInRange.max()\n",
    "        Death1 = XYD[XYD.Year < 2021.24].DeathInRange.max()\n",
    "        New2 = XYD[(XYD.Year > 2021.3) & (XYD.Year < 2021.5) ].NewInRange.max()\n",
    "        Death2 = XYD[(XYD.Year > 2021.34) & (XYD.Year < 2021.54) ].DeathInRange.max()  \n",
    "        New3 = XYD[(XYD.Year > 2021.5) & (XYD.Year < 2021.8) ].NewInRange.max()\n",
    "        Death3 = XYD[(XYD.Year > 2021.54) & (XYD.Year < 2021.84) ].DeathInRange.max()  \n",
    "        New4 = XYD[(XYD.Year > 2021.9)  ].NewInRange.max()\n",
    "#         print(Region, ' New4 ', New4)\n",
    "#         print(XYD.iloc[-70:-30])\n",
    "#         print( XYD[(XYD.Year > 2021.9)].shape)\n",
    "        if(XYD[(XYD.Year > 2021.9)].shape[0] == 0): \n",
    "            print(Region, ' missing country')\n",
    "            continue\n",
    "#         New4Days = XYD[(XYD.Year > 2021.9)][ (XYD.NewInRange == New4) ].iloc[0].days   \n",
    "#         New4Days = XYD[ (XYD.NewInRange == New4) ].iloc[0].days\n",
    "        New4Days = XYD[(XYD.Year > 2021.9) & (XYD.NewInRange == New4) ].iloc[0].days\n",
    "\n",
    "        Death4 = XYD[(XYD.Year > 2021.94) & (XYD.Year < 2022.4) ].DeathInRange.max()\n",
    "        DaysAfterNew4 = XYD.days.iloc[-1] - New4Days\n",
    "        RatioLastNew4byNew4 = XYD.NewInRange.iloc[-1] / New4\n",
    "        VacEnd = tmp.V.iloc[-1]\n",
    "#         print('========', Region)       \n",
    "        YD = YD + [[Region, \\\n",
    "                    New1, Death1,round(Death1/New1*100, 4), \\\n",
    "                    New2, Death2,round(Death2/New2*100, 4),\\\n",
    "                    New3, Death3,round(Death3/New3*100, 4), \\\n",
    "                    New4, Death4,round(Death4/New4*100, 4), \\\n",
    "                   VacEnd, DaysAfterNew4, RatioLastNew4byNew4]]\n",
    "#         print(YD)\n",
    "#         print()\n",
    "\n",
    "        if(GRAPH) :\n",
    "            C_Scale = 1; D_Scale = 1; V_Scale = 1\n",
    "            if(RESCALE == True):\n",
    "                CvalueMax = max(C.dropna())\n",
    "                C_Scale =  10**int(round(np.log10(CvalueMax / REF_SCALE), 0)) * C_RESCALE\n",
    "                C = C / C_Scale         \n",
    "                DvalueMax = max(D.dropna())\n",
    "                D_Scale =  10**int(round(np.log10(DvalueMax / REF_SCALE), 0)) * D_RESCALE\n",
    "                D = D / D_Scale\n",
    "                VvalueMax = max(V.dropna())\n",
    "                V_Scale = 1\n",
    "    #             V_Scale =  10**int(round(np.log10(VvalueMax / REF_SCALE), 0))\n",
    "                V = V / V_Scale\n",
    "        \n",
    "        \n",
    "            LINEWIDTH = LINEWIDTH + 1\n",
    "            ALPHA = ALPHA - 0.1\n",
    "            plt.xlim(XLeft, XRight)\n",
    "            if len(Regions[1:]) == 1: \n",
    "                ColorC = 'k'\n",
    "                ColorD = 'r'\n",
    "                ColorV = 'g'\n",
    "            else : \n",
    "                ColorC = COLOR[LINEWIDTH-1]\n",
    "                ColorD = COLOR[LINEWIDTH-1]\n",
    "                ColorV = COLOR[LINEWIDTH-1]\n",
    "                \n",
    "                \n",
    "#             plt.plot((tmp.X - 2022)*365, tmp.C / C_Scale, alpha=0.3, linewidth = LINEWIDTH, color=ColorC)\n",
    "            \n",
    "            tmp.fillna(0, inplace=True)\n",
    "            if('C' in GRAPH_CDV) : \n",
    "#                 print(C.head())\n",
    "#                 print(C.tail())\n",
    "#                 print(\"-------\")\n",
    "#                 print((tmp.C / C_Scale).head())\n",
    "#                 print((tmp.C / C_Scale).tail())\n",
    "                plt.plot(tmp.X, tmp.C / C_Scale, alpha=0.3, linewidth = LINEWIDTH, color=ColorC)\n",
    "                Max_ScaledY = max(Max_ScaledY, max(tmp.C / C_Scale))\n",
    "                print(\".........\", max(tmp.C / C_Scale))\n",
    "                LEGEND = LEGEND + [Region + ' Cases/' + str(round(C_Scale, 2))]\n",
    "            if('D' in GRAPH_CDV) :\n",
    "                plt.plot(tmp.X, tmp.D / D_Scale, alpha=ALPHA, linewidth = LINEWIDTH, color=ColorD, linestyle=\"dotted\")\n",
    "                Max_ScaledY = max(Max_ScaledY, max(tmp.D / D_Scale))\n",
    "                LEGEND = LEGEND + [Region + ' Deaths/' + str(round(D_Scale, 3))]\n",
    "            if('V' in GRAPH_CDV) :\n",
    "                plt.plot(tmp.X, tmp.V / V_Scale, alpha=0.5, linewidth = LINEWIDTH, color=ColorV,linestyle=\"dashed\")\n",
    "                Max_ScaledY = max(Max_ScaledY, max(tmp.V / V_Scale))\n",
    "                LEGEND = LEGEND + [Region + ' Effective Vac/' + str(V_Scale)]\n",
    "                \n",
    "    print(\"Max_ScaledY = \", Max_ScaledY)        \n",
    "    if(GRAPH) :  # Just formating the graph\n",
    "        plt.title(TITLE, fontsize=24) \n",
    "        \n",
    "        X1=2020; X2=2021; XC = (X1+X2)/2\n",
    "        if((XLeft < X2) & (XRight > X1) ) :\n",
    "            CurrentColor =  'y'\n",
    "            plt.axvspan(X1, X2, color=CurrentColor, alpha=0.1, lw=0)\n",
    "            plt.text(XC, Max_ScaledY*0.2, 'No Vaccination Time',fontsize=16, color=CurrentColor, \\\n",
    "                     horizontalalignment='center',)\n",
    "            \n",
    "        X1=2021; X2=2021.5; XC = (X1+X2)/2\n",
    "        if((XLeft < X2) & (XRight > X1) ) :\n",
    "            CurrentColor = 'b'\n",
    "            plt.axvspan(X1, X2, color=CurrentColor, alpha=0.1, lw=0)\n",
    "            plt.text(XC, Max_ScaledY*0.3, 'Alpha',fontsize=16, color=CurrentColor, \\\n",
    "                     horizontalalignment='center',)\n",
    "            \n",
    "        X1=2021.5; X2=2022; XC = (X1+X2)/2\n",
    "        if((XLeft < X2) & (XRight > X1) ) :\n",
    "            CurrentColor = 'g'\n",
    "            plt.axvspan(X1, X2, color=CurrentColor, alpha=0.1, lw=0)\n",
    "            plt.text(XC, Max_ScaledY*0.4, 'Delta',fontsize=16, color=CurrentColor, \\\n",
    "                     horizontalalignment='center',)\n",
    "            \n",
    "        X1=2022; X2=XRight; XC = (X1+X2)/2\n",
    "        if((XLeft < X2) & (XRight > X1) ) :\n",
    "            CurrentColor = 'r'\n",
    "            plt.axvspan(X1, X2, color=CurrentColor, alpha=0.1, lw=0)\n",
    "            plt.text(XC, Max_ScaledY*0.6, 'Omicron',fontsize=16, color=CurrentColor, \\\n",
    "                     horizontalalignment='center',)\n",
    "            \n",
    "\n",
    "#         plt.axvspan(2021, 2021.5, color='b', alpha=0.1, lw=0)\n",
    "#         plt.text(2021.25, Max_ScaledY*0.2, 'Alpha',fontsize=16, color='b', horizontalalignment='center',)\n",
    "        \n",
    "        \n",
    "#         plt.axvspan(2021.5, 2022, color='g', alpha=0.1, lw=0)\n",
    "#         plt.text(2021.75, Max_ScaledY*0.3, 'Delta',fontsize=16, color='g', horizontalalignment='center',)\n",
    "        \n",
    "        \n",
    "#         plt.axvspan(2022, XRight, color='y', alpha=0.1, lw=0)\n",
    "#         plt.text(2022.25, Max_ScaledY*0.4, 'Omicron',fontsize=16, color='y', horizontalalignment='center',)\n",
    "        \n",
    "        \n",
    "#         plt.gcf().text(0.2, 0.3, 'No Vaccination Time',fontsize=10)\n",
    "        plt.legend(LEGEND, fontsize=16)\n",
    "        plt.xlabel(X_label, fontsize=20)\n",
    "        plt.ylabel(Y_label, fontsize=20)\n",
    "        plt.xticks(fontsize=20)\n",
    "        plt.yticks(fontsize=20)\n",
    "#         plt.xlim(2022.0, 2022)    ############\n",
    "#         plt.text(2020.7, 40, 'Low Vaccination Time',fontsize=20)\n",
    "#         plt.text(2021.3, 50, 'Alpha', fontsize=20)\n",
    "#         plt.text(2021.6, 60, 'Delta',fontsize=20)\n",
    "#         plt.text(2021.99, 50, 'Omicron',fontsize=20)\n",
    "\n",
    "    #     plt.text(2021.2, 100, 'Wanhua related surge',fontsize=20)\n",
    "        plt.grid()\n",
    "        plt.show()\n",
    "        \n",
    "    YD = pd.DataFrame(YD)\n",
    "    YD.columns = ['Region', 'Case1', 'Death1', 'DbyCpct1',  \\\n",
    "                 'Case2', 'Death2', 'DbyCpct2',\\\n",
    "                 'Case3', 'Death3', 'DbyCpct3',\\\n",
    "                 'Case4', 'Death4', 'DbyCpct4',\\\n",
    "                 'VacEnd',  'DaysAfterNew4', 'RatioLastNew4byNew4']\n",
    "    return  YD.fillna(0)\n"
   ]
  },
  {
   "cell_type": "code",
   "execution_count": null,
   "metadata": {
    "scrolled": false
   },
   "outputs": [],
   "source": [
    "Focus = 'Taiwan'\n",
    "Locations = [Focus, 'Vietnam', 'Taiwan', 'Philippines', 'Laos']\n",
    "# Locations = [Focus, 'Vietnam', 'Taiwan']\n",
    "\n",
    "graph_Ncountries(NarrowWW, \\\n",
    "Locations , begin_day=0, end_day=0, NORM=1, DATE=1, MIN_Vac=0, MAX_X=0, MAX_Y=0,\\\n",
    "                      SmoothInterval_C = 7, GRAPH=True, GRAPH_CDV='CVD', RESCALE=True, \\\n",
    "                     XLeft=2020, XRight=2022.56)"
   ]
  },
  {
   "cell_type": "code",
   "execution_count": null,
   "metadata": {
    "scrolled": false
   },
   "outputs": [],
   "source": [
    "Focus = 'Taiwan'\n",
    "Locations = [Focus, 'Vietnam', 'Taiwan', 'Philippines', 'Solomon Islands']\n",
    "\n",
    "graph_Ncountries(NarrowWW, \\\n",
    "Locations , begin_day=0, end_day=0, NORM=1, DATE=1, MIN_Vac=0, MAX_X=0, MAX_Y=0,\\\n",
    "                      SmoothInterval_C = 7, GRAPH=True, RESCALE=True, \\\n",
    "                     C_RESCALE=0.6, \\\n",
    "                     XLeft=2021.0, XRight=2022.5)\n"
   ]
  },
  {
   "cell_type": "code",
   "execution_count": null,
   "metadata": {
    "scrolled": true
   },
   "outputs": [],
   "source": [
    "print(SetContinents)\n",
    "print(SetIncome)"
   ]
  },
  {
   "cell_type": "code",
   "execution_count": null,
   "metadata": {},
   "outputs": [],
   "source": [
    "# Focus = 'World'\n",
    "# Locations = [Focus, 'World']\n",
    "\n",
    "# Locations = ['World', 'Africa', 'Asia', 'Europe', 'North America', 'Oceania', 'South America']\n",
    "\n",
    "graph_Ncountries(NarrowContinent, \\\n",
    "Locations , begin_day=0, end_day=0, NORM=1, DATE=1, MIN_Vac=0, MAX_X=0, MAX_Y=0,\\\n",
    "                      SmoothInterval_C = 7, GRAPH=True, RESCALE=True, GRAPH_CDV='CV',\\\n",
    "                     XLeft=2020.0, XRight=2022.6)"
   ]
  },
  {
   "cell_type": "code",
   "execution_count": null,
   "metadata": {
    "scrolled": false
   },
   "outputs": [],
   "source": [
    "Focus = 'By Continents'\n",
    "# Locations = [Focus, 'Africa', 'Asia', 'Europe', 'North America', 'Oceania', 'South America']\n",
    "Locations = [Focus,'Africa', 'Asia']\n",
    "\n",
    "graph_Ncountries(NarrowContinent, \\\n",
    "Locations , begin_day=0, end_day=0, NORM=1, DATE=1, MIN_Vac=0, MAX_X=0, MAX_Y=0,\\\n",
    "                      SmoothInterval_C = 7, GRAPH=True, GRAPH_CDV='CD', RESCALE=True, \\\n",
    "                 C_RESCALE=0.9, \\\n",
    "                     XLeft=2020.0, XRight=2022.56)"
   ]
  },
  {
   "cell_type": "code",
   "execution_count": null,
   "metadata": {},
   "outputs": [],
   "source": [
    "Focus = 'Income'\n",
    "Locations = [Focus, 'High income', 'Upper middle income' , 'Lower middle income',  'Low income']\n",
    "\n",
    "graph_Ncountries(NarrowIncome, \\\n",
    "Locations , begin_day=0, end_day=0, NORM=1, DATE=1, MIN_Vac=0, MAX_X=0, MAX_Y=0,\\\n",
    "                      SmoothInterval_C = 7, GRAPH=True, GRAPH_CDV='D',  RESCALE=False, \\\n",
    "                     D_RESCALE=1, XLeft=2020.0, XRight=2022.6)\n"
   ]
  },
  {
   "cell_type": "code",
   "execution_count": null,
   "metadata": {
    "scrolled": true
   },
   "outputs": [],
   "source": [
    "A= NarrowIncome[NarrowIncome.days == 366]\\\n",
    "[['Region', 'total_per_M', 'new_per_M', 'new7_per_M', 'total_deaths_per_M',\\\n",
    "  'new_deaths_per_M']].set_index('Region')\n",
    "print(A)"
   ]
  },
  {
   "cell_type": "code",
   "execution_count": null,
   "metadata": {
    "scrolled": true
   },
   "outputs": [],
   "source": [
    "B = NarrowIncome[NarrowIncome.days == 731]\\\n",
    "[['Region', 'total_per_M', 'new_per_M', 'new7_per_M', 'total_deaths_per_M', \\\n",
    "  'new_deaths_per_M']].set_index('Region')\n",
    "print(B)"
   ]
  },
  {
   "cell_type": "code",
   "execution_count": null,
   "metadata": {
    "scrolled": true
   },
   "outputs": [],
   "source": [
    "B-A"
   ]
  },
  {
   "cell_type": "code",
   "execution_count": null,
   "metadata": {},
   "outputs": [],
   "source": [
    "C = NarrowIncome[NarrowIncome.days == 913]\\\n",
    "[['Region', 'total_per_M', 'new_per_M', 'new7_per_M', 'total_deaths_per_M', \\\n",
    "  'new_deaths_per_M']].set_index('Region')\n",
    "print(C)"
   ]
  },
  {
   "cell_type": "code",
   "execution_count": null,
   "metadata": {},
   "outputs": [],
   "source": [
    "C-B"
   ]
  },
  {
   "cell_type": "code",
   "execution_count": null,
   "metadata": {},
   "outputs": [],
   "source": []
  },
  {
   "cell_type": "code",
   "execution_count": null,
   "metadata": {
    "scrolled": false
   },
   "outputs": [],
   "source": [
    "A2021 = NarrowWW[NarrowWW.days == 915]\\\n",
    "[['Region', 'total_per_M', 'new_per_M', 'new7_per_M', 'total_deaths_per_M',\\\n",
    "  'new_deaths_per_M']].set_index('Region')\n",
    "print(A)"
   ]
  },
  {
   "cell_type": "code",
   "execution_count": null,
   "metadata": {},
   "outputs": [],
   "source": [
    "max(NarrowWW.days)"
   ]
  },
  {
   "cell_type": "code",
   "execution_count": null,
   "metadata": {},
   "outputs": [],
   "source": []
  },
  {
   "cell_type": "code",
   "execution_count": null,
   "metadata": {},
   "outputs": [],
   "source": []
  },
  {
   "cell_type": "code",
   "execution_count": null,
   "metadata": {},
   "outputs": [],
   "source": []
  },
  {
   "cell_type": "code",
   "execution_count": null,
   "metadata": {},
   "outputs": [],
   "source": []
  },
  {
   "cell_type": "code",
   "execution_count": null,
   "metadata": {},
   "outputs": [],
   "source": [
    "NarrowContinent.columns"
   ]
  },
  {
   "cell_type": "code",
   "execution_count": null,
   "metadata": {},
   "outputs": [],
   "source": [
    "NarrowContinent[NarrowContinent.days == 731]\\\n",
    "[['Region', 'total_per_M', 'new_per_M', 'new7_per_M', 'total_deaths_per_M', 'new_deaths_per_M', \\\n",
    "  'new_deaths7_per_M']]"
   ]
  },
  {
   "cell_type": "code",
   "execution_count": null,
   "metadata": {
    "scrolled": true
   },
   "outputs": [],
   "source": [
    "#NarrowWW[NarrowWW.Region == 'Italy'][['Date', 'Region', 'VacTotal']]\\\n",
    "# .sort_values('VacTotal', ascending=False).head(50)"
   ]
  },
  {
   "cell_type": "code",
   "execution_count": null,
   "metadata": {},
   "outputs": [],
   "source": [
    "# YD180 = YD\n",
    "# YD500 = YD\n",
    "print(YD180[YD180.Region == 'United States'])\n",
    "print(YD500[YD500.Region == 'United States'])\n",
    "print(YD180[YD180.Region == 'New Zealand'])\n",
    "print(YD500[YD500.Region == 'New Zealand'])"
   ]
  },
  {
   "cell_type": "code",
   "execution_count": null,
   "metadata": {},
   "outputs": [],
   "source": [
    "YD.sort_values('VacEnd')"
   ]
  },
  {
   "cell_type": "code",
   "execution_count": null,
   "metadata": {},
   "outputs": [],
   "source": []
  },
  {
   "cell_type": "code",
   "execution_count": null,
   "metadata": {},
   "outputs": [],
   "source": []
  },
  {
   "cell_type": "code",
   "execution_count": null,
   "metadata": {},
   "outputs": [],
   "source": [
    "Focus = 'Taiwan'\n",
    "Locations = [Focus, Focus]\n",
    "\n",
    "graph_Ncountries(NarrowWW, \\\n",
    "Locations , begin_day=300, end_day=0, NORM=1, DATE=1, MIN_Vac=0, MAX_X=0, MAX_Y=0,\\\n",
    "                      RANGEC = 7, RANGEV=180, C_RESCALE=0.1, D_RESCALE=0.5, GRAPH=True, \\\n",
    "                     XLeft=2020.0, XRight=2022.6)\n"
   ]
  },
  {
   "cell_type": "code",
   "execution_count": null,
   "metadata": {},
   "outputs": [],
   "source": [
    "NarrowWW[(NarrowWW.Region == 'Taiwan') & (NarrowWW.days > 730)].iloc[0,10]"
   ]
  },
  {
   "cell_type": "code",
   "execution_count": null,
   "metadata": {
    "scrolled": true
   },
   "outputs": [],
   "source": [
    "for i in ['World', 'North America', 'Asia', 'Europe', 'South America', 'Oceania', 'Africa']:\n",
    "    a = NarrowContinent[(NarrowContinent.Region == i) & (NarrowContinent.days > 730)].iloc[[0, -1]]\n",
    "    c = a.iloc[1].total - a.iloc[0].total\n",
    "    d = a.iloc[1].total_deaths - a.iloc[0].total_deaths\n",
    "    print(round(100*d/c, 4), i)"
   ]
  },
  {
   "cell_type": "code",
   "execution_count": null,
   "metadata": {},
   "outputs": [],
   "source": [
    "death_rate_list=[]\n",
    "Locations = ['Taiwan', 'United States', 'United Kingdom', 'Australia', \\\n",
    "          'Chile', 'New Zealand', 'Australia', 'South Korea', 'Hong Kong', 'China', \\\n",
    "            'Japan', 'India', 'Israel', 'South Africa', 'Uruguay', 'Singapore', 'Iran', \\\n",
    "            'Germany', 'France', 'Italy', 'Vietnam', 'Thailand', 'Ecuador', 'Malaysia', 'Canada',\\\n",
    "            'Mexico', 'Guam', 'Hungary', 'Philippines', 'Brazil', 'Spain', 'Egypt', \\\n",
    "            'Iceland', 'Denmark', 'Norway', 'Russia']\n",
    "# Locations  = list(set(NarrowWW.Region))\n",
    "for i in Locations:\n",
    "    print(i)\n",
    "    a = NarrowWW[(NarrowWW.Region == i) & (NarrowWW.days > 730)].iloc[[0, -1]]\n",
    "    c = a.iloc[1].total - a.iloc[0].total\n",
    "    d = a.iloc[1].total_deaths - a.iloc[0].total_deaths\n",
    "    if( c > 0): \n",
    "        death_rate = round(100*d/c, 4)\n",
    "        death_rate_list = death_rate_list + [[i, c, d, death_rate]]\n",
    "    else : continue\n",
    "\n",
    "DeathRate = pd.DataFrame(death_rate_list, columns=['Country', 'cases', 'deaths', 'death%'])\n",
    "print(DeathRate.sort_values('death%'))"
   ]
  },
  {
   "cell_type": "code",
   "execution_count": null,
   "metadata": {
    "scrolled": false
   },
   "outputs": [],
   "source": [
    "NarrowWW[(NarrowWW.Region == 'Taiwan') & (NarrowWW.days > 730)]"
   ]
  },
  {
   "cell_type": "code",
   "execution_count": null,
   "metadata": {
    "scrolled": false
   },
   "outputs": [],
   "source": [
    "# # Locations = ['South Hemisphere', 'South America', 'Oceania', 'Africa']\n",
    "# # Locations = ['North Hemisphere', 'North America', 'Asia', 'Europe']\n",
    "# Locations = ['World', 'World','North America', 'Asia', 'Europe', 'South America', 'Oceania', 'Africa']\n",
    "# YDWW = graph_Ncountries(NarrowContinent, \\\n",
    "# Locations ,\\\n",
    "# begin_day=400, end_day=0, NORM=1, DATE=1, MIN_Vac=0, MAX_X=0, MAX_Y=0, RANGEV=500)\n",
    "\n",
    "# Locations = ['Area', 'Taiwan', 'China', 'United States']\n",
    "Locations  = ['WW'] + list(set(NarrowWW.Region))\n",
    "# Focus = 'Taiwan'\n",
    "# Locations = [Focus, Focus]\n",
    "\n",
    "YD = graph_Ncountries(NarrowWW, \\\n",
    "Locations , begin_day=300, end_day=0, NORM=1, DATE=1, MIN_Vac=0, MAX_X=0, MAX_Y=0,\\\n",
    "                      RANGEV=90, C_RESCALE=1, D_RESCALE=0.5, GRAPH=False, \\\n",
    "                     XLeft=2021.3, XRight=2022.4)\n"
   ]
  },
  {
   "cell_type": "code",
   "execution_count": null,
   "metadata": {},
   "outputs": [],
   "source": [
    "# NarrowWW[NarrowWW.Region == 'Samoa'].tail(110)\n",
    "NarrowWW[NarrowWW.Region == 'Marshall Islands'].tail(60)\n",
    "\n",
    "YD[(YD.RatioLastNew4byNew4 < 0.5) & (YD.Case4 > 0) ].describe()"
   ]
  },
  {
   "cell_type": "code",
   "execution_count": null,
   "metadata": {},
   "outputs": [],
   "source": [
    "YD.describe()"
   ]
  },
  {
   "cell_type": "code",
   "execution_count": null,
   "metadata": {},
   "outputs": [],
   "source": [
    "YD"
   ]
  },
  {
   "cell_type": "code",
   "execution_count": null,
   "metadata": {},
   "outputs": [],
   "source": [
    "# YD.sort_values('Case4', ascending=False).iloc[:,[0, -9, -6, -5, -4, -3, -2, -1]]\n",
    "# YD.sort_values('DaysAfterNew4', ascending=False).iloc[:,[0, -6, -5, -4, -3, -2, -1]]\n",
    "# YD.sort_values('RatioLastNew4byNew4', ascending=False).iloc[:,[0, -9, -6, -5, -4, -3, -2, -1]]\n",
    "YD.sort_values('Death4', ascending=False).iloc[:,[0, -9, -6, -5, -4, -3, -2, -1]].iloc[-25:]"
   ]
  },
  {
   "cell_type": "code",
   "execution_count": null,
   "metadata": {},
   "outputs": [],
   "source": [
    "Focus = 'Afghanistan'\n",
    "Locations = [Focus, Focus]\n",
    "YD = graph_Ncountries(NarrowWW, \\\n",
    "Locations , begin_day=300, end_day=0, NORM=1, DATE=1, MIN_Vac=0, MAX_X=0, MAX_Y=0,\\\n",
    "                      RANGEV=500, C_RESCALE=1, D_RESCALE=0.5, GRAPH=True, \\\n",
    "                     XLeft=2021.3, XRight=2022.4)\n"
   ]
  },
  {
   "cell_type": "code",
   "execution_count": null,
   "metadata": {},
   "outputs": [],
   "source": [
    "YDvaccine = YD.drop(['Case1', 'Death1', 'DbyCpct1', 'Case2', 'Death2', 'DbyCpct2'], axis=1)\n",
    "YDvaccine['Vaccine'] = 0\n",
    "# YDvaccine['Marker'] = '.'\n",
    "# YDvaccine['Alpha'] = 0.5\n",
    "\n",
    "for i in range(YDvaccine.shape[0]) :    \n",
    "    if YDvaccine.iloc[i].Region in MainOtherVacRegion: \n",
    "        YDvaccine.loc[i, 'Vaccine'] = 1\n",
    "#         print(\"aaaa\", i, YDvaccine.iloc[i].Region)\n",
    "    if YDvaccine.iloc[i].Region in ChinaVaccineRegion: \n",
    "        YDvaccine.loc[i, 'Vaccine'] = 2\n",
    "    if YDvaccine.iloc[i].Region in BNT_Region: \n",
    "        YDvaccine.loc[i, 'Vaccine'] = 3\n",
    "    if YDvaccine.iloc[i].Region in AZ_Region: \n",
    "        YDvaccine.loc[i, 'Vaccine'] = 4\n",
    "    if YDvaccine.iloc[i].Region in MainModernaRegion: \n",
    "        YDvaccine.loc[i, 'Vaccine'] = 5\n",
    "    if YDvaccine.iloc[i].Region in MainSinoRegion: \n",
    "        YDvaccine.loc[i, 'Vaccine'] = 6\n",
    "    \n",
    "    \n",
    "DictVaccine = { 0: ['Unknown', 'y', '.', 0.5], \n",
    "               1: ['UnknownInMain', 'k', '.', 0.5], \n",
    "              2: ['WithSino', 'm', 'x', 0.5],\n",
    "              3: ['BNT', 'b', 's', 1.0],\n",
    "              5: ['MRNA', 'g', 'o', 1.0],\n",
    "              4: ['AZ', 'c', 'v', 1.0],\n",
    "              6: ['Sino', 'r', 'X', 1.0],}\n",
    "\n",
    "# print(YDvaccine)\n"
   ]
  },
  {
   "cell_type": "code",
   "execution_count": null,
   "metadata": {},
   "outputs": [],
   "source": []
  },
  {
   "cell_type": "code",
   "execution_count": null,
   "metadata": {
    "scrolled": true
   },
   "outputs": [],
   "source": [
    "YDvaccine.tail()"
   ]
  },
  {
   "cell_type": "code",
   "execution_count": null,
   "metadata": {},
   "outputs": [],
   "source": [
    "YDvaccine500[YDvaccine500.Vaccine == 6].sort_values('VacEnd')"
   ]
  },
  {
   "cell_type": "code",
   "execution_count": null,
   "metadata": {
    "scrolled": true
   },
   "outputs": [],
   "source": [
    "YDvaccine500.sort_values('VacEnd', ascending=False).iloc[:]"
   ]
  },
  {
   "cell_type": "code",
   "execution_count": null,
   "metadata": {},
   "outputs": [],
   "source": [
    "j = YDvaccine500\n",
    "\n",
    "# # j.sort_values('Case3', ascending=False).iloc[-50:-1]\n",
    "\n",
    "# NoSmallCase3_1 = j[j.Case3 > 1]\n",
    "# NoSmallCase3_2 = j[j.Case3 > 2]\n",
    "# NoSmallCase3_3 = j[j.Case3 > 3]\n",
    "\n",
    "\n",
    "\n",
    "# j.sort_values('Case3', ascending=False).iloc[-50:-1]\n",
    "\n",
    "NoSmallCase3_1 = j[j.Death3 > 1]\n",
    "NoSmallCase3_2 = j[j.Death3 > 2]\n",
    "NoSmallCase3_3 = j[j.Death3 > 3]\n",
    "\n",
    "# j = YDvaccine200\n",
    "# j['ratio'] = j.Case4/j.Case3\n",
    "# # j.sort_values('Case3', ascending=False).iloc[-50:-1]\n",
    "\n",
    "# NoSmallCase3_10 = j[j.Case3 > 10]\n",
    "# NoSmallCase3_100 = j[j.Case3 > 100]\n",
    "# NoSmallCase3_300 = j[j.Case3 > 300]\n",
    "# NoSmallCase3_1000 = j[j.Case3 > 1000]\n",
    "\n"
   ]
  },
  {
   "cell_type": "code",
   "execution_count": null,
   "metadata": {},
   "outputs": [],
   "source": [
    "print(j.shape)\n",
    "print(NoSmallCase3_1.shape)\n",
    "print(NoSmallCase3_2.shape)\n",
    "print(NoSmallCase3_3.shape)"
   ]
  },
  {
   "cell_type": "code",
   "execution_count": null,
   "metadata": {},
   "outputs": [],
   "source": []
  },
  {
   "cell_type": "code",
   "execution_count": null,
   "metadata": {},
   "outputs": [],
   "source": [
    "# NoSmallCase3_100.sort_values('VacEnd').shape\n",
    "NoSmallCase3_3[(NoSmallCase3_3.ratio > 5) & (NoSmallCase3_3.VacEnd < 100)].shape"
   ]
  },
  {
   "cell_type": "code",
   "execution_count": null,
   "metadata": {},
   "outputs": [],
   "source": [
    "jj = NarrowWW[NarrowWW.Region == 'United States']\n",
    "jmaxdays = max(jj.days)\n",
    "LastDate = jj[jj.days == jmaxdays].iloc[0].Date\n",
    "print(LastDate)"
   ]
  },
  {
   "cell_type": "code",
   "execution_count": null,
   "metadata": {
    "scrolled": false
   },
   "outputs": [],
   "source": [
    "plt.figure(figsize=(16.0, 12.0))\n",
    "# plt.ylim(0, 20)\n",
    "\n",
    "tmp = YDvaccine500\n",
    "# tmp = NoSmallCase3_3\n",
    "\n",
    "# Xlabel = \"Vaccination% in most recent 500 days.  Delta cases < 100/M are excluded\"\n",
    "# Xlabel = \"Vaccination% in most recent 200 days.\"\n",
    "Xlabel = \"Total Administrated Vaccination%\"\n",
    "plt.xlabel(Xlabel, fontsize=20)\n",
    "plt.xticks(fontsize=16)\n",
    "plt.yticks(fontsize=16)\n",
    "\n",
    "CaseRatio = False\n",
    "\n",
    "if CaseRatio:\n",
    "    plt.ylabel('Omicron Peak Cases/Delta Peak Cases', fontsize=20)\n",
    "    plt.title('How Does the Vaccination affect Omicron Surge, compared to Delta as of '\\\n",
    "              + LastDate, fontsize=20)\n",
    "else: \n",
    "#     plt.ylabel('Omicron Peak Deaths/Delta Peak Deaths', fontsize=20)\n",
    "#     plt.title('How Does the Vaccination Affect Omicron Deaths, compared to Delta as of '\\\n",
    "#               + LastDate, fontsize=20)\n",
    "\n",
    "    plt.ylabel('Peak 14 day daily average deaths per M When Omicron Dominate ', fontsize=20)    \n",
    "    plt.title('How Does the Vaccination affect Omicron deaths as of ' \\\n",
    "              + LastDate, fontsize=20)\n",
    "\n",
    "\n",
    "Legend = []\n",
    "# plt.ylim(0, 10)\n",
    "# plt.xlim(0, 100)\n",
    "# plt.yscale('log')    ########\n",
    "for i in range(7) :\n",
    "    tmpc = tmp[tmp.Vaccine == i]\n",
    "    print(i, len(tmpc))\n",
    "    if(len(tmpc) == 0): continue\n",
    "    Legend = Legend + [DictVaccine[tmpc.iloc[0].Vaccine][0]]\n",
    "    myColor = DictVaccine[tmpc.iloc[0].Vaccine][1]\n",
    "    myMarker = DictVaccine[tmpc.iloc[0].Vaccine][2]\n",
    "    myAlpha = DictVaccine[tmpc.iloc[0].Vaccine][3]\n",
    "\n",
    "    X = tmpc.VacEnd\n",
    "    if CaseRatio:\n",
    "        Y = tmpc.Case4/tmpc.Case3\n",
    "    else:\n",
    "        Y = tmpc.Case4\n",
    "\n",
    "    plt.scatter(X, Y, c=myColor, \\\n",
    "        alpha=myAlpha, marker=myMarker, s=80)\n",
    "#     plt.scatter(tmpc.VacEnd, tmpc.Case4/tmpc.Case3, c=myColor, \\\n",
    "#             alpha=myAlpha, marker=myMarker, s=80)\n",
    "\n",
    "plt.legend(Legend, fontsize=16)\n",
    "plt.grid()\n"
   ]
  },
  {
   "cell_type": "code",
   "execution_count": null,
   "metadata": {
    "scrolled": false
   },
   "outputs": [],
   "source": [
    "tmp.sort_values('Death4', ascending=False).reset_index().iloc[-60:-1]"
   ]
  },
  {
   "cell_type": "code",
   "execution_count": null,
   "metadata": {},
   "outputs": [],
   "source": [
    "\n",
    "tmp[(tmp.days > 700) & (tmp.Region == 'Taiwan')].iloc[-3:]\n"
   ]
  },
  {
   "cell_type": "code",
   "execution_count": null,
   "metadata": {},
   "outputs": [],
   "source": []
  },
  {
   "cell_type": "code",
   "execution_count": null,
   "metadata": {},
   "outputs": [],
   "source": []
  },
  {
   "cell_type": "code",
   "execution_count": null,
   "metadata": {
    "scrolled": true
   },
   "outputs": [],
   "source": [
    "tmp = YDvaccine500\n",
    "print(tmp.shape)\n",
    "tmp['ratio'] = tmp.Death4/tmp.Death3\n",
    "\n",
    "Omi_L = tmp[(tmp.ratio > 1)  & (tmp.VacEnd < 150)].shape[0]\n",
    "Del_L = tmp[(tmp.ratio <= 1) & (tmp.VacEnd < 150)].shape[0]\n",
    "Omi_H = tmp[(tmp.ratio > 1)  & (tmp.VacEnd >= 150)].shape[0]\n",
    "Del_H = tmp[(tmp.ratio <= 1)  & (tmp.VacEnd >= 150)].shape[0]\n",
    "\n",
    "print(Omi_L, Del_L, '    ', Omi_H, Del_H, 'all vaccine')\n",
    "\n",
    "for i in [0, 2, 3, 4, 5, 6]:\n",
    "    Omi_L = tmp[(tmp.ratio > 1) & (tmp.Vaccine == i) & (tmp.VacEnd < 150)].shape[0]\n",
    "    Del_L = tmp[(tmp.ratio <= 1) & (tmp.Vaccine == i) & (tmp.VacEnd < 150)].shape[0]\n",
    "    Omi_H = tmp[(tmp.ratio > 1) & (tmp.Vaccine == i) & (tmp.VacEnd >= 150)].shape[0]\n",
    "    Del_H = tmp[(tmp.ratio <= 1) & (tmp.Vaccine == i) & (tmp.VacEnd >= 150)].shape[0]\n",
    "    print(Omi_L, Del_L, '    ', Omi_H, Del_H)\n",
    "\n",
    "print('=============   200 days vaccination')\n",
    "tmp = YDvaccine200\n",
    "print(tmp.shape)\n",
    "tmp['ratio'] = tmp.Death4/tmp.Death3\n",
    "\n",
    "Omi_L = tmp[(tmp.ratio > 1)  & (tmp.VacEnd < 75)].shape[0]\n",
    "Del_L = tmp[(tmp.ratio <= 1) & (tmp.VacEnd < 75)].shape[0]\n",
    "Omi_H = tmp[(tmp.ratio > 1)  & (tmp.VacEnd >= 75)].shape[0]\n",
    "Del_H = tmp[(tmp.ratio <= 1)  & (tmp.VacEnd >= 75)].shape[0]\n",
    "print(Omi_L, Del_L, '    ', Omi_H, Del_H, 'all vaccine')\n",
    "\n",
    "for i in [0, 2, 3, 4, 5, 6]:\n",
    "    Omi_L = tmp[(tmp.ratio > 1) & (tmp.Vaccine == i) & (tmp.VacEnd < 75)].shape[0]\n",
    "    Del_L = tmp[(tmp.ratio <= 1) & (tmp.Vaccine == i) & (tmp.VacEnd < 75)].shape[0]\n",
    "    Omi_H = tmp[(tmp.ratio > 1) & (tmp.Vaccine == i) & (tmp.VacEnd >= 75)].shape[0]\n",
    "    Del_H = tmp[(tmp.ratio <= 1) & (tmp.Vaccine == i) & (tmp.VacEnd >= 75)].shape[0]\n",
    "    print(Omi_L, Del_L, '    ', Omi_H, Del_H)\n"
   ]
  },
  {
   "cell_type": "code",
   "execution_count": null,
   "metadata": {},
   "outputs": [],
   "source": []
  },
  {
   "cell_type": "code",
   "execution_count": null,
   "metadata": {},
   "outputs": [],
   "source": [
    "NarrowWW[NarrowWW.Region == 'Hungary'].VacTotal.fillna(0).sum()"
   ]
  },
  {
   "cell_type": "code",
   "execution_count": null,
   "metadata": {
    "scrolled": false
   },
   "outputs": [],
   "source": [
    "YDvaccine200.sort_values('Death4', ascending=False).iloc[:70]"
   ]
  },
  {
   "cell_type": "code",
   "execution_count": null,
   "metadata": {},
   "outputs": [],
   "source": []
  },
  {
   "cell_type": "code",
   "execution_count": null,
   "metadata": {},
   "outputs": [],
   "source": []
  },
  {
   "cell_type": "code",
   "execution_count": null,
   "metadata": {},
   "outputs": [],
   "source": []
  },
  {
   "cell_type": "code",
   "execution_count": null,
   "metadata": {
    "scrolled": false
   },
   "outputs": [],
   "source": [
    "Xlabel = \"Vaccination% in most recent 100 days\"\n",
    "tmp = YDvaccine100\n",
    "mycolors = ['y', 'r', 'g', 'b', 'k', 'c', 'm']\n",
    "plt.figure(figsize=(16.0, 12.0)) \n",
    "plt.ylim(0, 5)\n",
    "plt.xlim(0, 100)\n",
    "Legend = []\n",
    "for i in range(7) :\n",
    "    tmpc = tmp[tmp.Vaccine == i]\n",
    "    if(len(tmpc) == 0): continue\n",
    "    Legend = Legend + [DictVaccine[tmpc.iloc[0].Vaccine][0]]\n",
    "    myColor = DictVaccine[tmpc.iloc[0].Vaccine][1]\n",
    "    myMarker = DictVaccine[tmpc.iloc[0].Vaccine][2]\n",
    "    myAlpha = DictVaccine[tmpc.iloc[0].Vaccine][3]\n",
    "    plt.scatter(tmpc.VacEnd, tmpc.DbyCpct4, c=myColor, \\\n",
    "            alpha=myAlpha, marker=myMarker, s=80)\n",
    "    \n",
    "plt.legend(Legend, fontsize=16)\n",
    "plt.xlabel(Xlabel, fontsize=20)\n",
    "plt.ylabel('Deaths/Cases% at Omicron Peaks', fontsize=20)\n",
    "plt.xticks(fontsize=16)\n",
    "plt.yticks(fontsize=16)\n",
    "plt.title('How Does the Vaccination affect Omicron Death Rate', \\\n",
    "    fontsize=20)\n"
   ]
  },
  {
   "cell_type": "code",
   "execution_count": null,
   "metadata": {},
   "outputs": [],
   "source": []
  },
  {
   "cell_type": "code",
   "execution_count": null,
   "metadata": {},
   "outputs": [],
   "source": []
  },
  {
   "cell_type": "code",
   "execution_count": null,
   "metadata": {},
   "outputs": [],
   "source": []
  },
  {
   "cell_type": "code",
   "execution_count": null,
   "metadata": {},
   "outputs": [],
   "source": []
  },
  {
   "cell_type": "code",
   "execution_count": null,
   "metadata": {},
   "outputs": [],
   "source": []
  },
  {
   "cell_type": "code",
   "execution_count": null,
   "metadata": {},
   "outputs": [],
   "source": []
  },
  {
   "cell_type": "code",
   "execution_count": null,
   "metadata": {},
   "outputs": [],
   "source": []
  },
  {
   "cell_type": "code",
   "execution_count": null,
   "metadata": {},
   "outputs": [],
   "source": [
    "plt.figure(figsize=(16.0, 12.0))\n",
    "plt.ylim(0, 50)\n",
    "# tmp = YDvaccine180\n",
    "# tmp = YDvaccine200\n",
    "# tmp = YDvaccine240\n",
    "# tmp = YDvaccine300\n",
    "# tmp = YDvaccine180\n",
    "tmp = YDvaccine400\n",
    "Xlabel = \"Vaccination% in most recent 400 days\"\n",
    "plt.scatter(tmp.VacEnd, tmp.Case4/YDvaccine.Case3, c=tmp.Vaccine, alpha=1, s=60.0)\n",
    "plt.xticks(fontsize=16)\n",
    "plt.yticks(fontsize=16)\n",
    "plt.xlabel(Xlabel, fontsize=20)\n",
    "plt.ylabel('Omicron Peak Cases/Delta Peak Cases', fontsize=20)\n",
    "plt.title('Does Effective Vaccination affect Case Surge in Omicron, compared to Delta', \\\n",
    "    fontsize=20)\n"
   ]
  },
  {
   "cell_type": "code",
   "execution_count": null,
   "metadata": {},
   "outputs": [],
   "source": []
  },
  {
   "cell_type": "code",
   "execution_count": null,
   "metadata": {},
   "outputs": [],
   "source": []
  },
  {
   "cell_type": "code",
   "execution_count": null,
   "metadata": {},
   "outputs": [],
   "source": [
    "YDvaccine.sort_values('DbyCpct4', ascending=False).iloc[:130]"
   ]
  },
  {
   "cell_type": "code",
   "execution_count": null,
   "metadata": {},
   "outputs": [],
   "source": []
  },
  {
   "cell_type": "code",
   "execution_count": null,
   "metadata": {},
   "outputs": [],
   "source": []
  },
  {
   "cell_type": "code",
   "execution_count": null,
   "metadata": {},
   "outputs": [],
   "source": []
  },
  {
   "cell_type": "code",
   "execution_count": null,
   "metadata": {},
   "outputs": [],
   "source": []
  },
  {
   "cell_type": "code",
   "execution_count": null,
   "metadata": {},
   "outputs": [],
   "source": []
  },
  {
   "cell_type": "code",
   "execution_count": null,
   "metadata": {},
   "outputs": [],
   "source": [
    "YDvaccine240 "
   ]
  },
  {
   "cell_type": "code",
   "execution_count": null,
   "metadata": {},
   "outputs": [],
   "source": [
    "YDvaccine200 "
   ]
  },
  {
   "cell_type": "code",
   "execution_count": null,
   "metadata": {},
   "outputs": [],
   "source": [
    "YDvaccine180 "
   ]
  },
  {
   "cell_type": "code",
   "execution_count": null,
   "metadata": {
    "scrolled": false
   },
   "outputs": [],
   "source": [
    "mycolors = ['y', 'r', 'g', 'b', 'k', 'c', 'm']\n",
    "plt.figure(figsize=(16.0, 12.0)) \n",
    "plt.scatter(YDvaccine.VacEnd, YDvaccine.DbyCpct4, c=YDvaccine.Vaccine, alpha=0.6)\n",
    "plt.xlabel(\"Effective Vaccination%\", fontsize=24)\n",
    "plt.ylabel('Death/Confirms%', fontsize=24)"
   ]
  },
  {
   "cell_type": "code",
   "execution_count": null,
   "metadata": {},
   "outputs": [],
   "source": [
    "YDvaccine.sort_values('DbyCpct4', ascending=False)"
   ]
  },
  {
   "cell_type": "code",
   "execution_count": null,
   "metadata": {},
   "outputs": [],
   "source": [
    "YD[YD.VacEnd > 250]"
   ]
  },
  {
   "cell_type": "code",
   "execution_count": null,
   "metadata": {},
   "outputs": [],
   "source": [
    "SinoCountries = ['Nepal', 'Chile', 'Argentina', 'Uruguay', 'Ecuador']\n",
    "for i in SinoCountries:\n",
    "    print(YD[YD.Region == i])"
   ]
  },
  {
   "cell_type": "code",
   "execution_count": null,
   "metadata": {
    "scrolled": true
   },
   "outputs": [],
   "source": [
    "jj = YD.sort_values('VacEnd', ascending=False)\n",
    "jj[jj.DbyCpct4 > 0.5]"
   ]
  },
  {
   "cell_type": "code",
   "execution_count": null,
   "metadata": {},
   "outputs": [],
   "source": [
    "YD.sort_values('DbyCpct4', ascending=False).iloc[:50]"
   ]
  },
  {
   "cell_type": "code",
   "execution_count": null,
   "metadata": {},
   "outputs": [],
   "source": [
    "YD[YD.DbyCpct4 > 1.]\n"
   ]
  },
  {
   "cell_type": "code",
   "execution_count": null,
   "metadata": {},
   "outputs": [],
   "source": []
  },
  {
   "cell_type": "code",
   "execution_count": null,
   "metadata": {},
   "outputs": [],
   "source": []
  },
  {
   "cell_type": "code",
   "execution_count": null,
   "metadata": {},
   "outputs": [],
   "source": [
    "NarrowWW[NarrowWW.Region == 'Taiwan'].iloc[-100:]"
   ]
  },
  {
   "cell_type": "code",
   "execution_count": null,
   "metadata": {},
   "outputs": [],
   "source": [
    "NarrowContinent[NarrowContinent.Region == 'North America'].iloc[-100:]"
   ]
  },
  {
   "cell_type": "code",
   "execution_count": null,
   "metadata": {},
   "outputs": [],
   "source": [
    "(1416595.0 - 1224859.0)/(94772399.0-65046462.0)"
   ]
  },
  {
   "cell_type": "code",
   "execution_count": null,
   "metadata": {},
   "outputs": [],
   "source": []
  },
  {
   "cell_type": "code",
   "execution_count": null,
   "metadata": {
    "scrolled": false
   },
   "outputs": [],
   "source": [
    "# Locations = ['East Asia', 'China', 'Taiwan', 'South Korea', 'Hong Kong', 'Japan']\n",
    "Locations = ['East Asia', 'South Korea', 'Hong Kong', 'Japan']\n",
    "\n",
    "YD = graph_Ncountries(NarrowWW, Locations, \\\n",
    "begin_day=300, end_day=0, NORM=1, DATE=1, MIN_Vac=0, MAX_X=0, MAX_Y=0, RANGEV=180)\n",
    "\n",
    "pd.DataFrame(YD)"
   ]
  },
  {
   "cell_type": "code",
   "execution_count": null,
   "metadata": {},
   "outputs": [],
   "source": [
    "Locations = ['ANZ and Taiwan', 'Australia', 'New Zealand']\n",
    "\n",
    "YD = graph_Ncountries(NarrowWW, Locations, \\\n",
    "begin_day=300, end_day=0, NORM=1, DATE=1, MIN_Vac=0, MAX_X=0, MAX_Y=0, RANGEV=180)\n",
    "\n",
    "pd.DataFrame(YD)"
   ]
  },
  {
   "cell_type": "code",
   "execution_count": null,
   "metadata": {
    "scrolled": false
   },
   "outputs": [],
   "source": [
    "Locations = ['ANZ and Taiwan', 'Australia', 'New Zealand', 'Taiwan']\n",
    "\n",
    "YD = graph_Ncountries(NarrowWW, Locations, \\\n",
    "begin_day=770, end_day=0, NORM=1, DATE=1, MIN_Vac=0, MAX_X=0, MAX_Y=0, RANGEV=180)\n",
    "\n",
    "pd.DataFrame(YD)"
   ]
  },
  {
   "cell_type": "code",
   "execution_count": null,
   "metadata": {
    "scrolled": false
   },
   "outputs": [],
   "source": []
  },
  {
   "cell_type": "code",
   "execution_count": null,
   "metadata": {
    "scrolled": false
   },
   "outputs": [],
   "source": [
    "YD = graph_Ncountries(NarrowContinent, \\\n",
    "['South Hemisphere', 'South America', 'Oceania', 'Africa'] ,\\\n",
    "begin_day=600, end_day=0, NORM=1, DATE=1, MIN_Vac=0, MAX_X=0, MAX_Y=0, RANGEV=180)\n",
    "\n",
    "pd.DataFrame(YD)"
   ]
  },
  {
   "cell_type": "code",
   "execution_count": null,
   "metadata": {
    "scrolled": false
   },
   "outputs": [],
   "source": [
    "YD = graph_Ncountries(NarrowContinent, \\\n",
    "['North Hemisphere', 'Asia', 'North America', 'Europe'], \\\n",
    "begin_day=300, end_day=0, NORM=1, DATE=1, MIN_Vac=0, MAX_X=0, MAX_Y=0, RANGEV=180)\n",
    "\n",
    "pd.DataFrame(YD)\n"
   ]
  },
  {
   "cell_type": "code",
   "execution_count": null,
   "metadata": {
    "scrolled": true
   },
   "outputs": [],
   "source": [
    "pd.DataFrame(YD).iloc[:, 1:]"
   ]
  },
  {
   "cell_type": "code",
   "execution_count": null,
   "metadata": {},
   "outputs": [],
   "source": [
    "setjunk = set(NarrowWW.Region)\n",
    "len(setjunk)\n",
    "'China' in setjunk\n",
    "\n",
    "setjunk = set(VacDF.Region)\n",
    "len(setjunk)\n",
    "'China' in setjunk"
   ]
  },
  {
   "cell_type": "code",
   "execution_count": null,
   "metadata": {
    "scrolled": false
   },
   "outputs": [],
   "source": [
    "graph_Ncountries(NarrowWW, WEurope, begin_day=300, end_day=0, \\\n",
    "                 NORM=1, DATE=1, MIN_Vac=0, MAX_X=0, MAX_Y=0, RANGE=14)"
   ]
  },
  {
   "cell_type": "code",
   "execution_count": null,
   "metadata": {},
   "outputs": [],
   "source": [
    "graph_Ncountries(NarrowWW, EEurope, begin_day=300, end_day=0, \\\n",
    "                 NORM=1, DATE=1, MIN_Vac=0, MAX_X=0, MAX_Y=0, RANGE=14)"
   ]
  },
  {
   "cell_type": "code",
   "execution_count": null,
   "metadata": {
    "scrolled": false
   },
   "outputs": [],
   "source": [
    "graph_Ncountries(NarrowWW, NAmerica, begin_day=300, end_day=0, \\\n",
    "                 NORM=1, DATE=1, MIN_Vac=0, MAX_X=0, MAX_Y=0, RANGE=14)"
   ]
  },
  {
   "cell_type": "code",
   "execution_count": null,
   "metadata": {
    "scrolled": false
   },
   "outputs": [],
   "source": [
    "graph_Ncountries(NarrowWW, EAsia, begin_day=300, end_day=0, \\\n",
    "                 NORM=1, DATE=1, MIN_Vac=0, MAX_X=0, MAX_Y=0, RANGE=15)"
   ]
  },
  {
   "cell_type": "code",
   "execution_count": null,
   "metadata": {},
   "outputs": [],
   "source": [
    "graph_Ncountries(NarrowWW, SAmerica, begin_day=300, end_day=0,\\\n",
    "                 NORM=1, DATE=1, MIN_Vac=0, MAX_X=0, MAX_Y=0, RANGE=15)"
   ]
  },
  {
   "cell_type": "code",
   "execution_count": null,
   "metadata": {},
   "outputs": [],
   "source": [
    "graph_Ncountries(NarrowWW, SPacific, begin_day=300, end_day=0, \\\n",
    "                 NORM=1, DATE=1, MIN_Vac=0, MAX_X=0, MAX_Y=0, RANGE=15)"
   ]
  },
  {
   "cell_type": "code",
   "execution_count": null,
   "metadata": {},
   "outputs": [],
   "source": [
    "graph_Ncountries(NarrowWW, SAfrica, begin_day=300, end_day=0, \\\n",
    "                 NORM=1, DATE=1, MIN_Vac=0, MAX_X=0, MAX_Y=0, RANGE=15)"
   ]
  },
  {
   "cell_type": "code",
   "execution_count": null,
   "metadata": {},
   "outputs": [],
   "source": [
    "graph_Ncountries(NarrowWW, Equator, begin_day=300, end_day=0, \\\n",
    "                 NORM=1, DATE=1, MIN_Vac=0, MAX_X=0, MAX_Y=0, RANGE=15)"
   ]
  },
  {
   "cell_type": "code",
   "execution_count": null,
   "metadata": {
    "scrolled": false
   },
   "outputs": [],
   "source": [
    "graph_Ncountries(NarrowWW, ['Peru', 'Vietnam', 'Japan', 'India', 'China'], begin_day=70, end_day=0, \\\n",
    "                 NORM=1, DATE=1, MIN_Vac=0, MAX_X=0, MAX_Y=0, RANGE=15)"
   ]
  },
  {
   "cell_type": "code",
   "execution_count": null,
   "metadata": {},
   "outputs": [],
   "source": [
    "# administrated vaccination 43% in S.A."
   ]
  },
  {
   "cell_type": "code",
   "execution_count": null,
   "metadata": {
    "scrolled": false
   },
   "outputs": [],
   "source": [
    "graph_Ncountries(NarrowWW, ['South Africa', 'South Africa'], begin_day=300, end_day=0, \\\n",
    "                 NORM=1, DATE=1, MIN_Vac=0, MAX_X=0, MAX_Y=0, RANGE=15)"
   ]
  },
  {
   "cell_type": "markdown",
   "metadata": {},
   "source": [
    "# comparison of 180 and all day vaccination"
   ]
  },
  {
   "cell_type": "code",
   "execution_count": null,
   "metadata": {},
   "outputs": [],
   "source": [
    "# YD90 = YD\n",
    "# YD180 = YD\n",
    "# YD500 = YD\n",
    "YD90.columns"
   ]
  },
  {
   "cell_type": "code",
   "execution_count": null,
   "metadata": {},
   "outputs": [],
   "source": [
    "tmpAll = YD500[['Region', 'Case4', 'Death4', 'VacEnd']]\n",
    "tmpAll = tmpAll.rename(columns={'VacEnd':'VacAll'})\n",
    "tmp180 = YD180[['Region', 'Case4', 'Death4', 'Vac180']]\n",
    "# tmp180 = tmp180.rename(columns={'VacEnd':'Vac180'})\n",
    "tmp90 = YD90[['Region', 'Case4', 'Death4', 'Vac90']]\n",
    "# tmp90 = tmp90.rename(columns={'VacEnd':'Vac90'})"
   ]
  },
  {
   "cell_type": "code",
   "execution_count": null,
   "metadata": {},
   "outputs": [],
   "source": [
    "tmp = pd.merge(tmpAll, tmp180)\n",
    "print(tmp.shape)\n",
    "tmp = pd.merge(tmp, tmp90)\n",
    "print(tmp.shape)"
   ]
  },
  {
   "cell_type": "code",
   "execution_count": null,
   "metadata": {
    "scrolled": false
   },
   "outputs": [],
   "source": [
    "tmp.columns"
   ]
  },
  {
   "cell_type": "code",
   "execution_count": null,
   "metadata": {
    "scrolled": false
   },
   "outputs": [],
   "source": [
    "# tmp = YD180_500[YD180_500.VacEnd > 0]\n",
    "# print(tmp.corr())\n",
    "\n",
    "# tmp = YD180_500[YD180_500.VacEnd > 50]\n",
    "# print(tmp.corr())\n",
    "\n",
    "# tmp = YD180_500[YD180_500.VacEnd > 70]\n",
    "# print(tmp.corr())\n",
    "\n",
    "\n",
    "# tmp = tmp[tmp.Case4 < 25]\n",
    "print(tmp90.corr())\n",
    "\n",
    "\n",
    "plt.figure(figsize=(16.0, 12.0)) \n",
    "# plt.xlim(700, 850)\n",
    "# plt.xlim(30, 300)\n",
    "# plt.ylim(-25, 300)\n",
    "plt.scatter(tmp.VacAll, tmp.Case4)\n",
    "# plt.scatter(tmp.Vac180, tmp.Death4)\n",
    "plt.scatter(tmp.Vac90, tmp.Case4)\n",
    "\n",
    "\n",
    "plt.figure(figsize=(16.0, 12.0)) \n",
    "# plt.xlim(700, 850)\n",
    "# plt.xlim(30, 300)\n",
    "# plt.ylim(-25, 300)\n",
    "plt.scatter(tmp.VacAll, tmp.Death4)\n",
    "# plt.scatter(tmp.Vac180, tmp.Death4)\n",
    "plt.scatter(tmp.Vac90, tmp.Death4)\n",
    "\n",
    "\n",
    "# plt.grid()\n",
    "# plt.legend(['VacAll', 'Vac180'])\n",
    "\n",
    "# plt.figure(figsize=(16.0, 12.0)) \n",
    "# # plt.xlim(700, 850)\n",
    "# plt.xlim(30, 300)\n",
    "# # plt.ylim(-25, 300)\n",
    "# plt.scatter(YD180_500.VacEnd, YD180_500.Case4)\n",
    "# plt.scatter(YD180_500.Vac180, YD180_500.Case4)\n",
    "\n",
    "# plt.grid()\n",
    "# plt.legend(['VacAll', 'Vac180'])\n",
    "\n",
    "plt.figure(figsize=(16.0, 12.0)) \n",
    "# plt.xlim(700, 850)\n",
    "# plt.xlim(30, 300)\n",
    "# plt.ylim(-25, 300)\n",
    "plt.scatter(tmp.VacAll, tmp.Vac90, s=tmp.Case4/30)\n",
    "# plt.scatter(tmp.Vac180, tmp.Death4)\n",
    "# plt.scatter(tmp.Vac90, tmp.Death4)\n",
    "\n",
    "plt.figure(figsize=(16.0, 12.0)) \n",
    "# plt.xlim(700, 850)\n",
    "# plt.xlim(30, 300)\n",
    "# plt.ylim(-25, 300)\n",
    "plt.scatter(tmp.VacAll, tmp.Vac90, s=tmp.Death4*10)\n",
    "# plt.scatter(tmp.Vac180, tmp.Death4)\n",
    "# plt.scatter(tmp.Vac90, tmp.Death4)\n"
   ]
  },
  {
   "cell_type": "markdown",
   "metadata": {},
   "source": [
    "## 7.3 Omicron's trend analyis"
   ]
  },
  {
   "cell_type": "code",
   "execution_count": null,
   "metadata": {},
   "outputs": [],
   "source": [
    "NarrowWW.columns"
   ]
  },
  {
   "cell_type": "code",
   "execution_count": null,
   "metadata": {},
   "outputs": [],
   "source": [
    "NarrowWW[NarrowWW.Region == 'Taiwan'].iloc[-15:, :25]"
   ]
  },
  {
   "cell_type": "code",
   "execution_count": null,
   "metadata": {},
   "outputs": [],
   "source": [
    "TMP = []\n",
    "locations = set(NarrowWW.Region)\n",
    "locations = ['Taiwan']\n",
    "for i in locations:\n",
    "    tmp = NarrowWW[NarrowWW.Region == i]\n",
    "    TMP = TMP + [list(tmp.iloc[-1])]\n",
    "    \n",
    "TMP = pd.DataFrame(TMP, columns=NarrowWW.columns)\n",
    "TMP.sort_values('new_per_M')"
   ]
  },
  {
   "cell_type": "code",
   "execution_count": null,
   "metadata": {},
   "outputs": [],
   "source": [
    "NarrowWW.columns"
   ]
  },
  {
   "cell_type": "code",
   "execution_count": null,
   "metadata": {
    "scrolled": true
   },
   "outputs": [],
   "source": [
    "\n",
    "NarrowWW[NarrowWW.Region == 'Taiwan'][['Date', 'continent', 'Region', 'total', 'new', 'new7', 'total_deaths', 'new_deaths', 'new_deaths7', 'Pop',\n",
    "       'total_per_M', 'new_per_M', 'new7_per_M', 'total_deaths_per_M', 'new_deaths_per_M', 'new_deaths7_per_M',\n",
    "       'TestsPerK', 'VacTotal', 'days']].tail()"
   ]
  },
  {
   "cell_type": "markdown",
   "metadata": {},
   "source": [
    "### 7.3.1 Grep Taiwan Data  and Make Some Corrections"
   ]
  },
  {
   "cell_type": "code",
   "execution_count": null,
   "metadata": {},
   "outputs": [],
   "source": [
    "NarrowWW.loc[(NarrowWW.Region == 'Taiwan') & (NarrowWW.days == 853), 'total']"
   ]
  },
  {
   "cell_type": "code",
   "execution_count": null,
   "metadata": {},
   "outputs": [],
   "source": [
    "# 853 = 5/2\n",
    "# Coorection \n",
    "NarrowWW.loc[(NarrowWW.Region == 'Taiwan') & (NarrowWW.days == 853), 'total']  = 17858 + 132955.0\n",
    "NarrowWW.loc[(NarrowWW.Region == 'Taiwan') & (NarrowWW.days == 853), 'new']  = 17858\n",
    "NarrowWW.loc[(NarrowWW.Region == 'Taiwan') & (NarrowWW.days == 854), 'new']  = 23139\n",
    "NarrowWW.loc[(NarrowWW.Region == 'Taiwan') & (NarrowWW.days == 853), 'total_per_M']  = \\\n",
    "    NarrowWW.loc[(NarrowWW.Region == 'Taiwan') & (NarrowWW.days == 853), 'total'] /\\\n",
    "    NarrowWW.loc[(NarrowWW.Region == 'Taiwan') & (NarrowWW.days == 853), 'Pop']\n",
    "\n",
    "\n",
    "NarrowWW.loc[(NarrowWW.Region == 'Taiwan') & (NarrowWW.days == 858), 'total']  = 46536 + 268569.0\n",
    "NarrowWW.loc[(NarrowWW.Region == 'Taiwan') & (NarrowWW.days == 858), 'new']  = 46536\n",
    "NarrowWW.loc[(NarrowWW.Region == 'Taiwan') & (NarrowWW.days == 859), 'total'] = 44361 + 46536 + 268569.0\n",
    "NarrowWW.loc[(NarrowWW.Region == 'Taiwan') & (NarrowWW.days == 859), 'new']  = 44361\n",
    "NarrowWW.loc[(NarrowWW.Region == 'Taiwan') & (NarrowWW.days == 858), 'total_per_M']  = \\\n",
    "    NarrowWW.loc[(NarrowWW.Region == 'Taiwan') & (NarrowWW.days == 858), 'total'] /\\\n",
    "    NarrowWW.loc[(NarrowWW.Region == 'Taiwan') & (NarrowWW.days == 858), 'Pop']\n",
    "\n",
    "NarrowWW.loc[(NarrowWW.Region == 'Taiwan') & (NarrowWW.days == 860), 'new']  = 40304\n",
    "\n",
    "# NarrowWW.loc[(NarrowWW.Region == 'Taiwan') & (NarrowWW.days == 860), 'new']  = \\\n",
    "#     NarrowWW.loc[(NarrowWW.Region == 'Taiwan') & (NarrowWW.days == 860), 'total']  - \\\n",
    "#     NarrowWW.loc[(NarrowWW.Region == 'Taiwan') & (NarrowWW.days == 859), 'total']\n",
    "\n",
    "\n",
    "\n",
    "Taiwan = copy.copy(NarrowWW[NarrowWW.Region == 'Taiwan'])\n",
    "\n",
    "\n",
    "# Taiwan = AddNewDayValue(Taiwan, '2022-05-07', 46536, 11)  days=858\n",
    "# Taiwan = AddNewDayValue(Taiwan, '2022-05-08', 44361, 12)     859\n",
    "# Taiwan = AddNewDayValue(Taiwan, '2022-05-09', 40304, 12)   860"
   ]
  },
  {
   "cell_type": "code",
   "execution_count": null,
   "metadata": {
    "scrolled": false
   },
   "outputs": [],
   "source": [
    "Taiwan.tail(10).iloc[:,:28]"
   ]
  },
  {
   "cell_type": "markdown",
   "metadata": {},
   "source": [
    "### 7.3.2 Add new values"
   ]
  },
  {
   "cell_type": "code",
   "execution_count": null,
   "metadata": {},
   "outputs": [],
   "source": [
    "def AddNewDayValue(Taiwan, NewDate, NewCases, NewDeaths, ):\n",
    "    jjj = copy.copy(Taiwan.tail(1))\n",
    "    \n",
    "    jjj['Date'] = NewDate\n",
    "    jjj['new'] = NewCases\n",
    "    jjj['new_deaths'] = NewDeaths\n",
    "\n",
    "    jjj['days'] = jjj.days + 1\n",
    "    jjj['total'] = jjj.total + jjj.new\n",
    "    jjj['total_deaths'] = jjj.total_deaths + jjj.new_deaths\n",
    "#     jjj['new7'] = (jjj.iloc[0].total - Current.iloc[-7].total)/7\n",
    "#     jjj['new7_per_M'] = jjj.iloc[-1].new7 / Current.iloc[-1].Pop * 1000000\n",
    "\n",
    "    Taiwan = pd.concat((Taiwan, jjj))\n",
    "    return Taiwan"
   ]
  },
  {
   "cell_type": "code",
   "execution_count": null,
   "metadata": {
    "scrolled": false
   },
   "outputs": [],
   "source": [
    "Taiwan.tail()"
   ]
  },
  {
   "cell_type": "code",
   "execution_count": null,
   "metadata": {
    "scrolled": false
   },
   "outputs": [],
   "source": [
    "Taiwan = copy.copy(NarrowWW[NarrowWW.Region == 'Taiwan'])\n",
    "NewDate = '2022-05-06'\n",
    "NewCases = 36213\n",
    "NewDeaths = 10\n",
    "Taiwan = AddNewDayValue(Taiwan, NewDate, NewCases, NewDeaths)\n",
    "Taiwan = AddNewDayValue(Taiwan, '2022-05-07', 46536, 11)\n",
    "Taiwan = AddNewDayValue(Taiwan, '2022-05-08', 44361, 12)\n",
    "Taiwan = AddNewDayValue(Taiwan, '2022-05-09', 40304, 12)\n",
    "Taiwan = AddNewDayValue(Taiwan, '2022-05-10', 50828, 12)\n",
    "Taiwan = AddNewDayValue(Taiwan, '2022-05-11', 57216, 8)\n",
    "Taiwan = AddNewDayValue(Taiwan, '2022-05-12', 65446, 17)\n",
    "Taiwan = AddNewDayValue(Taiwan, '2022-05-13', 65011, 41)\n",
    "Taiwan = AddNewDayValue(Taiwan, '2022-05-14', 64041, 40)\n",
    "Taiwan = AddNewDayValue(Taiwan, '2022-05-15', 68769, 19)\n",
    "Taiwan = AddNewDayValue(Taiwan, '2022-05-16', )\n",
    "Taiwan = AddNewDayValue(Taiwan, '2022-05-17', )\n",
    "Taiwan = AddNewDayValue(Taiwan, '2022-05-18', 85356, 41)   # 85310 + 46 + 41\n",
    "Taiwan.tail(5)\n"
   ]
  },
  {
   "cell_type": "code",
   "execution_count": null,
   "metadata": {},
   "outputs": [],
   "source": [
    "Taiwan[['Date', 'new']].tail(10)"
   ]
  },
  {
   "cell_type": "code",
   "execution_count": null,
   "metadata": {},
   "outputs": [],
   "source": []
  },
  {
   "cell_type": "code",
   "execution_count": null,
   "metadata": {},
   "outputs": [],
   "source": []
  },
  {
   "cell_type": "code",
   "execution_count": null,
   "metadata": {},
   "outputs": [],
   "source": []
  },
  {
   "cell_type": "code",
   "execution_count": null,
   "metadata": {},
   "outputs": [],
   "source": []
  },
  {
   "cell_type": "code",
   "execution_count": null,
   "metadata": {},
   "outputs": [],
   "source": []
  },
  {
   "cell_type": "code",
   "execution_count": null,
   "metadata": {},
   "outputs": [],
   "source": []
  },
  {
   "cell_type": "code",
   "execution_count": null,
   "metadata": {},
   "outputs": [],
   "source": [
    "# NarrowWW[NarrowWW.Region == 'United States'].sort_values('TestsPerK', ascending=False)"
   ]
  },
  {
   "cell_type": "code",
   "execution_count": null,
   "metadata": {},
   "outputs": [],
   "source": []
  },
  {
   "cell_type": "code",
   "execution_count": null,
   "metadata": {},
   "outputs": [],
   "source": [
    "Taiwan.tail(20)"
   ]
  },
  {
   "cell_type": "code",
   "execution_count": null,
   "metadata": {},
   "outputs": [],
   "source": []
  },
  {
   "cell_type": "code",
   "execution_count": null,
   "metadata": {},
   "outputs": [],
   "source": [
    "\n",
    "locations = set(NarrowWW.Region)\n",
    "locations = [ 'Taiwan']\n",
    "plt.figure(figsize=(12, 8))\n",
    "# plt.yscale('log')\n",
    "plt.xlim(820, 875)\n",
    "for i in locations:\n",
    "    tmp = Taiwan\n",
    "#     tmp = NarrowWW[NarrowWW.Region == i]\n",
    "    Sat = tmp[tmp.days > 822].iloc[1::7]\n",
    "    Sun = tmp[tmp.days > 822].iloc[2::7]\n",
    "    LastDate = tmp.iloc[-1].Date\n",
    "    print(\"LastDate = \", LastDate)\n",
    "#     print(Sat)\n",
    "#     newTest = np.diff(np.array(tmp.TestsPerK))\n",
    "\n",
    "    plt.scatter(tmp.days.iloc[:], tmp.new, alpha=0.3)\n",
    "    plt.scatter(Sat.days, Sat.new, s=100)\n",
    "    plt.scatter(Sun.days, Sun.new, s=100)\n",
    "#     plt.scatter(tmp.days.iloc[-1], tmp.new.iloc[-1], s=250, marker='X')   #############\n",
    "#     plt.scatter(tmp.days.iloc[-1], 90000, s=300, marker='X')   #############\n",
    "plt.legend(['Taiwan', 'Sunday', 'Monday'], fontsize=24)\n",
    "# plt.legend(['Taiwan', 'Sunday', 'Monday', 'Today Actual', 'Today Projected'], fontsize=24)\n",
    "plt.title('Taiwan Daily New Cases From 2022-04-01 to '+LastDate, fontsize=24)\n",
    "plt.xlabel('days after 20191231.  822 is 20220401', fontsize=24)\n",
    "plt.xticks(fontsize=20)\n",
    "plt.yticks(fontsize=20)"
   ]
  },
  {
   "cell_type": "code",
   "execution_count": null,
   "metadata": {},
   "outputs": [],
   "source": [
    "def clean_data_and_get_n_days_average(tmp, Region, n_days):\n",
    "    tmp = tmp[tmp.Region == Region]\n",
    "\n",
    "    tmp.fillna(method='ffill', inplace=True)\n",
    "    tmp.fillna(0, inplace=True)\n",
    "    tmp = prepend_zero_data(tmp)\n",
    "    C = tmp.total.diff(n_days) / n_days\n",
    "    tmp['new7'] = C    \n",
    "    tmp['new7_Per_M'] = C / tmp.Pop\n",
    "    tmp.fillna(0)\n",
    "    return tmp\n",
    "       "
   ]
  },
  {
   "cell_type": "code",
   "execution_count": null,
   "metadata": {},
   "outputs": [],
   "source": [
    "Taiwan[['Date', 'new']].tail(10)"
   ]
  },
  {
   "cell_type": "code",
   "execution_count": null,
   "metadata": {
    "scrolled": false
   },
   "outputs": [],
   "source": [
    "Taiwan.tail(8).iloc[:, :13]"
   ]
  },
  {
   "cell_type": "code",
   "execution_count": null,
   "metadata": {
    "scrolled": false
   },
   "outputs": [],
   "source": [
    "import math\n",
    "\n",
    "# Locations = ['New Zealand', 'Vietnam', 'United States', 'South Korea', 'Japan', 'Germany']\n",
    "Locations = ['Taiwan']\n",
    "# Locations = ['Australia', 'Italy', 'France']\n",
    "# Locations = ['Hong Kong', 'Taiwan',  'New Zealand', 'Vietnam', 'United States', 'South Korea', 'Japan', 'Germany']\n",
    "NpointsToFit = 10\n",
    "\n",
    "for i in Locations:\n",
    "    print(i)\n",
    "    \n",
    "#     Current = clean_data_and_get_n_days_average(NarrowWW, i, NpointsToFit)\n",
    "    Current = clean_data_and_get_n_days_average(Taiwan, 'Taiwan', NpointsToFit)\n",
    "    Current = Current[(Current.days > 730)]\n",
    "    lastDate = Current.iloc[-1].Date\n",
    "    \n",
    "    print(Current[['Date', 'new','new7', 'new7_per_M']].tail())\n",
    "\n",
    "    days2double = []\n",
    "    \n",
    "    if(len(Current) < NpointsToFit +3):\n",
    "        print(i, ' Not enough data')\n",
    "        continue\n",
    "\n",
    "    for j in range(0, len(Current) - NpointsToFit + 1, 1) :\n",
    "        df_to_fit = Current.iloc[j:j+NpointsToFit][['Date', 'days', 'new7']]\n",
    "        df_to_fit.columns = ['Date', 'X', 'Y']\n",
    "        \n",
    "#         print(j, '  ******** \\n', df_to_fit.tail(4))\n",
    "\n",
    "\n",
    "        B = np.polyfit(df_to_fit.X, np.log(df_to_fit.Y), 1)\n",
    "        Y = np.exp(B[0] * df_to_fit.X + B[1])\n",
    "        Error = (Y - df_to_fit.Y) ** 2\n",
    "        BaseError = (df_to_fit.Y.mean() - df_to_fit.Y) ** 2\n",
    "        if (math.sqrt(BaseError.sum()) < 1.0e-40) : \n",
    "            BaseError = 1.0e-40  # set a minimum error so that it won't blow out R2 score.\n",
    "            #  continue  # if minimum error is not set, we need to skip this data.          \n",
    "        FitScore = int( 100*(1 - math.sqrt(Error.sum())/math.sqrt(BaseError.sum())))\n",
    "        days2double = days2double + [[df_to_fit.iloc[-1].Date, df_to_fit.iloc[-1].X, 0.693 / B[0], FitScore]]\n",
    "\n",
    "\n",
    "#         B = np.polyfit(df_to_fit.days, np.log(df_to_fit.new7_per_M), 1)\n",
    "#         Y = np.exp(B[0] * df_to_fit.days + B[1])\n",
    "#         Error = (Y - df_to_fit.new7_per_M) ** 2\n",
    "#         BaseError = (df_to_fit.new7_per_M.mean() - df_to_fit.new7_per_M) ** 2\n",
    "#         if (math.sqrt(BaseError.sum()) < 1.0e-40) : \n",
    "#             BaseError = 1.0e-40  # set a minimum error so that it won't blow out R2 score.\n",
    "#             #  continue  # if minimum error is not set, we need to skip this data.          \n",
    "#         FitScore = int( 100*(1 - math.sqrt(Error.sum())/math.sqrt(BaseError.sum())))\n",
    "#         days2double = days2double + [[df_to_fit.iloc[-1].days, 0.693 / B[0], FitScore]]\n",
    "\n",
    "    days2double = pd.DataFrame(days2double, columns=['Date', 'days', 'days2X', 'FitScore'])\n",
    "    days2double['days2Xvary'] = days2double.days2X.diff(1)\n",
    "    \n",
    "    days2double = days2double[(days2double.days2X > 0) & \\\n",
    "                              (days2double.days2X < 100) & \\\n",
    "                             (days2double.FitScore > 30)]\n",
    "    plt.figure(figsize=(16.0, 12.0)) \n",
    "    # plt.xlim(700, 850)\n",
    "    # plt.xlim(0, 120)\n",
    "    plt.ylim(-20, 40)\n",
    "    y_scale = 10   ####################################################\n",
    "    plt.scatter(Current.days - 730, Current.new7/y_scale)\n",
    "    plt.scatter(days2double.days - 730, days2double.days2X)\n",
    "    plt.scatter(days2double.days - 730, days2double.days2Xvary * 10)\n",
    "\n",
    "    plt.legend(['7 day average cases/'+str(y_scale), 'days_to_double', \\\n",
    "               'change days_to_double*10'], fontsize=16, loc=8)\n",
    "    plt.grid()\n",
    "    plt.title(i + ' confirmed cases and the analysis in omicron time as of ' + lastDate, fontsize=22)\n",
    "    plt.xlabel('days after 2021/12/31',\\\n",
    "              fontsize=16)\n",
    "    plt.xticks(fontsize=20)\n",
    "    plt.ylabel('7 day average in confirmed cases, days needed to double the cases and its change',\\\n",
    "              fontsize=16)\n",
    "    plt.yticks(fontsize=20)\n",
    "    \n",
    "#     textsize=18\n",
    "#     plt.text(66, 10,'20220307 Quarntine 10+7', va='bottom', rotation=90, fontsize=textsize)\n",
    "#     plt.text(-17, -10,'20211214 Quarntine 10+4+7 to support New Year', va='bottom', rotation=90, fontsize=textsize)\n",
    "#     plt.text(-7, 15,'20211224 case just begin to rise', va='bottom', rotation=90, fontsize=textsize)\n",
    "#     plt.text(14, 15,'20220113 low days_to_double', va='bottom', rotation=90, fontsize=textsize)\n",
    "#     plt.text(2, 15,'20220102 low days_to_double', va='bottom', rotation=90, fontsize=textsize)\n",
    "#     plt.text(45, 10,'20220214 return to Quarntine 14+7', va='bottom', rotation=90, fontsize=textsize)\n",
    "#     plt.text(101, 8,'20220402 high days_to_double', va='bottom', rotation=90, fontsize=textsize)\n"
   ]
  },
  {
   "cell_type": "code",
   "execution_count": null,
   "metadata": {
    "scrolled": false
   },
   "outputs": [],
   "source": [
    "days2double.tail(10)"
   ]
  },
  {
   "cell_type": "markdown",
   "metadata": {},
   "source": [
    "## 7.4  Investigation of TestsPerK"
   ]
  },
  {
   "cell_type": "code",
   "execution_count": null,
   "metadata": {
    "scrolled": true
   },
   "outputs": [],
   "source": [
    "NarrowWW.columns"
   ]
  },
  {
   "cell_type": "code",
   "execution_count": null,
   "metadata": {
    "scrolled": true
   },
   "outputs": [],
   "source": [
    "Taiwan.iloc[:, 6:22]"
   ]
  },
  {
   "cell_type": "code",
   "execution_count": null,
   "metadata": {
    "scrolled": true
   },
   "outputs": [],
   "source": [
    "locations = set(NarrowWW.Region)\n",
    "# locations = [ 'United States', 'Taiwan', 'Japan']\n",
    "myColumns = ['Date', 'Region', 'new7_per_M', 'total_tests', 'new_tests7',\n",
    "        'new_tests7PerK', 'positive_rate', 'days']\n",
    "TestWW = NarrowWW[myColumns]\n",
    "TestWW = TestWW[TestWW.days > 730]\n",
    "\n",
    "MaxPositiveByCountry = []\n",
    "\n",
    "for i in locations:\n",
    "    tmp = TestWW[TestWW.Region == i ]\n",
    "    tmp = tmp[tmp.new7_per_M > 100]\n",
    "    if(tmp.shape[0] == 0):\n",
    "        print(i, '   empty')\n",
    "        continue\n",
    "    max_positive_rate = max(tmp.positive_rate)\n",
    "#     print(i, '   max_positive_rate', max_positive_rate)\n",
    "    if(max_positive_rate != max_positive_rate):\n",
    "        print(i, '   max_positive_rate', max_positive_rate)\n",
    "        continue\n",
    "    CurrentMaxRow = tmp[tmp.positive_rate == max_positive_rate].iloc[0]\n",
    "#     print(type(CurrentMaxRow))\n",
    "#     print(CurrentMaxRow)\n",
    "    MaxPositiveByCountry = MaxPositiveByCountry + [list(CurrentMaxRow)]   \n",
    "\n",
    "MaxPositiveByCountry = pd.DataFrame(MaxPositiveByCountry, columns=myColumns)\n",
    "MaxPositiveByCountry.sort_values('positive_rate')"
   ]
  },
  {
   "cell_type": "code",
   "execution_count": null,
   "metadata": {},
   "outputs": [],
   "source": [
    "1532.964/1.539/1000\n",
    "3640.787/4.968"
   ]
  },
  {
   "cell_type": "code",
   "execution_count": null,
   "metadata": {},
   "outputs": [],
   "source": [
    "MaxPositiveByCountry.sort_values('positive_rate', ascending=False).head(90)"
   ]
  },
  {
   "cell_type": "code",
   "execution_count": null,
   "metadata": {},
   "outputs": [],
   "source": [
    "NarrowWW.isnull().sum()"
   ]
  },
  {
   "cell_type": "code",
   "execution_count": null,
   "metadata": {},
   "outputs": [],
   "source": [
    "locations = set(NarrowWW.Region)\n",
    "locations = [ 'Norway']\n",
    "locations = [ 'United States']\n",
    "plt.figure(figsize=(12, 8))\n",
    "# plt.xlim(770, 840)\n",
    "# plt.ylim(0, 400000)\n",
    "# plt.yscale('log')\n",
    "for i in locations:\n",
    "    tmp = NarrowWW[(NarrowWW.Region == i) & (NarrowWW.days > 710)]\n",
    "    jjj = (tmp[['Date', 'Region', 'new', 'new7', 'total_tests',  'new_tests7',\n",
    "        'new_tests',  'TestsPerK',  'positive_rate',\n",
    "        'days']])\n",
    "    plt.scatter(tmp.days, tmp.new_tests7*1)\n",
    "#     plt.scatter(tmp.days, tmp.tests_per_case)\n",
    "    plt.scatter(tmp.days, tmp.new7*1)\n",
    "#     newTest = np.diff(np.array(tmp.total_TestsPerK))\n",
    "#     print(newTest.shape, tmp.shape)\n",
    "#     plt.scatter(tmp.days.iloc[1:], newTest)\n",
    "    \n",
    "# plt.legend(locations, fontsize=24)\n",
    "plt.legend(['new tests', 'new cases'], fontsize=24)\n",
    "plt.title('7 Days Average of Tests and Confirmed Cases in '+ i, fontsize=24)\n",
    "plt.xlabel('days after 20191231.  731 is 20220101', fontsize=24)\n",
    "plt.xticks(fontsize=20)\n",
    "plt.yticks(fontsize=20)"
   ]
  },
  {
   "cell_type": "code",
   "execution_count": null,
   "metadata": {},
   "outputs": [],
   "source": [
    "jjj.sort_values('positive_rate', ascending=False).head()"
   ]
  },
  {
   "cell_type": "code",
   "execution_count": null,
   "metadata": {},
   "outputs": [],
   "source": [
    "jjj.sort_values('new_tests', ascending=False).head()"
   ]
  },
  {
   "cell_type": "markdown",
   "metadata": {},
   "source": [
    "## 7. .............."
   ]
  },
  {
   "cell_type": "code",
   "execution_count": null,
   "metadata": {},
   "outputs": [],
   "source": [
    "Locations = ['Taiwan', 'Australia', 'New Zealand', 'Vietnam', 'Hong Kong', 'South Korea', 'United States', 'Japan', 'China']\n",
    "tmp = []\n",
    "for i in Locations: \n",
    "    Current = NarrowWW[NarrowWW.Region == i].iloc[-1]\n",
    "    tmp = tmp + [[Current.Region, Current.total_per_M]]\n",
    "    \n",
    "pd.DataFrame(tmp, columns=['Country', 'Total Cases Per M']).sort_values('Total Cases Per M')"
   ]
  },
  {
   "cell_type": "code",
   "execution_count": null,
   "metadata": {
    "scrolled": false
   },
   "outputs": [],
   "source": [
    "plt.figure(figsize=(16.0, 12.0)) \n",
    "# plt.xlim(700, 850)\n",
    "plt.xlim(0, 130)\n",
    "# plt.ylim(100, 1000000)\n",
    "# plt.yscale('log')\n",
    "# Locations = ['Taiwan', 'Australia', 'New Zealand', 'Vietnam', 'Hong Kong', 'South Korea']\n",
    "Locations = ['Taiwan', 'Australia', 'New Zealand', 'Vietnam', 'Hong Kong', 'South Korea', 'United States', 'Japan', 'China']\n",
    "\n",
    "NpointsToFit = 10\n",
    "tmplastDate = NarrowWW[NarrowWW.Region == 'Hong Kong'].iloc[-1].Date\n",
    "for i in Locations:\n",
    "    Current = clean_data_and_get_n_days_average(NarrowWW, i, NpointsToFit)\n",
    "#     Current = NarrowWW[NarrowWW.Region == i]    \n",
    "    plt.scatter(Current.days - 731, Current.VacTotal)\n",
    "    \n",
    "plt.legend(Locations, fontsize=20)\n",
    "plt.grid()\n",
    "plt.title(' Confirmed cases per million people in 2022 as of ' + tmplastDate, fontsize=24)\n",
    "plt.xlabel('days after 2021/12/31', fontsize=16)\n",
    "plt.xticks(fontsize=20)\n",
    "plt.ylabel('7 day average in confirmed cases', fontsize=16)\n",
    "plt.yticks(fontsize=20)\n",
    "\n"
   ]
  },
  {
   "cell_type": "code",
   "execution_count": null,
   "metadata": {},
   "outputs": [],
   "source": []
  },
  {
   "cell_type": "code",
   "execution_count": null,
   "metadata": {},
   "outputs": [],
   "source": [
    "jj = NarrowWW[NarrowWW.Region == 'Taiwan']\n",
    "jj.tail(60)"
   ]
  },
  {
   "cell_type": "code",
   "execution_count": null,
   "metadata": {},
   "outputs": [],
   "source": []
  },
  {
   "cell_type": "code",
   "execution_count": null,
   "metadata": {},
   "outputs": [],
   "source": []
  },
  {
   "cell_type": "code",
   "execution_count": null,
   "metadata": {},
   "outputs": [],
   "source": []
  },
  {
   "cell_type": "code",
   "execution_count": null,
   "metadata": {},
   "outputs": [],
   "source": []
  },
  {
   "cell_type": "markdown",
   "metadata": {},
   "source": [
    "# investigating correlation between vaccination and infected/deaths"
   ]
  },
  {
   "cell_type": "code",
   "execution_count": null,
   "metadata": {},
   "outputs": [],
   "source": [
    "def graph_Ncountries1by1(df, Regions, begin_day=0, end_day=0, \\\n",
    "                     NORM=1, DATE=1, MIN_Vac=0, MAX_X=0, MAX_Y=0, RANGEC=1, RANGEV=14):\n",
    "    # single scatter plots on the same figure.  One plot for each region in Region list\n",
    "    # Input:\n",
    "        # Region: a string represent a region in df.  If \"ALL\", then plot all data in df.\n",
    "        # New: 1 to plot daily new, 0 to plot NormNew\n",
    "        # FullVac:  1 to make 2 plots, one for Vac1, another for Vac2          \n",
    "    df = df.fillna(0)\n",
    "    \n",
    "    \n",
    "    # Set up df upto end_days and Title of the figure.\n",
    "    if(end_day > 0) : df = df[df.days <= end_day]\n",
    "    end_day = max(df.days)\n",
    "    EndDate = df[df.days == end_day].iloc[0].Date\n",
    "    print(\"end day =\", end_day, EndDate)\n",
    "    \n",
    "    RANGE=max(RANGEC, RANGEV)        \n",
    "\n",
    "#     if(begin_day > 0) : df = df[df.days >= (begin_day-RANGE)]\n",
    "        \n",
    "#     plt.figure(figsize=(16.0, 12.0))\n",
    "    if MAX_X != 0 : plt.xlim(0, MAX_X)\n",
    "    if MAX_Y != 0 : plt.ylim(0, MAX_Y)\n",
    "    \n",
    "    LINEWIDTH = 1\n",
    "    \n",
    "    AREA = Regions[0]\n",
    "    COLOR= ['k', 'r', 'b', 'g', 'y', 'm', 'c' ]\n",
    "    YD = []   # will store [Region, MaxNewAtLowVac,MaxDeathAtLowVac, MaxNewAtAlpha,MaxDeathAtAlpha, .....]\n",
    "    \n",
    "    ALPHA = 0.8\n",
    "    \n",
    "    for Region in Regions[1:] : \n",
    "        LEGEND = []\n",
    "        print(Region)\n",
    "        tmp = df[df.Region == Region]\n",
    "        \n",
    "        if (begin_day - tmp.iloc[0].days)  < RANGE:\n",
    "            print(Region, ': no data before begin_day is available to calculate new cumulated value in the specified RANGE')\n",
    "            print('Solution: Use lower RANGE or higher begin_day')\n",
    "            continue\n",
    "            \n",
    "        tmp = tmp[tmp.days >= (begin_day-RANGE)]\n",
    "            \n",
    "#         if(tmp.iloc[RANGE].days < begin_day):\n",
    "        \n",
    "        if(DATE == 0) : \n",
    "            XC = tmp.VacTotal[RANGEC:]\n",
    "            XV = tmp.VacTotal[RANGEV:]\n",
    "            X_label = 'Vaccination Adminstrated %'\n",
    "            TITLE = AREA + ': ' + 'The efficacy of vaccination up to ' + EndDate \n",
    "        else : \n",
    "            XC = tmp.days[RANGEC:]  /365 + 2020  # convert to YearFloat like 2021.5 is for July 1, 2021\n",
    "            XV = tmp.days[RANGEV:]/365 + 2020\n",
    "            print('len(XC), len(XV) = ', len(XC), len(XV))\n",
    "#             X_label = '  Line: Confirmed cases, Dot: Deaths'\n",
    "            X_label = '  Line: Confirmed cases, Dot: Deaths, 2021.5 is 2021/7/2'\n",
    "            TITLE = AREA + ' up to ' + EndDate\n",
    "        \n",
    "#         print(tmp.VacTotal)\n",
    "        t1 = tmp.VacTotal   \n",
    "        tmp['VacTotal'] = t1.replace(0.0, None).fillna(method='ffill')\n",
    "#         print(tmp.VacTotal)\n",
    "\n",
    "        if(NORM == 1) : \n",
    "            D = tmp.total_deaths_per_M.diff(RANGEC)\n",
    "            Y = tmp.total_per_M.diff(RANGEC)\n",
    "            V = tmp.VacTotal.diff(RANGEV)\n",
    "            D = D.dropna()\n",
    "            Y = Y.dropna()\n",
    "            V = V.dropna()\n",
    "\n",
    "            D = (D + abs(D)) / 2\n",
    "            Y = (Y + abs(Y)) / 2\n",
    "            V = (V + abs(V)) / 2\n",
    "            Y_label = 'Total Cases and Deaths in last ' + str(RANGE) + ' days per 1M people'\n",
    "        else : \n",
    "            D = tmp.total_deaths.diff(RANGEC)\n",
    "            Y = tmp.total.diff(RANGEC)\n",
    "            V = tmp.VacTotal.diff(RANGEV)\n",
    "            D = D.dropna()\n",
    "            Y = Y.dropna()\n",
    "            V = V.dropna()\n",
    "\n",
    "#             D = tmp.new_deaths7\n",
    "            D = (D + abs(D)) / 2\n",
    "#             Y = tmp.new7\n",
    "            Y = (Y + abs(Y)) / 2\n",
    "            Y_label = 'Total Cases and Deaths in last ' + str(RANGE) + ' days'\n",
    "        \n",
    "        \n",
    "        \n",
    "        XYD = pd.concat([XC, Y, D], axis=1 )\n",
    "        XYD.columns=['Year', 'NewInRange', 'DeathInRange']\n",
    "        # The death will follow the infected. Try 2 weeks for the lag.\n",
    "        New1 = XYD[XYD.Year < 2021.2].NewInRange.max()\n",
    "        Death1 = XYD[XYD.Year < 2021.24].DeathInRange.max()\n",
    "        New2 = XYD[(XYD.Year > 2021.3) & (XYD.Year < 2021.5) ].NewInRange.max()\n",
    "        Death2 = XYD[(XYD.Year > 2021.34) & (XYD.Year < 2021.54) ].DeathInRange.max()  \n",
    "        New3 = XYD[(XYD.Year > 2021.5) & (XYD.Year < 2021.7) ].NewInRange.max()\n",
    "        Death3 = XYD[(XYD.Year > 2021.54) & (XYD.Year < 2021.74) ].DeathInRange.max()  \n",
    "        New4 = XYD[(XYD.Year > 2020) & (XYD.Year < 2022.2) ].NewInRange.max()\n",
    "        Death4 = XYD[(XYD.Year > 2022.04) & (XYD.Year < 2022.24) ].DeathInRange.max()  \n",
    "        YD = YD + [[Region, \\\n",
    "                    New1, Death1,round(Death1/New1*100, 2), \\\n",
    "                    New2, Death2,round(Death2/New2*100, 2),\\\n",
    "                    New3, Death3,round(Death3/New3*100, 2), \\\n",
    "                    New4, Death4,round(Death4/New4*100, 2)]]\n",
    "        \n",
    "        YvalueMax = max(Y)\n",
    "        Y_Scale =  10**int(round(np.log10(YvalueMax / 100.), 0))\n",
    "        Y = Y / Y_Scale         \n",
    "        DvalueMax = max(D)\n",
    "        D_Scale =  10**int(round(np.log10(DvalueMax / 100.), 0))\n",
    "        D = D / D_Scale\n",
    "        VvalueMax = max(V)\n",
    "        V_Scale =  10**int(round(np.log10(VvalueMax / 100.), 0))\n",
    "        V = V / V_Scale\n",
    "        \n",
    "#         print('len XC XV = ', len(XC), len(XV))\n",
    "#         print(tmp[['Date', 'total', 'VacTotal', 'V']])\n",
    "#         print(V)\n",
    "        \n",
    "        LEGEND = LEGEND + [Region + '/' + str(Y_Scale)]\n",
    "        LINEWIDTH = LINEWIDTH + 1\n",
    "        ALPHA = ALPHA - 0.1\n",
    "        plt.figure(figsize=(16.0, 12.0))\n",
    "        plt.plot(XC, Y,  color='y')\n",
    "        if(DATE != 0) :\n",
    "            LEGEND = LEGEND + [Region + ' Deaths/' + str(D_Scale)]\n",
    "            plt.plot(XC, D,  \\\n",
    "                     color='r', linestyle=\"dotted\")\n",
    "            LEGEND = LEGEND + [Region + ' VacIn60Days/' + str(V_Scale)]\n",
    "            plt.plot(XV, V,  \\\n",
    "                     color='g',linestyle=\"dashed\")\n",
    "\n",
    "        \n",
    "        plt.title(Region, fontsize=24) \n",
    "\n",
    "        plt.legend(LEGEND, fontsize=16)\n",
    "#         plt.xlabel(X_label, fontsize=20)\n",
    "#         plt.ylabel(Y_label, fontsize=20)\n",
    "        plt.xticks(fontsize=20)\n",
    "        plt.yticks(fontsize=20)\n",
    "    #     plt.text(2020.9, 140, 'Low Vaccination Time',fontsize=20)\n",
    "    #     plt.text(2021.3, 150, 'Alpha', fontsize=20)\n",
    "    #     plt.text(2021.6, 150, 'Delta',fontsize=20)\n",
    "    #     plt.text(2021.99, 150, 'Omicron',fontsize=20)\n",
    "        plt.grid()\n",
    "\n",
    "        plt.show()\n",
    "    return \n"
   ]
  },
  {
   "cell_type": "code",
   "execution_count": null,
   "metadata": {},
   "outputs": [],
   "source": [
    "graph_Ncountries1by1(NarrowWW, \\\n",
    "['East Asia', 'Spain', 'South Korea', 'Hong Kong', 'Japan', 'Italy', 'United States', 'Germany', 'Taiwan'], \\\n",
    "begin_day=300, end_day=0, NORM=1, DATE=1, MIN_Vac=0, MAX_X=0, MAX_Y=0, RANGEC=14, RANGEV=100)\n"
   ]
  },
  {
   "cell_type": "code",
   "execution_count": null,
   "metadata": {
    "scrolled": false
   },
   "outputs": [],
   "source": [
    "graph_Ncountries1by1(NarrowWW, \\\n",
    "['East Asia', 'Spain', 'South Korea', 'Hong Kong', 'Japan', 'Italy', 'United States', 'Germany', 'Taiwan'], \\\n",
    "begin_day=300, end_day=0, NORM=1, DATE=1, MIN_Vac=0, MAX_X=0, MAX_Y=0, RANGEC=14, RANGEV=100)\n",
    "\n",
    "# graph_Ncountries1by1(NarrowWW, \\\n",
    "# ['East Asia', 'Spain', 'South Korea'], \\\n",
    "# begin_day=300, end_day=0, NORM=1, DATE=1, MIN_Vac=0, MAX_X=0, MAX_Y=0, RANGEC=14, RANGEV=250)\n"
   ]
  },
  {
   "cell_type": "code",
   "execution_count": null,
   "metadata": {},
   "outputs": [],
   "source": []
  },
  {
   "cell_type": "code",
   "execution_count": null,
   "metadata": {},
   "outputs": [],
   "source": []
  },
  {
   "cell_type": "code",
   "execution_count": null,
   "metadata": {},
   "outputs": [],
   "source": [
    "Taiwan = NarrowWW[NarrowWW.Region == 'Taiwan']\n",
    "Taiwan.tail()"
   ]
  },
  {
   "cell_type": "code",
   "execution_count": null,
   "metadata": {},
   "outputs": [],
   "source": []
  },
  {
   "cell_type": "markdown",
   "metadata": {},
   "source": [
    "# just for misc test"
   ]
  },
  {
   "cell_type": "code",
   "execution_count": null,
   "metadata": {},
   "outputs": [],
   "source": [
    "NarrowWW.columns"
   ]
  },
  {
   "cell_type": "code",
   "execution_count": null,
   "metadata": {},
   "outputs": [],
   "source": [
    "NarrowWW[NarrowWW.Region == 'Taiwan'].iloc[-1]"
   ]
  },
  {
   "cell_type": "code",
   "execution_count": null,
   "metadata": {},
   "outputs": [],
   "source": []
  },
  {
   "cell_type": "code",
   "execution_count": null,
   "metadata": {},
   "outputs": [],
   "source": []
  }
 ],
 "metadata": {
  "kernelspec": {
   "display_name": "Python 3",
   "language": "python",
   "name": "python3"
  },
  "language_info": {
   "codemirror_mode": {
    "name": "ipython",
    "version": 3
   },
   "file_extension": ".py",
   "mimetype": "text/x-python",
   "name": "python",
   "nbconvert_exporter": "python",
   "pygments_lexer": "ipython3",
   "version": "3.7.3"
  }
 },
 "nbformat": 4,
 "nbformat_minor": 2
}

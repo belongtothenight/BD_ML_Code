{
 "cells": [
  {
   "cell_type": "markdown",
   "id": "7290a55d",
   "metadata": {},
   "source": [
    "# Initialize"
   ]
  },
  {
   "cell_type": "code",
   "execution_count": 9,
   "id": "c9000465",
   "metadata": {},
   "outputs": [
    {
     "name": "stdout",
     "output_type": "stream",
     "text": [
      "Reading time: 1.2164106369018555\n"
     ]
    }
   ],
   "source": [
    "import pandas as pd\n",
    "from time import time\n",
    "start = time()\n",
    "data = pd.read_csv('owid-covid-data.csv')\n",
    "end = time()\n",
    "print('Reading time: ' + str(end-start))"
   ]
  },
  {
   "cell_type": "markdown",
   "id": "70c8b893",
   "metadata": {},
   "source": [
    "# Q1"
   ]
  },
  {
   "cell_type": "code",
   "execution_count": 10,
   "id": "7c4ff372",
   "metadata": {},
   "outputs": [
    {
     "name": "stdout",
     "output_type": "stream",
     "text": [
      "244\n"
     ]
    }
   ],
   "source": [
    "diff_loc = len(set(data.location))\n",
    "print(diff_loc)"
   ]
  },
  {
   "cell_type": "markdown",
   "id": "1d21d80b",
   "metadata": {},
   "source": [
    "# Q2"
   ]
  },
  {
   "cell_type": "code",
   "execution_count": 17,
   "id": "ad6c88e7",
   "metadata": {},
   "outputs": [
    {
     "name": "stdout",
     "output_type": "stream",
     "text": [
      "<class 'pandas.core.frame.DataFrame'>\n",
      "1392394303.0\n",
      "1296879385138.0\n"
     ]
    }
   ],
   "source": [
    "afg_data = data.loc[data['continent']=='Africa']\n",
    "location = [None]\n",
    "afg_sum = 0\n",
    "for index, row in afg_data.iterrows():\n",
    "    location.append(row['location'])\n",
    "    if location[-1] != location[-2]:\n",
    "        afg_sum += row['population']\n",
    "print(afg_sum)"
   ]
  },
  {
   "cell_type": "markdown",
   "id": "f8f94a52",
   "metadata": {},
   "source": [
    "# Q3"
   ]
  },
  {
   "cell_type": "code",
   "execution_count": null,
   "id": "59defaf5",
   "metadata": {},
   "outputs": [],
   "source": [
    "des_data = data.describe()\n",
    "data_h = list(data.columns.values)\n",
    "des_data_h = list(des_data.columns.values)\n",
    "for i in range(len(data_h)):\n",
    "    if data_h[i] not in des_data_h:\n",
    "        print(data_h[i])"
   ]
  },
  {
   "cell_type": "markdown",
   "id": "e6f977c9",
   "metadata": {},
   "source": [
    "# Q4"
   ]
  },
  {
   "cell_type": "code",
   "execution_count": null,
   "id": "36abfb45",
   "metadata": {},
   "outputs": [],
   "source": [
    "tw_data = data.loc[data['location']=='Taiwan']\n",
    "tw_data_2021 = tw_data.loc[tw_data['date'].str.contains(\"2021\")]\n",
    "tw_data_1 = tw_data_2021.loc[tw_data_2021['date'].str.contains(\"2021-05-01\")]\n",
    "tw_data_2 = tw_data_2021.loc[tw_data_2021['date'] == '2021-07-31']\n",
    "death_2021 = int(max(tw_data_2021.total_deaths))\n",
    "death_interval = int(tw_data_2.total_deaths) - int(tw_data_1.total_deaths)\n",
    "ans = '{0:.2f}%'.format(death_interval/death_2021*100)\n",
    "print(ans)"
   ]
  },
  {
   "cell_type": "markdown",
   "id": "78bd629f",
   "metadata": {},
   "source": [
    "# Q5"
   ]
  },
  {
   "cell_type": "code",
   "execution_count": null,
   "id": "83f22bcb",
   "metadata": {},
   "outputs": [],
   "source": [
    "diff_loc = set(data.location)\n",
    "vac = list()\n",
    "# num = []\n",
    "for x in diff_loc:\n",
    "    loc_buf = data.loc[data['location']==x]\n",
    "    num_buf = loc_buf.people_fully_vaccinated_per_hundred.max()\n",
    "#     try:\n",
    "#         num.append(int(num_buf))\n",
    "#     except:\n",
    "#         num.append(0)\n",
    "    buf = loc_buf.loc[data['people_fully_vaccinated_per_hundred']==num_buf]\n",
    "    try:\n",
    "        buf = buf.iloc[0]\n",
    "    except:\n",
    "        continue\n",
    "    vac.append(buf)\n",
    "vac = pd.concat(vac, axis=1)\n",
    "vac = vac.transpose()\n",
    "ans = ['Israel', 'United Kingdom', 'United States', 'Gibraltar', 'New Zealand']\n",
    "date = []\n",
    "# num_ans = []\n",
    "for x in ans:\n",
    "    index = vac.loc[vac['location']==x]\n",
    "    date.append(index.date)\n",
    "#     print(int(index.index[0]))\n",
    "#     num_ans.append(num[int(index.index[0])])\n",
    "date = pd.DataFrame(date)\n",
    "data = date.T.unstack()\n",
    "data = data.dropna()\n",
    "data = data.to_list()\n",
    "print(ans)\n",
    "print(data)\n",
    "# print(num_ans)\n"
   ]
  }
 ],
 "metadata": {
  "kernelspec": {
   "display_name": "Python 3 (ipykernel)",
   "language": "python",
   "name": "python3"
  },
  "language_info": {
   "codemirror_mode": {
    "name": "ipython",
    "version": 3
   },
   "file_extension": ".py",
   "mimetype": "text/x-python",
   "name": "python",
   "nbconvert_exporter": "python",
   "pygments_lexer": "ipython3",
   "version": "3.9.13"
  }
 },
 "nbformat": 4,
 "nbformat_minor": 5
}

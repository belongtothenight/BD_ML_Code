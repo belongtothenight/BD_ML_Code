{
 "cells": [
  {
   "cell_type": "markdown",
   "metadata": {},
   "source": [
    "# The program \"ExcessDeathsAndCovidDeathsPhase1.ipynb\" demonstrates the codes needed to obtain the excess deaths in the years of 2020 and 2021 compasred to the average deaths in the previous years.  The codes are not complete.   However, most of the methods needed to complete the codes  are already shown and the imcomplete parts are organized with the descriptions of functions to do.   \n",
    "---------\n",
    "1. Please complete the codes to obtain the average annual excess deaths in the years 2020 and 2021.  \n",
    "- Please find at least 1 logical error in the codes."
   ]
  },
  {
   "cell_type": "markdown",
   "metadata": {},
   "source": [
    "## ANS\n",
    "\n",
    "Accumulative deaths/numbers are not taken into account for the cause.<br>\n",
    "For example, global warming has been causing more and more extreme weather which leads to more death year by year.\n"
   ]
  }
 ],
 "metadata": {
  "kernelspec": {
   "display_name": "Python 3.10.8 64-bit",
   "language": "python",
   "name": "python3"
  },
  "language_info": {
   "codemirror_mode": {
    "name": "ipython",
    "version": 3
   },
   "file_extension": ".py",
   "mimetype": "text/x-python",
   "name": "python",
   "nbconvert_exporter": "python",
   "pygments_lexer": "ipython3",
   "version": "3.10.8"
  },
  "vscode": {
   "interpreter": {
    "hash": "26de051ba29f2982a8de78e945f0abaf191376122a1563185a90213a26c5da77"
   }
  }
 },
 "nbformat": 4,
 "nbformat_minor": 2
}

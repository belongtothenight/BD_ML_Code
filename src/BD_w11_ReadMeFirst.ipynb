{
 "cells": [
  {
   "cell_type": "markdown",
   "metadata": {},
   "source": [
    "# The program \"ExcessDeathsAndCovidDeathsPhase1.ipynb\" demonstrates the codes needed to obtain the excess deaths in the years of 2020 and 2021 compasred to the average deaths in the previous years.  The codes are not complete.   However, most of the methods needed to complete the codes  are already shown and the imcomplete parts are organized with the descriptions of functions to do.   \n",
    "---------\n",
    "1. Please complete the codes to obtain the average annual excess deaths in the years 2020 and 2021.  \n",
    "- Please find at least 1 logical error in the codes."
   ]
  },
  {
   "cell_type": "code",
   "execution_count": null,
   "metadata": {},
   "outputs": [],
   "source": []
  }
 ],
 "metadata": {
  "kernelspec": {
   "display_name": "Python 3",
   "language": "python",
   "name": "python3"
  },
  "language_info": {
   "codemirror_mode": {
    "name": "ipython",
    "version": 3
   },
   "file_extension": ".py",
   "mimetype": "text/x-python",
   "name": "python",
   "nbconvert_exporter": "python",
   "pygments_lexer": "ipython3",
   "version": "3.7.3"
  }
 },
 "nbformat": 4,
 "nbformat_minor": 2
}

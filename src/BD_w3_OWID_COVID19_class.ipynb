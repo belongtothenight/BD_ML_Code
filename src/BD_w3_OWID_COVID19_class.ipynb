{
 "cells": [
  {
   "cell_type": "markdown",
   "id": "5f2751c8",
   "metadata": {},
   "source": [
    "# COVID19 Dataset from OWID\n",
    "Link to download data: https://github.com/owid/covid-19-data/blob/master/public/data/owid-covid-data.csv"
   ]
  },
  {
   "cell_type": "code",
   "execution_count": null,
   "id": "a459818d",
   "metadata": {},
   "outputs": [],
   "source": [
    "! dir"
   ]
  },
  {
   "cell_type": "code",
   "execution_count": 7,
   "id": "a429aa55",
   "metadata": {},
   "outputs": [],
   "source": [
    "import pandas as pd\n",
    "from time import time"
   ]
  },
  {
   "cell_type": "markdown",
   "id": "e20834bd",
   "metadata": {},
   "source": [
    "# 1. Read OWID data"
   ]
  },
  {
   "cell_type": "code",
   "execution_count": null,
   "id": "59dfd9c2",
   "metadata": {},
   "outputs": [],
   "source": [
    "start = time()\n",
    "data = pd.read_csv('owid-covid-data.csv')\n",
    "end = time()\n",
    "print('Reading time: ' + str(end-start))"
   ]
  },
  {
   "cell_type": "code",
   "execution_count": null,
   "id": "ff6c83a8",
   "metadata": {},
   "outputs": [],
   "source": [
    "data.shape"
   ]
  },
  {
   "cell_type": "code",
   "execution_count": null,
   "id": "7fd2e0a7",
   "metadata": {},
   "outputs": [],
   "source": [
    "data"
   ]
  },
  {
   "cell_type": "markdown",
   "id": "57e65e15",
   "metadata": {},
   "source": [
    "# 2.3 Missing Value"
   ]
  },
  {
   "cell_type": "code",
   "execution_count": null,
   "id": "3a910e07",
   "metadata": {},
   "outputs": [],
   "source": [
    "print(data.isnull().sum())\n",
    "print('Total missing value cnt: ' + str(data.isnull().sum().sum()))"
   ]
  },
  {
   "cell_type": "markdown",
   "id": "92a72eb7",
   "metadata": {},
   "source": [
    "# 2.4 Different Locations"
   ]
  },
  {
   "cell_type": "code",
   "execution_count": null,
   "id": "290664b7",
   "metadata": {},
   "outputs": [],
   "source": [
    "len(set(data.location))"
   ]
  },
  {
   "cell_type": "markdown",
   "id": "9fff97a1",
   "metadata": {},
   "source": [
    "# 2.5 Last Date"
   ]
  },
  {
   "cell_type": "code",
   "execution_count": null,
   "id": "815e35f7",
   "metadata": {},
   "outputs": [],
   "source": [
    "data.head()"
   ]
  },
  {
   "cell_type": "code",
   "execution_count": null,
   "id": "311effbf",
   "metadata": {},
   "outputs": [],
   "source": [
    "data.date"
   ]
  },
  {
   "cell_type": "code",
   "execution_count": null,
   "id": "0da1fb69",
   "metadata": {},
   "outputs": [],
   "source": [
    "max(data.date)"
   ]
  },
  {
   "cell_type": "code",
   "execution_count": null,
   "id": "83d26f18",
   "metadata": {},
   "outputs": [],
   "source": [
    "data.date.max()"
   ]
  },
  {
   "cell_type": "code",
   "execution_count": null,
   "id": "c83daad0",
   "metadata": {},
   "outputs": [],
   "source": [
    "dir(data)"
   ]
  },
  {
   "cell_type": "code",
   "execution_count": null,
   "id": "db248be0",
   "metadata": {},
   "outputs": [],
   "source": [
    "data.max()"
   ]
  },
  {
   "cell_type": "code",
   "execution_count": null,
   "id": "444aa709",
   "metadata": {},
   "outputs": [],
   "source": [
    "dir(data.date)"
   ]
  },
  {
   "cell_type": "code",
   "execution_count": null,
   "id": "9c04d4aa",
   "metadata": {},
   "outputs": [],
   "source": [
    "dir(pd)"
   ]
  },
  {
   "cell_type": "markdown",
   "id": "cd270df8",
   "metadata": {},
   "source": [
    "# 3 Consistency check of missing values"
   ]
  },
  {
   "cell_type": "code",
   "execution_count": null,
   "id": "c0769b23",
   "metadata": {},
   "outputs": [],
   "source": [
    "data.describe()"
   ]
  },
  {
   "cell_type": "code",
   "execution_count": null,
   "id": "60c1947b",
   "metadata": {},
   "outputs": [],
   "source": [
    "a = data.describe()\n",
    "a.loc['count', 'new_cases']"
   ]
  },
  {
   "cell_type": "code",
   "execution_count": null,
   "id": "fde0baf8",
   "metadata": {
    "scrolled": true
   },
   "outputs": [],
   "source": [
    "a.index"
   ]
  },
  {
   "cell_type": "code",
   "execution_count": null,
   "id": "d75b0ea7",
   "metadata": {},
   "outputs": [],
   "source": [
    "a.reset_index"
   ]
  },
  {
   "cell_type": "code",
   "execution_count": null,
   "id": "86572d93",
   "metadata": {},
   "outputs": [],
   "source": [
    "a.iloc[0:3,1:4]"
   ]
  },
  {
   "cell_type": "code",
   "execution_count": null,
   "id": "dc6e903b",
   "metadata": {},
   "outputs": [],
   "source": [
    "print('Missing number of total cases: {0}-{1}={2}'.format(data.shape[0], a.iloc[0,0], int(data.shape[0]-a.iloc[0,0])))"
   ]
  },
  {
   "cell_type": "code",
   "execution_count": null,
   "id": "d42d0d81",
   "metadata": {},
   "outputs": [],
   "source": [
    "print('Missing number of new cases: {0}-{1}={2}'.format(data.shape[0], a.loc['count','new_cases'], int(data.shape[0]-a.loc['count','new_cases'])))"
   ]
  }
 ],
 "metadata": {
  "kernelspec": {
   "display_name": "Python 3.10.7 64-bit",
   "language": "python",
   "name": "python3"
  },
  "language_info": {
   "codemirror_mode": {
    "name": "ipython",
    "version": 3
   },
   "file_extension": ".py",
   "mimetype": "text/x-python",
   "name": "python",
   "nbconvert_exporter": "python",
   "pygments_lexer": "ipython3",
   "version": "3.10.7"
  },
  "vscode": {
   "interpreter": {
    "hash": "26de051ba29f2982a8de78e945f0abaf191376122a1563185a90213a26c5da77"
   }
  }
 },
 "nbformat": 4,
 "nbformat_minor": 5
}

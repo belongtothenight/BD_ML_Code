{
 "cells": [
  {
   "cell_type": "markdown",
   "id": "7290a55d",
   "metadata": {},
   "source": [
    "# Initialize"
   ]
  },
  {
   "cell_type": "code",
   "execution_count": 12,
   "id": "c9000465",
   "metadata": {},
   "outputs": [
    {
     "name": "stdout",
     "output_type": "stream",
     "text": [
      "D:/Note_Database/Subject/BD_ML Big Data and Machine Learning/BD_ML_Code/data/owid-covid-data.csv\n",
      "Reading time: 1.2395448684692383\n"
     ]
    }
   ],
   "source": [
    "import pandas as pd\n",
    "from time import time\n",
    "from os import getcwd\n",
    "from os.path import join\n",
    "start = time()\n",
    "path = join(getcwd().rstrip('src'), 'data/owid-covid-data.csv').replace('\\\\', '/')\n",
    "print(path)\n",
    "data = pd.read_csv(path)\n",
    "end = time()\n",
    "print('Reading time: ' + str(end-start))"
   ]
  },
  {
   "cell_type": "markdown",
   "id": "70c8b893",
   "metadata": {},
   "source": [
    "# Q1"
   ]
  },
  {
   "cell_type": "code",
   "execution_count": 13,
   "id": "7c4ff372",
   "metadata": {},
   "outputs": [
    {
     "name": "stdout",
     "output_type": "stream",
     "text": [
      "231\n"
     ]
    }
   ],
   "source": [
    "buf = [None, None]\n",
    "location = []\n",
    "\n",
    "for index, row in data.iterrows():\n",
    "    buf.append(row['location'])\n",
    "    if buf[-1] != buf[-2]:\n",
    "        if pd.isnull(row['continent']):\n",
    "            continue\n",
    "        else:\n",
    "            location.append(row['location'])\n",
    "        \n",
    "print(len(location))"
   ]
  },
  {
   "cell_type": "markdown",
   "id": "1d21d80b",
   "metadata": {},
   "source": [
    "# Q2"
   ]
  },
  {
   "cell_type": "code",
   "execution_count": 14,
   "id": "ad6c88e7",
   "metadata": {},
   "outputs": [
    {
     "name": "stdout",
     "output_type": "stream",
     "text": [
      "1392394303.0\n"
     ]
    }
   ],
   "source": [
    "afg_data = data.loc[data['continent']=='Africa']\n",
    "location = [None]\n",
    "afg_sum = 0\n",
    "for index, row in afg_data.iterrows():\n",
    "    location.append(row['location'])\n",
    "    if location[-1] != location[-2]:\n",
    "        afg_sum += row['population']\n",
    "print(afg_sum)"
   ]
  },
  {
   "cell_type": "markdown",
   "id": "f8f94a52",
   "metadata": {},
   "source": [
    "# Q3"
   ]
  },
  {
   "cell_type": "code",
   "execution_count": 15,
   "id": "59defaf5",
   "metadata": {},
   "outputs": [
    {
     "name": "stdout",
     "output_type": "stream",
     "text": [
      "iso_code\n",
      "continent\n",
      "location\n",
      "date\n",
      "tests_units\n"
     ]
    }
   ],
   "source": [
    "des_data = data.describe()\n",
    "data_h = list(data.columns.values)\n",
    "des_data_h = list(des_data.columns.values)\n",
    "for i in range(len(data_h)):\n",
    "    if data_h[i] not in des_data_h:\n",
    "        print(data_h[i])"
   ]
  },
  {
   "cell_type": "markdown",
   "id": "e6f977c9",
   "metadata": {},
   "source": [
    "# Q4"
   ]
  },
  {
   "cell_type": "code",
   "execution_count": 16,
   "id": "36abfb45",
   "metadata": {},
   "outputs": [
    {
     "name": "stdout",
     "output_type": "stream",
     "text": [
      "91.18%\n"
     ]
    }
   ],
   "source": [
    "tw_data = data.loc[data['location']=='Taiwan']\n",
    "tw_data_2021 = tw_data.loc[tw_data['date'].str.contains(\"2021\")]\n",
    "tw_data_1 = tw_data_2021.loc[tw_data_2021['date'].str.contains(\"2021-05-01\")]\n",
    "tw_data_2 = tw_data_2021.loc[tw_data_2021['date'] == '2021-07-31']\n",
    "death_2021 = int(max(tw_data_2021.total_deaths))\n",
    "death_interval = int(tw_data_2.total_deaths) - int(tw_data_1.total_deaths)\n",
    "ans = '{0:.2f}%'.format(death_interval/death_2021*100)\n",
    "print(ans)"
   ]
  },
  {
   "cell_type": "markdown",
   "id": "78bd629f",
   "metadata": {},
   "source": [
    "# Q5"
   ]
  },
  {
   "cell_type": "code",
   "execution_count": 20,
   "id": "83f22bcb",
   "metadata": {},
   "outputs": [
    {
     "name": "stdout",
     "output_type": "stream",
     "text": [
      "2021-02-23\n",
      "Gibraltar\n"
     ]
    }
   ],
   "source": [
    "a = data[data.total_vaccinations_per_hundred > 100][['location', 'date', 'total_vaccinations_per_hundred']]\n",
    "min_date = a.date.min()\n",
    "print(min_date)\n",
    "for index, row in a.iterrows():\n",
    "    if row['date']==min_date:\n",
    "        print(row['location'])\n",
    "\n"
   ]
  }
 ],
 "metadata": {
  "kernelspec": {
   "display_name": "Python 3 (ipykernel)",
   "language": "python",
   "name": "python3"
  },
  "language_info": {
   "codemirror_mode": {
    "name": "ipython",
    "version": 3
   },
   "file_extension": ".py",
   "mimetype": "text/x-python",
   "name": "python",
   "nbconvert_exporter": "python",
   "pygments_lexer": "ipython3",
   "version": "3.9.13"
  }
 },
 "nbformat": 4,
 "nbformat_minor": 5
}

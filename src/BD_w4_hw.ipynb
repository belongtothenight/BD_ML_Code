{
 "cells": [
  {
   "cell_type": "markdown",
   "id": "7290a55d",
   "metadata": {},
   "source": [
    "# Initialize"
   ]
  },
  {
   "cell_type": "code",
   "execution_count": null,
   "id": "c9000465",
   "metadata": {},
   "outputs": [],
   "source": [
    "import pandas as pd\n",
    "from time import time\n",
    "from os import getcwd\n",
    "from os.path import join\n",
    "start = time()\n",
    "path = join(getcwd().rstrip('src'), 'data/owid-covid-data.csv').replace('\\\\', '/')\n",
    "data = pd.read_csv(path)\n",
    "end = time()\n",
    "print('Reading time: ' + str(end-start))"
   ]
  },
  {
   "cell_type": "markdown",
   "id": "e685e0f2",
   "metadata": {},
   "source": [
    "## Display Method 1"
   ]
  },
  {
   "cell_type": "code",
   "execution_count": null,
   "id": "83f22bcb",
   "metadata": {},
   "outputs": [],
   "source": [
    "a1 = data[['location', 'date', 'total_vaccinations_per_hundred', 'people_vaccinated_per_hundred', 'people_fully_vaccinated_per_hundred', 'total_boosters_per_hundred']]\n",
    "shape_a1 = a1.shape\n",
    "a1"
   ]
  },
  {
   "cell_type": "markdown",
   "id": "2fd3fd6e",
   "metadata": {},
   "source": [
    "## Display Method 2"
   ]
  },
  {
   "cell_type": "code",
   "execution_count": null,
   "id": "84f0ae04",
   "metadata": {},
   "outputs": [],
   "source": [
    "a2 = data.transpose()\n",
    "# r1 = range(5)\n",
    "# a2.iloc[r1]\n",
    "# r2 = range(40,50)\n",
    "# a2.iloc[r2]\n",
    "# 2, 3, 40, 41, 42, 43\n",
    "a2 = a2.iloc[[2, 3, 40, 41, 42, 43]].transpose()\n",
    "shape_a2 = a2.shape\n",
    "a2"
   ]
  },
  {
   "cell_type": "markdown",
   "id": "8eb74ecf",
   "metadata": {},
   "source": [
    "## Display Method 3"
   ]
  },
  {
   "cell_type": "code",
   "execution_count": null,
   "id": "9363b3b9",
   "metadata": {
    "scrolled": true
   },
   "outputs": [],
   "source": [
    "a3 = data.transpose()\n",
    "req = ['location', 'date', 'total_vaccinations_per_hundred', 'people_vaccinated_per_hundred', 'people_fully_vaccinated_per_hundred', 'total_boosters_per_hundred']\n",
    "r1 = range(1)[0]\n",
    "r2 = range(1,2)[0]\n",
    "r3 = range(2,3)[0]\n",
    "r4 = range(3,4)[0]\n",
    "r5 = range(4,5)[0]\n",
    "r6 = range(5,6)[0]\n",
    "a3 = a3.loc[[req[r1],req[r2],req[r3],req[r4],req[r5],req[r6]]]\n",
    "a3 = a3.transpose()\n",
    "shape_a3 = a3.shape\n",
    "a3"
   ]
  },
  {
   "cell_type": "markdown",
   "id": "32cd2de1",
   "metadata": {},
   "source": [
    "## Display Method 4"
   ]
  },
  {
   "cell_type": "code",
   "execution_count": null,
   "id": "428f5a6b",
   "metadata": {},
   "outputs": [],
   "source": [
    "h = data.columns.tolist()\n",
    "req = ['location', 'date', 'total_vaccinations_per_hundred', 'people_vaccinated_per_hundred', 'people_fully_vaccinated_per_hundred', 'total_boosters_per_hundred']\n",
    "req_idx = []\n",
    "for x in req:\n",
    "    req_idx.append(h.index(x))\n",
    "print(req_idx)\n",
    "a4 = data.transpose()\n",
    "a4 = a4.iloc[req_idx]\n",
    "a4 = a4.transpose()\n",
    "shape_a4 = a4.shape\n",
    "a4"
   ]
  },
  {
   "cell_type": "markdown",
   "id": "03f11d35",
   "metadata": {},
   "source": [
    "## Display Method 5"
   ]
  },
  {
   "cell_type": "code",
   "execution_count": null,
   "id": "31e34e2b",
   "metadata": {
    "scrolled": true
   },
   "outputs": [],
   "source": [
    "a5 = data.transpose()\n",
    "a5 = a5.loc[['location', 'date', 'total_vaccinations_per_hundred', 'people_vaccinated_per_hundred', 'people_fully_vaccinated_per_hundred', 'total_boosters_per_hundred']]\n",
    "a5 = a5.transpose()\n",
    "shape_a5 = a5.shape\n",
    "a5"
   ]
  },
  {
   "cell_type": "markdown",
   "id": "f8e039c1",
   "metadata": {},
   "source": [
    "## Result"
   ]
  },
  {
   "cell_type": "code",
   "execution_count": null,
   "id": "6bb0a148",
   "metadata": {},
   "outputs": [],
   "source": [
    "print('Method 1' + str(shape_a1))\n",
    "print('Method 2' + str(shape_a2))\n",
    "print('Method 3' + str(shape_a3))\n",
    "print('Method 4' + str(shape_a4))\n",
    "print('Method 5' + str(shape_a5))"
   ]
  }
 ],
 "metadata": {
  "kernelspec": {
   "display_name": "Python 3.10.7 64-bit",
   "language": "python",
   "name": "python3"
  },
  "language_info": {
   "codemirror_mode": {
    "name": "ipython",
    "version": 3
   },
   "file_extension": ".py",
   "mimetype": "text/x-python",
   "name": "python",
   "nbconvert_exporter": "python",
   "pygments_lexer": "ipython3",
   "version": "3.10.7"
  },
  "vscode": {
   "interpreter": {
    "hash": "26de051ba29f2982a8de78e945f0abaf191376122a1563185a90213a26c5da77"
   }
  }
 },
 "nbformat": 4,
 "nbformat_minor": 5
}

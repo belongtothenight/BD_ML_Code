{
 "cells": [
  {
   "cell_type": "markdown",
   "id": "e821c66c",
   "metadata": {},
   "source": [
    "# Excess Deaths\n",
    "\n",
    "The link is current WW deaths by country from 2015 . The starting and ending day of the data is different for each country. Moreover, there are two different time unit for the countries, i.e. monthly and weekly. I assume all the countries stay in one time unit only. You may want to verify it. This is also part of the homework. https://github.com/akarlinsky/world_mortality/blob/main/world_mortality.csv\n",
    "\n",
    "The main goal of the homework is to find the annual excess deaths for each country. For simplicity, the average annual deaths until the end of 2019 is considered as regular deaths. The annual deaths in 2020 and 2021 is the deaths for all causes (including regular and covid deaths). With the annual average deaths in these two time, we should be able to find the excess death in the covid years. "
   ]
  },
  {
   "cell_type": "markdown",
   "id": "528885f1",
   "metadata": {},
   "source": [
    "## Initialize"
   ]
  },
  {
   "cell_type": "code",
   "execution_count": 2,
   "id": "e2d1bf9c",
   "metadata": {},
   "outputs": [
    {
     "name": "stdout",
     "output_type": "stream",
     "text": [
      "d:/Note_Database/Subject/BD_ML Big Data and Machine Learning/BD_ML_Code/data/world_mortality.csv\n",
      "Reading time: 0.12062597274780273\n"
     ]
    }
   ],
   "source": [
    "import random\n",
    "import pandas as pd\n",
    "import numpy as np\n",
    "import math\n",
    "import json\n",
    "import matplotlib.pyplot as plt\n",
    "from pandas import Timestamp\n",
    "from datetime import datetime\n",
    "from time import time\n",
    "from os import getcwd\n",
    "from os.path import join\n",
    "start = time()\n",
    "path = join(getcwd().rstrip('src'), 'data/world_mortality.csv').replace('\\\\', '/')\n",
    "print(path)\n",
    "data = pd.read_csv(path)\n",
    "end = time()\n",
    "print('Reading time: ' + str(end-start))"
   ]
  },
  {
   "cell_type": "code",
   "execution_count": 3,
   "id": "641c4719",
   "metadata": {},
   "outputs": [
    {
     "data": {
      "text/html": [
       "<div>\n",
       "<style scoped>\n",
       "    .dataframe tbody tr th:only-of-type {\n",
       "        vertical-align: middle;\n",
       "    }\n",
       "\n",
       "    .dataframe tbody tr th {\n",
       "        vertical-align: top;\n",
       "    }\n",
       "\n",
       "    .dataframe thead th {\n",
       "        text-align: right;\n",
       "    }\n",
       "</style>\n",
       "<table border=\"1\" class=\"dataframe\">\n",
       "  <thead>\n",
       "    <tr style=\"text-align: right;\">\n",
       "      <th></th>\n",
       "      <th>iso3c</th>\n",
       "      <th>country_name</th>\n",
       "      <th>year</th>\n",
       "      <th>time</th>\n",
       "      <th>time_unit</th>\n",
       "      <th>deaths</th>\n",
       "    </tr>\n",
       "  </thead>\n",
       "  <tbody>\n",
       "    <tr>\n",
       "      <th>0</th>\n",
       "      <td>ALB</td>\n",
       "      <td>Albania</td>\n",
       "      <td>2015</td>\n",
       "      <td>1</td>\n",
       "      <td>monthly</td>\n",
       "      <td>2490.0</td>\n",
       "    </tr>\n",
       "    <tr>\n",
       "      <th>1</th>\n",
       "      <td>ALB</td>\n",
       "      <td>Albania</td>\n",
       "      <td>2015</td>\n",
       "      <td>2</td>\n",
       "      <td>monthly</td>\n",
       "      <td>2139.0</td>\n",
       "    </tr>\n",
       "    <tr>\n",
       "      <th>2</th>\n",
       "      <td>ALB</td>\n",
       "      <td>Albania</td>\n",
       "      <td>2015</td>\n",
       "      <td>3</td>\n",
       "      <td>monthly</td>\n",
       "      <td>2051.0</td>\n",
       "    </tr>\n",
       "    <tr>\n",
       "      <th>3</th>\n",
       "      <td>ALB</td>\n",
       "      <td>Albania</td>\n",
       "      <td>2015</td>\n",
       "      <td>4</td>\n",
       "      <td>monthly</td>\n",
       "      <td>1906.0</td>\n",
       "    </tr>\n",
       "    <tr>\n",
       "      <th>4</th>\n",
       "      <td>ALB</td>\n",
       "      <td>Albania</td>\n",
       "      <td>2015</td>\n",
       "      <td>5</td>\n",
       "      <td>monthly</td>\n",
       "      <td>1709.0</td>\n",
       "    </tr>\n",
       "  </tbody>\n",
       "</table>\n",
       "</div>"
      ],
      "text/plain": [
       "  iso3c country_name  year  time time_unit  deaths\n",
       "0   ALB      Albania  2015     1   monthly  2490.0\n",
       "1   ALB      Albania  2015     2   monthly  2139.0\n",
       "2   ALB      Albania  2015     3   monthly  2051.0\n",
       "3   ALB      Albania  2015     4   monthly  1906.0\n",
       "4   ALB      Albania  2015     5   monthly  1709.0"
      ]
     },
     "execution_count": 3,
     "metadata": {},
     "output_type": "execute_result"
    }
   ],
   "source": [
    "data.head()"
   ]
  },
  {
   "cell_type": "markdown",
   "id": "7835106c",
   "metadata": {},
   "source": [
    "## Verify time unit"
   ]
  },
  {
   "cell_type": "code",
   "execution_count": 4,
   "id": "f25cc49d",
   "metadata": {},
   "outputs": [
    {
     "data": {
      "text/plain": [
       "iso3c            object\n",
       "country_name     object\n",
       "year              int64\n",
       "time              int64\n",
       "time_unit        object\n",
       "deaths          float64\n",
       "dtype: object"
      ]
     },
     "execution_count": 4,
     "metadata": {},
     "output_type": "execute_result"
    }
   ],
   "source": [
    "data.dtypes"
   ]
  },
  {
   "cell_type": "code",
   "execution_count": 5,
   "id": "8f54223f",
   "metadata": {},
   "outputs": [
    {
     "data": {
      "text/plain": [
       "iso3c            int8\n",
       "country_name     int8\n",
       "year             int8\n",
       "time             int8\n",
       "time_unit        int8\n",
       "deaths          int16\n",
       "dtype: object"
      ]
     },
     "execution_count": 5,
     "metadata": {},
     "output_type": "execute_result"
    }
   ],
   "source": [
    "data_temp = data.copy()\n",
    "columns = data_temp.columns\n",
    "column_dict = []\n",
    "for x in columns:\n",
    "    c = data_temp[x].astype('category')\n",
    "    d = dict(enumerate(c.cat.categories))\n",
    "    column_dict.append(d)\n",
    "    data_temp[x] = data_temp[x].astype('category').cat.codes\n",
    "data_temp.dtypes"
   ]
  },
  {
   "cell_type": "code",
   "execution_count": 6,
   "id": "8a1f479f",
   "metadata": {
    "scrolled": true
   },
   "outputs": [
    {
     "name": "stdout",
     "output_type": "stream",
     "text": [
      "time_unit:\t{\n",
      "    \"0\": \"monthly\",\n",
      "    \"1\": \"weekly\"\n",
      "}\n"
     ]
    }
   ],
   "source": [
    "# print('iso3c:\\t' + str(json.dumps(column_dict[0], indent=4)))\n",
    "# print('country_name:\\t' + str(json.dumps(column_dict[1], indent=4)))\n",
    "# print('year:\\t' + str(json.dumps(column_dict[2], indent=4)))\n",
    "# print('time:\\t' + str(json.dumps(column_dict[3], indent=4)))\n",
    "print('time_unit:\\t' + str(json.dumps(column_dict[4], indent=4)))\n",
    "# print('deaths:\\t' + str(json.dumps(column_dict[5], indent=4)))\n",
    "\n"
   ]
  },
  {
   "cell_type": "markdown",
   "id": "09a4b6d4",
   "metadata": {},
   "source": [
    "## Calculate annual excess deaths for each country"
   ]
  },
  {
   "cell_type": "code",
   "execution_count": 8,
   "id": "0609efad",
   "metadata": {},
   "outputs": [
    {
     "data": {
      "text/html": [
       "<div>\n",
       "<style scoped>\n",
       "    .dataframe tbody tr th:only-of-type {\n",
       "        vertical-align: middle;\n",
       "    }\n",
       "\n",
       "    .dataframe tbody tr th {\n",
       "        vertical-align: top;\n",
       "    }\n",
       "\n",
       "    .dataframe thead th {\n",
       "        text-align: right;\n",
       "    }\n",
       "</style>\n",
       "<table border=\"1\" class=\"dataframe\">\n",
       "  <thead>\n",
       "    <tr style=\"text-align: right;\">\n",
       "      <th></th>\n",
       "      <th>iso3c</th>\n",
       "      <th>country_name</th>\n",
       "      <th>year</th>\n",
       "      <th>time</th>\n",
       "      <th>time_unit</th>\n",
       "      <th>deaths</th>\n",
       "    </tr>\n",
       "  </thead>\n",
       "  <tbody>\n",
       "    <tr>\n",
       "      <th>11</th>\n",
       "      <td>ALB</td>\n",
       "      <td>Albania</td>\n",
       "      <td>2015</td>\n",
       "      <td>12</td>\n",
       "      <td>monthly</td>\n",
       "      <td>22418.0</td>\n",
       "    </tr>\n",
       "    <tr>\n",
       "      <th>23</th>\n",
       "      <td>ALB</td>\n",
       "      <td>Albania</td>\n",
       "      <td>2016</td>\n",
       "      <td>12</td>\n",
       "      <td>monthly</td>\n",
       "      <td>21388.0</td>\n",
       "    </tr>\n",
       "    <tr>\n",
       "      <th>35</th>\n",
       "      <td>ALB</td>\n",
       "      <td>Albania</td>\n",
       "      <td>2017</td>\n",
       "      <td>12</td>\n",
       "      <td>monthly</td>\n",
       "      <td>22232.0</td>\n",
       "    </tr>\n",
       "    <tr>\n",
       "      <th>47</th>\n",
       "      <td>ALB</td>\n",
       "      <td>Albania</td>\n",
       "      <td>2018</td>\n",
       "      <td>12</td>\n",
       "      <td>monthly</td>\n",
       "      <td>21804.0</td>\n",
       "    </tr>\n",
       "    <tr>\n",
       "      <th>59</th>\n",
       "      <td>ALB</td>\n",
       "      <td>Albania</td>\n",
       "      <td>2019</td>\n",
       "      <td>12</td>\n",
       "      <td>monthly</td>\n",
       "      <td>21937.0</td>\n",
       "    </tr>\n",
       "  </tbody>\n",
       "</table>\n",
       "</div>"
      ],
      "text/plain": [
       "   iso3c country_name  year time time_unit   deaths\n",
       "11   ALB      Albania  2015   12   monthly  22418.0\n",
       "23   ALB      Albania  2016   12   monthly  21388.0\n",
       "35   ALB      Albania  2017   12   monthly  22232.0\n",
       "47   ALB      Albania  2018   12   monthly  21804.0\n",
       "59   ALB      Albania  2019   12   monthly  21937.0"
      ]
     },
     "execution_count": 8,
     "metadata": {},
     "output_type": "execute_result"
    }
   ],
   "source": [
    "pd.options.mode.chained_assignment = None\n",
    "annual_death = pd.DataFrame()\n",
    "year = [0, 0]\n",
    "death = 0\n",
    "\n",
    "for index, row in data.iterrows():\n",
    "    year[1] = row['year']\n",
    "    if year[0] != year[1]:\n",
    "        conrow = data.iloc[index-1]\n",
    "        conrow.deaths = death\n",
    "        annual_death = pd.concat([annual_death, conrow], axis=1)\n",
    "        death = 0\n",
    "    death += row['deaths']\n",
    "    year[0] = year[1]\n",
    "\n",
    "annual_death = annual_death.transpose()\n",
    "annual_death.drop(annual_death.index[0], inplace=True)\n",
    "annual_death.head()"
   ]
  },
  {
   "cell_type": "markdown",
   "id": "92d87497",
   "metadata": {},
   "source": [
    "## Separate averaged annual excess deaths before and after the end of 2019 for each country"
   ]
  },
  {
   "cell_type": "code",
   "execution_count": 30,
   "id": "a59d6d70",
   "metadata": {},
   "outputs": [],
   "source": [
    "annual_death.reset_index(drop=True, inplace=True)\n",
    "annual_death_bf = pd.DataFrame()\n",
    "annual_death_af = pd.DataFrame()\n",
    "\n",
    "for index, row in annual_death.iterrows():\n",
    "    conrow = annual_death.iloc[index-1]\n",
    "    if row.year > 2019:\n",
    "        annual_death_af = pd.concat(\n",
    "            [annual_death_af, conrow], axis=1)\n",
    "    else:\n",
    "        annual_death_bf = pd.concat(\n",
    "            [annual_death_bf, conrow], axis=1)"
   ]
  },
  {
   "cell_type": "code",
   "execution_count": 31,
   "id": "a0ae77a4",
   "metadata": {},
   "outputs": [
    {
     "data": {
      "text/html": [
       "<div>\n",
       "<style scoped>\n",
       "    .dataframe tbody tr th:only-of-type {\n",
       "        vertical-align: middle;\n",
       "    }\n",
       "\n",
       "    .dataframe tbody tr th {\n",
       "        vertical-align: top;\n",
       "    }\n",
       "\n",
       "    .dataframe thead th {\n",
       "        text-align: right;\n",
       "    }\n",
       "</style>\n",
       "<table border=\"1\" class=\"dataframe\">\n",
       "  <thead>\n",
       "    <tr style=\"text-align: right;\">\n",
       "      <th></th>\n",
       "      <th>iso3c</th>\n",
       "      <th>country_name</th>\n",
       "      <th>year</th>\n",
       "      <th>time</th>\n",
       "      <th>time_unit</th>\n",
       "      <th>deaths</th>\n",
       "    </tr>\n",
       "  </thead>\n",
       "  <tbody>\n",
       "    <tr>\n",
       "      <th>0</th>\n",
       "      <td>ALB</td>\n",
       "      <td>Albania</td>\n",
       "      <td>2015</td>\n",
       "      <td>12</td>\n",
       "      <td>monthly</td>\n",
       "      <td>22418.0</td>\n",
       "    </tr>\n",
       "    <tr>\n",
       "      <th>1</th>\n",
       "      <td>ALB</td>\n",
       "      <td>Albania</td>\n",
       "      <td>2016</td>\n",
       "      <td>12</td>\n",
       "      <td>monthly</td>\n",
       "      <td>21388.0</td>\n",
       "    </tr>\n",
       "    <tr>\n",
       "      <th>2</th>\n",
       "      <td>ALB</td>\n",
       "      <td>Albania</td>\n",
       "      <td>2017</td>\n",
       "      <td>12</td>\n",
       "      <td>monthly</td>\n",
       "      <td>22232.0</td>\n",
       "    </tr>\n",
       "    <tr>\n",
       "      <th>3</th>\n",
       "      <td>ALB</td>\n",
       "      <td>Albania</td>\n",
       "      <td>2018</td>\n",
       "      <td>12</td>\n",
       "      <td>monthly</td>\n",
       "      <td>21804.0</td>\n",
       "    </tr>\n",
       "    <tr>\n",
       "      <th>7</th>\n",
       "      <td>ALB</td>\n",
       "      <td>Albania</td>\n",
       "      <td>2022</td>\n",
       "      <td>6</td>\n",
       "      <td>monthly</td>\n",
       "      <td>26490.875</td>\n",
       "    </tr>\n",
       "    <tr>\n",
       "      <th>8</th>\n",
       "      <td>DZA</td>\n",
       "      <td>Algeria</td>\n",
       "      <td>2018</td>\n",
       "      <td>12</td>\n",
       "      <td>monthly</td>\n",
       "      <td>177136.4</td>\n",
       "    </tr>\n",
       "    <tr>\n",
       "      <th>10</th>\n",
       "      <td>DZA</td>\n",
       "      <td>Algeria</td>\n",
       "      <td>2020</td>\n",
       "      <td>12</td>\n",
       "      <td>monthly</td>\n",
       "      <td>158762.5375</td>\n",
       "    </tr>\n",
       "    <tr>\n",
       "      <th>11</th>\n",
       "      <td>AND</td>\n",
       "      <td>Andorra</td>\n",
       "      <td>2015</td>\n",
       "      <td>12</td>\n",
       "      <td>monthly</td>\n",
       "      <td>282.0</td>\n",
       "    </tr>\n",
       "    <tr>\n",
       "      <th>12</th>\n",
       "      <td>AND</td>\n",
       "      <td>Andorra</td>\n",
       "      <td>2016</td>\n",
       "      <td>12</td>\n",
       "      <td>monthly</td>\n",
       "      <td>310.0</td>\n",
       "    </tr>\n",
       "    <tr>\n",
       "      <th>13</th>\n",
       "      <td>AND</td>\n",
       "      <td>Andorra</td>\n",
       "      <td>2017</td>\n",
       "      <td>12</td>\n",
       "      <td>monthly</td>\n",
       "      <td>323.0</td>\n",
       "    </tr>\n",
       "  </tbody>\n",
       "</table>\n",
       "</div>"
      ],
      "text/plain": [
       "   iso3c country_name  year time time_unit       deaths\n",
       "0    ALB      Albania  2015   12   monthly      22418.0\n",
       "1    ALB      Albania  2016   12   monthly      21388.0\n",
       "2    ALB      Albania  2017   12   monthly      22232.0\n",
       "3    ALB      Albania  2018   12   monthly      21804.0\n",
       "7    ALB      Albania  2022    6   monthly    26490.875\n",
       "8    DZA      Algeria  2018   12   monthly     177136.4\n",
       "10   DZA      Algeria  2020   12   monthly  158762.5375\n",
       "11   AND      Andorra  2015   12   monthly        282.0\n",
       "12   AND      Andorra  2016   12   monthly        310.0\n",
       "13   AND      Andorra  2017   12   monthly        323.0"
      ]
     },
     "execution_count": 31,
     "metadata": {},
     "output_type": "execute_result"
    }
   ],
   "source": [
    "annual_death_bf = annual_death_bf.transpose()\n",
    "annual_death_bf.drop(annual_death_bf.index[0], inplace=True)\n",
    "annual_death_bf.head(10)\n"
   ]
  },
  {
   "cell_type": "code",
   "execution_count": 27,
   "id": "b5012262",
   "metadata": {},
   "outputs": [
    {
     "data": {
      "text/html": [
       "<div>\n",
       "<style scoped>\n",
       "    .dataframe tbody tr th:only-of-type {\n",
       "        vertical-align: middle;\n",
       "    }\n",
       "\n",
       "    .dataframe tbody tr th {\n",
       "        vertical-align: top;\n",
       "    }\n",
       "\n",
       "    .dataframe thead th {\n",
       "        text-align: right;\n",
       "    }\n",
       "</style>\n",
       "<table border=\"1\" class=\"dataframe\">\n",
       "  <thead>\n",
       "    <tr style=\"text-align: right;\">\n",
       "      <th></th>\n",
       "      <th>iso3c</th>\n",
       "      <th>country_name</th>\n",
       "      <th>year</th>\n",
       "      <th>time</th>\n",
       "      <th>time_unit</th>\n",
       "      <th>deaths</th>\n",
       "    </tr>\n",
       "  </thead>\n",
       "  <tbody>\n",
       "    <tr>\n",
       "      <th>6</th>\n",
       "      <td>ALB</td>\n",
       "      <td>Albania</td>\n",
       "      <td>2021</td>\n",
       "      <td>12</td>\n",
       "      <td>monthly</td>\n",
       "      <td>30580.0</td>\n",
       "    </tr>\n",
       "    <tr>\n",
       "      <th>22</th>\n",
       "      <td>ATG</td>\n",
       "      <td>Antigua and Barbuda</td>\n",
       "      <td>2020</td>\n",
       "      <td>12</td>\n",
       "      <td>monthly</td>\n",
       "      <td>22418.0</td>\n",
       "    </tr>\n",
       "    <tr>\n",
       "      <th>35</th>\n",
       "      <td>ARM</td>\n",
       "      <td>Armenia</td>\n",
       "      <td>2020</td>\n",
       "      <td>12</td>\n",
       "      <td>monthly</td>\n",
       "      <td>35371.0</td>\n",
       "    </tr>\n",
       "    <tr>\n",
       "      <th>36</th>\n",
       "      <td>ARM</td>\n",
       "      <td>Armenia</td>\n",
       "      <td>2021</td>\n",
       "      <td>12</td>\n",
       "      <td>monthly</td>\n",
       "      <td>34638.0</td>\n",
       "    </tr>\n",
       "    <tr>\n",
       "      <th>43</th>\n",
       "      <td>ABW</td>\n",
       "      <td>Aruba</td>\n",
       "      <td>2020</td>\n",
       "      <td>12</td>\n",
       "      <td>monthly</td>\n",
       "      <td>743.0</td>\n",
       "    </tr>\n",
       "  </tbody>\n",
       "</table>\n",
       "</div>"
      ],
      "text/plain": [
       "   iso3c         country_name  year time time_unit   deaths\n",
       "6    ALB              Albania  2021   12   monthly  30580.0\n",
       "22   ATG  Antigua and Barbuda  2020   12   monthly  22418.0\n",
       "35   ARM              Armenia  2020   12   monthly  35371.0\n",
       "36   ARM              Armenia  2021   12   monthly  34638.0\n",
       "43   ABW                Aruba  2020   12   monthly    743.0"
      ]
     },
     "execution_count": 27,
     "metadata": {},
     "output_type": "execute_result"
    }
   ],
   "source": [
    "annual_death_af = annual_death_af.transpose()\n",
    "annual_death_af.drop(annual_death_af.index[0], inplace=True)\n",
    "annual_death_af.head()"
   ]
  }
 ],
 "metadata": {
  "kernelspec": {
   "display_name": "Python 3.10.7 64-bit",
   "language": "python",
   "name": "python3"
  },
  "language_info": {
   "codemirror_mode": {
    "name": "ipython",
    "version": 3
   },
   "file_extension": ".py",
   "mimetype": "text/x-python",
   "name": "python",
   "nbconvert_exporter": "python",
   "pygments_lexer": "ipython3",
   "version": "3.10.7"
  },
  "vscode": {
   "interpreter": {
    "hash": "26de051ba29f2982a8de78e945f0abaf191376122a1563185a90213a26c5da77"
   }
  }
 },
 "nbformat": 4,
 "nbformat_minor": 5
}

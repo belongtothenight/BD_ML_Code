{
 "cells": [
  {
   "cell_type": "markdown",
   "id": "189e9905",
   "metadata": {},
   "source": [
    "# Excess Deaths\n",
    "\n",
    "The link is current WW deaths by country from 2015 . The starting and ending day of the data is different for each country. Moreover, there are two different time unit for the countries, i.e. monthly and weekly. I assume all the countries stay in one time unit only. You may want to verify it. This is also part of the homework. https://github.com/akarlinsky/world_mortality/blob/main/world_mortality.csv\n",
    "\n",
    "The main goal of the homework is to find the annual excess deaths for each country. For simplicity, the average annual deaths until the end of 2019 is considered as regular deaths. The annual deaths in 2020 and 2021 is the deaths for all causes (including regular and covid deaths). With the annual average deaths in these two time, we should be able to find the excess death in the covid years. "
   ]
  },
  {
   "cell_type": "markdown",
   "id": "214fcbb1",
   "metadata": {},
   "source": [
    "## Initialize"
   ]
  },
  {
   "cell_type": "code",
   "execution_count": 1,
   "id": "da790a4d",
   "metadata": {},
   "outputs": [
    {
     "name": "stdout",
     "output_type": "stream",
     "text": [
      "D:/Note_Database/Subject/BD_ML Big Data and Machine Learning/BD_ML_Code/data/world_mortality.csv\n",
      "Reading time: 0.020588159561157227\n"
     ]
    }
   ],
   "source": [
    "import random\n",
    "import pandas as pd\n",
    "import numpy as np\n",
    "import math\n",
    "import matplotlib.pyplot as plt\n",
    "from pandas import Timestamp\n",
    "from datetime import datetime\n",
    "from time import time\n",
    "from os import getcwd\n",
    "from os.path import join\n",
    "start = time()\n",
    "path = join(getcwd().rstrip('src'), 'data/world_mortality.csv').replace('\\\\', '/')\n",
    "print(path)\n",
    "data = pd.read_csv(path)\n",
    "end = time()\n",
    "print('Reading time: ' + str(end-start))"
   ]
  },
  {
   "cell_type": "code",
   "execution_count": null,
   "id": "0d3b7aea",
   "metadata": {},
   "outputs": [],
   "source": []
  }
 ],
 "metadata": {
  "kernelspec": {
   "display_name": "Python 3 (ipykernel)",
   "language": "python",
   "name": "python3"
  },
  "language_info": {
   "codemirror_mode": {
    "name": "ipython",
    "version": 3
   },
   "file_extension": ".py",
   "mimetype": "text/x-python",
   "name": "python",
   "nbconvert_exporter": "python",
   "pygments_lexer": "ipython3",
   "version": "3.9.13"
  }
 },
 "nbformat": 4,
 "nbformat_minor": 5
}

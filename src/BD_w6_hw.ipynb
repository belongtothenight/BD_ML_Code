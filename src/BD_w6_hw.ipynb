{
 "cells": [
  {
   "cell_type": "markdown",
   "id": "2099c3ba",
   "metadata": {},
   "source": [
    "## Load Data"
   ]
  },
  {
   "cell_type": "code",
   "execution_count": 32,
   "id": "fd17579a",
   "metadata": {},
   "outputs": [],
   "source": [
    "# %%timeit\n",
    "import random\n",
    "import pandas as pd\n",
    "import matplotlib.pyplot as plt\n",
    "from datetime import datetime\n",
    "from time import time\n",
    "from os import getcwd\n",
    "from os.path import join\n",
    "\n",
    "path = join(getcwd().rstrip('src'), 'data/owid-covid-data.csv').replace('\\\\', '/')\n",
    "data = pd.read_csv(path)"
   ]
  },
  {
   "cell_type": "markdown",
   "id": "24260db2",
   "metadata": {},
   "source": [
    "# 1. Use your first matplotlib tool to find out  any strange behaviour in OWID data.  There is no standard solution.  The purpose is to practice the tool and data."
   ]
  },
  {
   "cell_type": "code",
   "execution_count": 33,
   "id": "9c530c92",
   "metadata": {
    "scrolled": false
   },
   "outputs": [
    {
     "name": "stdout",
     "output_type": "stream",
     "text": [
      "Column \"iso_code\" contains unacceptable type. could not convert string to float: 'AFG'\n",
      "Column \"continent\" contains unacceptable type. could not convert string to float: 'Asia'\n",
      "Column \"location\" contains unacceptable type. could not convert string to float: 'Afghanistan'\n",
      "Column \"date\" contains unacceptable type. could not convert string to float: '2020-02-24'\n",
      "Column \"tests_units\" contains unacceptable type. could not convert string to float: 'tests performed'\n",
      "Finished plotting.\n"
     ]
    }
   ],
   "source": [
    "# figures are exported to local storage\n",
    "columns = list(data.columns)\n",
    "# print(columns)\n",
    "\n",
    "for i in range(len(columns)): #[5]\n",
    "    try:\n",
    "        print('{0}/{1} {2:.2f}%'.format(i, len(columns), i/len(columns)*100), end='\\r')\n",
    "        element = data[[columns[i]]]\n",
    "        t = columns[i]\n",
    "        x = element.index\n",
    "        y = element.values.tolist()\n",
    "        plt.figure(figsize=(16,9))\n",
    "        plt.title(t, fontsize=15)\n",
    "        plt.axhline(0, color='black')\n",
    "        plt.axvline(0, color='black')\n",
    "        plt.scatter(x, y,s=5)\n",
    "        plt.xlabel('index', fontsize=15)\n",
    "        plt.ylabel('value', fontsize=15)\n",
    "        plt.xticks(fontsize=12)\n",
    "        plt.yticks(fontsize=12)\n",
    "        path = join(getcwd().rstrip('src'), 'pic/BD_w6_hw_q1/BD_w6_hw_q1_{0}.jpg'.format(t).replace('\\\\', '/'))\n",
    "        plt.draw()\n",
    "        plt.savefig(path, dpi=300)\n",
    "        plt.close()\n",
    "    except Exception as e:\n",
    "        plt.close()\n",
    "        print('Column \"' + element.columns[0] + '\" contains unacceptable type. '  + str(e))\n",
    "print('Finished plotting.')"
   ]
  },
  {
   "cell_type": "markdown",
   "id": "a9f54f4f",
   "metadata": {},
   "source": [
    "## Result\n",
    "Pictures: [https://github.com/belongtothenight/BD_ML_Code/tree/main/pic/BD_w6_hw_q1](https://github.com/belongtothenight/BD_ML_Code/tree/main/pic/BD_w6_hw_q1)\n",
    "1. Lots of columns contains NA data.\n",
    "2. Some columns are recored less and less as time and value increase.\n",
    "3. Some locations doesn't have continuous data, result in hug gap between groups of data."
   ]
  },
  {
   "cell_type": "markdown",
   "id": "9063d667",
   "metadata": {},
   "source": [
    "# 2. Try to make two total_cases vs. date on one single graph with proper annotations on the graph.  I did not show this in the video.  You need to check my cheatsheet and google to get the solution.\n",
    "=> location1 total_cases vs. date<br>\n",
    "=> location2 total_cases vs. date"
   ]
  },
  {
   "cell_type": "markdown",
   "id": "d31fcba0",
   "metadata": {},
   "source": [
    "## Get Location Data"
   ]
  },
  {
   "cell_type": "code",
   "execution_count": 34,
   "id": "ad53b029",
   "metadata": {
    "scrolled": true
   },
   "outputs": [
    {
     "name": "stdout",
     "output_type": "stream",
     "text": [
      "Honduras\n",
      "China\n"
     ]
    }
   ],
   "source": [
    "# Get location\n",
    "locs = list(set(data.location)) # some elements are not locations\n",
    "locs.remove('Upper middle income')\n",
    "locs.remove('Low income')\n",
    "locs.remove('Lower middle income')\n",
    "locs.remove('International')\n",
    "locs.remove('High income')\n",
    "# print(locs)\n",
    "l1 = random.choice(locs)\n",
    "l2 = random.choice(locs)\n",
    "print(l1)\n",
    "print(l2)"
   ]
  },
  {
   "cell_type": "code",
   "execution_count": 35,
   "id": "ee9d2a01",
   "metadata": {},
   "outputs": [
    {
     "name": "stdout",
     "output_type": "stream",
     "text": [
      "928\n",
      "977\n"
     ]
    },
    {
     "data": {
      "text/html": [
       "<div>\n",
       "<style scoped>\n",
       "    .dataframe tbody tr th:only-of-type {\n",
       "        vertical-align: middle;\n",
       "    }\n",
       "\n",
       "    .dataframe tbody tr th {\n",
       "        vertical-align: top;\n",
       "    }\n",
       "\n",
       "    .dataframe thead th {\n",
       "        text-align: right;\n",
       "    }\n",
       "</style>\n",
       "<table border=\"1\" class=\"dataframe\">\n",
       "  <thead>\n",
       "    <tr style=\"text-align: right;\">\n",
       "      <th></th>\n",
       "      <th>iso_code</th>\n",
       "      <th>continent</th>\n",
       "      <th>location</th>\n",
       "      <th>date</th>\n",
       "      <th>total_cases</th>\n",
       "      <th>new_cases</th>\n",
       "      <th>new_cases_smoothed</th>\n",
       "      <th>total_deaths</th>\n",
       "      <th>new_deaths</th>\n",
       "      <th>new_deaths_smoothed</th>\n",
       "      <th>...</th>\n",
       "      <th>female_smokers</th>\n",
       "      <th>male_smokers</th>\n",
       "      <th>handwashing_facilities</th>\n",
       "      <th>hospital_beds_per_thousand</th>\n",
       "      <th>life_expectancy</th>\n",
       "      <th>human_development_index</th>\n",
       "      <th>excess_mortality_cumulative_absolute</th>\n",
       "      <th>excess_mortality_cumulative</th>\n",
       "      <th>excess_mortality</th>\n",
       "      <th>excess_mortality_cumulative_per_million</th>\n",
       "    </tr>\n",
       "  </thead>\n",
       "  <tbody>\n",
       "    <tr>\n",
       "      <th>86143</th>\n",
       "      <td>HND</td>\n",
       "      <td>North America</td>\n",
       "      <td>Honduras</td>\n",
       "      <td>2020-03-11</td>\n",
       "      <td>2.0</td>\n",
       "      <td>2.0</td>\n",
       "      <td>NaN</td>\n",
       "      <td>NaN</td>\n",
       "      <td>NaN</td>\n",
       "      <td>NaN</td>\n",
       "      <td>...</td>\n",
       "      <td>2.0</td>\n",
       "      <td>NaN</td>\n",
       "      <td>84.169</td>\n",
       "      <td>0.7</td>\n",
       "      <td>75.27</td>\n",
       "      <td>0.634</td>\n",
       "      <td>NaN</td>\n",
       "      <td>NaN</td>\n",
       "      <td>NaN</td>\n",
       "      <td>NaN</td>\n",
       "    </tr>\n",
       "    <tr>\n",
       "      <th>86144</th>\n",
       "      <td>HND</td>\n",
       "      <td>North America</td>\n",
       "      <td>Honduras</td>\n",
       "      <td>2020-03-12</td>\n",
       "      <td>2.0</td>\n",
       "      <td>0.0</td>\n",
       "      <td>NaN</td>\n",
       "      <td>NaN</td>\n",
       "      <td>NaN</td>\n",
       "      <td>NaN</td>\n",
       "      <td>...</td>\n",
       "      <td>2.0</td>\n",
       "      <td>NaN</td>\n",
       "      <td>84.169</td>\n",
       "      <td>0.7</td>\n",
       "      <td>75.27</td>\n",
       "      <td>0.634</td>\n",
       "      <td>NaN</td>\n",
       "      <td>NaN</td>\n",
       "      <td>NaN</td>\n",
       "      <td>NaN</td>\n",
       "    </tr>\n",
       "    <tr>\n",
       "      <th>86145</th>\n",
       "      <td>HND</td>\n",
       "      <td>North America</td>\n",
       "      <td>Honduras</td>\n",
       "      <td>2020-03-13</td>\n",
       "      <td>2.0</td>\n",
       "      <td>0.0</td>\n",
       "      <td>NaN</td>\n",
       "      <td>NaN</td>\n",
       "      <td>NaN</td>\n",
       "      <td>NaN</td>\n",
       "      <td>...</td>\n",
       "      <td>2.0</td>\n",
       "      <td>NaN</td>\n",
       "      <td>84.169</td>\n",
       "      <td>0.7</td>\n",
       "      <td>75.27</td>\n",
       "      <td>0.634</td>\n",
       "      <td>NaN</td>\n",
       "      <td>NaN</td>\n",
       "      <td>NaN</td>\n",
       "      <td>NaN</td>\n",
       "    </tr>\n",
       "    <tr>\n",
       "      <th>86146</th>\n",
       "      <td>HND</td>\n",
       "      <td>North America</td>\n",
       "      <td>Honduras</td>\n",
       "      <td>2020-03-14</td>\n",
       "      <td>2.0</td>\n",
       "      <td>0.0</td>\n",
       "      <td>NaN</td>\n",
       "      <td>NaN</td>\n",
       "      <td>NaN</td>\n",
       "      <td>NaN</td>\n",
       "      <td>...</td>\n",
       "      <td>2.0</td>\n",
       "      <td>NaN</td>\n",
       "      <td>84.169</td>\n",
       "      <td>0.7</td>\n",
       "      <td>75.27</td>\n",
       "      <td>0.634</td>\n",
       "      <td>NaN</td>\n",
       "      <td>NaN</td>\n",
       "      <td>NaN</td>\n",
       "      <td>NaN</td>\n",
       "    </tr>\n",
       "    <tr>\n",
       "      <th>86147</th>\n",
       "      <td>HND</td>\n",
       "      <td>North America</td>\n",
       "      <td>Honduras</td>\n",
       "      <td>2020-03-15</td>\n",
       "      <td>3.0</td>\n",
       "      <td>1.0</td>\n",
       "      <td>NaN</td>\n",
       "      <td>NaN</td>\n",
       "      <td>NaN</td>\n",
       "      <td>NaN</td>\n",
       "      <td>...</td>\n",
       "      <td>2.0</td>\n",
       "      <td>NaN</td>\n",
       "      <td>84.169</td>\n",
       "      <td>0.7</td>\n",
       "      <td>75.27</td>\n",
       "      <td>0.634</td>\n",
       "      <td>NaN</td>\n",
       "      <td>NaN</td>\n",
       "      <td>NaN</td>\n",
       "      <td>NaN</td>\n",
       "    </tr>\n",
       "  </tbody>\n",
       "</table>\n",
       "<p>5 rows × 67 columns</p>\n",
       "</div>"
      ],
      "text/plain": [
       "      iso_code      continent  location        date  total_cases  new_cases  \\\n",
       "86143      HND  North America  Honduras  2020-03-11          2.0        2.0   \n",
       "86144      HND  North America  Honduras  2020-03-12          2.0        0.0   \n",
       "86145      HND  North America  Honduras  2020-03-13          2.0        0.0   \n",
       "86146      HND  North America  Honduras  2020-03-14          2.0        0.0   \n",
       "86147      HND  North America  Honduras  2020-03-15          3.0        1.0   \n",
       "\n",
       "       new_cases_smoothed  total_deaths  new_deaths  new_deaths_smoothed  ...  \\\n",
       "86143                 NaN           NaN         NaN                  NaN  ...   \n",
       "86144                 NaN           NaN         NaN                  NaN  ...   \n",
       "86145                 NaN           NaN         NaN                  NaN  ...   \n",
       "86146                 NaN           NaN         NaN                  NaN  ...   \n",
       "86147                 NaN           NaN         NaN                  NaN  ...   \n",
       "\n",
       "       female_smokers  male_smokers  handwashing_facilities  \\\n",
       "86143             2.0           NaN                  84.169   \n",
       "86144             2.0           NaN                  84.169   \n",
       "86145             2.0           NaN                  84.169   \n",
       "86146             2.0           NaN                  84.169   \n",
       "86147             2.0           NaN                  84.169   \n",
       "\n",
       "       hospital_beds_per_thousand  life_expectancy  human_development_index  \\\n",
       "86143                         0.7            75.27                    0.634   \n",
       "86144                         0.7            75.27                    0.634   \n",
       "86145                         0.7            75.27                    0.634   \n",
       "86146                         0.7            75.27                    0.634   \n",
       "86147                         0.7            75.27                    0.634   \n",
       "\n",
       "       excess_mortality_cumulative_absolute  excess_mortality_cumulative  \\\n",
       "86143                                   NaN                          NaN   \n",
       "86144                                   NaN                          NaN   \n",
       "86145                                   NaN                          NaN   \n",
       "86146                                   NaN                          NaN   \n",
       "86147                                   NaN                          NaN   \n",
       "\n",
       "       excess_mortality  excess_mortality_cumulative_per_million  \n",
       "86143               NaN                                      NaN  \n",
       "86144               NaN                                      NaN  \n",
       "86145               NaN                                      NaN  \n",
       "86146               NaN                                      NaN  \n",
       "86147               NaN                                      NaN  \n",
       "\n",
       "[5 rows x 67 columns]"
      ]
     },
     "execution_count": 35,
     "metadata": {},
     "output_type": "execute_result"
    }
   ],
   "source": [
    "# Get location data\n",
    "l1d = data.loc[data['location']==l1]\n",
    "l2d = data.loc[data['location']==l2]\n",
    "print(len(l1d))\n",
    "print(len(l2d))\n",
    "l1d.head(5)\n",
    "# l2d.head(5)"
   ]
  },
  {
   "cell_type": "code",
   "execution_count": 36,
   "id": "dbdd8b73",
   "metadata": {
    "scrolled": true
   },
   "outputs": [
    {
     "data": {
      "text/html": [
       "<div>\n",
       "<style scoped>\n",
       "    .dataframe tbody tr th:only-of-type {\n",
       "        vertical-align: middle;\n",
       "    }\n",
       "\n",
       "    .dataframe tbody tr th {\n",
       "        vertical-align: top;\n",
       "    }\n",
       "\n",
       "    .dataframe thead th {\n",
       "        text-align: right;\n",
       "    }\n",
       "</style>\n",
       "<table border=\"1\" class=\"dataframe\">\n",
       "  <thead>\n",
       "    <tr style=\"text-align: right;\">\n",
       "      <th></th>\n",
       "      <th>date</th>\n",
       "      <th>total_cases</th>\n",
       "    </tr>\n",
       "  </thead>\n",
       "  <tbody>\n",
       "    <tr>\n",
       "      <th>86143</th>\n",
       "      <td>2020-03-11</td>\n",
       "      <td>2.0</td>\n",
       "    </tr>\n",
       "    <tr>\n",
       "      <th>86144</th>\n",
       "      <td>2020-03-12</td>\n",
       "      <td>2.0</td>\n",
       "    </tr>\n",
       "    <tr>\n",
       "      <th>86145</th>\n",
       "      <td>2020-03-13</td>\n",
       "      <td>2.0</td>\n",
       "    </tr>\n",
       "    <tr>\n",
       "      <th>86146</th>\n",
       "      <td>2020-03-14</td>\n",
       "      <td>2.0</td>\n",
       "    </tr>\n",
       "    <tr>\n",
       "      <th>86147</th>\n",
       "      <td>2020-03-15</td>\n",
       "      <td>3.0</td>\n",
       "    </tr>\n",
       "  </tbody>\n",
       "</table>\n",
       "</div>"
      ],
      "text/plain": [
       "             date  total_cases\n",
       "86143  2020-03-11          2.0\n",
       "86144  2020-03-12          2.0\n",
       "86145  2020-03-13          2.0\n",
       "86146  2020-03-14          2.0\n",
       "86147  2020-03-15          3.0"
      ]
     },
     "execution_count": 36,
     "metadata": {},
     "output_type": "execute_result"
    }
   ],
   "source": [
    "# Drop unused columns\n",
    "columns = list(data.columns)\n",
    "# print(len(columns))\n",
    "# print(columns)\n",
    "columns.remove('total_cases')\n",
    "columns.remove('date')\n",
    "# print(len(columns))\n",
    "# print(columns)\n",
    "for x in columns:\n",
    "    del l1d[x]\n",
    "    del l2d[x]\n",
    "l1d.head(5)\n",
    "# l2d.head(5)"
   ]
  },
  {
   "cell_type": "code",
   "execution_count": 37,
   "id": "544207d5",
   "metadata": {},
   "outputs": [],
   "source": [
    "# Convert data into list for plotting\n",
    "l1date = list(l1d.date)\n",
    "l1date = [datetime.strptime(date, '%Y-%m-%d').date() for date in l1date]\n",
    "l1case = list(l1d.total_cases)\n",
    "l2date = list(l2d.date)\n",
    "l2date = [datetime.strptime(date, '%Y-%m-%d').date() for date in l2date]\n",
    "l2case = list(l2d.total_cases)"
   ]
  },
  {
   "cell_type": "markdown",
   "id": "08c3be28",
   "metadata": {},
   "source": [
    "## Plot"
   ]
  },
  {
   "cell_type": "code",
   "execution_count": 38,
   "id": "da9ab436",
   "metadata": {
    "scrolled": true
   },
   "outputs": [
    {
     "data": {
      "image/png": "[encoded data removed]",
      "text/plain": [
       "<Figure size 1600x900 with 1 Axes>"
      ]
     },
     "metadata": {},
     "output_type": "display_data"
    }
   ],
   "source": [
    "# figures are exported to local storage\n",
    "%matplotlib inline\n",
    "plt.figure(figsize=(16,9))\n",
    "plt.title('OWID COVID data of {0} and {1}'.format(l1, l2))\n",
    "plt.xlabel('date')\n",
    "plt.ylabel('cases (cumulated)')\n",
    "line1 = plt.plot(l1date, l1case, label=l1)\n",
    "line2 = plt.plot(l2date, l2case, label=l2)\n",
    "plt.legend()\n",
    "\n",
    "# export plot\n",
    "path = join(getcwd().rstrip('src'), 'pic/BD_w6_hw_q2/BD_w6_hw_q2_{0}_{1}.jpg'.format(l1, l2)).replace('\\\\', '/')\n",
    "plt.draw()\n",
    "plt.savefig(path, dpi=300)"
   ]
  },
  {
   "cell_type": "markdown",
   "id": "de4d16e6",
   "metadata": {},
   "source": [
    "## Result\n",
    "Pictures: [https://github.com/belongtothenight/BD_ML_Code/tree/main/pic/BD_w6_hw_q2](https://github.com/belongtothenight/BD_ML_Code/tree/main/pic/BD_w6_hw_q2)"
   ]
  }
 ],
 "metadata": {
  "kernelspec": {
   "display_name": "Python 3 (ipykernel)",
   "language": "python",
   "name": "python3"
  },
  "language_info": {
   "codemirror_mode": {
    "name": "ipython",
    "version": 3
   },
   "file_extension": ".py",
   "mimetype": "text/x-python",
   "name": "python",
   "nbconvert_exporter": "python",
   "pygments_lexer": "ipython3",
   "version": "3.9.13"
  }
 },
 "nbformat": 4,
 "nbformat_minor": 5
}

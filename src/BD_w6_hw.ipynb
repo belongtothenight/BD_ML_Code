{
 "cells": [
  {
   "cell_type": "markdown",
   "id": "2099c3ba",
   "metadata": {},
   "source": [
    "## Load Data"
   ]
  },
  {
   "cell_type": "code",
   "execution_count": 35,
   "id": "fd17579a",
   "metadata": {},
   "outputs": [],
   "source": [
    "# %%timeit\n",
    "import pandas as pd\n",
    "import matplotlib.pyplot as plt\n",
    "from datetime import datetime\n",
    "from time import time\n",
    "from os import getcwd\n",
    "from os.path import join\n",
    "\n",
    "path = join(getcwd().rstrip('src'), 'data/owid-covid-data.csv').replace('\\\\', '/')\n",
    "data = pd.read_csv(path)"
   ]
  },
  {
   "cell_type": "markdown",
   "id": "24260db2",
   "metadata": {},
   "source": [
    "# 1. Use your first matplotlib tool to find out  any strange behaviour in OWID data.  There is no standard solution.  The purpose is to practice the tool and data."
   ]
  },
  {
   "cell_type": "code",
   "execution_count": null,
   "id": "9c530c92",
   "metadata": {},
   "outputs": [],
   "source": []
  },
  {
   "cell_type": "markdown",
   "id": "9063d667",
   "metadata": {},
   "source": [
    "# 2. Try to make two total_cases vs. date on one single graph with proper annotations on the graph.  I did not show this in the video.  You need to check my cheatsheet and google to get the solution.\n",
    "=> location1 total_cases vs. date<br>\n",
    "=> location2 total_cases vs. date"
   ]
  },
  {
   "cell_type": "markdown",
   "id": "d31fcba0",
   "metadata": {},
   "source": [
    "## Get Location Data"
   ]
  },
  {
   "cell_type": "code",
   "execution_count": 36,
   "id": "ad53b029",
   "metadata": {
    "scrolled": true
   },
   "outputs": [
    {
     "name": "stdout",
     "output_type": "stream",
     "text": [
      "Palestine\n",
      "Upper middle income\n"
     ]
    }
   ],
   "source": [
    "# Get location\n",
    "locs = list(set(data.location)) # some elements are not locations\n",
    "l1 = locs[0]\n",
    "l2 = locs[1]\n",
    "print(l1)\n",
    "print(l2)"
   ]
  },
  {
   "cell_type": "code",
   "execution_count": 37,
   "id": "ee9d2a01",
   "metadata": {},
   "outputs": [
    {
     "name": "stdout",
     "output_type": "stream",
     "text": [
      "934\n",
      "977\n"
     ]
    },
    {
     "data": {
      "text/html": [
       "<div>\n",
       "<style scoped>\n",
       "    .dataframe tbody tr th:only-of-type {\n",
       "        vertical-align: middle;\n",
       "    }\n",
       "\n",
       "    .dataframe tbody tr th {\n",
       "        vertical-align: top;\n",
       "    }\n",
       "\n",
       "    .dataframe thead th {\n",
       "        text-align: right;\n",
       "    }\n",
       "</style>\n",
       "<table border=\"1\" class=\"dataframe\">\n",
       "  <thead>\n",
       "    <tr style=\"text-align: right;\">\n",
       "      <th></th>\n",
       "      <th>iso_code</th>\n",
       "      <th>continent</th>\n",
       "      <th>location</th>\n",
       "      <th>date</th>\n",
       "      <th>total_cases</th>\n",
       "      <th>new_cases</th>\n",
       "      <th>new_cases_smoothed</th>\n",
       "      <th>total_deaths</th>\n",
       "      <th>new_deaths</th>\n",
       "      <th>new_deaths_smoothed</th>\n",
       "      <th>...</th>\n",
       "      <th>female_smokers</th>\n",
       "      <th>male_smokers</th>\n",
       "      <th>handwashing_facilities</th>\n",
       "      <th>hospital_beds_per_thousand</th>\n",
       "      <th>life_expectancy</th>\n",
       "      <th>human_development_index</th>\n",
       "      <th>excess_mortality_cumulative_absolute</th>\n",
       "      <th>excess_mortality_cumulative</th>\n",
       "      <th>excess_mortality</th>\n",
       "      <th>excess_mortality_cumulative_per_million</th>\n",
       "    </tr>\n",
       "  </thead>\n",
       "  <tbody>\n",
       "    <tr>\n",
       "      <th>151899</th>\n",
       "      <td>PSE</td>\n",
       "      <td>Asia</td>\n",
       "      <td>Palestine</td>\n",
       "      <td>2020-03-05</td>\n",
       "      <td>4.0</td>\n",
       "      <td>4.0</td>\n",
       "      <td>NaN</td>\n",
       "      <td>NaN</td>\n",
       "      <td>NaN</td>\n",
       "      <td>NaN</td>\n",
       "      <td>...</td>\n",
       "      <td>NaN</td>\n",
       "      <td>NaN</td>\n",
       "      <td>NaN</td>\n",
       "      <td>NaN</td>\n",
       "      <td>74.05</td>\n",
       "      <td>0.708</td>\n",
       "      <td>NaN</td>\n",
       "      <td>NaN</td>\n",
       "      <td>NaN</td>\n",
       "      <td>NaN</td>\n",
       "    </tr>\n",
       "    <tr>\n",
       "      <th>151900</th>\n",
       "      <td>PSE</td>\n",
       "      <td>Asia</td>\n",
       "      <td>Palestine</td>\n",
       "      <td>2020-03-06</td>\n",
       "      <td>7.0</td>\n",
       "      <td>3.0</td>\n",
       "      <td>NaN</td>\n",
       "      <td>NaN</td>\n",
       "      <td>NaN</td>\n",
       "      <td>NaN</td>\n",
       "      <td>...</td>\n",
       "      <td>NaN</td>\n",
       "      <td>NaN</td>\n",
       "      <td>NaN</td>\n",
       "      <td>NaN</td>\n",
       "      <td>74.05</td>\n",
       "      <td>0.708</td>\n",
       "      <td>NaN</td>\n",
       "      <td>NaN</td>\n",
       "      <td>NaN</td>\n",
       "      <td>NaN</td>\n",
       "    </tr>\n",
       "    <tr>\n",
       "      <th>151901</th>\n",
       "      <td>PSE</td>\n",
       "      <td>Asia</td>\n",
       "      <td>Palestine</td>\n",
       "      <td>2020-03-07</td>\n",
       "      <td>16.0</td>\n",
       "      <td>9.0</td>\n",
       "      <td>NaN</td>\n",
       "      <td>NaN</td>\n",
       "      <td>NaN</td>\n",
       "      <td>NaN</td>\n",
       "      <td>...</td>\n",
       "      <td>NaN</td>\n",
       "      <td>NaN</td>\n",
       "      <td>NaN</td>\n",
       "      <td>NaN</td>\n",
       "      <td>74.05</td>\n",
       "      <td>0.708</td>\n",
       "      <td>NaN</td>\n",
       "      <td>NaN</td>\n",
       "      <td>NaN</td>\n",
       "      <td>NaN</td>\n",
       "    </tr>\n",
       "    <tr>\n",
       "      <th>151902</th>\n",
       "      <td>PSE</td>\n",
       "      <td>Asia</td>\n",
       "      <td>Palestine</td>\n",
       "      <td>2020-03-08</td>\n",
       "      <td>16.0</td>\n",
       "      <td>0.0</td>\n",
       "      <td>NaN</td>\n",
       "      <td>NaN</td>\n",
       "      <td>NaN</td>\n",
       "      <td>NaN</td>\n",
       "      <td>...</td>\n",
       "      <td>NaN</td>\n",
       "      <td>NaN</td>\n",
       "      <td>NaN</td>\n",
       "      <td>NaN</td>\n",
       "      <td>74.05</td>\n",
       "      <td>0.708</td>\n",
       "      <td>NaN</td>\n",
       "      <td>NaN</td>\n",
       "      <td>NaN</td>\n",
       "      <td>NaN</td>\n",
       "    </tr>\n",
       "    <tr>\n",
       "      <th>151903</th>\n",
       "      <td>PSE</td>\n",
       "      <td>Asia</td>\n",
       "      <td>Palestine</td>\n",
       "      <td>2020-03-09</td>\n",
       "      <td>19.0</td>\n",
       "      <td>3.0</td>\n",
       "      <td>NaN</td>\n",
       "      <td>NaN</td>\n",
       "      <td>NaN</td>\n",
       "      <td>NaN</td>\n",
       "      <td>...</td>\n",
       "      <td>NaN</td>\n",
       "      <td>NaN</td>\n",
       "      <td>NaN</td>\n",
       "      <td>NaN</td>\n",
       "      <td>74.05</td>\n",
       "      <td>0.708</td>\n",
       "      <td>NaN</td>\n",
       "      <td>NaN</td>\n",
       "      <td>NaN</td>\n",
       "      <td>NaN</td>\n",
       "    </tr>\n",
       "  </tbody>\n",
       "</table>\n",
       "<p>5 rows × 67 columns</p>\n",
       "</div>"
      ],
      "text/plain": [
       "       iso_code continent   location        date  total_cases  new_cases  \\\n",
       "151899      PSE      Asia  Palestine  2020-03-05          4.0        4.0   \n",
       "151900      PSE      Asia  Palestine  2020-03-06          7.0        3.0   \n",
       "151901      PSE      Asia  Palestine  2020-03-07         16.0        9.0   \n",
       "151902      PSE      Asia  Palestine  2020-03-08         16.0        0.0   \n",
       "151903      PSE      Asia  Palestine  2020-03-09         19.0        3.0   \n",
       "\n",
       "        new_cases_smoothed  total_deaths  new_deaths  new_deaths_smoothed  \\\n",
       "151899                 NaN           NaN         NaN                  NaN   \n",
       "151900                 NaN           NaN         NaN                  NaN   \n",
       "151901                 NaN           NaN         NaN                  NaN   \n",
       "151902                 NaN           NaN         NaN                  NaN   \n",
       "151903                 NaN           NaN         NaN                  NaN   \n",
       "\n",
       "        ...  female_smokers  male_smokers  handwashing_facilities  \\\n",
       "151899  ...             NaN           NaN                     NaN   \n",
       "151900  ...             NaN           NaN                     NaN   \n",
       "151901  ...             NaN           NaN                     NaN   \n",
       "151902  ...             NaN           NaN                     NaN   \n",
       "151903  ...             NaN           NaN                     NaN   \n",
       "\n",
       "        hospital_beds_per_thousand  life_expectancy  human_development_index  \\\n",
       "151899                         NaN            74.05                    0.708   \n",
       "151900                         NaN            74.05                    0.708   \n",
       "151901                         NaN            74.05                    0.708   \n",
       "151902                         NaN            74.05                    0.708   \n",
       "151903                         NaN            74.05                    0.708   \n",
       "\n",
       "        excess_mortality_cumulative_absolute  excess_mortality_cumulative  \\\n",
       "151899                                   NaN                          NaN   \n",
       "151900                                   NaN                          NaN   \n",
       "151901                                   NaN                          NaN   \n",
       "151902                                   NaN                          NaN   \n",
       "151903                                   NaN                          NaN   \n",
       "\n",
       "        excess_mortality  excess_mortality_cumulative_per_million  \n",
       "151899               NaN                                      NaN  \n",
       "151900               NaN                                      NaN  \n",
       "151901               NaN                                      NaN  \n",
       "151902               NaN                                      NaN  \n",
       "151903               NaN                                      NaN  \n",
       "\n",
       "[5 rows x 67 columns]"
      ]
     },
     "execution_count": 37,
     "metadata": {},
     "output_type": "execute_result"
    }
   ],
   "source": [
    "# Get location data\n",
    "l1d = data.loc[data['location']==l1]\n",
    "l2d = data.loc[data['location']==l2]\n",
    "print(len(l1d))\n",
    "print(len(l2d))\n",
    "l1d.head(5)\n",
    "# l2d.head(5)"
   ]
  },
  {
   "cell_type": "code",
   "execution_count": 38,
   "id": "dbdd8b73",
   "metadata": {
    "scrolled": true
   },
   "outputs": [
    {
     "data": {
      "text/html": [
       "<div>\n",
       "<style scoped>\n",
       "    .dataframe tbody tr th:only-of-type {\n",
       "        vertical-align: middle;\n",
       "    }\n",
       "\n",
       "    .dataframe tbody tr th {\n",
       "        vertical-align: top;\n",
       "    }\n",
       "\n",
       "    .dataframe thead th {\n",
       "        text-align: right;\n",
       "    }\n",
       "</style>\n",
       "<table border=\"1\" class=\"dataframe\">\n",
       "  <thead>\n",
       "    <tr style=\"text-align: right;\">\n",
       "      <th></th>\n",
       "      <th>date</th>\n",
       "      <th>total_cases</th>\n",
       "    </tr>\n",
       "  </thead>\n",
       "  <tbody>\n",
       "    <tr>\n",
       "      <th>151899</th>\n",
       "      <td>2020-03-05</td>\n",
       "      <td>4.0</td>\n",
       "    </tr>\n",
       "    <tr>\n",
       "      <th>151900</th>\n",
       "      <td>2020-03-06</td>\n",
       "      <td>7.0</td>\n",
       "    </tr>\n",
       "    <tr>\n",
       "      <th>151901</th>\n",
       "      <td>2020-03-07</td>\n",
       "      <td>16.0</td>\n",
       "    </tr>\n",
       "    <tr>\n",
       "      <th>151902</th>\n",
       "      <td>2020-03-08</td>\n",
       "      <td>16.0</td>\n",
       "    </tr>\n",
       "    <tr>\n",
       "      <th>151903</th>\n",
       "      <td>2020-03-09</td>\n",
       "      <td>19.0</td>\n",
       "    </tr>\n",
       "  </tbody>\n",
       "</table>\n",
       "</div>"
      ],
      "text/plain": [
       "              date  total_cases\n",
       "151899  2020-03-05          4.0\n",
       "151900  2020-03-06          7.0\n",
       "151901  2020-03-07         16.0\n",
       "151902  2020-03-08         16.0\n",
       "151903  2020-03-09         19.0"
      ]
     },
     "execution_count": 38,
     "metadata": {},
     "output_type": "execute_result"
    }
   ],
   "source": [
    "# Drop unused columns\n",
    "columns = list(data.columns)\n",
    "# print(len(columns))\n",
    "# print(columns)\n",
    "columns.remove('total_cases')\n",
    "columns.remove('date')\n",
    "# print(len(columns))\n",
    "# print(columns)\n",
    "for x in columns:\n",
    "    del l1d[x]\n",
    "    del l2d[x]\n",
    "l1d.head(5)\n",
    "# l2d.head(5)"
   ]
  },
  {
   "cell_type": "code",
   "execution_count": 39,
   "id": "58ab296f",
   "metadata": {},
   "outputs": [],
   "source": [
    "# Convert data into list for plotting\n",
    "l1date = list(l1d.date)\n",
    "l1date = [datetime.strptime(date, '%Y-%m-%d').date() for date in l1date]\n",
    "l1case = list(l1d.total_cases)\n",
    "l2date = list(l2d.date)\n",
    "l2date = [datetime.strptime(date, '%Y-%m-%d').date() for date in l2date]\n",
    "l2case = list(l2d.total_cases)"
   ]
  },
  {
   "cell_type": "markdown",
   "id": "08c3be28",
   "metadata": {},
   "source": [
    "## Plot"
   ]
  },
  {
   "cell_type": "code",
   "execution_count": 40,
   "id": "da9ab436",
   "metadata": {},
   "outputs": [
    {
     "data": {
      "text/plain": [
       "<matplotlib.legend.Legend at 0x24c11a1edc0>"
      ]
     },
     "execution_count": 40,
     "metadata": {},
     "output_type": "execute_result"
    },
    {
     "data": {
      "image/png": "[encoded data removed]",
      "text/plain": [
       "<Figure size 640x480 with 1 Axes>"
      ]
     },
     "metadata": {},
     "output_type": "display_data"
    }
   ],
   "source": [
    "plt.title('OWID COVID data of {0} and {1}'.format(l1, l2))\n",
    "plt.xlabel('date')\n",
    "plt.ylabel('cases (cumulated)')\n",
    "l1 = plt.plot(l1date, l1case, label=l1)\n",
    "l2 = plt.plot(l2date, l2case, label=l2)\n",
    "plt.legend()\n",
    "# plt.show()"
   ]
  }
 ],
 "metadata": {
  "kernelspec": {
   "display_name": "Python 3 (ipykernel)",
   "language": "python",
   "name": "python3"
  },
  "language_info": {
   "codemirror_mode": {
    "name": "ipython",
    "version": 3
   },
   "file_extension": ".py",
   "mimetype": "text/x-python",
   "name": "python",
   "nbconvert_exporter": "python",
   "pygments_lexer": "ipython3",
   "version": "3.9.13"
  }
 },
 "nbformat": 4,
 "nbformat_minor": 5
}

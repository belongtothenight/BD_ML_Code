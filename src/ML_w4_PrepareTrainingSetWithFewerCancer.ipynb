{
 "cells": [
  {
   "cell_type": "markdown",
   "id": "1b556141",
   "metadata": {},
   "source": [
    "# Get Original Data"
   ]
  },
  {
   "cell_type": "code",
   "execution_count": 39,
   "id": "e206fa76",
   "metadata": {},
   "outputs": [],
   "source": [
    "# data download link: https://archive/ics.uci.edu/ml/machine-learning-databases/breast-cancer-wisconsin/wdbc.data\n",
    "import pandas as pd\n",
    "import numpy as np\n",
    "from os import system, getcwd, startfile\n",
    "from os.path import join\n",
    "from time import time\n",
    "from sklearn.model_selection import train_test_split\n",
    "from sklearn.tree import DecisionTreeClassifier\n",
    "from sklearn.metrics import confusion_matrix\n",
    "from sklearn.metrics import ConfusionMatrixDisplay\n",
    "from matplotlib import pyplot as plt\n",
    "from matplotlib.ticker import FormatStrFormatter\n",
    "\n",
    "data = pd.read_csv(join(getcwd().rstrip('src'), 'data/wdbc.data').replace('\\\\', '/'), header=None)\n",
    "column_names = ['id', 'malignant',\n",
    "                        'nucleus_mean', 'nucleus_se', 'nucleus_worst',\n",
    "                        'texture_mean', 'texture_se', 'texture_worst',\n",
    "                        'perimeter_mean', 'perimeter_se', 'perimeter_worst',\n",
    "                        'area_mean', 'area_se', 'area_worst',\n",
    "                        'smoothness_mean', 'smoothness_se', 'smoothness_worst',\n",
    "                        'compactness_mean', 'compactness_se', 'compactness_worst',\n",
    "                        'concavity_mean', 'concavity_se', 'concavity_worst',\n",
    "                        'concave_pts_mean', 'concave_pts_se', 'concave_pts_worst',\n",
    "                        'symmetry_mean', 'symmetry_se', 'symmetry_worst',\n",
    "                        'fractal_dim_mean', 'fractal_dim_se', 'fractal_dim_worst'\n",
    "                        ]\n",
    "data.columns = column_names\n",
    "data['malignant'] = data['malignant'].map(lambda x: 0 if x == 'B' else 1)\n",
    "X = data.drop(columns=['malignant']).values\n",
    "y = data['malignant'].values\n",
    "\n",
    "# X_train, X_test, y_train, y_test = train_test_split(X, y, test_size=0.25, random_state=2018)"
   ]
  },
  {
   "cell_type": "markdown",
   "id": "4648e044",
   "metadata": {},
   "source": [
    "# Get New Data"
   ]
  },
  {
   "cell_type": "code",
   "execution_count": 40,
   "id": "efc36a68",
   "metadata": {},
   "outputs": [],
   "source": [
    "X_orig = X\n",
    "y_orig = y\n",
    "\n",
    "data = pd.DataFrame(X)\n",
    "data.columns = ['id',\n",
    "                'nucleus_mean', 'nucleus_se', 'nucleus_worst',\n",
    "                'texture_mean', 'texture_se', 'texture_worst',\n",
    "                'perimeter_mean', 'perimeter_se', 'perimeter_worst',\n",
    "                'area_mean', 'area_se', 'area_worst',\n",
    "                'smoothness_mean', 'smoothness_se', 'smoothness_worst',\n",
    "                'compactness_mean', 'compactness_se', 'compactness_worst',\n",
    "                'concavity_mean', 'concavity_se', 'concavity_worst',\n",
    "                'concave_pts_mean', 'concave_pts_se', 'concave_pts_worst',\n",
    "                'symmetry_mean', 'symmetry_se', 'symmetry_worst',\n",
    "                'fractal_dim_mean', 'fractal_dim_se', 'fractal_dim_worst'\n",
    "                ]\n",
    "data['malignant'] = y"
   ]
  },
  {
   "cell_type": "code",
   "execution_count": 41,
   "id": "76c8742f",
   "metadata": {
    "scrolled": true
   },
   "outputs": [],
   "source": [
    "# keep half of the 'malignant' which equals to 1\n",
    "for i in range(int(data.shape[0]/2)):\n",
    "    if data.loc[i, 'malignant'] == 1:\n",
    "        data.loc[i, 'malignant'] = np.nan\n",
    "data.dropna(inplace=True)"
   ]
  },
  {
   "cell_type": "code",
   "execution_count": 42,
   "id": "c8898605",
   "metadata": {},
   "outputs": [
    {
     "data": {
      "text/plain": [
       "67.0"
      ]
     },
     "execution_count": 42,
     "metadata": {},
     "output_type": "execute_result"
    }
   ],
   "source": [
    "data.malignant.sum()"
   ]
  },
  {
   "cell_type": "code",
   "execution_count": 43,
   "id": "05773c30",
   "metadata": {},
   "outputs": [
    {
     "name": "stdout",
     "output_type": "stream",
     "text": [
      "569\n"
     ]
    },
    {
     "data": {
      "text/plain": [
       "424"
      ]
     },
     "execution_count": 43,
     "metadata": {},
     "output_type": "execute_result"
    }
   ],
   "source": [
    "y = data.malignant.values\n",
    "X = data\n",
    "\n",
    "# feed this data to algorithms\n",
    "print(str(len(y_orig)))\n",
    "len(y)"
   ]
  },
  {
   "cell_type": "code",
   "execution_count": null,
   "id": "c73b9043",
   "metadata": {},
   "outputs": [],
   "source": []
  }
 ],
 "metadata": {
  "kernelspec": {
   "display_name": "Python 3 (ipykernel)",
   "language": "python",
   "name": "python3"
  },
  "language_info": {
   "codemirror_mode": {
    "name": "ipython",
    "version": 3
   },
   "file_extension": ".py",
   "mimetype": "text/x-python",
   "name": "python",
   "nbconvert_exporter": "python",
   "pygments_lexer": "ipython3",
   "version": "3.9.13"
  }
 },
 "nbformat": 4,
 "nbformat_minor": 5
}

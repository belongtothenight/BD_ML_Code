{
 "cells": [
  {
   "cell_type": "markdown",
   "metadata": {},
   "source": [
    "It is found that a few countries, that performed well in 2020 and 2021, are not doing well in 2022 (have more deaths in 2022, and even worse than many other countries that used to performed very poor. Can you demonstrate this situation based on Excess Deaths in the 3 years (2020, 2021, 2022)? "
   ]
  },
  {
   "cell_type": "code",
   "execution_count": 81,
   "metadata": {},
   "outputs": [],
   "source": [
    "import random\n",
    "import pandas as pd\n",
    "import numpy as np\n",
    "import math\n",
    "import json\n",
    "import matplotlib.pyplot as plt\n",
    "from pandas import Timestamp\n",
    "from datetime import datetime\n",
    "from time import time\n",
    "from os import getcwd\n",
    "from os.path import join\n",
    "%matplotlib inline\n"
   ]
  },
  {
   "cell_type": "markdown",
   "metadata": {},
   "source": [
    "## Load Data"
   ]
  },
  {
   "cell_type": "code",
   "execution_count": 82,
   "metadata": {},
   "outputs": [
    {
     "name": "stdout",
     "output_type": "stream",
     "text": [
      "  iso3c  country  year  time time_unit  deaths\n",
      "0   ALB  Albania  2015     1   monthly  2490.0\n",
      "1   ALB  Albania  2015     2   monthly  2139.0\n",
      "2   ALB  Albania  2015     3   monthly  2051.0\n",
      "3   ALB  Albania  2015     4   monthly  1906.0\n",
      "4   ALB  Albania  2015     5   monthly  1709.0\n",
      "5   ALB  Albania  2015     6   monthly  1561.0\n",
      "6   ALB  Albania  2015     7   monthly  2008.0\n",
      "7   ALB  Albania  2015     8   monthly  1687.0\n",
      "8   ALB  Albania  2015     9   monthly  1569.0\n",
      "9   ALB  Albania  2015    10   monthly  1560.0\n"
     ]
    }
   ],
   "source": [
    "path = join(getcwd().rstrip('src'),\n",
    "            'data/world_mortality.csv').replace('\\\\', '/')\n",
    "DF = pd.read_csv(path)\n",
    "# DF = pd.read_csv('~/AI/DATA/BigData/DeathBirthRate/world_mortality2015-20220214.csv')\n",
    "DF.rename(columns={'country_name': 'country'}, inplace=True)\n",
    "print(DF.head(10))\n"
   ]
  },
  {
   "cell_type": "markdown",
   "metadata": {},
   "source": [
    "## Get progress last week"
   ]
  },
  {
   "cell_type": "code",
   "execution_count": 83,
   "metadata": {},
   "outputs": [],
   "source": [
    "DF_Regular = DF[DF.year < 2020]\n",
    "DF_2020 = DF[(DF.year == 2020)]\n",
    "DF_2021 = DF[(DF.year == 2021)]\n",
    "DF_2022 = DF[(DF.year == 2022)]"
   ]
  },
  {
   "cell_type": "markdown",
   "metadata": {},
   "source": [
    "### 2015-2019 Data"
   ]
  },
  {
   "cell_type": "code",
   "execution_count": 84,
   "metadata": {},
   "outputs": [
    {
     "data": {
      "text/html": [
       "<div>\n",
       "<style scoped>\n",
       "    .dataframe tbody tr th:only-of-type {\n",
       "        vertical-align: middle;\n",
       "    }\n",
       "\n",
       "    .dataframe tbody tr th {\n",
       "        vertical-align: top;\n",
       "    }\n",
       "\n",
       "    .dataframe thead th {\n",
       "        text-align: right;\n",
       "    }\n",
       "</style>\n",
       "<table border=\"1\" class=\"dataframe\">\n",
       "  <thead>\n",
       "    <tr style=\"text-align: right;\">\n",
       "      <th></th>\n",
       "      <th>country</th>\n",
       "      <th>year</th>\n",
       "      <th>time</th>\n",
       "      <th>deaths</th>\n",
       "      <th>AverageAnnualUnitCount</th>\n",
       "    </tr>\n",
       "  </thead>\n",
       "  <tbody>\n",
       "    <tr>\n",
       "      <th>0</th>\n",
       "      <td>Albania</td>\n",
       "      <td>2017.0</td>\n",
       "      <td>6.5</td>\n",
       "      <td>1829.650000</td>\n",
       "      <td>12.0</td>\n",
       "    </tr>\n",
       "    <tr>\n",
       "      <th>1</th>\n",
       "      <td>Algeria</td>\n",
       "      <td>2018.5</td>\n",
       "      <td>6.5</td>\n",
       "      <td>14940.804167</td>\n",
       "      <td>12.0</td>\n",
       "    </tr>\n",
       "    <tr>\n",
       "      <th>2</th>\n",
       "      <td>Andorra</td>\n",
       "      <td>2017.0</td>\n",
       "      <td>6.5</td>\n",
       "      <td>25.850000</td>\n",
       "      <td>12.0</td>\n",
       "    </tr>\n",
       "    <tr>\n",
       "      <th>3</th>\n",
       "      <td>Antigua and Barbuda</td>\n",
       "      <td>2017.0</td>\n",
       "      <td>6.5</td>\n",
       "      <td>47.550000</td>\n",
       "      <td>12.0</td>\n",
       "    </tr>\n",
       "    <tr>\n",
       "      <th>4</th>\n",
       "      <td>Argentina</td>\n",
       "      <td>2017.0</td>\n",
       "      <td>6.5</td>\n",
       "      <td>28449.050000</td>\n",
       "      <td>12.0</td>\n",
       "    </tr>\n",
       "  </tbody>\n",
       "</table>\n",
       "</div>"
      ],
      "text/plain": [
       "               country    year  time        deaths  AverageAnnualUnitCount\n",
       "0              Albania  2017.0   6.5   1829.650000                    12.0\n",
       "1              Algeria  2018.5   6.5  14940.804167                    12.0\n",
       "2              Andorra  2017.0   6.5     25.850000                    12.0\n",
       "3  Antigua and Barbuda  2017.0   6.5     47.550000                    12.0\n",
       "4            Argentina  2017.0   6.5  28449.050000                    12.0"
      ]
     },
     "execution_count": 84,
     "metadata": {},
     "output_type": "execute_result"
    }
   ],
   "source": [
    "Regular = DF_Regular.groupby('country').mean().reset_index()\n",
    "Regular['AverageAnnualUnitCount'] = round(Regular.time * 2 - 1, 0)\n",
    "Regular.head()"
   ]
  },
  {
   "cell_type": "code",
   "execution_count": 85,
   "metadata": {},
   "outputs": [
    {
     "data": {
      "text/html": [
       "<div>\n",
       "<style scoped>\n",
       "    .dataframe tbody tr th:only-of-type {\n",
       "        vertical-align: middle;\n",
       "    }\n",
       "\n",
       "    .dataframe tbody tr th {\n",
       "        vertical-align: top;\n",
       "    }\n",
       "\n",
       "    .dataframe thead th {\n",
       "        text-align: right;\n",
       "    }\n",
       "</style>\n",
       "<table border=\"1\" class=\"dataframe\">\n",
       "  <thead>\n",
       "    <tr style=\"text-align: right;\">\n",
       "      <th></th>\n",
       "      <th>country</th>\n",
       "      <th>AnnualUnitCount</th>\n",
       "    </tr>\n",
       "  </thead>\n",
       "  <tbody>\n",
       "    <tr>\n",
       "      <th>0</th>\n",
       "      <td>Albania</td>\n",
       "      <td>12.0</td>\n",
       "    </tr>\n",
       "    <tr>\n",
       "      <th>1</th>\n",
       "      <td>Algeria</td>\n",
       "      <td>12.0</td>\n",
       "    </tr>\n",
       "    <tr>\n",
       "      <th>2</th>\n",
       "      <td>Andorra</td>\n",
       "      <td>12.0</td>\n",
       "    </tr>\n",
       "    <tr>\n",
       "      <th>3</th>\n",
       "      <td>Antigua and Barbuda</td>\n",
       "      <td>12.0</td>\n",
       "    </tr>\n",
       "    <tr>\n",
       "      <th>4</th>\n",
       "      <td>Argentina</td>\n",
       "      <td>12.0</td>\n",
       "    </tr>\n",
       "  </tbody>\n",
       "</table>\n",
       "</div>"
      ],
      "text/plain": [
       "               country  AnnualUnitCount\n",
       "0              Albania             12.0\n",
       "1              Algeria             12.0\n",
       "2              Andorra             12.0\n",
       "3  Antigua and Barbuda             12.0\n",
       "4            Argentina             12.0"
      ]
     },
     "execution_count": 85,
     "metadata": {},
     "output_type": "execute_result"
    }
   ],
   "source": [
    "import copy as copy\n",
    "tmp = copy.copy(DF)\n",
    "time_unit_dict = {'monthly': 12, 'weekly': 52}\n",
    "tmp['AnnualUnitCount'] = [time_unit_dict[x] for x in tmp.time_unit]\n",
    "tmp = tmp.groupby('country').mean().reset_index()[\n",
    "    ['country', 'AnnualUnitCount']]\n",
    "tmp.head()\n"
   ]
  },
  {
   "cell_type": "code",
   "execution_count": 86,
   "metadata": {},
   "outputs": [
    {
     "data": {
      "text/html": [
       "<div>\n",
       "<style scoped>\n",
       "    .dataframe tbody tr th:only-of-type {\n",
       "        vertical-align: middle;\n",
       "    }\n",
       "\n",
       "    .dataframe tbody tr th {\n",
       "        vertical-align: top;\n",
       "    }\n",
       "\n",
       "    .dataframe thead th {\n",
       "        text-align: right;\n",
       "    }\n",
       "</style>\n",
       "<table border=\"1\" class=\"dataframe\">\n",
       "  <thead>\n",
       "    <tr style=\"text-align: right;\">\n",
       "      <th></th>\n",
       "      <th>country</th>\n",
       "      <th>deaths</th>\n",
       "      <th>AverageAnnualUnitCount</th>\n",
       "    </tr>\n",
       "  </thead>\n",
       "  <tbody>\n",
       "    <tr>\n",
       "      <th>0</th>\n",
       "      <td>Albania</td>\n",
       "      <td>21955.80</td>\n",
       "      <td>12.0</td>\n",
       "    </tr>\n",
       "    <tr>\n",
       "      <th>1</th>\n",
       "      <td>Algeria</td>\n",
       "      <td>179289.65</td>\n",
       "      <td>12.0</td>\n",
       "    </tr>\n",
       "    <tr>\n",
       "      <th>2</th>\n",
       "      <td>Andorra</td>\n",
       "      <td>310.20</td>\n",
       "      <td>12.0</td>\n",
       "    </tr>\n",
       "    <tr>\n",
       "      <th>3</th>\n",
       "      <td>Antigua and Barbuda</td>\n",
       "      <td>570.60</td>\n",
       "      <td>12.0</td>\n",
       "    </tr>\n",
       "    <tr>\n",
       "      <th>4</th>\n",
       "      <td>Argentina</td>\n",
       "      <td>341388.60</td>\n",
       "      <td>12.0</td>\n",
       "    </tr>\n",
       "  </tbody>\n",
       "</table>\n",
       "</div>"
      ],
      "text/plain": [
       "               country     deaths  AverageAnnualUnitCount\n",
       "0              Albania   21955.80                    12.0\n",
       "1              Algeria  179289.65                    12.0\n",
       "2              Andorra     310.20                    12.0\n",
       "3  Antigua and Barbuda     570.60                    12.0\n",
       "4            Argentina  341388.60                    12.0"
      ]
     },
     "execution_count": 86,
     "metadata": {},
     "output_type": "execute_result"
    }
   ],
   "source": [
    "Regular = pd.merge(Regular, tmp, on='country')\n",
    "Regular['deaths'] = Regular.deaths * Regular.AnnualUnitCount\n",
    "Regular = Regular[['country', 'deaths', 'AverageAnnualUnitCount']]\n",
    "Regular.head()\n"
   ]
  },
  {
   "cell_type": "markdown",
   "metadata": {},
   "source": [
    "### 2020 Data"
   ]
  },
  {
   "cell_type": "code",
   "execution_count": 87,
   "metadata": {},
   "outputs": [
    {
     "data": {
      "text/html": [
       "<div>\n",
       "<style scoped>\n",
       "    .dataframe tbody tr th:only-of-type {\n",
       "        vertical-align: middle;\n",
       "    }\n",
       "\n",
       "    .dataframe tbody tr th {\n",
       "        vertical-align: top;\n",
       "    }\n",
       "\n",
       "    .dataframe thead th {\n",
       "        text-align: right;\n",
       "    }\n",
       "</style>\n",
       "<table border=\"1\" class=\"dataframe\">\n",
       "  <thead>\n",
       "    <tr style=\"text-align: right;\">\n",
       "      <th></th>\n",
       "      <th>country</th>\n",
       "      <th>deaths</th>\n",
       "      <th>AverageAnnualUnitCount</th>\n",
       "    </tr>\n",
       "  </thead>\n",
       "  <tbody>\n",
       "    <tr>\n",
       "      <th>0</th>\n",
       "      <td>Albania</td>\n",
       "      <td>27605.0</td>\n",
       "      <td>12.0</td>\n",
       "    </tr>\n",
       "    <tr>\n",
       "      <th>1</th>\n",
       "      <td>Algeria</td>\n",
       "      <td>235628.0</td>\n",
       "      <td>12.0</td>\n",
       "    </tr>\n",
       "    <tr>\n",
       "      <th>2</th>\n",
       "      <td>Andorra</td>\n",
       "      <td>419.0</td>\n",
       "      <td>12.0</td>\n",
       "    </tr>\n",
       "    <tr>\n",
       "      <th>3</th>\n",
       "      <td>Antigua and Barbuda</td>\n",
       "      <td>574.0</td>\n",
       "      <td>12.0</td>\n",
       "    </tr>\n",
       "    <tr>\n",
       "      <th>4</th>\n",
       "      <td>Argentina</td>\n",
       "      <td>376221.0</td>\n",
       "      <td>12.0</td>\n",
       "    </tr>\n",
       "  </tbody>\n",
       "</table>\n",
       "</div>"
      ],
      "text/plain": [
       "               country    deaths  AverageAnnualUnitCount\n",
       "0              Albania   27605.0                    12.0\n",
       "1              Algeria  235628.0                    12.0\n",
       "2              Andorra     419.0                    12.0\n",
       "3  Antigua and Barbuda     574.0                    12.0\n",
       "4            Argentina  376221.0                    12.0"
      ]
     },
     "execution_count": 87,
     "metadata": {},
     "output_type": "execute_result"
    }
   ],
   "source": [
    "DF_2020 = DF_2020.groupby('country').mean().reset_index()\n",
    "DF_2020['AverageAnnualUnitCount'] = round(DF_2020.time * 2 - 1, 0)\n",
    "DF_2020 = pd.merge(DF_2020, tmp, on='country')\n",
    "DF_2020['deaths'] = DF_2020.deaths * DF_2020.AnnualUnitCount\n",
    "DF_2020 = DF_2020[['country', 'deaths', 'AverageAnnualUnitCount']]\n",
    "DF_2020.head()\n"
   ]
  },
  {
   "cell_type": "markdown",
   "metadata": {},
   "source": [
    "### 2021 Data"
   ]
  },
  {
   "cell_type": "code",
   "execution_count": 88,
   "metadata": {},
   "outputs": [
    {
     "data": {
      "text/html": [
       "<div>\n",
       "<style scoped>\n",
       "    .dataframe tbody tr th:only-of-type {\n",
       "        vertical-align: middle;\n",
       "    }\n",
       "\n",
       "    .dataframe tbody tr th {\n",
       "        vertical-align: top;\n",
       "    }\n",
       "\n",
       "    .dataframe thead th {\n",
       "        text-align: right;\n",
       "    }\n",
       "</style>\n",
       "<table border=\"1\" class=\"dataframe\">\n",
       "  <thead>\n",
       "    <tr style=\"text-align: right;\">\n",
       "      <th></th>\n",
       "      <th>country</th>\n",
       "      <th>deaths</th>\n",
       "      <th>AverageAnnualUnitCount</th>\n",
       "    </tr>\n",
       "  </thead>\n",
       "  <tbody>\n",
       "    <tr>\n",
       "      <th>0</th>\n",
       "      <td>Albania</td>\n",
       "      <td>30580.0</td>\n",
       "      <td>12.0</td>\n",
       "    </tr>\n",
       "    <tr>\n",
       "      <th>1</th>\n",
       "      <td>Antigua and Barbuda</td>\n",
       "      <td>649.0</td>\n",
       "      <td>12.0</td>\n",
       "    </tr>\n",
       "    <tr>\n",
       "      <th>2</th>\n",
       "      <td>Armenia</td>\n",
       "      <td>34638.0</td>\n",
       "      <td>12.0</td>\n",
       "    </tr>\n",
       "    <tr>\n",
       "      <th>3</th>\n",
       "      <td>Aruba</td>\n",
       "      <td>964.0</td>\n",
       "      <td>12.0</td>\n",
       "    </tr>\n",
       "    <tr>\n",
       "      <th>4</th>\n",
       "      <td>Australia</td>\n",
       "      <td>170960.0</td>\n",
       "      <td>52.0</td>\n",
       "    </tr>\n",
       "  </tbody>\n",
       "</table>\n",
       "</div>"
      ],
      "text/plain": [
       "               country    deaths  AverageAnnualUnitCount\n",
       "0              Albania   30580.0                    12.0\n",
       "1  Antigua and Barbuda     649.0                    12.0\n",
       "2              Armenia   34638.0                    12.0\n",
       "3                Aruba     964.0                    12.0\n",
       "4            Australia  170960.0                    52.0"
      ]
     },
     "execution_count": 88,
     "metadata": {},
     "output_type": "execute_result"
    }
   ],
   "source": [
    "DF_2021 = DF_2021.groupby('country').mean().reset_index()\n",
    "DF_2021['AverageAnnualUnitCount'] = round(DF_2021.time * 2 - 1, 0)\n",
    "DF_2021 = pd.merge(DF_2021, tmp, on='country')\n",
    "DF_2021['deaths'] = DF_2021.deaths * DF_2021.AnnualUnitCount\n",
    "DF_2021 = DF_2021[['country', 'deaths', 'AverageAnnualUnitCount']]\n",
    "DF_2021.head()\n"
   ]
  },
  {
   "cell_type": "markdown",
   "metadata": {},
   "source": [
    "### 2022 Data"
   ]
  },
  {
   "cell_type": "code",
   "execution_count": 89,
   "metadata": {},
   "outputs": [
    {
     "data": {
      "text/html": [
       "<div>\n",
       "<style scoped>\n",
       "    .dataframe tbody tr th:only-of-type {\n",
       "        vertical-align: middle;\n",
       "    }\n",
       "\n",
       "    .dataframe tbody tr th {\n",
       "        vertical-align: top;\n",
       "    }\n",
       "\n",
       "    .dataframe thead th {\n",
       "        text-align: right;\n",
       "    }\n",
       "</style>\n",
       "<table border=\"1\" class=\"dataframe\">\n",
       "  <thead>\n",
       "    <tr style=\"text-align: right;\">\n",
       "      <th></th>\n",
       "      <th>country</th>\n",
       "      <th>deaths</th>\n",
       "      <th>AverageAnnualUnitCount</th>\n",
       "    </tr>\n",
       "  </thead>\n",
       "  <tbody>\n",
       "    <tr>\n",
       "      <th>0</th>\n",
       "      <td>Albania</td>\n",
       "      <td>25708.000000</td>\n",
       "      <td>6.0</td>\n",
       "    </tr>\n",
       "    <tr>\n",
       "      <th>1</th>\n",
       "      <td>Armenia</td>\n",
       "      <td>27462.666667</td>\n",
       "      <td>9.0</td>\n",
       "    </tr>\n",
       "    <tr>\n",
       "      <th>2</th>\n",
       "      <td>Australia</td>\n",
       "      <td>190732.533333</td>\n",
       "      <td>30.0</td>\n",
       "    </tr>\n",
       "    <tr>\n",
       "      <th>3</th>\n",
       "      <td>Austria</td>\n",
       "      <td>89276.571429</td>\n",
       "      <td>42.0</td>\n",
       "    </tr>\n",
       "    <tr>\n",
       "      <th>4</th>\n",
       "      <td>Azerbaijan</td>\n",
       "      <td>62637.000000</td>\n",
       "      <td>8.0</td>\n",
       "    </tr>\n",
       "  </tbody>\n",
       "</table>\n",
       "</div>"
      ],
      "text/plain": [
       "      country         deaths  AverageAnnualUnitCount\n",
       "0     Albania   25708.000000                     6.0\n",
       "1     Armenia   27462.666667                     9.0\n",
       "2   Australia  190732.533333                    30.0\n",
       "3     Austria   89276.571429                    42.0\n",
       "4  Azerbaijan   62637.000000                     8.0"
      ]
     },
     "execution_count": 89,
     "metadata": {},
     "output_type": "execute_result"
    }
   ],
   "source": [
    "DF_2022 = DF_2022.groupby('country').mean().reset_index()\n",
    "DF_2022['AverageAnnualUnitCount'] = round(DF_2022.time * 2 - 1, 0)\n",
    "DF_2022 = pd.merge(DF_2022, tmp, on='country')\n",
    "DF_2022['deaths'] = DF_2022.deaths * DF_2022.AnnualUnitCount\n",
    "DF_2022 = DF_2022[['country', 'deaths', 'AverageAnnualUnitCount']]\n",
    "DF_2022.head()\n"
   ]
  },
  {
   "cell_type": "markdown",
   "metadata": {},
   "source": [
    "### Merge Data"
   ]
  },
  {
   "cell_type": "code",
   "execution_count": 90,
   "metadata": {},
   "outputs": [
    {
     "data": {
      "text/html": [
       "<div>\n",
       "<style scoped>\n",
       "    .dataframe tbody tr th:only-of-type {\n",
       "        vertical-align: middle;\n",
       "    }\n",
       "\n",
       "    .dataframe tbody tr th {\n",
       "        vertical-align: top;\n",
       "    }\n",
       "\n",
       "    .dataframe thead th {\n",
       "        text-align: right;\n",
       "    }\n",
       "</style>\n",
       "<table border=\"1\" class=\"dataframe\">\n",
       "  <thead>\n",
       "    <tr style=\"text-align: right;\">\n",
       "      <th></th>\n",
       "      <th>country</th>\n",
       "      <th>RegularDeaths</th>\n",
       "      <th>RegularAverageAnnualUnitCount</th>\n",
       "      <th>2020Deaths</th>\n",
       "      <th>2021Deaths</th>\n",
       "      <th>2022Deaths</th>\n",
       "    </tr>\n",
       "  </thead>\n",
       "  <tbody>\n",
       "    <tr>\n",
       "      <th>0</th>\n",
       "      <td>Albania</td>\n",
       "      <td>21955.80</td>\n",
       "      <td>12.0</td>\n",
       "      <td>27605.0</td>\n",
       "      <td>30580.0</td>\n",
       "      <td>25708.000000</td>\n",
       "    </tr>\n",
       "    <tr>\n",
       "      <th>1</th>\n",
       "      <td>Algeria</td>\n",
       "      <td>179289.65</td>\n",
       "      <td>12.0</td>\n",
       "      <td>235628.0</td>\n",
       "      <td>649.0</td>\n",
       "      <td>27462.666667</td>\n",
       "    </tr>\n",
       "    <tr>\n",
       "      <th>2</th>\n",
       "      <td>Andorra</td>\n",
       "      <td>310.20</td>\n",
       "      <td>12.0</td>\n",
       "      <td>419.0</td>\n",
       "      <td>34638.0</td>\n",
       "      <td>190732.533333</td>\n",
       "    </tr>\n",
       "    <tr>\n",
       "      <th>3</th>\n",
       "      <td>Antigua and Barbuda</td>\n",
       "      <td>570.60</td>\n",
       "      <td>12.0</td>\n",
       "      <td>574.0</td>\n",
       "      <td>964.0</td>\n",
       "      <td>89276.571429</td>\n",
       "    </tr>\n",
       "    <tr>\n",
       "      <th>4</th>\n",
       "      <td>Argentina</td>\n",
       "      <td>341388.60</td>\n",
       "      <td>12.0</td>\n",
       "      <td>376221.0</td>\n",
       "      <td>170960.0</td>\n",
       "      <td>62637.000000</td>\n",
       "    </tr>\n",
       "  </tbody>\n",
       "</table>\n",
       "</div>"
      ],
      "text/plain": [
       "               country  RegularDeaths  RegularAverageAnnualUnitCount  \\\n",
       "0              Albania       21955.80                           12.0   \n",
       "1              Algeria      179289.65                           12.0   \n",
       "2              Andorra         310.20                           12.0   \n",
       "3  Antigua and Barbuda         570.60                           12.0   \n",
       "4            Argentina      341388.60                           12.0   \n",
       "\n",
       "   2020Deaths  2021Deaths     2022Deaths  \n",
       "0     27605.0     30580.0   25708.000000  \n",
       "1    235628.0       649.0   27462.666667  \n",
       "2       419.0     34638.0  190732.533333  \n",
       "3       574.0       964.0   89276.571429  \n",
       "4    376221.0    170960.0   62637.000000  "
      ]
     },
     "execution_count": 90,
     "metadata": {},
     "output_type": "execute_result"
    }
   ],
   "source": [
    "newDF = pd.concat([Regular, DF_2020[['deaths']], DF_2021[['deaths']], DF_2022[['deaths']]], axis=1)\n",
    "newDF.columns = ['country', 'RegularDeaths', 'RegularAverageAnnualUnitCount', '2020Deaths', '2021Deaths', '2022Deaths']\n",
    "newDF.reindex(columns=['country', 'RegularAverageAnnualUnitCount', 'RegularDeaths',\n",
    "              '2020Deaths', '2021Deaths', '2022Deaths'])\n",
    "newDF.head()"
   ]
  }
 ],
 "metadata": {
  "kernelspec": {
   "display_name": "Python 3.10.8 64-bit",
   "language": "python",
   "name": "python3"
  },
  "language_info": {
   "codemirror_mode": {
    "name": "ipython",
    "version": 3
   },
   "file_extension": ".py",
   "mimetype": "text/x-python",
   "name": "python",
   "nbconvert_exporter": "python",
   "pygments_lexer": "ipython3",
   "version": "3.10.8"
  },
  "orig_nbformat": 4,
  "vscode": {
   "interpreter": {
    "hash": "26de051ba29f2982a8de78e945f0abaf191376122a1563185a90213a26c5da77"
   }
  }
 },
 "nbformat": 4,
 "nbformat_minor": 2
}

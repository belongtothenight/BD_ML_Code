{
 "cells": [
  {
   "cell_type": "markdown",
   "metadata": {},
   "source": [
    "It is found that a few countries, that performed well in 2020 and 2021, are not doing well in 2022 (have more deaths in 2022, and even worse than many other countries that used to performed very poor. Can you demonstrate this situation based on Excess Deaths in the 3 years (2020, 2021, 2022)? "
   ]
  },
  {
   "cell_type": "code",
   "execution_count": 6,
   "metadata": {},
   "outputs": [],
   "source": [
    "import random\n",
    "import pandas as pd\n",
    "import numpy as np\n",
    "import math\n",
    "import json\n",
    "import matplotlib.pyplot as plt\n",
    "from pandas import Timestamp\n",
    "from datetime import datetime\n",
    "from time import time\n",
    "from os import getcwd\n",
    "from os.path import join\n",
    "%matplotlib inline\n"
   ]
  },
  {
   "cell_type": "markdown",
   "metadata": {},
   "source": [
    "## Load Data"
   ]
  },
  {
   "cell_type": "code",
   "execution_count": 7,
   "metadata": {},
   "outputs": [
    {
     "name": "stdout",
     "output_type": "stream",
     "text": [
      "  iso3c  country  year  time time_unit  deaths\n",
      "0   ALB  Albania  2015     1   monthly  2490.0\n",
      "1   ALB  Albania  2015     2   monthly  2139.0\n",
      "2   ALB  Albania  2015     3   monthly  2051.0\n",
      "3   ALB  Albania  2015     4   monthly  1906.0\n",
      "4   ALB  Albania  2015     5   monthly  1709.0\n",
      "5   ALB  Albania  2015     6   monthly  1561.0\n",
      "6   ALB  Albania  2015     7   monthly  2008.0\n",
      "7   ALB  Albania  2015     8   monthly  1687.0\n",
      "8   ALB  Albania  2015     9   monthly  1569.0\n",
      "9   ALB  Albania  2015    10   monthly  1560.0\n"
     ]
    }
   ],
   "source": [
    "path = join(getcwd().rstrip('src'),\n",
    "            'data/world_mortality.csv').replace('\\\\', '/')\n",
    "DF = pd.read_csv(path)\n",
    "# DF = pd.read_csv('~/AI/DATA/BigData/DeathBirthRate/world_mortality2015-20220214.csv')\n",
    "DF.rename(columns={'country_name': 'country'}, inplace=True)\n",
    "print(DF.head(10))\n"
   ]
  },
  {
   "cell_type": "markdown",
   "metadata": {},
   "source": [
    "## Get progress last week"
   ]
  },
  {
   "cell_type": "code",
   "execution_count": 10,
   "metadata": {},
   "outputs": [
    {
     "data": {
      "text/html": [
       "<div>\n",
       "<style scoped>\n",
       "    .dataframe tbody tr th:only-of-type {\n",
       "        vertical-align: middle;\n",
       "    }\n",
       "\n",
       "    .dataframe tbody tr th {\n",
       "        vertical-align: top;\n",
       "    }\n",
       "\n",
       "    .dataframe thead th {\n",
       "        text-align: right;\n",
       "    }\n",
       "</style>\n",
       "<table border=\"1\" class=\"dataframe\">\n",
       "  <thead>\n",
       "    <tr style=\"text-align: right;\">\n",
       "      <th></th>\n",
       "      <th>iso3c</th>\n",
       "      <th>country</th>\n",
       "      <th>year</th>\n",
       "      <th>time</th>\n",
       "      <th>time_unit</th>\n",
       "      <th>deaths</th>\n",
       "    </tr>\n",
       "  </thead>\n",
       "  <tbody>\n",
       "    <tr>\n",
       "      <th>60</th>\n",
       "      <td>ALB</td>\n",
       "      <td>Albania</td>\n",
       "      <td>2020</td>\n",
       "      <td>1</td>\n",
       "      <td>monthly</td>\n",
       "      <td>2187.0</td>\n",
       "    </tr>\n",
       "    <tr>\n",
       "      <th>61</th>\n",
       "      <td>ALB</td>\n",
       "      <td>Albania</td>\n",
       "      <td>2020</td>\n",
       "      <td>2</td>\n",
       "      <td>monthly</td>\n",
       "      <td>2018.0</td>\n",
       "    </tr>\n",
       "    <tr>\n",
       "      <th>62</th>\n",
       "      <td>ALB</td>\n",
       "      <td>Albania</td>\n",
       "      <td>2020</td>\n",
       "      <td>3</td>\n",
       "      <td>monthly</td>\n",
       "      <td>1993.0</td>\n",
       "    </tr>\n",
       "    <tr>\n",
       "      <th>63</th>\n",
       "      <td>ALB</td>\n",
       "      <td>Albania</td>\n",
       "      <td>2020</td>\n",
       "      <td>4</td>\n",
       "      <td>monthly</td>\n",
       "      <td>1804.0</td>\n",
       "    </tr>\n",
       "    <tr>\n",
       "      <th>64</th>\n",
       "      <td>ALB</td>\n",
       "      <td>Albania</td>\n",
       "      <td>2020</td>\n",
       "      <td>5</td>\n",
       "      <td>monthly</td>\n",
       "      <td>1803.0</td>\n",
       "    </tr>\n",
       "  </tbody>\n",
       "</table>\n",
       "</div>"
      ],
      "text/plain": [
       "   iso3c  country  year  time time_unit  deaths\n",
       "60   ALB  Albania  2020     1   monthly  2187.0\n",
       "61   ALB  Albania  2020     2   monthly  2018.0\n",
       "62   ALB  Albania  2020     3   monthly  1993.0\n",
       "63   ALB  Albania  2020     4   monthly  1804.0\n",
       "64   ALB  Albania  2020     5   monthly  1803.0"
      ]
     },
     "execution_count": 10,
     "metadata": {},
     "output_type": "execute_result"
    }
   ],
   "source": [
    "DF_2015_2019 = DF[DF.year < 2020]\n",
    "DF_2020_2021 = DF[(DF.year == 2020) | (DF.year == 2021)]\n",
    "tmp = DF.copy()"
   ]
  },
  {
   "cell_type": "code",
   "execution_count": 12,
   "metadata": {},
   "outputs": [
    {
     "name": "stdout",
     "output_type": "stream",
     "text": [
      "   country  year_x  time_x  deaths_x  AverageAnnualUnitCount iso3c  year_y  \\\n",
      "0  Albania  2020.5     6.5  2424.375                    12.0   ALB    2015   \n",
      "1  Albania  2020.5     6.5  2424.375                    12.0   ALB    2015   \n",
      "2  Albania  2020.5     6.5  2424.375                    12.0   ALB    2015   \n",
      "3  Albania  2020.5     6.5  2424.375                    12.0   ALB    2015   \n",
      "4  Albania  2020.5     6.5  2424.375                    12.0   ALB    2015   \n",
      "\n",
      "   time_y time_unit  deaths_y  \n",
      "0       1   monthly    2490.0  \n",
      "1       2   monthly    2139.0  \n",
      "2       3   monthly    2051.0  \n",
      "3       4   monthly    1906.0  \n",
      "4       5   monthly    1709.0  \n"
     ]
    },
    {
     "ename": "AttributeError",
     "evalue": "'DataFrame' object has no attribute 'deaths'",
     "output_type": "error",
     "traceback": [
      "\u001b[1;31m---------------------------------------------------------------------------\u001b[0m",
      "\u001b[1;31mAttributeError\u001b[0m                            Traceback (most recent call last)",
      "\u001b[1;32md:\\Note_Database\\Subject\\BD_ML Big Data and Machine Learning\\BD_ML_Code\\src\\BD_w12_hw.ipynb Cell 7\u001b[0m in \u001b[0;36m<cell line: 5>\u001b[1;34m()\u001b[0m\n\u001b[0;32m      <a href='vscode-notebook-cell:/d%3A/Note_Database/Subject/BD_ML%20Big%20Data%20and%20Machine%20Learning/BD_ML_Code/src/BD_w12_hw.ipynb#X12sZmlsZQ%3D%3D?line=2'>3</a>\u001b[0m Irregular \u001b[39m=\u001b[39m pd\u001b[39m.\u001b[39mmerge(Irregular, tmp, on\u001b[39m=\u001b[39m\u001b[39m'\u001b[39m\u001b[39mcountry\u001b[39m\u001b[39m'\u001b[39m)\n\u001b[0;32m      <a href='vscode-notebook-cell:/d%3A/Note_Database/Subject/BD_ML%20Big%20Data%20and%20Machine%20Learning/BD_ML_Code/src/BD_w12_hw.ipynb#X12sZmlsZQ%3D%3D?line=3'>4</a>\u001b[0m \u001b[39mprint\u001b[39m(Irregular\u001b[39m.\u001b[39mhead())\n\u001b[1;32m----> <a href='vscode-notebook-cell:/d%3A/Note_Database/Subject/BD_ML%20Big%20Data%20and%20Machine%20Learning/BD_ML_Code/src/BD_w12_hw.ipynb#X12sZmlsZQ%3D%3D?line=4'>5</a>\u001b[0m Irregular[\u001b[39m'\u001b[39m\u001b[39mdeaths\u001b[39m\u001b[39m'\u001b[39m] \u001b[39m=\u001b[39m Irregular\u001b[39m.\u001b[39;49mdeaths \u001b[39m*\u001b[39m Irregular\u001b[39m.\u001b[39mAnnualUnitCount\n\u001b[0;32m      <a href='vscode-notebook-cell:/d%3A/Note_Database/Subject/BD_ML%20Big%20Data%20and%20Machine%20Learning/BD_ML_Code/src/BD_w12_hw.ipynb#X12sZmlsZQ%3D%3D?line=5'>6</a>\u001b[0m Irregular \u001b[39m=\u001b[39m Irregular[[\u001b[39m'\u001b[39m\u001b[39mcountry\u001b[39m\u001b[39m'\u001b[39m, \u001b[39m'\u001b[39m\u001b[39mdeaths\u001b[39m\u001b[39m'\u001b[39m, \u001b[39m'\u001b[39m\u001b[39mAverageAnnualUnitCount\u001b[39m\u001b[39m'\u001b[39m]]\n\u001b[0;32m      <a href='vscode-notebook-cell:/d%3A/Note_Database/Subject/BD_ML%20Big%20Data%20and%20Machine%20Learning/BD_ML_Code/src/BD_w12_hw.ipynb#X12sZmlsZQ%3D%3D?line=6'>7</a>\u001b[0m Irregular\u001b[39m.\u001b[39mhead()\n",
      "File \u001b[1;32m~\\AppData\\Roaming\\Python\\Python310\\site-packages\\pandas\\core\\generic.py:5575\u001b[0m, in \u001b[0;36mNDFrame.__getattr__\u001b[1;34m(self, name)\u001b[0m\n\u001b[0;32m   5568\u001b[0m \u001b[39mif\u001b[39;00m (\n\u001b[0;32m   5569\u001b[0m     name \u001b[39mnot\u001b[39;00m \u001b[39min\u001b[39;00m \u001b[39mself\u001b[39m\u001b[39m.\u001b[39m_internal_names_set\n\u001b[0;32m   5570\u001b[0m     \u001b[39mand\u001b[39;00m name \u001b[39mnot\u001b[39;00m \u001b[39min\u001b[39;00m \u001b[39mself\u001b[39m\u001b[39m.\u001b[39m_metadata\n\u001b[0;32m   5571\u001b[0m     \u001b[39mand\u001b[39;00m name \u001b[39mnot\u001b[39;00m \u001b[39min\u001b[39;00m \u001b[39mself\u001b[39m\u001b[39m.\u001b[39m_accessors\n\u001b[0;32m   5572\u001b[0m     \u001b[39mand\u001b[39;00m \u001b[39mself\u001b[39m\u001b[39m.\u001b[39m_info_axis\u001b[39m.\u001b[39m_can_hold_identifiers_and_holds_name(name)\n\u001b[0;32m   5573\u001b[0m ):\n\u001b[0;32m   5574\u001b[0m     \u001b[39mreturn\u001b[39;00m \u001b[39mself\u001b[39m[name]\n\u001b[1;32m-> 5575\u001b[0m \u001b[39mreturn\u001b[39;00m \u001b[39mobject\u001b[39;49m\u001b[39m.\u001b[39;49m\u001b[39m__getattribute__\u001b[39;49m(\u001b[39mself\u001b[39;49m, name)\n",
      "\u001b[1;31mAttributeError\u001b[0m: 'DataFrame' object has no attribute 'deaths'"
     ]
    }
   ],
   "source": [
    "Irregular = DF_2020_2021.groupby('country').mean().reset_index()\n",
    "Irregular['AverageAnnualUnitCount'] = round(Irregular.time * 2 - 1, 0)\n",
    "Irregular = pd.merge(Irregular, tmp, on='country')\n",
    "print(Irregular.head())\n",
    "Irregular['deaths'] = Irregular.deaths * Irregular.AnnualUnitCount\n",
    "Irregular = Irregular[['country', 'deaths', 'AverageAnnualUnitCount']]\n",
    "Irregular.head()"
   ]
  },
  {
   "cell_type": "code",
   "execution_count": null,
   "metadata": {},
   "outputs": [],
   "source": [
    "Regular = DF_2015_2019.groupby('country').mean().reset_index()\n",
    "Regular['AverageAnnualUnitCount'] = round(Regular.time * 2 - 1, 0)\n",
    "Regular = pd.merge(Regular, tmp, on='country')\n",
    "Regular['deaths'] = Regular.deaths * Regular.AnnualUnitCount\n",
    "Regular = Regular[['country', 'deaths', 'AverageAnnualUnitCount']]\n",
    "Regular.head()"
   ]
  }
 ],
 "metadata": {
  "kernelspec": {
   "display_name": "Python 3.10.8 64-bit",
   "language": "python",
   "name": "python3"
  },
  "language_info": {
   "codemirror_mode": {
    "name": "ipython",
    "version": 3
   },
   "file_extension": ".py",
   "mimetype": "text/x-python",
   "name": "python",
   "nbconvert_exporter": "python",
   "pygments_lexer": "ipython3",
   "version": "3.10.8"
  },
  "orig_nbformat": 4,
  "vscode": {
   "interpreter": {
    "hash": "26de051ba29f2982a8de78e945f0abaf191376122a1563185a90213a26c5da77"
   }
  }
 },
 "nbformat": 4,
 "nbformat_minor": 2
}

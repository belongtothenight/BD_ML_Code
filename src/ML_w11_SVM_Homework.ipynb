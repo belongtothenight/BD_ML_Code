{
 "cells": [
  {
   "cell_type": "markdown",
   "metadata": {},
   "source": [
    "1. Create data for 3 or 4 classes.\n",
    "- Use SVM to find the results.\n",
    "- Manually doing binary classification with ovo or ovr (if you have enough time, do both).  Save the results for each binary classification so that you can do the prediction based on the voting over these numerous binary classifications in ovr and ovo.\n",
    "- compare the results from steps 2 and 3."
   ]
  }
 ],
 "metadata": {
  "kernelspec": {
   "display_name": "Python 3",
   "language": "python",
   "name": "python3"
  },
  "language_info": {
   "codemirror_mode": {
    "name": "ipython",
    "version": 3
   },
   "file_extension": ".py",
   "mimetype": "text/x-python",
   "name": "python",
   "nbconvert_exporter": "python",
   "pygments_lexer": "ipython3",
   "version": "3.7.3"
  }
 },
 "nbformat": 4,
 "nbformat_minor": 2
}

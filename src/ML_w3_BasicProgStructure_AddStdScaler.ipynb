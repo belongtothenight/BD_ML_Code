{
 "cells": [
  {
   "cell_type": "markdown",
   "id": "117b05de",
   "metadata": {},
   "source": [
    "# 1 Get Data"
   ]
  },
  {
   "cell_type": "code",
   "execution_count": null,
   "id": "63be9962",
   "metadata": {},
   "outputs": [],
   "source": [
    "# data download link: https://archive/ics.uci.edu/ml/machine-learning-databases/breast-cancer-wisconsin/wdbc.data\n",
    "import pandas as pd\n",
    "data = pd.read_csv('wdbc.data', header=None)\n",
    "print(data.shape)\n",
    "print(data.columns)\n",
    "print(data.head())"
   ]
  },
  {
   "cell_type": "code",
   "execution_count": null,
   "id": "eed17117",
   "metadata": {},
   "outputs": [],
   "source": [
    "# commands in this cell only works for windows operartion system.\n",
    "! attrib wdbc.data\n",
    "! type wdbc.data"
   ]
  },
  {
   "cell_type": "markdown",
   "id": "110fddff",
   "metadata": {},
   "source": [
    "# 2 Set Column Names"
   ]
  },
  {
   "cell_type": "code",
   "execution_count": null,
   "id": "0b987576",
   "metadata": {},
   "outputs": [],
   "source": [
    "column_names = ['id', 'malignant', \n",
    "                'nucleus_mean', 'nucleus_se', 'nucleus_worst', \n",
    "                'texture_mean', 'texture_se', 'texture_worst',\n",
    "                'perimeter_mean', 'perimeter_se', 'perimeter_worst',\n",
    "                'area_mean', 'area_se', 'area_worst',\n",
    "                'smoothness_mean', 'smoothness_se', 'smoothness_worst',\n",
    "                'compactness_mean', 'compactness_se', 'compactness_worst',\n",
    "                'concavity_mean', 'concavity_se', 'concavity_worst',\n",
    "                'concave_pts_mean', 'concave_pts_se', 'concave_pts_worst',\n",
    "                'symmetry_mean', 'symmetry_se', 'symmetry_worst',\n",
    "                'fractal_dim_mean', 'fractal_dim_se', 'fractal_dim_worst'\n",
    "               ]\n",
    "data.columns = column_names\n",
    "print(data.shape)\n",
    "print(data.columns)\n",
    "print(data.head())"
   ]
  },
  {
   "cell_type": "code",
   "execution_count": null,
   "id": "751f019e",
   "metadata": {},
   "outputs": [],
   "source": [
    "data.tail(10)"
   ]
  },
  {
   "cell_type": "markdown",
   "id": "35a57672",
   "metadata": {},
   "source": [
    "# 3 Make Data All Numerical"
   ]
  },
  {
   "cell_type": "code",
   "execution_count": null,
   "id": "b6895635",
   "metadata": {},
   "outputs": [],
   "source": [
    "data['malignant'] = data['malignant'].map(lambda x: 0 if x == 'B' else 1)\n",
    "data.tail(10)"
   ]
  },
  {
   "cell_type": "markdown",
   "id": "f8d43533",
   "metadata": {},
   "source": [
    "# 4 Split Data Into Train Test"
   ]
  },
  {
   "cell_type": "code",
   "execution_count": 6,
   "id": "2cd3b74a",
   "metadata": {},
   "outputs": [],
   "source": [
    "import numpy as np\n",
    "from sklearn.model_selection import train_test_split\n",
    "\n",
    "X = data.drop(columns=['malignant']).values\n",
    "y = data['malignant'].values\n",
    "\n",
    "from sklearn.preprocessing import StandardScaler\n",
    "ss = StandardScaler()\n",
    "X = ss.fit_transform(X)\n",
    "\n",
    "X_train, X_test, y_train, y_test = train_test_split(X, y, test_size = 0.25, random_state = 2018)"
   ]
  },
  {
   "cell_type": "markdown",
   "id": "759c3399",
   "metadata": {},
   "source": [
    "# 5 Build ML/DL Model\n",
    "Pick one model from below."
   ]
  },
  {
   "cell_type": "code",
   "execution_count": 7,
   "id": "e5a8a541",
   "metadata": {},
   "outputs": [],
   "source": [
    "from sklearn.tree import DecisionTreeClassifier\n",
    "model = DecisionTreeClassifier()\n",
    "\n",
    "# from sklearn.ensemble import RandomForestClassifier\n",
    "# model = RandomForestClassifier()\n",
    "\n",
    "# from sklearn.neighbors import KNeighborsClassifier\n",
    "# model = KNeighborsClassifier()\n",
    "\n",
    "# from sklearn.svm import SVC\n",
    "# model = SVC()"
   ]
  },
  {
   "cell_type": "markdown",
   "id": "eef4a1c9",
   "metadata": {},
   "source": [
    "# 6 Training ML/DL Model"
   ]
  },
  {
   "cell_type": "code",
   "execution_count": null,
   "id": "afc4ab44",
   "metadata": {},
   "outputs": [],
   "source": [
    "model.fit(X_train, y_train)"
   ]
  },
  {
   "cell_type": "markdown",
   "id": "1cab6a74",
   "metadata": {},
   "source": [
    "# 7 Testing ML/DL Model"
   ]
  },
  {
   "cell_type": "code",
   "execution_count": 9,
   "id": "e5ba2a69",
   "metadata": {},
   "outputs": [],
   "source": [
    "pred = model.predict(X_test)"
   ]
  },
  {
   "cell_type": "markdown",
   "id": "4e0a7c06",
   "metadata": {},
   "source": [
    "# 8 Evaluate the Result"
   ]
  },
  {
   "cell_type": "code",
   "execution_count": null,
   "id": "8ab14b1b",
   "metadata": {},
   "outputs": [],
   "source": [
    "from sklearn.metrics import confusion_matrix\n",
    "from sklearn.metrics import plot_confusion_matrix\n",
    "from sklearn.metrics import ConfusionMatrixDisplay\n",
    "from sklearn.svm import SVC\n",
    "import matplotlib.pyplot as plt\n",
    "\n",
    "print('pred = ' + str(pred))\n",
    "print('y_test = ' + str(y_test))\n",
    "\n",
    "if pred.all == y_test.all:\n",
    "    print('Prediction successful, pred = y_test!')\n",
    "else:\n",
    "    # printing\n",
    "    diff = abs(pred - y_test)\n",
    "    print('Prediction rate: {0}/{1} = {2}%'.format(len(y_test)-sum(diff), len(y_test), (len(y_test)-sum(diff))/len(y_test)*100))\n",
    "    cm = confusion_matrix(y_test, pred).ravel()\n",
    "    print('[TruePositive, TrueNegative, FalsePositive, FalseNegative] = ' + str(cm))\n",
    "    # plotting\n",
    "    ConfusionMatrixDisplay.from_predictions(y_test, pred, display_labels = ['True', 'False'])\n",
    "    plt.show()\n",
    "print('Finished Execution!')"
   ]
  }
 ],
 "metadata": {
  "kernelspec": {
   "display_name": "Python 3 (ipykernel)",
   "language": "python",
   "name": "python3"
  },
  "language_info": {
   "codemirror_mode": {
    "name": "ipython",
    "version": 3
   },
   "file_extension": ".py",
   "mimetype": "text/x-python",
   "name": "python",
   "nbconvert_exporter": "python",
   "pygments_lexer": "ipython3",
   "version": "3.9.13"
  },
  "vscode": {
   "interpreter": {
    "hash": "26de051ba29f2982a8de78e945f0abaf191376122a1563185a90213a26c5da77"
   }
  }
 },
 "nbformat": 4,
 "nbformat_minor": 5
}
